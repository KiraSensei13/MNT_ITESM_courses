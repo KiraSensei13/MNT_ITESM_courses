{
 "cells": [
  {
   "cell_type": "markdown",
   "metadata": {},
   "source": [
    "<h1>\n",
    "    Bioinformatics (Ene 20 Gpo 1): <br>\n",
    "    <b>Class Activity</b>\n",
    "</h1>\n",
    "\n",
    "<table width=\"75%\" align=\"center\">\n",
    "    <tr>\n",
    "        <th align=\"left\" colspan=\"2\">\n",
    "            <h2><b>Author(s)<b>:</b></h2>\n",
    "        </th>\n",
    "    </tr>\n",
    "    <tr>\n",
    "        <td><h3>Antonio Osamu Katagiri Tanaka</h3></td>\n",
    "        <td><h4>A01212611@itesm.mx</h4></td>\n",
    "    </tr>\n",
    "</table>\n",
    "\n",
    "<h2>D. Blanco-Melo, B. Nilsson-Payant, W.-C. Liu, R. Moeller, M. Panis, D. Sachs, R. Albrecht, B.R. TenOever, <b>SARS-CoV-2 launches a unique transcriptional signature from in vitro, ex vivo, and in vivo systems</b>, BioRxiv. (2020) 2020.03.24.004655. https://doi.org/10.1101/2020.03.24.004655.</h2>\n",
    "\n",
    "<h1>Visualization and COVID</h1>\n",
    "\n",
    "---"
   ]
  },
  {
   "cell_type": "code",
   "execution_count": 70,
   "metadata": {},
   "outputs": [
    {
     "name": "stderr",
     "output_type": "stream",
     "text": [
      "Downloading GitHub repo tpq/exprso@master\n"
     ]
    },
    {
     "name": "stdout",
     "output_type": "stream",
     "text": [
      "caTools   (NA     -> 1.18.0 ) [CRAN]\n",
      "e1071     (NA     -> 1.7-3  ) [CRAN]\n",
      "foreach   (1.4.4  -> 1.5.0  ) [CRAN]\n",
      "frbs      (NA     -> 3.2-0  ) [CRAN]\n",
      "gdata     (NA     -> 2.18.0 ) [CRAN]\n",
      "glmnet    (2.0-16 -> 3.0-2  ) [CRAN]\n",
      "gplots    (NA     -> 3.0.3  ) [CRAN]\n",
      "gtools    (NA     -> 3.8.2  ) [CRAN]\n",
      "iterators (1.0.10 -> 1.0.12 ) [CRAN]\n",
      "kernlab   (NA     -> 0.9-29 ) [CRAN]\n",
      "lpSolve   (NA     -> 5.6.15 ) [CRAN]\n",
      "plyr      (1.8.4  -> 1.8.6  ) [CRAN]\n",
      "Rcpp      (1.0.4  -> 1.0.4.6) [CRAN]\n",
      "ROCR      (NA     -> 1.0-7  ) [CRAN]\n",
      "sampling  (NA     -> 2.8    ) [CRAN]\n",
      "shape     (NA     -> 1.4.4  ) [CRAN]\n"
     ]
    },
    {
     "name": "stderr",
     "output_type": "stream",
     "text": [
      "Installing 16 packages: caTools, e1071, foreach, frbs, gdata, glmnet, gplots, gtools, iterators, kernlab, lpSolve, plyr, Rcpp, ROCR, sampling, shape\n",
      "Installing packages into 'C:/Users/oskat/OneDrive - Instituto Tecnologico y de Estudios Superiores de Monterrey/Documents/R/win-library/3.6'\n",
      "(as 'lib' is unspecified)\n"
     ]
    },
    {
     "name": "stdout",
     "output_type": "stream",
     "text": [
      "package 'caTools' successfully unpacked and MD5 sums checked\n",
      "package 'e1071' successfully unpacked and MD5 sums checked\n",
      "package 'foreach' successfully unpacked and MD5 sums checked\n",
      "package 'frbs' successfully unpacked and MD5 sums checked\n",
      "package 'gdata' successfully unpacked and MD5 sums checked\n",
      "package 'glmnet' successfully unpacked and MD5 sums checked\n",
      "package 'gplots' successfully unpacked and MD5 sums checked\n",
      "package 'gtools' successfully unpacked and MD5 sums checked\n",
      "package 'iterators' successfully unpacked and MD5 sums checked\n",
      "package 'kernlab' successfully unpacked and MD5 sums checked\n",
      "package 'lpSolve' successfully unpacked and MD5 sums checked\n",
      "package 'plyr' successfully unpacked and MD5 sums checked\n",
      "package 'Rcpp' successfully unpacked and MD5 sums checked\n"
     ]
    },
    {
     "ename": "ERROR",
     "evalue": "Error: (converted from warning) cannot remove prior installation of package 'Rcpp'\n",
     "output_type": "error",
     "traceback": [
      "Error: (converted from warning) cannot remove prior installation of package 'Rcpp'\nTraceback:\n",
      "1. devtools::install_github(\"tpq/exprso\")",
      "2. install_remotes(remotes, auth_token = auth_token, host = host, \n .     dependencies = dependencies, upgrade = upgrade, force = force, \n .     quiet = quiet, build = build, build_opts = build_opts, repos = repos, \n .     type = type, ...)",
      "3. vapply(remotes, install_remote, ..., FUN.VALUE = character(1))",
      "4. FUN(X[[i]], ...)",
      "5. install(source, dependencies = dependencies, upgrade = upgrade, \n .     force = force, quiet = quiet, build = build, build_opts = build_opts, \n .     repos = repos, type = type, ...)",
      "6. install_deps(pkgdir, dependencies = dependencies, quiet = quiet, \n .     build = build, build_opts = build_opts, upgrade = upgrade, \n .     repos = repos, type = type)",
      "7. update(packages, dependencies = dep_deps, quiet = quiet, upgrade = upgrade, \n .     build = build, build_opts = build_opts, ...)",
      "8. update.package_deps(packages, dependencies = dep_deps, quiet = quiet, \n .     upgrade = upgrade, build = build, build_opts = build_opts, \n .     ...)",
      "9. install_packages(object$package[object$is_cran & behind], repos = r$repos, \n .     type = r$pkg_type, dependencies = dependencies, quiet = quiet, \n .     ...)",
      "10. do.call(safe_install_packages, c(list(packages, repos = repos, \n  .     type = type, dependencies = dependencies, quiet = quiet), \n  .     args))",
      "11. (function (...) \n  . {\n  .     lib <- paste(.libPaths(), collapse = .Platform$path.sep)\n  .     if (!is_standalone() && has_package(\"crancache\") && has_package(\"callr\")) {\n  .         i.p <- \"crancache\" %::% \"install_packages\"\n  .     }\n  .     else {\n  .         i.p <- utils::install.packages\n  .     }\n  .     with_envvar(c(R_LIBS = lib, R_LIBS_USER = lib, R_LIBS_SITE = lib, \n  .         RGL_USE_NULL = \"TRUE\"), if (should_error_for_warnings()) {\n  .         with_options(list(warn = 2), with_rprofile_user(\"options(warn = 2)\", \n  .             i.p(...)))\n  .     }\n  .     else {\n  .         i.p(...)\n  .     })\n  . })(c(\"caTools\", \"e1071\", \"foreach\", \"frbs\", \"gdata\", \"glmnet\", \n  . \"gplots\", \"gtools\", \"iterators\", \"kernlab\", \"lpSolve\", \"plyr\", \n  . \"Rcpp\", \"ROCR\", \"sampling\", \"shape\"), repos = c(CRAN = \"https://cran.r-project.org\"), \n  .     type = \"both\", dependencies = NA, quiet = FALSE)",
      "12. with_envvar(c(R_LIBS = lib, R_LIBS_USER = lib, R_LIBS_SITE = lib, \n  .     RGL_USE_NULL = \"TRUE\"), if (should_error_for_warnings()) {\n  .     with_options(list(warn = 2), with_rprofile_user(\"options(warn = 2)\", \n  .         i.p(...)))\n  . } else {\n  .     i.p(...)\n  . })",
      "13. force(code)",
      "14. with_options(list(warn = 2), with_rprofile_user(\"options(warn = 2)\", \n  .     i.p(...)))",
      "15. force(code)",
      "16. with_rprofile_user(\"options(warn = 2)\", i.p(...))",
      "17. with_envvar(c(R_PROFILE_USER = temp_rprofile), {\n  .     force(code)\n  . })",
      "18. force(code)",
      "19. force(code)",
      "20. i.p(...)",
      "21. .install.winbinary(pkgs = bins, lib = lib, contriburl = contrib.url(repos, \n  .     type2), method = method, available = av2, destdir = destdir, \n  .     dependencies = NULL, libs_only = libs_only, quiet = quiet, \n  .     ...)",
      "22. unpackPkgZip(foundpkgs[okp, 2L], foundpkgs[okp, 1L], lib, libs_only, \n  .     lock)",
      "23. warning(gettextf(\"cannot remove prior installation of package %s\", \n  .     sQuote(pkgname)), domain = NA, call. = FALSE, immediate. = TRUE)",
      "24. .signalSimpleWarning(\"cannot remove prior installation of package 'Rcpp'\", \n  .     base::quote(NULL))",
      "25. withRestarts({\n  .     .Internal(.signalCondition(simpleWarning(msg, call), msg, \n  .         call))\n  .     .Internal(.dfltWarn(msg, call))\n  . }, muffleWarning = function() NULL)",
      "26. withOneRestart(expr, restarts[[1L]])",
      "27. doWithOneRestart(return(expr), restart)"
     ]
    }
   ],
   "source": [
    "# conda install -c r r-essentials\n",
    "# conda install -c r package-name\n",
    "# conda install r-package-name\n",
    "\n",
    "# Clear all objects (from the workspace)\n",
    "rm(list = ls())\n",
    "\n",
    "# Suppress Warning messages\n",
    "options(warn = -1)\n",
    "\n",
    "# Turn off scientific notation like 1e+06\n",
    "# options(scipen=999)\n",
    "options(stringsAsFactors = F)\n",
    "\n",
    "# INSTALL with:\n",
    "\n",
    "# if (!requireNamespace(\"BiocManager\", quietly = TRUE))\n",
    "#     install.packages(\"BiocManager\")\n",
    "# BiocManager::install(\"GEOquery\")\n",
    "# BiocManager::install(\"DESeq2\")\n",
    "# BiocManager::install(\"limma\")\n",
    "\n",
    "library(devtools)\n",
    "devtools::install_github(\"tpq/exprso\")\n",
    "\n",
    "# Load Libs\n",
    "\n",
    "library(tidyr)\n",
    "library(GEOquery)\n",
    "library(DESeq2)\n",
    "library(limma)\n",
    "library(exprso)\n",
    "\n",
    "# library(biomaRt)\n",
    "# library(Biobase)\n",
    "# library(affy)\n",
    "# library(siggenes)\n",
    "# library(PerformanceAnalytics)\n",
    "\n",
    "# LOAD provided functions\n",
    "source(\"./script_ejercicios.R\")"
   ]
  },
  {
   "cell_type": "markdown",
   "metadata": {},
   "source": [
    "---\n",
    "## Download GDS file, put it in the current directory, and load it"
   ]
  },
  {
   "cell_type": "code",
   "execution_count": 68,
   "metadata": {},
   "outputs": [
    {
     "data": {
      "text/html": [
       "'datos_covid'"
      ],
      "text/latex": [
       "'datos\\_covid'"
      ],
      "text/markdown": [
       "'datos_covid'"
      ],
      "text/plain": [
       "[1] \"datos_covid\""
      ]
     },
     "metadata": {},
     "output_type": "display_data"
    },
    {
     "data": {
      "text/html": [
       "<table>\n",
       "<thead><tr><th></th><th scope=col>SARS004_mock_3</th><th scope=col>SARS004_mock_2</th><th scope=col>SARS004_mock_1</th><th scope=col>SARS004_CoV2_3</th><th scope=col>SARS004_CoV2_2</th><th scope=col>SARS004_CoV2_1</th><th scope=col>CoV002.mock3.indexG3</th><th scope=col>CoV002.mock2.indexG2</th><th scope=col>CoV002.mock1.indexG1</th><th scope=col>CoV002.CoV2.3.indexG6</th><th scope=col>CoV002.CoV2.2.indexG5</th><th scope=col>CoV002.CoV2.1.indexG4</th><th scope=col>svRNA184.mock.3.indexF3</th><th scope=col>svRNA184.mock.1.indexF1</th><th scope=col>svRNA184.RSV.3.indexH9</th><th scope=col>svRNA184.RSV.1.indexF4</th><th scope=col>X3_9_mock1_13</th><th scope=col>X3_9_mock2_14</th><th scope=col>X3_9_wt1_15</th><th scope=col>X3_9_wt2_16</th></tr></thead>\n",
       "<tbody>\n",
       "\t<tr><th scope=row>DDX11L1</th><td>  0</td><td>  0</td><td>  0</td><td>  0</td><td> 0 </td><td>  0</td><td> 0 </td><td> 0 </td><td> 0 </td><td> 0 </td><td> 1 </td><td> 1 </td><td>  1</td><td>  0</td><td> 0 </td><td> 0 </td><td> 0 </td><td> 0 </td><td>0  </td><td>0  </td></tr>\n",
       "\t<tr><th scope=row>WASH7P</th><td> 29</td><td> 24</td><td> 23</td><td> 34</td><td>19 </td><td> 44</td><td>68 </td><td>43 </td><td>33 </td><td>65 </td><td>79 </td><td>48 </td><td>184</td><td>128</td><td>51 </td><td>43 </td><td>15 </td><td>12 </td><td>3  </td><td>3  </td></tr>\n",
       "\t<tr><th scope=row>FAM138A</th><td>  0</td><td>  0</td><td>  0</td><td>  0</td><td> 0 </td><td>  0</td><td> 0 </td><td> 0 </td><td> 0 </td><td> 0 </td><td> 0 </td><td> 0 </td><td>  0</td><td>  0</td><td> 0 </td><td> 0 </td><td> 0 </td><td> 0 </td><td>0  </td><td>0  </td></tr>\n",
       "\t<tr><th scope=row>FAM138F</th><td>  0</td><td>  0</td><td>  0</td><td>  0</td><td> 0 </td><td>  0</td><td> 0 </td><td> 0 </td><td> 0 </td><td> 0 </td><td> 0 </td><td> 0 </td><td>  0</td><td>  0</td><td> 0 </td><td> 0 </td><td> 0 </td><td> 0 </td><td>0  </td><td>0  </td></tr>\n",
       "\t<tr><th scope=row>OR4F5</th><td>  0</td><td>  0</td><td>  0</td><td>  0</td><td> 0 </td><td>  0</td><td> 0 </td><td> 0 </td><td> 0 </td><td> 0 </td><td> 0 </td><td> 0 </td><td>  0</td><td>  0</td><td> 0 </td><td> 0 </td><td> 0 </td><td> 0 </td><td>0  </td><td>0  </td></tr>\n",
       "\t<tr><th scope=row>LOC729737</th><td>112</td><td>119</td><td>113</td><td>127</td><td>84 </td><td>270</td><td>11 </td><td> 3 </td><td> 6 </td><td> 8 </td><td>10 </td><td>10 </td><td>108</td><td> 95</td><td>37 </td><td>11 </td><td> 1 </td><td> 5 </td><td>0  </td><td>2  </td></tr>\n",
       "</tbody>\n",
       "</table>\n"
      ],
      "text/latex": [
       "\\begin{tabular}{r|llllllllllllllllllll}\n",
       "  & SARS004\\_mock\\_3 & SARS004\\_mock\\_2 & SARS004\\_mock\\_1 & SARS004\\_CoV2\\_3 & SARS004\\_CoV2\\_2 & SARS004\\_CoV2\\_1 & CoV002.mock3.indexG3 & CoV002.mock2.indexG2 & CoV002.mock1.indexG1 & CoV002.CoV2.3.indexG6 & CoV002.CoV2.2.indexG5 & CoV002.CoV2.1.indexG4 & svRNA184.mock.3.indexF3 & svRNA184.mock.1.indexF1 & svRNA184.RSV.3.indexH9 & svRNA184.RSV.1.indexF4 & X3\\_9\\_mock1\\_13 & X3\\_9\\_mock2\\_14 & X3\\_9\\_wt1\\_15 & X3\\_9\\_wt2\\_16\\\\\n",
       "\\hline\n",
       "\tDDX11L1 &   0 &   0 &   0 &   0 &  0  &   0 &  0  &  0  &  0  &  0  &  1  &  1  &   1 &   0 &  0  &  0  &  0  &  0  & 0   & 0  \\\\\n",
       "\tWASH7P &  29 &  24 &  23 &  34 & 19  &  44 & 68  & 43  & 33  & 65  & 79  & 48  & 184 & 128 & 51  & 43  & 15  & 12  & 3   & 3  \\\\\n",
       "\tFAM138A &   0 &   0 &   0 &   0 &  0  &   0 &  0  &  0  &  0  &  0  &  0  &  0  &   0 &   0 &  0  &  0  &  0  &  0  & 0   & 0  \\\\\n",
       "\tFAM138F &   0 &   0 &   0 &   0 &  0  &   0 &  0  &  0  &  0  &  0  &  0  &  0  &   0 &   0 &  0  &  0  &  0  &  0  & 0   & 0  \\\\\n",
       "\tOR4F5 &   0 &   0 &   0 &   0 &  0  &   0 &  0  &  0  &  0  &  0  &  0  &  0  &   0 &   0 &  0  &  0  &  0  &  0  & 0   & 0  \\\\\n",
       "\tLOC729737 & 112 & 119 & 113 & 127 & 84  & 270 & 11  &  3  &  6  &  8  & 10  & 10  & 108 &  95 & 37  & 11  &  1  &  5  & 0   & 2  \\\\\n",
       "\\end{tabular}\n"
      ],
      "text/markdown": [
       "\n",
       "| <!--/--> | SARS004_mock_3 | SARS004_mock_2 | SARS004_mock_1 | SARS004_CoV2_3 | SARS004_CoV2_2 | SARS004_CoV2_1 | CoV002.mock3.indexG3 | CoV002.mock2.indexG2 | CoV002.mock1.indexG1 | CoV002.CoV2.3.indexG6 | CoV002.CoV2.2.indexG5 | CoV002.CoV2.1.indexG4 | svRNA184.mock.3.indexF3 | svRNA184.mock.1.indexF1 | svRNA184.RSV.3.indexH9 | svRNA184.RSV.1.indexF4 | X3_9_mock1_13 | X3_9_mock2_14 | X3_9_wt1_15 | X3_9_wt2_16 |\n",
       "|---|---|---|---|---|---|---|---|---|---|---|---|---|---|---|---|---|---|---|---|---|\n",
       "| DDX11L1 |   0 |   0 |   0 |   0 |  0  |   0 |  0  |  0  |  0  |  0  |  1  |  1  |   1 |   0 |  0  |  0  |  0  |  0  | 0   | 0   |\n",
       "| WASH7P |  29 |  24 |  23 |  34 | 19  |  44 | 68  | 43  | 33  | 65  | 79  | 48  | 184 | 128 | 51  | 43  | 15  | 12  | 3   | 3   |\n",
       "| FAM138A |   0 |   0 |   0 |   0 |  0  |   0 |  0  |  0  |  0  |  0  |  0  |  0  |   0 |   0 |  0  |  0  |  0  |  0  | 0   | 0   |\n",
       "| FAM138F |   0 |   0 |   0 |   0 |  0  |   0 |  0  |  0  |  0  |  0  |  0  |  0  |   0 |   0 |  0  |  0  |  0  |  0  | 0   | 0   |\n",
       "| OR4F5 |   0 |   0 |   0 |   0 |  0  |   0 |  0  |  0  |  0  |  0  |  0  |  0  |   0 |   0 |  0  |  0  |  0  |  0  | 0   | 0   |\n",
       "| LOC729737 | 112 | 119 | 113 | 127 | 84  | 270 | 11  |  3  |  6  |  8  | 10  | 10  | 108 |  95 | 37  | 11  |  1  |  5  | 0   | 2   |\n",
       "\n"
      ],
      "text/plain": [
       "          SARS004_mock_3 SARS004_mock_2 SARS004_mock_1 SARS004_CoV2_3\n",
       "DDX11L1     0              0              0              0           \n",
       "WASH7P     29             24             23             34           \n",
       "FAM138A     0              0              0              0           \n",
       "FAM138F     0              0              0              0           \n",
       "OR4F5       0              0              0              0           \n",
       "LOC729737 112            119            113            127           \n",
       "          SARS004_CoV2_2 SARS004_CoV2_1 CoV002.mock3.indexG3\n",
       "DDX11L1    0               0             0                  \n",
       "WASH7P    19              44            68                  \n",
       "FAM138A    0               0             0                  \n",
       "FAM138F    0               0             0                  \n",
       "OR4F5      0               0             0                  \n",
       "LOC729737 84             270            11                  \n",
       "          CoV002.mock2.indexG2 CoV002.mock1.indexG1 CoV002.CoV2.3.indexG6\n",
       "DDX11L1    0                    0                    0                   \n",
       "WASH7P    43                   33                   65                   \n",
       "FAM138A    0                    0                    0                   \n",
       "FAM138F    0                    0                    0                   \n",
       "OR4F5      0                    0                    0                   \n",
       "LOC729737  3                    6                    8                   \n",
       "          CoV002.CoV2.2.indexG5 CoV002.CoV2.1.indexG4 svRNA184.mock.3.indexF3\n",
       "DDX11L1    1                     1                      1                    \n",
       "WASH7P    79                    48                    184                    \n",
       "FAM138A    0                     0                      0                    \n",
       "FAM138F    0                     0                      0                    \n",
       "OR4F5      0                     0                      0                    \n",
       "LOC729737 10                    10                    108                    \n",
       "          svRNA184.mock.1.indexF1 svRNA184.RSV.3.indexH9 svRNA184.RSV.1.indexF4\n",
       "DDX11L1     0                      0                      0                    \n",
       "WASH7P    128                     51                     43                    \n",
       "FAM138A     0                      0                      0                    \n",
       "FAM138F     0                      0                      0                    \n",
       "OR4F5       0                      0                      0                    \n",
       "LOC729737  95                     37                     11                    \n",
       "          X3_9_mock1_13 X3_9_mock2_14 X3_9_wt1_15 X3_9_wt2_16\n",
       "DDX11L1    0             0            0           0          \n",
       "WASH7P    15            12            3           3          \n",
       "FAM138A    0             0            0           0          \n",
       "FAM138F    0             0            0           0          \n",
       "OR4F5      0             0            0           0          \n",
       "LOC729737  1             5            0           2          "
      ]
     },
     "metadata": {},
     "output_type": "display_data"
    },
    {
     "name": "stderr",
     "output_type": "stream",
     "text": [
      "Found 1 file(s)\n",
      "GSE147507_series_matrix.txt.gz\n",
      "Using locally cached version: ./NCBI_GEO/GSE147507_series_matrix.txt.gz\n",
      "Parsed with column specification:\n",
      "cols(\n",
      "  .default = col_character()\n",
      ")\n",
      "See spec(...) for full column specifications.\n",
      "Using locally cached version of GPL18573 found here:\n",
      "./NCBI_GEO/GPL18573.soft \n"
     ]
    },
    {
     "data": {
      "text/plain": [
       "$GSE147507_series_matrix.txt.gz\n",
       "ExpressionSet (storageMode: lockedEnvironment)\n",
       "assayData: 0 features, 20 samples \n",
       "  element names: exprs \n",
       "protocolData: none\n",
       "phenoData\n",
       "  sampleNames: GSM4432378 GSM4432379 ... GSM4432397 (20 total)\n",
       "  varLabels: title geo_accession ... treatment:ch1 (49 total)\n",
       "  varMetadata: labelDescription\n",
       "featureData: none\n",
       "experimentData: use 'experimentData(object)'\n",
       "Annotation: GPL18573 \n"
      ]
     },
     "metadata": {},
     "output_type": "display_data"
    },
    {
     "ename": "ERROR",
     "evalue": "Error in (function (classes, fdef, mtable) : unable to find an inherited method for function 'Table' for signature '\"list\"'\n",
     "output_type": "error",
     "traceback": [
      "Error in (function (classes, fdef, mtable) : unable to find an inherited method for function 'Table' for signature '\"list\"'\nTraceback:\n",
      "1. GDS2eSet(gse147507)",
      "2. grep(\"GSM\", colnames(Table(GDS)))",
      "3. colnames(Table(GDS))",
      "4. is.data.frame(x)",
      "5. Table(GDS)",
      "6. (function (classes, fdef, mtable) \n . {\n .     methods <- .findInheritedMethods(classes, fdef, mtable)\n .     if (length(methods) == 1L) \n .         return(methods[[1L]])\n .     else if (length(methods) == 0L) {\n .         cnames <- paste0(\"\\\"\", vapply(classes, as.character, \n .             \"\"), \"\\\"\", collapse = \", \")\n .         stop(gettextf(\"unable to find an inherited method for function %s for signature %s\", \n .             sQuote(fdef@generic), sQuote(cnames)), domain = NA)\n .     }\n .     else stop(\"Internal error in finding inherited methods; didn't return a unique method\", \n .         domain = NA)\n . })(list(\"list\"), new(\"standardGeneric\", .Data = function (object) \n . standardGeneric(\"Table\"), generic = structure(\"Table\", package = \"GEOquery\"), \n .     package = \"GEOquery\", group = list(), valueClass = character(0), \n .     signature = \"object\", default = NULL, skeleton = (function (object) \n .     stop(\"invalid call in method dispatch to 'Table' (no default method)\", \n .         domain = NA))(object)), <environment>)",
      "7. stop(gettextf(\"unable to find an inherited method for function %s for signature %s\", \n .     sQuote(fdef@generic), sQuote(cnames)), domain = NA)"
     ]
    }
   ],
   "source": [
    "datos <- load(\"./GSE147507_datos_covid.Rdata\")\n",
    "datos\n",
    "head(datos_covid)\n",
    "\n",
    "###\n",
    "\n",
    "gse147507 <- getGEO('GSE147507', destdir='./NCBI_GEO')\n",
    "gse147507\n",
    "\n",
    "eset <- GSE2eSet(gse147507)"
   ]
  },
  {
   "cell_type": "markdown",
   "metadata": {},
   "source": [
    "## LOAD data/matrixes"
   ]
  },
  {
   "cell_type": "code",
   "execution_count": 8,
   "metadata": {},
   "outputs": [
    {
     "data": {
      "text/html": [
       "<table>\n",
       "<thead><tr><th></th><th scope=col>geneId</th><th scope=col>geneName</th><th scope=col>type</th><th scope=col>specific_type</th><th scope=col>d0_r1</th><th scope=col>d0_r2</th><th scope=col>d0_r4</th><th scope=col>d14_r7</th><th scope=col>d14_r8</th><th scope=col>d14_r9</th><th scope=col>d14_r10</th><th scope=col>d28_r8</th><th scope=col>d28_r14</th></tr></thead>\n",
       "<tbody>\n",
       "\t<tr><th scope=row>10000</th><td>ENSG00000076351.12</td><td>SLC46A1           </td><td>protein_coding    </td><td>protein_coding    </td><td> 13               </td><td> 10               </td><td> 10               </td><td>   9              </td><td>  11              </td><td>  14              </td><td>  17              </td><td>   6              </td><td>  11              </td></tr>\n",
       "\t<tr><th scope=row>10001</th><td>ENSG00000198242.13</td><td>RPL23A            </td><td>protein_coding    </td><td>protein_coding    </td><td>485               </td><td>452               </td><td>457               </td><td> 369              </td><td> 381              </td><td> 382              </td><td> 426              </td><td> 182              </td><td> 325              </td></tr>\n",
       "\t<tr><th scope=row>10002</th><td>ENSG00000160602.13</td><td>NEK8              </td><td>protein_coding    </td><td>protein_coding    </td><td> 24               </td><td> 18               </td><td> 15               </td><td>  19              </td><td>  16              </td><td>  18              </td><td>  22              </td><td>  14              </td><td>  19              </td></tr>\n",
       "\t<tr><th scope=row>10003</th><td>ENSG00000160606.10</td><td>TLCD1             </td><td>protein_coding    </td><td>protein_coding    </td><td> 27               </td><td> 31               </td><td> 14               </td><td>  30              </td><td>  24              </td><td>  27              </td><td>  21              </td><td>   7              </td><td>  12              </td></tr>\n",
       "\t<tr><th scope=row>10004</th><td>ENSG00000109046.14</td><td>WSB1              </td><td>protein_coding    </td><td>protein_coding    </td><td>640               </td><td>732               </td><td>675               </td><td>4121              </td><td>4480              </td><td>4392              </td><td>4898              </td><td>1927              </td><td>3104              </td></tr>\n",
       "\t<tr><th scope=row>10005</th><td>ENSG00000076604.14</td><td>TRAF4             </td><td>protein_coding    </td><td>protein_coding    </td><td>300               </td><td>314               </td><td>288               </td><td> 276              </td><td> 319              </td><td> 311              </td><td> 333              </td><td> 132              </td><td> 215              </td></tr>\n",
       "\t<tr><th scope=row>10006</th><td>ENSG00000167536.13</td><td>DHRS13            </td><td>protein_coding    </td><td>protein_coding    </td><td>  6               </td><td> 12               </td><td>  3               </td><td>   7              </td><td>  15              </td><td>   9              </td><td>  11              </td><td>   4              </td><td>   7              </td></tr>\n",
       "\t<tr><th scope=row>10007</th><td>ENSG00000132581.9 </td><td>SDF2              </td><td>protein_coding    </td><td>protein_coding    </td><td> 67               </td><td> 67               </td><td> 71               </td><td>  81              </td><td>  81              </td><td>  72              </td><td> 119              </td><td>  70              </td><td>  86              </td></tr>\n",
       "\t<tr><th scope=row>10008</th><td>ENSG00000109111.14</td><td>SUPT6H            </td><td>protein_coding    </td><td>protein_coding    </td><td>279               </td><td>285               </td><td>252               </td><td> 364              </td><td> 322              </td><td> 336              </td><td> 353              </td><td> 270              </td><td> 405              </td></tr>\n",
       "\t<tr><th scope=row>10009</th><td>ENSG00000108255.7 </td><td>CRYBA1            </td><td>protein_coding    </td><td>protein_coding    </td><td>  0               </td><td>  0               </td><td>  0               </td><td>   7              </td><td>   2              </td><td>   5              </td><td>  13              </td><td>   6              </td><td>   4              </td></tr>\n",
       "\t<tr><th scope=row>10010</th><td>ENSG00000132589.15</td><td>FLOT2             </td><td>protein_coding    </td><td>protein_coding    </td><td>444               </td><td>506               </td><td>377               </td><td> 264              </td><td> 313              </td><td> 269              </td><td> 286              </td><td> 180              </td><td> 322              </td></tr>\n",
       "</tbody>\n",
       "</table>\n"
      ],
      "text/latex": [
       "\\begin{tabular}{r|lllllllllllll}\n",
       "  & geneId & geneName & type & specific\\_type & d0\\_r1 & d0\\_r2 & d0\\_r4 & d14\\_r7 & d14\\_r8 & d14\\_r9 & d14\\_r10 & d28\\_r8 & d28\\_r14\\\\\n",
       "\\hline\n",
       "\t10000 & ENSG00000076351.12 & SLC46A1            & protein\\_coding   & protein\\_coding   &  13                &  10                &  10                &    9               &   11               &   14               &   17               &    6               &   11              \\\\\n",
       "\t10001 & ENSG00000198242.13 & RPL23A             & protein\\_coding   & protein\\_coding   & 485                & 452                & 457                &  369               &  381               &  382               &  426               &  182               &  325              \\\\\n",
       "\t10002 & ENSG00000160602.13 & NEK8               & protein\\_coding   & protein\\_coding   &  24                &  18                &  15                &   19               &   16               &   18               &   22               &   14               &   19              \\\\\n",
       "\t10003 & ENSG00000160606.10 & TLCD1              & protein\\_coding   & protein\\_coding   &  27                &  31                &  14                &   30               &   24               &   27               &   21               &    7               &   12              \\\\\n",
       "\t10004 & ENSG00000109046.14 & WSB1               & protein\\_coding   & protein\\_coding   & 640                & 732                & 675                & 4121               & 4480               & 4392               & 4898               & 1927               & 3104              \\\\\n",
       "\t10005 & ENSG00000076604.14 & TRAF4              & protein\\_coding   & protein\\_coding   & 300                & 314                & 288                &  276               &  319               &  311               &  333               &  132               &  215              \\\\\n",
       "\t10006 & ENSG00000167536.13 & DHRS13             & protein\\_coding   & protein\\_coding   &   6                &  12                &   3                &    7               &   15               &    9               &   11               &    4               &    7              \\\\\n",
       "\t10007 & ENSG00000132581.9  & SDF2               & protein\\_coding   & protein\\_coding   &  67                &  67                &  71                &   81               &   81               &   72               &  119               &   70               &   86              \\\\\n",
       "\t10008 & ENSG00000109111.14 & SUPT6H             & protein\\_coding   & protein\\_coding   & 279                & 285                & 252                &  364               &  322               &  336               &  353               &  270               &  405              \\\\\n",
       "\t10009 & ENSG00000108255.7  & CRYBA1             & protein\\_coding   & protein\\_coding   &   0                &   0                &   0                &    7               &    2               &    5               &   13               &    6               &    4              \\\\\n",
       "\t10010 & ENSG00000132589.15 & FLOT2              & protein\\_coding   & protein\\_coding   & 444                & 506                & 377                &  264               &  313               &  269               &  286               &  180               &  322              \\\\\n",
       "\\end{tabular}\n"
      ],
      "text/markdown": [
       "\n",
       "| <!--/--> | geneId | geneName | type | specific_type | d0_r1 | d0_r2 | d0_r4 | d14_r7 | d14_r8 | d14_r9 | d14_r10 | d28_r8 | d28_r14 |\n",
       "|---|---|---|---|---|---|---|---|---|---|---|---|---|---|\n",
       "| 10000 | ENSG00000076351.12 | SLC46A1            | protein_coding     | protein_coding     |  13                |  10                |  10                |    9               |   11               |   14               |   17               |    6               |   11               |\n",
       "| 10001 | ENSG00000198242.13 | RPL23A             | protein_coding     | protein_coding     | 485                | 452                | 457                |  369               |  381               |  382               |  426               |  182               |  325               |\n",
       "| 10002 | ENSG00000160602.13 | NEK8               | protein_coding     | protein_coding     |  24                |  18                |  15                |   19               |   16               |   18               |   22               |   14               |   19               |\n",
       "| 10003 | ENSG00000160606.10 | TLCD1              | protein_coding     | protein_coding     |  27                |  31                |  14                |   30               |   24               |   27               |   21               |    7               |   12               |\n",
       "| 10004 | ENSG00000109046.14 | WSB1               | protein_coding     | protein_coding     | 640                | 732                | 675                | 4121               | 4480               | 4392               | 4898               | 1927               | 3104               |\n",
       "| 10005 | ENSG00000076604.14 | TRAF4              | protein_coding     | protein_coding     | 300                | 314                | 288                |  276               |  319               |  311               |  333               |  132               |  215               |\n",
       "| 10006 | ENSG00000167536.13 | DHRS13             | protein_coding     | protein_coding     |   6                |  12                |   3                |    7               |   15               |    9               |   11               |    4               |    7               |\n",
       "| 10007 | ENSG00000132581.9  | SDF2               | protein_coding     | protein_coding     |  67                |  67                |  71                |   81               |   81               |   72               |  119               |   70               |   86               |\n",
       "| 10008 | ENSG00000109111.14 | SUPT6H             | protein_coding     | protein_coding     | 279                | 285                | 252                |  364               |  322               |  336               |  353               |  270               |  405               |\n",
       "| 10009 | ENSG00000108255.7  | CRYBA1             | protein_coding     | protein_coding     |   0                |   0                |   0                |    7               |    2               |    5               |   13               |    6               |    4               |\n",
       "| 10010 | ENSG00000132589.15 | FLOT2              | protein_coding     | protein_coding     | 444                | 506                | 377                |  264               |  313               |  269               |  286               |  180               |  322               |\n",
       "\n"
      ],
      "text/plain": [
       "      geneId             geneName type           specific_type  d0_r1 d0_r2\n",
       "10000 ENSG00000076351.12 SLC46A1  protein_coding protein_coding  13    10  \n",
       "10001 ENSG00000198242.13 RPL23A   protein_coding protein_coding 485   452  \n",
       "10002 ENSG00000160602.13 NEK8     protein_coding protein_coding  24    18  \n",
       "10003 ENSG00000160606.10 TLCD1    protein_coding protein_coding  27    31  \n",
       "10004 ENSG00000109046.14 WSB1     protein_coding protein_coding 640   732  \n",
       "10005 ENSG00000076604.14 TRAF4    protein_coding protein_coding 300   314  \n",
       "10006 ENSG00000167536.13 DHRS13   protein_coding protein_coding   6    12  \n",
       "10007 ENSG00000132581.9  SDF2     protein_coding protein_coding  67    67  \n",
       "10008 ENSG00000109111.14 SUPT6H   protein_coding protein_coding 279   285  \n",
       "10009 ENSG00000108255.7  CRYBA1   protein_coding protein_coding   0     0  \n",
       "10010 ENSG00000132589.15 FLOT2    protein_coding protein_coding 444   506  \n",
       "      d0_r4 d14_r7 d14_r8 d14_r9 d14_r10 d28_r8 d28_r14\n",
       "10000  10      9     11     14     17       6     11   \n",
       "10001 457    369    381    382    426     182    325   \n",
       "10002  15     19     16     18     22      14     19   \n",
       "10003  14     30     24     27     21       7     12   \n",
       "10004 675   4121   4480   4392   4898    1927   3104   \n",
       "10005 288    276    319    311    333     132    215   \n",
       "10006   3      7     15      9     11       4      7   \n",
       "10007  71     81     81     72    119      70     86   \n",
       "10008 252    364    322    336    353     270    405   \n",
       "10009   0      7      2      5     13       6      4   \n",
       "10010 377    264    313    269    286     180    322   "
      ]
     },
     "metadata": {},
     "output_type": "display_data"
    },
    {
     "data": {
      "text/html": [
       "<table>\n",
       "<thead><tr><th></th><th scope=col>geneId</th><th scope=col>geneName</th><th scope=col>type</th><th scope=col>specific_type</th><th scope=col>d0_r1</th><th scope=col>d0_r2</th><th scope=col>d0_r4</th><th scope=col>d14_r7</th><th scope=col>d14_r8</th><th scope=col>d14_r9</th><th scope=col>d14_r10</th><th scope=col>d28_r8</th><th scope=col>d28_r14</th></tr></thead>\n",
       "<tbody>\n",
       "\t<tr><th scope=row>10000</th><td>ENSG00000076351.12</td><td>SLC46A1           </td><td>protein_coding    </td><td>protein_coding    </td><td>  7.02413         </td><td>  5.20986         </td><td>  5.60889         </td><td>  4.62893         </td><td>  4.861480        </td><td>  5.84481         </td><td>  4.75972         </td><td> 10.58360         </td><td> 12.07500         </td></tr>\n",
       "\t<tr><th scope=row>10001</th><td>ENSG00000198242.13</td><td>RPL23A            </td><td>protein_coding    </td><td>protein_coding    </td><td>593.58900         </td><td>586.60800         </td><td>602.58700         </td><td>623.14500         </td><td>545.513000        </td><td>603.53700         </td><td>582.93400         </td><td>451.62900         </td><td>527.98400         </td></tr>\n",
       "\t<tr><th scope=row>10002</th><td>ENSG00000160602.13</td><td>NEK8              </td><td>protein_coding    </td><td>protein_coding    </td><td>  4.68598         </td><td>  3.03797         </td><td>  1.45348         </td><td>  4.47468         </td><td>  1.581870        </td><td>  2.35365         </td><td>  3.08434         </td><td>  3.32108         </td><td>  2.18682         </td></tr>\n",
       "\t<tr><th scope=row>10003</th><td>ENSG00000160606.10</td><td>TLCD1             </td><td>protein_coding    </td><td>protein_coding    </td><td> 15.70910         </td><td> 16.07040         </td><td>  8.43733         </td><td> 21.02480         </td><td> 13.320500        </td><td> 14.78120         </td><td> 13.47100         </td><td>  8.49460         </td><td>  6.76776         </td></tr>\n",
       "\t<tr><th scope=row>10004</th><td>ENSG00000109046.14</td><td>WSB1              </td><td>protein_coding    </td><td>protein_coding    </td><td> 72.31700         </td><td> 79.03390         </td><td> 85.68770         </td><td>488.05800         </td><td>507.706000        </td><td>518.06400         </td><td>501.30000         </td><td>387.55700         </td><td>384.04600         </td></tr>\n",
       "\t<tr><th scope=row>10005</th><td>ENSG00000076604.14</td><td>TRAF4             </td><td>protein_coding    </td><td>protein_coding    </td><td> 78.97180         </td><td> 83.54360         </td><td> 84.65800         </td><td> 77.87100         </td><td> 86.547300        </td><td>108.91000         </td><td> 85.75220         </td><td> 70.10040         </td><td> 68.74610         </td></tr>\n",
       "\t<tr><th scope=row>10006</th><td>ENSG00000167536.13</td><td>DHRS13            </td><td>protein_coding    </td><td>protein_coding    </td><td>  8.33748         </td><td>  7.21717         </td><td>  5.54178         </td><td>  8.25337         </td><td> 12.380700        </td><td> 11.62200         </td><td> 13.22590         </td><td>  7.08125         </td><td>  7.53924         </td></tr>\n",
       "\t<tr><th scope=row>10007</th><td>ENSG00000132581.9 </td><td>SDF2              </td><td>protein_coding    </td><td>protein_coding    </td><td> 24.28920         </td><td> 15.38630         </td><td> 23.07850         </td><td> 30.58080         </td><td> 27.636300        </td><td> 25.10500         </td><td> 35.05070         </td><td> 36.90310         </td><td> 33.17820         </td></tr>\n",
       "\t<tr><th scope=row>10008</th><td>ENSG00000109111.14</td><td>SUPT6H            </td><td>protein_coding    </td><td>protein_coding    </td><td> 13.03820         </td><td> 11.52510         </td><td> 11.81470         </td><td> 20.13860         </td><td> 19.587700        </td><td> 20.84800         </td><td> 15.91880         </td><td> 27.40670         </td><td> 24.02830         </td></tr>\n",
       "\t<tr><th scope=row>10009</th><td>ENSG00000108255.7 </td><td>CRYBA1            </td><td>protein_coding    </td><td>protein_coding    </td><td>  0.10000         </td><td>  0.10000         </td><td>  0.10000         </td><td>  3.82556         </td><td>  0.927344        </td><td>  2.45107         </td><td>  5.39699         </td><td>  4.79582         </td><td>  2.01370         </td></tr>\n",
       "\t<tr><th scope=row>10010</th><td>ENSG00000132589.15</td><td>FLOT2             </td><td>protein_coding    </td><td>protein_coding    </td><td> 58.67590         </td><td> 63.57290         </td><td> 49.77280         </td><td> 39.34710         </td><td> 41.635700        </td><td> 37.40700         </td><td> 35.29930         </td><td> 43.90280         </td><td> 47.59850         </td></tr>\n",
       "</tbody>\n",
       "</table>\n"
      ],
      "text/latex": [
       "\\begin{tabular}{r|lllllllllllll}\n",
       "  & geneId & geneName & type & specific\\_type & d0\\_r1 & d0\\_r2 & d0\\_r4 & d14\\_r7 & d14\\_r8 & d14\\_r9 & d14\\_r10 & d28\\_r8 & d28\\_r14\\\\\n",
       "\\hline\n",
       "\t10000 & ENSG00000076351.12 & SLC46A1            & protein\\_coding   & protein\\_coding   &   7.02413          &   5.20986          &   5.60889          &   4.62893          &   4.861480         &   5.84481          &   4.75972          &  10.58360          &  12.07500         \\\\\n",
       "\t10001 & ENSG00000198242.13 & RPL23A             & protein\\_coding   & protein\\_coding   & 593.58900          & 586.60800          & 602.58700          & 623.14500          & 545.513000         & 603.53700          & 582.93400          & 451.62900          & 527.98400         \\\\\n",
       "\t10002 & ENSG00000160602.13 & NEK8               & protein\\_coding   & protein\\_coding   &   4.68598          &   3.03797          &   1.45348          &   4.47468          &   1.581870         &   2.35365          &   3.08434          &   3.32108          &   2.18682         \\\\\n",
       "\t10003 & ENSG00000160606.10 & TLCD1              & protein\\_coding   & protein\\_coding   &  15.70910          &  16.07040          &   8.43733          &  21.02480          &  13.320500         &  14.78120          &  13.47100          &   8.49460          &   6.76776         \\\\\n",
       "\t10004 & ENSG00000109046.14 & WSB1               & protein\\_coding   & protein\\_coding   &  72.31700          &  79.03390          &  85.68770          & 488.05800          & 507.706000         & 518.06400          & 501.30000          & 387.55700          & 384.04600         \\\\\n",
       "\t10005 & ENSG00000076604.14 & TRAF4              & protein\\_coding   & protein\\_coding   &  78.97180          &  83.54360          &  84.65800          &  77.87100          &  86.547300         & 108.91000          &  85.75220          &  70.10040          &  68.74610         \\\\\n",
       "\t10006 & ENSG00000167536.13 & DHRS13             & protein\\_coding   & protein\\_coding   &   8.33748          &   7.21717          &   5.54178          &   8.25337          &  12.380700         &  11.62200          &  13.22590          &   7.08125          &   7.53924         \\\\\n",
       "\t10007 & ENSG00000132581.9  & SDF2               & protein\\_coding   & protein\\_coding   &  24.28920          &  15.38630          &  23.07850          &  30.58080          &  27.636300         &  25.10500          &  35.05070          &  36.90310          &  33.17820         \\\\\n",
       "\t10008 & ENSG00000109111.14 & SUPT6H             & protein\\_coding   & protein\\_coding   &  13.03820          &  11.52510          &  11.81470          &  20.13860          &  19.587700         &  20.84800          &  15.91880          &  27.40670          &  24.02830         \\\\\n",
       "\t10009 & ENSG00000108255.7  & CRYBA1             & protein\\_coding   & protein\\_coding   &   0.10000          &   0.10000          &   0.10000          &   3.82556          &   0.927344         &   2.45107          &   5.39699          &   4.79582          &   2.01370         \\\\\n",
       "\t10010 & ENSG00000132589.15 & FLOT2              & protein\\_coding   & protein\\_coding   &  58.67590          &  63.57290          &  49.77280          &  39.34710          &  41.635700         &  37.40700          &  35.29930          &  43.90280          &  47.59850         \\\\\n",
       "\\end{tabular}\n"
      ],
      "text/markdown": [
       "\n",
       "| <!--/--> | geneId | geneName | type | specific_type | d0_r1 | d0_r2 | d0_r4 | d14_r7 | d14_r8 | d14_r9 | d14_r10 | d28_r8 | d28_r14 |\n",
       "|---|---|---|---|---|---|---|---|---|---|---|---|---|---|\n",
       "| 10000 | ENSG00000076351.12 | SLC46A1            | protein_coding     | protein_coding     |   7.02413          |   5.20986          |   5.60889          |   4.62893          |   4.861480         |   5.84481          |   4.75972          |  10.58360          |  12.07500          |\n",
       "| 10001 | ENSG00000198242.13 | RPL23A             | protein_coding     | protein_coding     | 593.58900          | 586.60800          | 602.58700          | 623.14500          | 545.513000         | 603.53700          | 582.93400          | 451.62900          | 527.98400          |\n",
       "| 10002 | ENSG00000160602.13 | NEK8               | protein_coding     | protein_coding     |   4.68598          |   3.03797          |   1.45348          |   4.47468          |   1.581870         |   2.35365          |   3.08434          |   3.32108          |   2.18682          |\n",
       "| 10003 | ENSG00000160606.10 | TLCD1              | protein_coding     | protein_coding     |  15.70910          |  16.07040          |   8.43733          |  21.02480          |  13.320500         |  14.78120          |  13.47100          |   8.49460          |   6.76776          |\n",
       "| 10004 | ENSG00000109046.14 | WSB1               | protein_coding     | protein_coding     |  72.31700          |  79.03390          |  85.68770          | 488.05800          | 507.706000         | 518.06400          | 501.30000          | 387.55700          | 384.04600          |\n",
       "| 10005 | ENSG00000076604.14 | TRAF4              | protein_coding     | protein_coding     |  78.97180          |  83.54360          |  84.65800          |  77.87100          |  86.547300         | 108.91000          |  85.75220          |  70.10040          |  68.74610          |\n",
       "| 10006 | ENSG00000167536.13 | DHRS13             | protein_coding     | protein_coding     |   8.33748          |   7.21717          |   5.54178          |   8.25337          |  12.380700         |  11.62200          |  13.22590          |   7.08125          |   7.53924          |\n",
       "| 10007 | ENSG00000132581.9  | SDF2               | protein_coding     | protein_coding     |  24.28920          |  15.38630          |  23.07850          |  30.58080          |  27.636300         |  25.10500          |  35.05070          |  36.90310          |  33.17820          |\n",
       "| 10008 | ENSG00000109111.14 | SUPT6H             | protein_coding     | protein_coding     |  13.03820          |  11.52510          |  11.81470          |  20.13860          |  19.587700         |  20.84800          |  15.91880          |  27.40670          |  24.02830          |\n",
       "| 10009 | ENSG00000108255.7  | CRYBA1             | protein_coding     | protein_coding     |   0.10000          |   0.10000          |   0.10000          |   3.82556          |   0.927344         |   2.45107          |   5.39699          |   4.79582          |   2.01370          |\n",
       "| 10010 | ENSG00000132589.15 | FLOT2              | protein_coding     | protein_coding     |  58.67590          |  63.57290          |  49.77280          |  39.34710          |  41.635700         |  37.40700          |  35.29930          |  43.90280          |  47.59850          |\n",
       "\n"
      ],
      "text/plain": [
       "      geneId             geneName type           specific_type  d0_r1    \n",
       "10000 ENSG00000076351.12 SLC46A1  protein_coding protein_coding   7.02413\n",
       "10001 ENSG00000198242.13 RPL23A   protein_coding protein_coding 593.58900\n",
       "10002 ENSG00000160602.13 NEK8     protein_coding protein_coding   4.68598\n",
       "10003 ENSG00000160606.10 TLCD1    protein_coding protein_coding  15.70910\n",
       "10004 ENSG00000109046.14 WSB1     protein_coding protein_coding  72.31700\n",
       "10005 ENSG00000076604.14 TRAF4    protein_coding protein_coding  78.97180\n",
       "10006 ENSG00000167536.13 DHRS13   protein_coding protein_coding   8.33748\n",
       "10007 ENSG00000132581.9  SDF2     protein_coding protein_coding  24.28920\n",
       "10008 ENSG00000109111.14 SUPT6H   protein_coding protein_coding  13.03820\n",
       "10009 ENSG00000108255.7  CRYBA1   protein_coding protein_coding   0.10000\n",
       "10010 ENSG00000132589.15 FLOT2    protein_coding protein_coding  58.67590\n",
       "      d0_r2     d0_r4     d14_r7    d14_r8     d14_r9    d14_r10   d28_r8   \n",
       "10000   5.20986   5.60889   4.62893   4.861480   5.84481   4.75972  10.58360\n",
       "10001 586.60800 602.58700 623.14500 545.513000 603.53700 582.93400 451.62900\n",
       "10002   3.03797   1.45348   4.47468   1.581870   2.35365   3.08434   3.32108\n",
       "10003  16.07040   8.43733  21.02480  13.320500  14.78120  13.47100   8.49460\n",
       "10004  79.03390  85.68770 488.05800 507.706000 518.06400 501.30000 387.55700\n",
       "10005  83.54360  84.65800  77.87100  86.547300 108.91000  85.75220  70.10040\n",
       "10006   7.21717   5.54178   8.25337  12.380700  11.62200  13.22590   7.08125\n",
       "10007  15.38630  23.07850  30.58080  27.636300  25.10500  35.05070  36.90310\n",
       "10008  11.52510  11.81470  20.13860  19.587700  20.84800  15.91880  27.40670\n",
       "10009   0.10000   0.10000   3.82556   0.927344   2.45107   5.39699   4.79582\n",
       "10010  63.57290  49.77280  39.34710  41.635700  37.40700  35.29930  43.90280\n",
       "      d28_r14  \n",
       "10000  12.07500\n",
       "10001 527.98400\n",
       "10002   2.18682\n",
       "10003   6.76776\n",
       "10004 384.04600\n",
       "10005  68.74610\n",
       "10006   7.53924\n",
       "10007  33.17820\n",
       "10008  24.02830\n",
       "10009   2.01370\n",
       "10010  47.59850"
      ]
     },
     "metadata": {},
     "output_type": "display_data"
    },
    {
     "data": {
      "text/html": [
       "<table>\n",
       "<thead><tr><th></th><th scope=col>d0_r1</th><th scope=col>d0_r2</th><th scope=col>d0_r4</th><th scope=col>d14_r7</th><th scope=col>d14_r8</th><th scope=col>d14_r9</th><th scope=col>d14_r10</th><th scope=col>d28_r8</th><th scope=col>d28_r14</th></tr></thead>\n",
       "<tbody>\n",
       "\t<tr><th scope=row>ENSG00000076351.12_SLC46A1</th><td> 13 </td><td> 10 </td><td> 10 </td><td>   9</td><td>  11</td><td>  14</td><td>  17</td><td>   6</td><td>  11</td></tr>\n",
       "\t<tr><th scope=row>ENSG00000198242.13_RPL23A</th><td>485 </td><td>452 </td><td>457 </td><td> 369</td><td> 381</td><td> 382</td><td> 426</td><td> 182</td><td> 325</td></tr>\n",
       "\t<tr><th scope=row>ENSG00000160602.13_NEK8</th><td> 24 </td><td> 18 </td><td> 15 </td><td>  19</td><td>  16</td><td>  18</td><td>  22</td><td>  14</td><td>  19</td></tr>\n",
       "\t<tr><th scope=row>ENSG00000160606.10_TLCD1</th><td> 27 </td><td> 31 </td><td> 14 </td><td>  30</td><td>  24</td><td>  27</td><td>  21</td><td>   7</td><td>  12</td></tr>\n",
       "\t<tr><th scope=row>ENSG00000109046.14_WSB1</th><td>640 </td><td>732 </td><td>675 </td><td>4121</td><td>4480</td><td>4392</td><td>4898</td><td>1927</td><td>3104</td></tr>\n",
       "\t<tr><th scope=row>ENSG00000076604.14_TRAF4</th><td>300 </td><td>314 </td><td>288 </td><td> 276</td><td> 319</td><td> 311</td><td> 333</td><td> 132</td><td> 215</td></tr>\n",
       "\t<tr><th scope=row>ENSG00000167536.13_DHRS13</th><td>  6 </td><td> 12 </td><td>  3 </td><td>   7</td><td>  15</td><td>   9</td><td>  11</td><td>   4</td><td>   7</td></tr>\n",
       "\t<tr><th scope=row>ENSG00000132581.9_SDF2</th><td> 67 </td><td> 67 </td><td> 71 </td><td>  81</td><td>  81</td><td>  72</td><td> 119</td><td>  70</td><td>  86</td></tr>\n",
       "\t<tr><th scope=row>ENSG00000109111.14_SUPT6H</th><td>279 </td><td>285 </td><td>252 </td><td> 364</td><td> 322</td><td> 336</td><td> 353</td><td> 270</td><td> 405</td></tr>\n",
       "\t<tr><th scope=row>ENSG00000108255.7_CRYBA1</th><td>  0 </td><td>  0 </td><td>  0 </td><td>   7</td><td>   2</td><td>   5</td><td>  13</td><td>   6</td><td>   4</td></tr>\n",
       "\t<tr><th scope=row>ENSG00000132589.15_FLOT2</th><td>444 </td><td>506 </td><td>377 </td><td> 264</td><td> 313</td><td> 269</td><td> 286</td><td> 180</td><td> 322</td></tr>\n",
       "</tbody>\n",
       "</table>\n"
      ],
      "text/latex": [
       "\\begin{tabular}{r|lllllllll}\n",
       "  & d0\\_r1 & d0\\_r2 & d0\\_r4 & d14\\_r7 & d14\\_r8 & d14\\_r9 & d14\\_r10 & d28\\_r8 & d28\\_r14\\\\\n",
       "\\hline\n",
       "\tENSG00000076351.12\\_SLC46A1 &  13  &  10  &  10  &    9 &   11 &   14 &   17 &    6 &   11\\\\\n",
       "\tENSG00000198242.13\\_RPL23A & 485  & 452  & 457  &  369 &  381 &  382 &  426 &  182 &  325\\\\\n",
       "\tENSG00000160602.13\\_NEK8 &  24  &  18  &  15  &   19 &   16 &   18 &   22 &   14 &   19\\\\\n",
       "\tENSG00000160606.10\\_TLCD1 &  27  &  31  &  14  &   30 &   24 &   27 &   21 &    7 &   12\\\\\n",
       "\tENSG00000109046.14\\_WSB1 & 640  & 732  & 675  & 4121 & 4480 & 4392 & 4898 & 1927 & 3104\\\\\n",
       "\tENSG00000076604.14\\_TRAF4 & 300  & 314  & 288  &  276 &  319 &  311 &  333 &  132 &  215\\\\\n",
       "\tENSG00000167536.13\\_DHRS13 &   6  &  12  &   3  &    7 &   15 &    9 &   11 &    4 &    7\\\\\n",
       "\tENSG00000132581.9\\_SDF2 &  67  &  67  &  71  &   81 &   81 &   72 &  119 &   70 &   86\\\\\n",
       "\tENSG00000109111.14\\_SUPT6H & 279  & 285  & 252  &  364 &  322 &  336 &  353 &  270 &  405\\\\\n",
       "\tENSG00000108255.7\\_CRYBA1 &   0  &   0  &   0  &    7 &    2 &    5 &   13 &    6 &    4\\\\\n",
       "\tENSG00000132589.15\\_FLOT2 & 444  & 506  & 377  &  264 &  313 &  269 &  286 &  180 &  322\\\\\n",
       "\\end{tabular}\n"
      ],
      "text/markdown": [
       "\n",
       "| <!--/--> | d0_r1 | d0_r2 | d0_r4 | d14_r7 | d14_r8 | d14_r9 | d14_r10 | d28_r8 | d28_r14 |\n",
       "|---|---|---|---|---|---|---|---|---|---|\n",
       "| ENSG00000076351.12_SLC46A1 |  13  |  10  |  10  |    9 |   11 |   14 |   17 |    6 |   11 |\n",
       "| ENSG00000198242.13_RPL23A | 485  | 452  | 457  |  369 |  381 |  382 |  426 |  182 |  325 |\n",
       "| ENSG00000160602.13_NEK8 |  24  |  18  |  15  |   19 |   16 |   18 |   22 |   14 |   19 |\n",
       "| ENSG00000160606.10_TLCD1 |  27  |  31  |  14  |   30 |   24 |   27 |   21 |    7 |   12 |\n",
       "| ENSG00000109046.14_WSB1 | 640  | 732  | 675  | 4121 | 4480 | 4392 | 4898 | 1927 | 3104 |\n",
       "| ENSG00000076604.14_TRAF4 | 300  | 314  | 288  |  276 |  319 |  311 |  333 |  132 |  215 |\n",
       "| ENSG00000167536.13_DHRS13 |   6  |  12  |   3  |    7 |   15 |    9 |   11 |    4 |    7 |\n",
       "| ENSG00000132581.9_SDF2 |  67  |  67  |  71  |   81 |   81 |   72 |  119 |   70 |   86 |\n",
       "| ENSG00000109111.14_SUPT6H | 279  | 285  | 252  |  364 |  322 |  336 |  353 |  270 |  405 |\n",
       "| ENSG00000108255.7_CRYBA1 |   0  |   0  |   0  |    7 |    2 |    5 |   13 |    6 |    4 |\n",
       "| ENSG00000132589.15_FLOT2 | 444  | 506  | 377  |  264 |  313 |  269 |  286 |  180 |  322 |\n",
       "\n"
      ],
      "text/plain": [
       "                           d0_r1 d0_r2 d0_r4 d14_r7 d14_r8 d14_r9 d14_r10\n",
       "ENSG00000076351.12_SLC46A1  13    10    10      9     11     14     17   \n",
       "ENSG00000198242.13_RPL23A  485   452   457    369    381    382    426   \n",
       "ENSG00000160602.13_NEK8     24    18    15     19     16     18     22   \n",
       "ENSG00000160606.10_TLCD1    27    31    14     30     24     27     21   \n",
       "ENSG00000109046.14_WSB1    640   732   675   4121   4480   4392   4898   \n",
       "ENSG00000076604.14_TRAF4   300   314   288    276    319    311    333   \n",
       "ENSG00000167536.13_DHRS13    6    12     3      7     15      9     11   \n",
       "ENSG00000132581.9_SDF2      67    67    71     81     81     72    119   \n",
       "ENSG00000109111.14_SUPT6H  279   285   252    364    322    336    353   \n",
       "ENSG00000108255.7_CRYBA1     0     0     0      7      2      5     13   \n",
       "ENSG00000132589.15_FLOT2   444   506   377    264    313    269    286   \n",
       "                           d28_r8 d28_r14\n",
       "ENSG00000076351.12_SLC46A1    6     11   \n",
       "ENSG00000198242.13_RPL23A   182    325   \n",
       "ENSG00000160602.13_NEK8      14     19   \n",
       "ENSG00000160606.10_TLCD1      7     12   \n",
       "ENSG00000109046.14_WSB1    1927   3104   \n",
       "ENSG00000076604.14_TRAF4    132    215   \n",
       "ENSG00000167536.13_DHRS13     4      7   \n",
       "ENSG00000132581.9_SDF2       70     86   \n",
       "ENSG00000109111.14_SUPT6H   270    405   \n",
       "ENSG00000108255.7_CRYBA1      6      4   \n",
       "ENSG00000132589.15_FLOT2    180    322   "
      ]
     },
     "metadata": {},
     "output_type": "display_data"
    },
    {
     "data": {
      "text/html": [
       "<table>\n",
       "<thead><tr><th></th><th scope=col>d0_r1</th><th scope=col>d0_r2</th><th scope=col>d0_r4</th><th scope=col>d14_r7</th><th scope=col>d14_r8</th><th scope=col>d14_r9</th><th scope=col>d14_r10</th><th scope=col>d28_r8</th><th scope=col>d28_r14</th></tr></thead>\n",
       "<tbody>\n",
       "\t<tr><th scope=row>ENSG00000076351.12_SLC46A1</th><td>  7.02413 </td><td>  5.20986 </td><td>  5.60889 </td><td>  4.62893 </td><td>  4.861480</td><td>  5.84481 </td><td>  4.75972 </td><td> 10.58360 </td><td> 12.07500 </td></tr>\n",
       "\t<tr><th scope=row>ENSG00000198242.13_RPL23A</th><td>593.58900 </td><td>586.60800 </td><td>602.58700 </td><td>623.14500 </td><td>545.513000</td><td>603.53700 </td><td>582.93400 </td><td>451.62900 </td><td>527.98400 </td></tr>\n",
       "\t<tr><th scope=row>ENSG00000160602.13_NEK8</th><td>  4.68598 </td><td>  3.03797 </td><td>  1.45348 </td><td>  4.47468 </td><td>  1.581870</td><td>  2.35365 </td><td>  3.08434 </td><td>  3.32108 </td><td>  2.18682 </td></tr>\n",
       "\t<tr><th scope=row>ENSG00000160606.10_TLCD1</th><td> 15.70910 </td><td> 16.07040 </td><td>  8.43733 </td><td> 21.02480 </td><td> 13.320500</td><td> 14.78120 </td><td> 13.47100 </td><td>  8.49460 </td><td>  6.76776 </td></tr>\n",
       "\t<tr><th scope=row>ENSG00000109046.14_WSB1</th><td> 72.31700 </td><td> 79.03390 </td><td> 85.68770 </td><td>488.05800 </td><td>507.706000</td><td>518.06400 </td><td>501.30000 </td><td>387.55700 </td><td>384.04600 </td></tr>\n",
       "\t<tr><th scope=row>ENSG00000076604.14_TRAF4</th><td> 78.97180 </td><td> 83.54360 </td><td> 84.65800 </td><td> 77.87100 </td><td> 86.547300</td><td>108.91000 </td><td> 85.75220 </td><td> 70.10040 </td><td> 68.74610 </td></tr>\n",
       "\t<tr><th scope=row>ENSG00000167536.13_DHRS13</th><td>  8.33748 </td><td>  7.21717 </td><td>  5.54178 </td><td>  8.25337 </td><td> 12.380700</td><td> 11.62200 </td><td> 13.22590 </td><td>  7.08125 </td><td>  7.53924 </td></tr>\n",
       "\t<tr><th scope=row>ENSG00000132581.9_SDF2</th><td> 24.28920 </td><td> 15.38630 </td><td> 23.07850 </td><td> 30.58080 </td><td> 27.636300</td><td> 25.10500 </td><td> 35.05070 </td><td> 36.90310 </td><td> 33.17820 </td></tr>\n",
       "\t<tr><th scope=row>ENSG00000109111.14_SUPT6H</th><td> 13.03820 </td><td> 11.52510 </td><td> 11.81470 </td><td> 20.13860 </td><td> 19.587700</td><td> 20.84800 </td><td> 15.91880 </td><td> 27.40670 </td><td> 24.02830 </td></tr>\n",
       "\t<tr><th scope=row>ENSG00000108255.7_CRYBA1</th><td>  0.10000 </td><td>  0.10000 </td><td>  0.10000 </td><td>  3.82556 </td><td>  0.927344</td><td>  2.45107 </td><td>  5.39699 </td><td>  4.79582 </td><td>  2.01370 </td></tr>\n",
       "\t<tr><th scope=row>ENSG00000132589.15_FLOT2</th><td> 58.67590 </td><td> 63.57290 </td><td> 49.77280 </td><td> 39.34710 </td><td> 41.635700</td><td> 37.40700 </td><td> 35.29930 </td><td> 43.90280 </td><td> 47.59850 </td></tr>\n",
       "</tbody>\n",
       "</table>\n"
      ],
      "text/latex": [
       "\\begin{tabular}{r|lllllllll}\n",
       "  & d0\\_r1 & d0\\_r2 & d0\\_r4 & d14\\_r7 & d14\\_r8 & d14\\_r9 & d14\\_r10 & d28\\_r8 & d28\\_r14\\\\\n",
       "\\hline\n",
       "\tENSG00000076351.12\\_SLC46A1 &   7.02413  &   5.20986  &   5.60889  &   4.62893  &   4.861480 &   5.84481  &   4.75972  &  10.58360  &  12.07500 \\\\\n",
       "\tENSG00000198242.13\\_RPL23A & 593.58900  & 586.60800  & 602.58700  & 623.14500  & 545.513000 & 603.53700  & 582.93400  & 451.62900  & 527.98400 \\\\\n",
       "\tENSG00000160602.13\\_NEK8 &   4.68598  &   3.03797  &   1.45348  &   4.47468  &   1.581870 &   2.35365  &   3.08434  &   3.32108  &   2.18682 \\\\\n",
       "\tENSG00000160606.10\\_TLCD1 &  15.70910  &  16.07040  &   8.43733  &  21.02480  &  13.320500 &  14.78120  &  13.47100  &   8.49460  &   6.76776 \\\\\n",
       "\tENSG00000109046.14\\_WSB1 &  72.31700  &  79.03390  &  85.68770  & 488.05800  & 507.706000 & 518.06400  & 501.30000  & 387.55700  & 384.04600 \\\\\n",
       "\tENSG00000076604.14\\_TRAF4 &  78.97180  &  83.54360  &  84.65800  &  77.87100  &  86.547300 & 108.91000  &  85.75220  &  70.10040  &  68.74610 \\\\\n",
       "\tENSG00000167536.13\\_DHRS13 &   8.33748  &   7.21717  &   5.54178  &   8.25337  &  12.380700 &  11.62200  &  13.22590  &   7.08125  &   7.53924 \\\\\n",
       "\tENSG00000132581.9\\_SDF2 &  24.28920  &  15.38630  &  23.07850  &  30.58080  &  27.636300 &  25.10500  &  35.05070  &  36.90310  &  33.17820 \\\\\n",
       "\tENSG00000109111.14\\_SUPT6H &  13.03820  &  11.52510  &  11.81470  &  20.13860  &  19.587700 &  20.84800  &  15.91880  &  27.40670  &  24.02830 \\\\\n",
       "\tENSG00000108255.7\\_CRYBA1 &   0.10000  &   0.10000  &   0.10000  &   3.82556  &   0.927344 &   2.45107  &   5.39699  &   4.79582  &   2.01370 \\\\\n",
       "\tENSG00000132589.15\\_FLOT2 &  58.67590  &  63.57290  &  49.77280  &  39.34710  &  41.635700 &  37.40700  &  35.29930  &  43.90280  &  47.59850 \\\\\n",
       "\\end{tabular}\n"
      ],
      "text/markdown": [
       "\n",
       "| <!--/--> | d0_r1 | d0_r2 | d0_r4 | d14_r7 | d14_r8 | d14_r9 | d14_r10 | d28_r8 | d28_r14 |\n",
       "|---|---|---|---|---|---|---|---|---|---|\n",
       "| ENSG00000076351.12_SLC46A1 |   7.02413  |   5.20986  |   5.60889  |   4.62893  |   4.861480 |   5.84481  |   4.75972  |  10.58360  |  12.07500  |\n",
       "| ENSG00000198242.13_RPL23A | 593.58900  | 586.60800  | 602.58700  | 623.14500  | 545.513000 | 603.53700  | 582.93400  | 451.62900  | 527.98400  |\n",
       "| ENSG00000160602.13_NEK8 |   4.68598  |   3.03797  |   1.45348  |   4.47468  |   1.581870 |   2.35365  |   3.08434  |   3.32108  |   2.18682  |\n",
       "| ENSG00000160606.10_TLCD1 |  15.70910  |  16.07040  |   8.43733  |  21.02480  |  13.320500 |  14.78120  |  13.47100  |   8.49460  |   6.76776  |\n",
       "| ENSG00000109046.14_WSB1 |  72.31700  |  79.03390  |  85.68770  | 488.05800  | 507.706000 | 518.06400  | 501.30000  | 387.55700  | 384.04600  |\n",
       "| ENSG00000076604.14_TRAF4 |  78.97180  |  83.54360  |  84.65800  |  77.87100  |  86.547300 | 108.91000  |  85.75220  |  70.10040  |  68.74610  |\n",
       "| ENSG00000167536.13_DHRS13 |   8.33748  |   7.21717  |   5.54178  |   8.25337  |  12.380700 |  11.62200  |  13.22590  |   7.08125  |   7.53924  |\n",
       "| ENSG00000132581.9_SDF2 |  24.28920  |  15.38630  |  23.07850  |  30.58080  |  27.636300 |  25.10500  |  35.05070  |  36.90310  |  33.17820  |\n",
       "| ENSG00000109111.14_SUPT6H |  13.03820  |  11.52510  |  11.81470  |  20.13860  |  19.587700 |  20.84800  |  15.91880  |  27.40670  |  24.02830  |\n",
       "| ENSG00000108255.7_CRYBA1 |   0.10000  |   0.10000  |   0.10000  |   3.82556  |   0.927344 |   2.45107  |   5.39699  |   4.79582  |   2.01370  |\n",
       "| ENSG00000132589.15_FLOT2 |  58.67590  |  63.57290  |  49.77280  |  39.34710  |  41.635700 |  37.40700  |  35.29930  |  43.90280  |  47.59850  |\n",
       "\n"
      ],
      "text/plain": [
       "                           d0_r1     d0_r2     d0_r4     d14_r7    d14_r8    \n",
       "ENSG00000076351.12_SLC46A1   7.02413   5.20986   5.60889   4.62893   4.861480\n",
       "ENSG00000198242.13_RPL23A  593.58900 586.60800 602.58700 623.14500 545.513000\n",
       "ENSG00000160602.13_NEK8      4.68598   3.03797   1.45348   4.47468   1.581870\n",
       "ENSG00000160606.10_TLCD1    15.70910  16.07040   8.43733  21.02480  13.320500\n",
       "ENSG00000109046.14_WSB1     72.31700  79.03390  85.68770 488.05800 507.706000\n",
       "ENSG00000076604.14_TRAF4    78.97180  83.54360  84.65800  77.87100  86.547300\n",
       "ENSG00000167536.13_DHRS13    8.33748   7.21717   5.54178   8.25337  12.380700\n",
       "ENSG00000132581.9_SDF2      24.28920  15.38630  23.07850  30.58080  27.636300\n",
       "ENSG00000109111.14_SUPT6H   13.03820  11.52510  11.81470  20.13860  19.587700\n",
       "ENSG00000108255.7_CRYBA1     0.10000   0.10000   0.10000   3.82556   0.927344\n",
       "ENSG00000132589.15_FLOT2    58.67590  63.57290  49.77280  39.34710  41.635700\n",
       "                           d14_r9    d14_r10   d28_r8    d28_r14  \n",
       "ENSG00000076351.12_SLC46A1   5.84481   4.75972  10.58360  12.07500\n",
       "ENSG00000198242.13_RPL23A  603.53700 582.93400 451.62900 527.98400\n",
       "ENSG00000160602.13_NEK8      2.35365   3.08434   3.32108   2.18682\n",
       "ENSG00000160606.10_TLCD1    14.78120  13.47100   8.49460   6.76776\n",
       "ENSG00000109046.14_WSB1    518.06400 501.30000 387.55700 384.04600\n",
       "ENSG00000076604.14_TRAF4   108.91000  85.75220  70.10040  68.74610\n",
       "ENSG00000167536.13_DHRS13   11.62200  13.22590   7.08125   7.53924\n",
       "ENSG00000132581.9_SDF2      25.10500  35.05070  36.90310  33.17820\n",
       "ENSG00000109111.14_SUPT6H   20.84800  15.91880  27.40670  24.02830\n",
       "ENSG00000108255.7_CRYBA1     2.45107   5.39699   4.79582   2.01370\n",
       "ENSG00000132589.15_FLOT2    37.40700  35.29930  43.90280  47.59850"
      ]
     },
     "metadata": {},
     "output_type": "display_data"
    }
   ],
   "source": [
    "# LOAD data/matrixes\n",
    "count_mat = read.table(\"./count_mat.txt\", header = TRUE, sep = \"\\t\")\n",
    "FPKM_mat = read.table(\"./FPKM_mat.txt\", header = TRUE, sep = \"\\t\")\n",
    "\n",
    "# Let's take a LOOK\n",
    "count_mat[10000:10010, ]\n",
    "FPKM_mat[10000:10010, ]\n",
    "\n",
    "# FORMAT row names\n",
    "count_mat = count_mat %>% unite(\"rowNames\", geneId:geneName, remove = TRUE)\n",
    "FPKM_mat = FPKM_mat %>% unite(\"rowNames\", geneId:geneName, remove = TRUE)\n",
    "row.names(count_mat) = count_mat[, 1]\n",
    "row.names(FPKM_mat) = FPKM_mat[, 1]\n",
    "\n",
    "# DROP extra data\n",
    "drops <- c(\"rowNames\", \"type\", \"specific_type\")\n",
    "count_mat = count_mat[, !(names(count_mat) %in% drops)]\n",
    "FPKM_mat = FPKM_mat[, !(names(FPKM_mat) %in% drops)]\n",
    "\n",
    "# Let's take a LOOK\n",
    "count_mat[10000:10010, ]\n",
    "FPKM_mat[10000:10010, ]"
   ]
  },
  {
   "cell_type": "markdown",
   "metadata": {},
   "source": [
    "## Filtrar genes con baja expresión y con bajos conteos"
   ]
  },
  {
   "cell_type": "code",
   "execution_count": 9,
   "metadata": {},
   "outputs": [
    {
     "data": {
      "text/plain": [
       "count_mat_filter\n",
       "    0     1     2     3     4     5     6     7     8     9 \n",
       "19546   882   681   727   474   447   562   640   686 11226 "
      ]
     },
     "metadata": {},
     "output_type": "display_data"
    },
    {
     "data": {
      "text/html": [
       "<ol class=list-inline>\n",
       "\t<li>15443</li>\n",
       "\t<li>9</li>\n",
       "</ol>\n"
      ],
      "text/latex": [
       "\\begin{enumerate*}\n",
       "\\item 15443\n",
       "\\item 9\n",
       "\\end{enumerate*}\n"
      ],
      "text/markdown": [
       "1. 15443\n",
       "2. 9\n",
       "\n",
       "\n"
      ],
      "text/plain": [
       "[1] 15443     9"
      ]
     },
     "metadata": {},
     "output_type": "display_data"
    },
    {
     "data": {
      "text/html": [
       "<table>\n",
       "<thead><tr><th></th><th scope=col>d0_r1</th><th scope=col>d0_r2</th><th scope=col>d0_r4</th><th scope=col>d14_r7</th><th scope=col>d14_r8</th><th scope=col>d14_r9</th><th scope=col>d14_r10</th><th scope=col>d28_r8</th><th scope=col>d28_r14</th></tr></thead>\n",
       "<tbody>\n",
       "\t<tr><th scope=row>ENSG00000171121.16_KCNMB3</th><td>  8</td><td>  4</td><td>  2</td><td>  9</td><td>  8</td><td> 10</td><td>  8</td><td>  1</td><td>  3</td></tr>\n",
       "\t<tr><th scope=row>ENSG00000136521.12_NDUFB5</th><td>172</td><td>203</td><td>168</td><td>197</td><td>208</td><td>213</td><td>235</td><td> 97</td><td>165</td></tr>\n",
       "\t<tr><th scope=row>ENSG00000058056.8_USP13</th><td>109</td><td>110</td><td> 96</td><td> 28</td><td> 27</td><td> 32</td><td> 49</td><td> 60</td><td> 90</td></tr>\n",
       "\t<tr><th scope=row>ENSG00000078081.7_LAMP3</th><td> 10</td><td>  3</td><td>  1</td><td>  8</td><td> 10</td><td>  5</td><td>  9</td><td>  0</td><td>  1</td></tr>\n",
       "\t<tr><th scope=row>ENSG00000205981.7_DNAJC19</th><td> 59</td><td> 63</td><td> 41</td><td> 57</td><td> 42</td><td> 57</td><td> 58</td><td> 41</td><td> 58</td></tr>\n",
       "\t<tr><th scope=row>ENSG00000181449.3_SOX2</th><td>621</td><td>646</td><td>569</td><td>193</td><td>230</td><td>183</td><td>219</td><td>346</td><td>551</td></tr>\n",
       "\t<tr><th scope=row>ENSG00000043093.13_DCUN1D1</th><td>112</td><td>119</td><td>102</td><td> 61</td><td> 66</td><td> 77</td><td> 72</td><td> 46</td><td> 74</td></tr>\n",
       "\t<tr><th scope=row>ENSG00000172578.11_KLHL6</th><td>  2</td><td>  1</td><td>  0</td><td>  3</td><td>  6</td><td>  1</td><td>  1</td><td>  4</td><td> 11</td></tr>\n",
       "\t<tr><th scope=row>ENSG00000078070.12_MCCC1</th><td> 49</td><td> 60</td><td> 42</td><td> 40</td><td> 35</td><td> 44</td><td> 51</td><td> 45</td><td> 68</td></tr>\n",
       "\t<tr><th scope=row>ENSG00000058063.15_ATP11B</th><td> 89</td><td>106</td><td>110</td><td>106</td><td>112</td><td>113</td><td>144</td><td> 65</td><td> 90</td></tr>\n",
       "\t<tr><th scope=row>ENSG00000053524.12_MCF2L2</th><td> 10</td><td> 13</td><td> 11</td><td> 16</td><td>  8</td><td> 12</td><td> 17</td><td>  9</td><td> 13</td></tr>\n",
       "</tbody>\n",
       "</table>\n"
      ],
      "text/latex": [
       "\\begin{tabular}{r|lllllllll}\n",
       "  & d0\\_r1 & d0\\_r2 & d0\\_r4 & d14\\_r7 & d14\\_r8 & d14\\_r9 & d14\\_r10 & d28\\_r8 & d28\\_r14\\\\\n",
       "\\hline\n",
       "\tENSG00000171121.16\\_KCNMB3 &   8 &   4 &   2 &   9 &   8 &  10 &   8 &   1 &   3\\\\\n",
       "\tENSG00000136521.12\\_NDUFB5 & 172 & 203 & 168 & 197 & 208 & 213 & 235 &  97 & 165\\\\\n",
       "\tENSG00000058056.8\\_USP13 & 109 & 110 &  96 &  28 &  27 &  32 &  49 &  60 &  90\\\\\n",
       "\tENSG00000078081.7\\_LAMP3 &  10 &   3 &   1 &   8 &  10 &   5 &   9 &   0 &   1\\\\\n",
       "\tENSG00000205981.7\\_DNAJC19 &  59 &  63 &  41 &  57 &  42 &  57 &  58 &  41 &  58\\\\\n",
       "\tENSG00000181449.3\\_SOX2 & 621 & 646 & 569 & 193 & 230 & 183 & 219 & 346 & 551\\\\\n",
       "\tENSG00000043093.13\\_DCUN1D1 & 112 & 119 & 102 &  61 &  66 &  77 &  72 &  46 &  74\\\\\n",
       "\tENSG00000172578.11\\_KLHL6 &   2 &   1 &   0 &   3 &   6 &   1 &   1 &   4 &  11\\\\\n",
       "\tENSG00000078070.12\\_MCCC1 &  49 &  60 &  42 &  40 &  35 &  44 &  51 &  45 &  68\\\\\n",
       "\tENSG00000058063.15\\_ATP11B &  89 & 106 & 110 & 106 & 112 & 113 & 144 &  65 &  90\\\\\n",
       "\tENSG00000053524.12\\_MCF2L2 &  10 &  13 &  11 &  16 &   8 &  12 &  17 &   9 &  13\\\\\n",
       "\\end{tabular}\n"
      ],
      "text/markdown": [
       "\n",
       "| <!--/--> | d0_r1 | d0_r2 | d0_r4 | d14_r7 | d14_r8 | d14_r9 | d14_r10 | d28_r8 | d28_r14 |\n",
       "|---|---|---|---|---|---|---|---|---|---|\n",
       "| ENSG00000171121.16_KCNMB3 |   8 |   4 |   2 |   9 |   8 |  10 |   8 |   1 |   3 |\n",
       "| ENSG00000136521.12_NDUFB5 | 172 | 203 | 168 | 197 | 208 | 213 | 235 |  97 | 165 |\n",
       "| ENSG00000058056.8_USP13 | 109 | 110 |  96 |  28 |  27 |  32 |  49 |  60 |  90 |\n",
       "| ENSG00000078081.7_LAMP3 |  10 |   3 |   1 |   8 |  10 |   5 |   9 |   0 |   1 |\n",
       "| ENSG00000205981.7_DNAJC19 |  59 |  63 |  41 |  57 |  42 |  57 |  58 |  41 |  58 |\n",
       "| ENSG00000181449.3_SOX2 | 621 | 646 | 569 | 193 | 230 | 183 | 219 | 346 | 551 |\n",
       "| ENSG00000043093.13_DCUN1D1 | 112 | 119 | 102 |  61 |  66 |  77 |  72 |  46 |  74 |\n",
       "| ENSG00000172578.11_KLHL6 |   2 |   1 |   0 |   3 |   6 |   1 |   1 |   4 |  11 |\n",
       "| ENSG00000078070.12_MCCC1 |  49 |  60 |  42 |  40 |  35 |  44 |  51 |  45 |  68 |\n",
       "| ENSG00000058063.15_ATP11B |  89 | 106 | 110 | 106 | 112 | 113 | 144 |  65 |  90 |\n",
       "| ENSG00000053524.12_MCF2L2 |  10 |  13 |  11 |  16 |   8 |  12 |  17 |   9 |  13 |\n",
       "\n"
      ],
      "text/plain": [
       "                           d0_r1 d0_r2 d0_r4 d14_r7 d14_r8 d14_r9 d14_r10\n",
       "ENSG00000171121.16_KCNMB3    8     4     2     9      8     10      8    \n",
       "ENSG00000136521.12_NDUFB5  172   203   168   197    208    213    235    \n",
       "ENSG00000058056.8_USP13    109   110    96    28     27     32     49    \n",
       "ENSG00000078081.7_LAMP3     10     3     1     8     10      5      9    \n",
       "ENSG00000205981.7_DNAJC19   59    63    41    57     42     57     58    \n",
       "ENSG00000181449.3_SOX2     621   646   569   193    230    183    219    \n",
       "ENSG00000043093.13_DCUN1D1 112   119   102    61     66     77     72    \n",
       "ENSG00000172578.11_KLHL6     2     1     0     3      6      1      1    \n",
       "ENSG00000078070.12_MCCC1    49    60    42    40     35     44     51    \n",
       "ENSG00000058063.15_ATP11B   89   106   110   106    112    113    144    \n",
       "ENSG00000053524.12_MCF2L2   10    13    11    16      8     12     17    \n",
       "                           d28_r8 d28_r14\n",
       "ENSG00000171121.16_KCNMB3    1      3    \n",
       "ENSG00000136521.12_NDUFB5   97    165    \n",
       "ENSG00000058056.8_USP13     60     90    \n",
       "ENSG00000078081.7_LAMP3      0      1    \n",
       "ENSG00000205981.7_DNAJC19   41     58    \n",
       "ENSG00000181449.3_SOX2     346    551    \n",
       "ENSG00000043093.13_DCUN1D1  46     74    \n",
       "ENSG00000172578.11_KLHL6     4     11    \n",
       "ENSG00000078070.12_MCCC1    45     68    \n",
       "ENSG00000058063.15_ATP11B   65     90    \n",
       "ENSG00000053524.12_MCF2L2    9     13    "
      ]
     },
     "metadata": {},
     "output_type": "display_data"
    }
   ],
   "source": [
    "# FILTRAR genes - conteos\n",
    "\n",
    "# Para cada gen, contar el número de muestras con mayor a 5 conteos\n",
    "count_mat_filter <-\n",
    "    apply(count_mat, 1, function(x)\n",
    "        length(which(x >= 5)))\n",
    "table(count_mat_filter)\n",
    "\n",
    "# Filtrar genes con menor a 2 muestras con más de 5 conteos\n",
    "count_mat <- count_mat[which(count_mat_filter >= 2),]\n",
    "\n",
    "# Let's take a LOOK\n",
    "dim(count_mat)\n",
    "count_mat[10000:10010, ]"
   ]
  },
  {
   "cell_type": "code",
   "execution_count": 11,
   "metadata": {},
   "outputs": [
    {
     "data": {
      "text/plain": [
       "FPKM_mat_filter\n",
       "    2     3     4     5     6     7     8     9 \n",
       "  770   938   631   581   793   772   758 10544 "
      ]
     },
     "metadata": {},
     "output_type": "display_data"
    },
    {
     "data": {
      "text/html": [
       "<ol class=list-inline>\n",
       "\t<li>15787</li>\n",
       "\t<li>9</li>\n",
       "</ol>\n"
      ],
      "text/latex": [
       "\\begin{enumerate*}\n",
       "\\item 15787\n",
       "\\item 9\n",
       "\\end{enumerate*}\n"
      ],
      "text/markdown": [
       "1. 15787\n",
       "2. 9\n",
       "\n",
       "\n"
      ],
      "text/plain": [
       "[1] 15787     9"
      ]
     },
     "metadata": {},
     "output_type": "display_data"
    },
    {
     "data": {
      "text/html": [
       "<table>\n",
       "<thead><tr><th></th><th scope=col>d0_r1</th><th scope=col>d0_r2</th><th scope=col>d0_r4</th><th scope=col>d14_r7</th><th scope=col>d14_r8</th><th scope=col>d14_r9</th><th scope=col>d14_r10</th><th scope=col>d28_r8</th><th scope=col>d28_r14</th></tr></thead>\n",
       "<tbody>\n",
       "\t<tr><th scope=row>ENSG00000163071.10_SPATA18</th><td>2.8093867</td><td>2.629810 </td><td>2.5703118</td><td>3.1215339</td><td>2.8208880</td><td>2.9859714</td><td>3.0538020</td><td>2.332364 </td><td>1.8139498</td></tr>\n",
       "\t<tr><th scope=row>ENSG00000128039.10_SRD5A3</th><td>3.3137862</td><td>3.298917 </td><td>3.4705465</td><td>3.2573321</td><td>3.2537844</td><td>3.1769750</td><td>3.2479481</td><td>3.075374 </td><td>3.2319009</td></tr>\n",
       "\t<tr><th scope=row>ENSG00000157404.15_KIT</th><td>2.7543203</td><td>2.578502 </td><td>2.6872667</td><td>0.2226508</td><td>1.1841901</td><td>0.2070798</td><td>1.6209740</td><td>2.446181 </td><td>2.5048632</td></tr>\n",
       "\t<tr><th scope=row>ENSG00000109255.11_NMU</th><td>3.7488218</td><td>3.716778 </td><td>3.5777413</td><td>2.9385653</td><td>3.1527797</td><td>2.9175191</td><td>3.1160123</td><td>3.819536 </td><td>3.8046259</td></tr>\n",
       "\t<tr><th scope=row>ENSG00000145216.15_FIP1L1</th><td>3.5137390</td><td>3.458539 </td><td>3.4706059</td><td>3.3537595</td><td>3.4670714</td><td>3.5784123</td><td>3.4506112</td><td>3.527066 </td><td>3.4848025</td></tr>\n",
       "\t<tr><th scope=row>ENSG00000134853.11_PDGFRA</th><td>2.5155433</td><td>2.364184 </td><td>2.2449259</td><td>1.7459496</td><td>1.0312332</td><td>1.5713399</td><td>1.9003151</td><td>1.370933 </td><td>0.9997035</td></tr>\n",
       "\t<tr><th scope=row>ENSG00000072201.13_LNX1</th><td>2.9932915</td><td>2.959542 </td><td>3.0055552</td><td>2.9284263</td><td>2.8042253</td><td>2.8023398</td><td>2.6491958</td><td>2.361948 </td><td>1.9086836</td></tr>\n",
       "\t<tr><th scope=row>ENSG00000109220.10_CHIC2</th><td>2.7472237</td><td>2.935178 </td><td>2.9340138</td><td>3.0383694</td><td>2.9586318</td><td>3.0411771</td><td>2.9975882</td><td>2.753274 </td><td>3.0760884</td></tr>\n",
       "\t<tr><th scope=row>ENSG00000180613.10_GSX2</th><td>0.2070798</td><td>0.743389 </td><td>0.2070798</td><td>0.2070798</td><td>0.5446996</td><td>0.2070798</td><td>0.2070798</td><td>3.116330 </td><td>3.1894043</td></tr>\n",
       "\t<tr><th scope=row>ENSG00000109189.12_USP46</th><td>3.1377983</td><td>3.214183 </td><td>3.2343964</td><td>2.7596630</td><td>2.7691810</td><td>2.9409677</td><td>2.8588154</td><td>2.977901 </td><td>2.9271270</td></tr>\n",
       "\t<tr><th scope=row>ENSG00000090989.17_EXOC1</th><td>3.1985648</td><td>3.162704 </td><td>3.2415057</td><td>3.4786550</td><td>3.2791130</td><td>3.3962136</td><td>3.4981430</td><td>3.528521 </td><td>3.5406079</td></tr>\n",
       "</tbody>\n",
       "</table>\n"
      ],
      "text/latex": [
       "\\begin{tabular}{r|lllllllll}\n",
       "  & d0\\_r1 & d0\\_r2 & d0\\_r4 & d14\\_r7 & d14\\_r8 & d14\\_r9 & d14\\_r10 & d28\\_r8 & d28\\_r14\\\\\n",
       "\\hline\n",
       "\tENSG00000163071.10\\_SPATA18 & 2.8093867 & 2.629810  & 2.5703118 & 3.1215339 & 2.8208880 & 2.9859714 & 3.0538020 & 2.332364  & 1.8139498\\\\\n",
       "\tENSG00000128039.10\\_SRD5A3 & 3.3137862 & 3.298917  & 3.4705465 & 3.2573321 & 3.2537844 & 3.1769750 & 3.2479481 & 3.075374  & 3.2319009\\\\\n",
       "\tENSG00000157404.15\\_KIT & 2.7543203 & 2.578502  & 2.6872667 & 0.2226508 & 1.1841901 & 0.2070798 & 1.6209740 & 2.446181  & 2.5048632\\\\\n",
       "\tENSG00000109255.11\\_NMU & 3.7488218 & 3.716778  & 3.5777413 & 2.9385653 & 3.1527797 & 2.9175191 & 3.1160123 & 3.819536  & 3.8046259\\\\\n",
       "\tENSG00000145216.15\\_FIP1L1 & 3.5137390 & 3.458539  & 3.4706059 & 3.3537595 & 3.4670714 & 3.5784123 & 3.4506112 & 3.527066  & 3.4848025\\\\\n",
       "\tENSG00000134853.11\\_PDGFRA & 2.5155433 & 2.364184  & 2.2449259 & 1.7459496 & 1.0312332 & 1.5713399 & 1.9003151 & 1.370933  & 0.9997035\\\\\n",
       "\tENSG00000072201.13\\_LNX1 & 2.9932915 & 2.959542  & 3.0055552 & 2.9284263 & 2.8042253 & 2.8023398 & 2.6491958 & 2.361948  & 1.9086836\\\\\n",
       "\tENSG00000109220.10\\_CHIC2 & 2.7472237 & 2.935178  & 2.9340138 & 3.0383694 & 2.9586318 & 3.0411771 & 2.9975882 & 2.753274  & 3.0760884\\\\\n",
       "\tENSG00000180613.10\\_GSX2 & 0.2070798 & 0.743389  & 0.2070798 & 0.2070798 & 0.5446996 & 0.2070798 & 0.2070798 & 3.116330  & 3.1894043\\\\\n",
       "\tENSG00000109189.12\\_USP46 & 3.1377983 & 3.214183  & 3.2343964 & 2.7596630 & 2.7691810 & 2.9409677 & 2.8588154 & 2.977901  & 2.9271270\\\\\n",
       "\tENSG00000090989.17\\_EXOC1 & 3.1985648 & 3.162704  & 3.2415057 & 3.4786550 & 3.2791130 & 3.3962136 & 3.4981430 & 3.528521  & 3.5406079\\\\\n",
       "\\end{tabular}\n"
      ],
      "text/markdown": [
       "\n",
       "| <!--/--> | d0_r1 | d0_r2 | d0_r4 | d14_r7 | d14_r8 | d14_r9 | d14_r10 | d28_r8 | d28_r14 |\n",
       "|---|---|---|---|---|---|---|---|---|---|\n",
       "| ENSG00000163071.10_SPATA18 | 2.8093867 | 2.629810  | 2.5703118 | 3.1215339 | 2.8208880 | 2.9859714 | 3.0538020 | 2.332364  | 1.8139498 |\n",
       "| ENSG00000128039.10_SRD5A3 | 3.3137862 | 3.298917  | 3.4705465 | 3.2573321 | 3.2537844 | 3.1769750 | 3.2479481 | 3.075374  | 3.2319009 |\n",
       "| ENSG00000157404.15_KIT | 2.7543203 | 2.578502  | 2.6872667 | 0.2226508 | 1.1841901 | 0.2070798 | 1.6209740 | 2.446181  | 2.5048632 |\n",
       "| ENSG00000109255.11_NMU | 3.7488218 | 3.716778  | 3.5777413 | 2.9385653 | 3.1527797 | 2.9175191 | 3.1160123 | 3.819536  | 3.8046259 |\n",
       "| ENSG00000145216.15_FIP1L1 | 3.5137390 | 3.458539  | 3.4706059 | 3.3537595 | 3.4670714 | 3.5784123 | 3.4506112 | 3.527066  | 3.4848025 |\n",
       "| ENSG00000134853.11_PDGFRA | 2.5155433 | 2.364184  | 2.2449259 | 1.7459496 | 1.0312332 | 1.5713399 | 1.9003151 | 1.370933  | 0.9997035 |\n",
       "| ENSG00000072201.13_LNX1 | 2.9932915 | 2.959542  | 3.0055552 | 2.9284263 | 2.8042253 | 2.8023398 | 2.6491958 | 2.361948  | 1.9086836 |\n",
       "| ENSG00000109220.10_CHIC2 | 2.7472237 | 2.935178  | 2.9340138 | 3.0383694 | 2.9586318 | 3.0411771 | 2.9975882 | 2.753274  | 3.0760884 |\n",
       "| ENSG00000180613.10_GSX2 | 0.2070798 | 0.743389  | 0.2070798 | 0.2070798 | 0.5446996 | 0.2070798 | 0.2070798 | 3.116330  | 3.1894043 |\n",
       "| ENSG00000109189.12_USP46 | 3.1377983 | 3.214183  | 3.2343964 | 2.7596630 | 2.7691810 | 2.9409677 | 2.8588154 | 2.977901  | 2.9271270 |\n",
       "| ENSG00000090989.17_EXOC1 | 3.1985648 | 3.162704  | 3.2415057 | 3.4786550 | 3.2791130 | 3.3962136 | 3.4981430 | 3.528521  | 3.5406079 |\n",
       "\n"
      ],
      "text/plain": [
       "                           d0_r1     d0_r2    d0_r4     d14_r7    d14_r8   \n",
       "ENSG00000163071.10_SPATA18 2.8093867 2.629810 2.5703118 3.1215339 2.8208880\n",
       "ENSG00000128039.10_SRD5A3  3.3137862 3.298917 3.4705465 3.2573321 3.2537844\n",
       "ENSG00000157404.15_KIT     2.7543203 2.578502 2.6872667 0.2226508 1.1841901\n",
       "ENSG00000109255.11_NMU     3.7488218 3.716778 3.5777413 2.9385653 3.1527797\n",
       "ENSG00000145216.15_FIP1L1  3.5137390 3.458539 3.4706059 3.3537595 3.4670714\n",
       "ENSG00000134853.11_PDGFRA  2.5155433 2.364184 2.2449259 1.7459496 1.0312332\n",
       "ENSG00000072201.13_LNX1    2.9932915 2.959542 3.0055552 2.9284263 2.8042253\n",
       "ENSG00000109220.10_CHIC2   2.7472237 2.935178 2.9340138 3.0383694 2.9586318\n",
       "ENSG00000180613.10_GSX2    0.2070798 0.743389 0.2070798 0.2070798 0.5446996\n",
       "ENSG00000109189.12_USP46   3.1377983 3.214183 3.2343964 2.7596630 2.7691810\n",
       "ENSG00000090989.17_EXOC1   3.1985648 3.162704 3.2415057 3.4786550 3.2791130\n",
       "                           d14_r9    d14_r10   d28_r8   d28_r14  \n",
       "ENSG00000163071.10_SPATA18 2.9859714 3.0538020 2.332364 1.8139498\n",
       "ENSG00000128039.10_SRD5A3  3.1769750 3.2479481 3.075374 3.2319009\n",
       "ENSG00000157404.15_KIT     0.2070798 1.6209740 2.446181 2.5048632\n",
       "ENSG00000109255.11_NMU     2.9175191 3.1160123 3.819536 3.8046259\n",
       "ENSG00000145216.15_FIP1L1  3.5784123 3.4506112 3.527066 3.4848025\n",
       "ENSG00000134853.11_PDGFRA  1.5713399 1.9003151 1.370933 0.9997035\n",
       "ENSG00000072201.13_LNX1    2.8023398 2.6491958 2.361948 1.9086836\n",
       "ENSG00000109220.10_CHIC2   3.0411771 2.9975882 2.753274 3.0760884\n",
       "ENSG00000180613.10_GSX2    0.2070798 0.2070798 3.116330 3.1894043\n",
       "ENSG00000109189.12_USP46   2.9409677 2.8588154 2.977901 2.9271270\n",
       "ENSG00000090989.17_EXOC1   3.3962136 3.4981430 3.528521 3.5406079"
      ]
     },
     "metadata": {},
     "output_type": "display_data"
    }
   ],
   "source": [
    "# FILTRAR genes - FPKM\n",
    "\n",
    "# Transformar FPKM a log2\n",
    "FPKM_mat <- glog(FPKM_mat)\n",
    "\n",
    "#Para cada gen, contar el número de muestras con expresión mayor a 2\n",
    "FPKM_mat_filter <-\n",
    "    apply(FPKM_mat, 1, function(x)\n",
    "        length(which(x >= 2)))\n",
    "table(FPKM_mat_filter)\n",
    "\n",
    "#Filtrar genes con menor a 2 muestras con expresión mayor a 2\n",
    "FPKM_mat <- FPKM_mat[which(FPKM_mat_filter >= 2), ]\n",
    "\n",
    "# Let's take a LOOK\n",
    "dim(FPKM_mat)\n",
    "FPKM_mat[10000:10010, ]"
   ]
  },
  {
   "cell_type": "code",
   "execution_count": 12,
   "metadata": {},
   "outputs": [
    {
     "data": {
      "text/html": [
       "14068"
      ],
      "text/latex": [
       "14068"
      ],
      "text/markdown": [
       "14068"
      ],
      "text/plain": [
       "[1] 14068"
      ]
     },
     "metadata": {},
     "output_type": "display_data"
    }
   ],
   "source": [
    "# Let's see what genes share count_mat and FPKM_mat\n",
    "length(intersect(rownames(count_mat),rownames(FPKM_mat)))"
   ]
  },
  {
   "cell_type": "markdown",
   "metadata": {},
   "source": [
    "## Conteos [28 vs 0 días]"
   ]
  },
  {
   "cell_type": "code",
   "execution_count": 16,
   "metadata": {},
   "outputs": [
    {
     "data": {
      "text/html": [
       "<ol class=list-inline>\n",
       "\t<li>0</li>\n",
       "\t<li>0</li>\n",
       "\t<li>0</li>\n",
       "\t<li>1</li>\n",
       "\t<li>1</li>\n",
       "</ol>\n"
      ],
      "text/latex": [
       "\\begin{enumerate*}\n",
       "\\item 0\n",
       "\\item 0\n",
       "\\item 0\n",
       "\\item 1\n",
       "\\item 1\n",
       "\\end{enumerate*}\n"
      ],
      "text/markdown": [
       "1. 0\n",
       "2. 0\n",
       "3. 0\n",
       "4. 1\n",
       "5. 1\n",
       "\n",
       "\n"
      ],
      "text/plain": [
       "[1] 0 0 0 1 1"
      ]
     },
     "metadata": {},
     "output_type": "display_data"
    },
    {
     "data": {
      "text/html": [
       "<ol class=list-inline>\n",
       "\t<li>'d0_r1'</li>\n",
       "\t<li>'d0_r2'</li>\n",
       "\t<li>'d0_r4'</li>\n",
       "\t<li>'d28_r8'</li>\n",
       "\t<li>'d28_r14'</li>\n",
       "</ol>\n"
      ],
      "text/latex": [
       "\\begin{enumerate*}\n",
       "\\item 'd0\\_r1'\n",
       "\\item 'd0\\_r2'\n",
       "\\item 'd0\\_r4'\n",
       "\\item 'd28\\_r8'\n",
       "\\item 'd28\\_r14'\n",
       "\\end{enumerate*}\n"
      ],
      "text/markdown": [
       "1. 'd0_r1'\n",
       "2. 'd0_r2'\n",
       "3. 'd0_r4'\n",
       "4. 'd28_r8'\n",
       "5. 'd28_r14'\n",
       "\n",
       "\n"
      ],
      "text/plain": [
       "[1] \"d0_r1\"   \"d0_r2\"   \"d0_r4\"   \"d28_r8\"  \"d28_r14\""
      ]
     },
     "metadata": {},
     "output_type": "display_data"
    },
    {
     "name": "stderr",
     "output_type": "stream",
     "text": [
      "estimating size factors\n",
      "estimating dispersions\n",
      "gene-wise dispersion estimates\n",
      "mean-dispersion relationship\n",
      "final dispersion estimates\n",
      "fitting model and testing\n"
     ]
    },
    {
     "data": {
      "text/plain": [
       "    baseMean        log2FoldChange           lfcSE              stat          \n",
       " Min.   :    0.00   Min.   :-11.283296   Min.   :0.02736   Min.   :-50.74271  \n",
       " 1st Qu.:   14.41   1st Qu.: -0.766020   1st Qu.:0.20092   1st Qu.: -2.47482  \n",
       " Median :   49.43   Median :  0.012012   Median :0.31737   Median :  0.04049  \n",
       " Mean   :  127.01   Mean   :  0.003875   Mean   :0.49759   Mean   : -0.15351  \n",
       " 3rd Qu.:  120.35   3rd Qu.:  0.854224   3rd Qu.:0.63628   3rd Qu.:  2.24502  \n",
       " Max.   :34898.94   Max.   : 10.403699   Max.   :4.56209   Max.   : 77.22379  \n",
       "                    NA's   :6            NA's   :6         NA's   :6          \n",
       "     pvalue              padj         \n",
       " Min.   :0.000000   Min.   :0.000000  \n",
       " 1st Qu.:0.000008   1st Qu.:0.000032  \n",
       " Median :0.018872   Median :0.037741  \n",
       " Mean   :0.184113   Mean   :0.218235  \n",
       " 3rd Qu.:0.292569   3rd Qu.:0.390084  \n",
       " Max.   :0.999977   Max.   :0.999977  \n",
       " NA's   :6          NA's   :6         "
      ]
     },
     "metadata": {},
     "output_type": "display_data"
    },
    {
     "data": {
      "text/html": [
       "<table>\n",
       "<thead><tr><th></th><th scope=col>d0_r1</th><th scope=col>d0_r2</th><th scope=col>d0_r4</th><th scope=col>d28_r8</th><th scope=col>d28_r14</th></tr></thead>\n",
       "<tbody>\n",
       "\t<tr><th scope=row>ENSG00000128567.16_PODXL</th><td>2585</td><td>2998</td><td>2581</td><td>77  </td><td>117 </td></tr>\n",
       "</tbody>\n",
       "</table>\n"
      ],
      "text/latex": [
       "\\begin{tabular}{r|lllll}\n",
       "  & d0\\_r1 & d0\\_r2 & d0\\_r4 & d28\\_r8 & d28\\_r14\\\\\n",
       "\\hline\n",
       "\tENSG00000128567.16\\_PODXL & 2585 & 2998 & 2581 & 77   & 117 \\\\\n",
       "\\end{tabular}\n"
      ],
      "text/markdown": [
       "\n",
       "| <!--/--> | d0_r1 | d0_r2 | d0_r4 | d28_r8 | d28_r14 |\n",
       "|---|---|---|---|---|---|\n",
       "| ENSG00000128567.16_PODXL | 2585 | 2998 | 2581 | 77   | 117  |\n",
       "\n"
      ],
      "text/plain": [
       "                         d0_r1 d0_r2 d0_r4 d28_r8 d28_r14\n",
       "ENSG00000128567.16_PODXL 2585  2998  2581  77     117    "
      ]
     },
     "metadata": {},
     "output_type": "display_data"
    },
    {
     "data": {
      "text/html": [
       "<table>\n",
       "<thead><tr><th></th><th scope=col>d0_r1</th><th scope=col>d0_r2</th><th scope=col>d0_r4</th><th scope=col>d28_r8</th><th scope=col>d28_r14</th></tr></thead>\n",
       "<tbody>\n",
       "\t<tr><th scope=row>ENSG00000185559.14_DLK1</th><td>18   </td><td>20   </td><td>11   </td><td>9148 </td><td>14299</td></tr>\n",
       "</tbody>\n",
       "</table>\n"
      ],
      "text/latex": [
       "\\begin{tabular}{r|lllll}\n",
       "  & d0\\_r1 & d0\\_r2 & d0\\_r4 & d28\\_r8 & d28\\_r14\\\\\n",
       "\\hline\n",
       "\tENSG00000185559.14\\_DLK1 & 18    & 20    & 11    & 9148  & 14299\\\\\n",
       "\\end{tabular}\n"
      ],
      "text/markdown": [
       "\n",
       "| <!--/--> | d0_r1 | d0_r2 | d0_r4 | d28_r8 | d28_r14 |\n",
       "|---|---|---|---|---|---|\n",
       "| ENSG00000185559.14_DLK1 | 18    | 20    | 11    | 9148  | 14299 |\n",
       "\n"
      ],
      "text/plain": [
       "                        d0_r1 d0_r2 d0_r4 d28_r8 d28_r14\n",
       "ENSG00000185559.14_DLK1 18    20    11    9148   14299  "
      ]
     },
     "metadata": {},
     "output_type": "display_data"
    },
    {
     "data": {
      "image/png": "[encoded data removed]",
      "text/plain": [
       "Plot with title \"Histogram of pvals[, 1]\""
      ]
     },
     "metadata": {},
     "output_type": "display_data"
    }
   ],
   "source": [
    "count_mat_28v0 = count_mat[,-grep('d14_', colnames(count_mat))]\n",
    "\n",
    "# Conteos\n",
    "aux_classes = rep(0, times = ncol(count_mat_28v0)) # CLASSIFY \"d0_\" as 0s\n",
    "aux_classes[grep(pattern = \"d28_\", x = colnames(count_mat_28v0))] = 1\n",
    "aux_classes\n",
    "colnames(count_mat_28v0)\n",
    "count_results_28v0 = DESeq_func(matrix_c = count_mat_28v0, classes_c = aux_classes)\n",
    "count_results_28v0 = count_results_28v0[order(count_results_28v0$pvalue),]\n",
    "summary(count_results_28v0)\n",
    "\n",
    "# HISTOGRAM\n",
    "pvals = count_results_28v0[\"pvalue\"]\n",
    "hist(\n",
    "    pvals[, 1],\n",
    "    prob = TRUE,\n",
    "    col = \"black\",\n",
    "    border = \"white\",\n",
    "    xlab = \"scores\",\n",
    "    breaks = 100\n",
    ")\n",
    "box(bty = \"l\")\n",
    "\n",
    "# Draw density function (assuming normal dist)\n",
    "score_mean = mean(pvals[, 1])\n",
    "score_sd = sd(pvals[, 1])\n",
    "curve(\n",
    "    dnorm(x, mean = score_mean, sd = score_sd),\n",
    "    add = TRUE,\n",
    "    col = \"red\",\n",
    "    lwd = 2\n",
    ")\n",
    "\n",
    "# Let's take a look to some genes\n",
    "count_mat_28v0[\"ENSG00000128567.16_PODXL\",]\n",
    "count_mat_28v0[\"ENSG00000185559.14_DLK1\",]"
   ]
  },
  {
   "cell_type": "markdown",
   "metadata": {},
   "source": [
    "## FPKM [28 vs 0 días]"
   ]
  },
  {
   "cell_type": "code",
   "execution_count": 18,
   "metadata": {},
   "outputs": [
    {
     "data": {
      "text/html": [
       "<ol class=list-inline>\n",
       "\t<li>0</li>\n",
       "\t<li>0</li>\n",
       "\t<li>0</li>\n",
       "\t<li>1</li>\n",
       "\t<li>1</li>\n",
       "</ol>\n"
      ],
      "text/latex": [
       "\\begin{enumerate*}\n",
       "\\item 0\n",
       "\\item 0\n",
       "\\item 0\n",
       "\\item 1\n",
       "\\item 1\n",
       "\\end{enumerate*}\n"
      ],
      "text/markdown": [
       "1. 0\n",
       "2. 0\n",
       "3. 0\n",
       "4. 1\n",
       "5. 1\n",
       "\n",
       "\n"
      ],
      "text/plain": [
       "[1] 0 0 0 1 1"
      ]
     },
     "metadata": {},
     "output_type": "display_data"
    },
    {
     "data": {
      "text/html": [
       "<ol class=list-inline>\n",
       "\t<li>'d0_r1'</li>\n",
       "\t<li>'d0_r2'</li>\n",
       "\t<li>'d0_r4'</li>\n",
       "\t<li>'d28_r8'</li>\n",
       "\t<li>'d28_r14'</li>\n",
       "</ol>\n"
      ],
      "text/latex": [
       "\\begin{enumerate*}\n",
       "\\item 'd0\\_r1'\n",
       "\\item 'd0\\_r2'\n",
       "\\item 'd0\\_r4'\n",
       "\\item 'd28\\_r8'\n",
       "\\item 'd28\\_r14'\n",
       "\\end{enumerate*}\n"
      ],
      "text/markdown": [
       "1. 'd0_r1'\n",
       "2. 'd0_r2'\n",
       "3. 'd0_r4'\n",
       "4. 'd28_r8'\n",
       "5. 'd28_r14'\n",
       "\n",
       "\n"
      ],
      "text/plain": [
       "[1] \"d0_r1\"   \"d0_r2\"   \"d0_r4\"   \"d28_r8\"  \"d28_r14\""
      ]
     },
     "metadata": {},
     "output_type": "display_data"
    },
    {
     "name": "stderr",
     "output_type": "stream",
     "text": [
      "toptable() is deprecated and will be removed in the future version of limma. Please use topTable() instead.\n"
     ]
    },
    {
     "data": {
      "text/plain": [
       "      d0_              d28_              FC              p.value        \n",
       " Min.   :0.2071   Min.   :0.2071   Min.   :-3.96231   Min.   :0.000000  \n",
       " 1st Qu.:2.5147   1st Qu.:2.3263   1st Qu.:-0.17470   1st Qu.:0.004418  \n",
       " Median :3.0994   Median :3.0229   Median : 0.05318   Median :0.043796  \n",
       " Mean   :2.8736   Mean   :2.7900   Mean   : 0.08367   Mean   :0.178152  \n",
       " 3rd Qu.:3.4714   3rd Qu.:3.4546   3rd Qu.: 0.36708   3rd Qu.:0.250477  \n",
       " Max.   :4.7248   Max.   :4.7177   Max.   : 3.78933   Max.   :1.000000  \n",
       "    q.value         \n",
       " Min.   :0.0000258  \n",
       " 1st Qu.:0.0176672  \n",
       " Median :0.0875858  \n",
       " Mean   :0.2185694  \n",
       " 3rd Qu.:0.3339626  \n",
       " Max.   :1.0000000  "
      ]
     },
     "metadata": {},
     "output_type": "display_data"
    },
    {
     "data": {
      "text/html": [
       "<table>\n",
       "<thead><tr><th></th><th scope=col>d0_r1</th><th scope=col>d0_r2</th><th scope=col>d0_r4</th><th scope=col>d28_r8</th><th scope=col>d28_r14</th></tr></thead>\n",
       "<tbody>\n",
       "\t<tr><th scope=row>ENSG00000128567.16_PODXL</th><td>4.046129</td><td>4.056044</td><td>4.052416</td><td>2.979669</td><td>3.102711</td></tr>\n",
       "</tbody>\n",
       "</table>\n"
      ],
      "text/latex": [
       "\\begin{tabular}{r|lllll}\n",
       "  & d0\\_r1 & d0\\_r2 & d0\\_r4 & d28\\_r8 & d28\\_r14\\\\\n",
       "\\hline\n",
       "\tENSG00000128567.16\\_PODXL & 4.046129 & 4.056044 & 4.052416 & 2.979669 & 3.102711\\\\\n",
       "\\end{tabular}\n"
      ],
      "text/markdown": [
       "\n",
       "| <!--/--> | d0_r1 | d0_r2 | d0_r4 | d28_r8 | d28_r14 |\n",
       "|---|---|---|---|---|---|\n",
       "| ENSG00000128567.16_PODXL | 4.046129 | 4.056044 | 4.052416 | 2.979669 | 3.102711 |\n",
       "\n"
      ],
      "text/plain": [
       "                         d0_r1    d0_r2    d0_r4    d28_r8   d28_r14 \n",
       "ENSG00000128567.16_PODXL 4.046129 4.056044 4.052416 2.979669 3.102711"
      ]
     },
     "metadata": {},
     "output_type": "display_data"
    },
    {
     "data": {
      "text/html": [
       "<table>\n",
       "<thead><tr><th></th><th scope=col>d0_r1</th><th scope=col>d0_r2</th><th scope=col>d0_r4</th><th scope=col>d28_r8</th><th scope=col>d28_r14</th></tr></thead>\n",
       "<tbody>\n",
       "\t<tr><th scope=row>ENSG00000185559.14_DLK1</th><td>2.816611</td><td>2.776856</td><td>2.4875  </td><td>4.724527</td><td>4.725163</td></tr>\n",
       "</tbody>\n",
       "</table>\n"
      ],
      "text/latex": [
       "\\begin{tabular}{r|lllll}\n",
       "  & d0\\_r1 & d0\\_r2 & d0\\_r4 & d28\\_r8 & d28\\_r14\\\\\n",
       "\\hline\n",
       "\tENSG00000185559.14\\_DLK1 & 2.816611 & 2.776856 & 2.4875   & 4.724527 & 4.725163\\\\\n",
       "\\end{tabular}\n"
      ],
      "text/markdown": [
       "\n",
       "| <!--/--> | d0_r1 | d0_r2 | d0_r4 | d28_r8 | d28_r14 |\n",
       "|---|---|---|---|---|---|\n",
       "| ENSG00000185559.14_DLK1 | 2.816611 | 2.776856 | 2.4875   | 4.724527 | 4.725163 |\n",
       "\n"
      ],
      "text/plain": [
       "                        d0_r1    d0_r2    d0_r4  d28_r8   d28_r14 \n",
       "ENSG00000185559.14_DLK1 2.816611 2.776856 2.4875 4.724527 4.725163"
      ]
     },
     "metadata": {},
     "output_type": "display_data"
    },
    {
     "data": {
      "image/png": "[encoded data removed]",
      "text/plain": [
       "Plot with title \"Histogram of pvals[, 1]\""
      ]
     },
     "metadata": {},
     "output_type": "display_data"
    }
   ],
   "source": [
    "FPKM_mat_28v0 = FPKM_mat[,-grep('d14_', colnames(FPKM_mat))]\n",
    "\n",
    "# FPKM\n",
    "aux_classes = rep(0, times = ncol(FPKM_mat_28v0)) # CLASSIFY \"d0_\" as 0s\n",
    "aux_classes[grep(pattern = \"d28_\", x = colnames(FPKM_mat_28v0))] = 1\n",
    "aux_classes\n",
    "colnames(FPKM_mat_28v0)\n",
    "fpkm_results_28v0 =\n",
    "    limma4DS_fdr(\n",
    "        matrix_e = FPKM_mat_28v0,\n",
    "        classes_e = aux_classes,\n",
    "        classes_names = c(\"d0_\", \"d28_\")\n",
    "    )\n",
    "fpkm_results_28v0 = fpkm_results_28v0[order(fpkm_results_28v0$p.value),]\n",
    "summary(fpkm_results_28v0)\n",
    "\n",
    "# HISTOGRAM\n",
    "pvals = fpkm_results_28v0[\"p.value\"]\n",
    "    hist(\n",
    "    pvals[, 1],\n",
    "    prob = TRUE,\n",
    "    col = \"black\",\n",
    "    border = \"white\",\n",
    "    xlab = \"scores\",\n",
    "    breaks = 100\n",
    ")\n",
    "box(bty = \"l\")\n",
    "# Draw density function (assuming normal dist)\n",
    "score_mean = mean(pvals[, 1])\n",
    "score_sd = sd(pvals[, 1])\n",
    "curve(\n",
    "    dnorm(x, mean = score_mean, sd = score_sd),\n",
    "    add = TRUE,\n",
    "    col = \"red\",\n",
    "    lwd = 2\n",
    ")\n",
    "\n",
    "# Let's take a look to some genes\n",
    "FPKM_mat_28v0[\"ENSG00000128567.16_PODXL\",]\n",
    "FPKM_mat_28v0[\"ENSG00000185559.14_DLK1\",]"
   ]
  },
  {
   "cell_type": "markdown",
   "metadata": {},
   "source": [
    "## Comparar si obtiene los mismos genes diferencialmente expresados."
   ]
  },
  {
   "cell_type": "code",
   "execution_count": 19,
   "metadata": {},
   "outputs": [
    {
     "data": {
      "text/html": [
       "8765"
      ],
      "text/latex": [
       "8765"
      ],
      "text/markdown": [
       "8765"
      ],
      "text/plain": [
       "[1] 8765"
      ]
     },
     "metadata": {},
     "output_type": "display_data"
    },
    {
     "data": {
      "text/html": [
       "8160"
      ],
      "text/latex": [
       "8160"
      ],
      "text/markdown": [
       "8160"
      ],
      "text/plain": [
       "[1] 8160"
      ]
     },
     "metadata": {},
     "output_type": "display_data"
    },
    {
     "data": {
      "text/html": [
       "6450"
      ],
      "text/latex": [
       "6450"
      ],
      "text/markdown": [
       "6450"
      ],
      "text/plain": [
       "[1] 6450"
      ]
     },
     "metadata": {},
     "output_type": "display_data"
    }
   ],
   "source": [
    "# Filtrar genes con pvalue menor a 0.05 (the most significat)\n",
    "pv = 0.05\n",
    "count_results_28v0_de = count_results_28v0[which(count_results_28v0$pvalue <= pv),]\n",
    "fpkm_results_28v0_de = fpkm_results_28v0[which(fpkm_results_28v0$p.value <= pv),]\n",
    "\n",
    "# No. of differential expressed genes by DeSeq2 (28 vs 0 días)\n",
    "length(rownames(count_results_28v0_de))\n",
    "\n",
    "# No. of differential expressed genes by LIMMA (28 vs 0 días)\n",
    "length(rownames(fpkm_results_28v0_de))\n",
    "\n",
    "# No. of differential expressed genes by DeSeq2 and LIMMA (28 vs 0 días)\n",
    "length(intersect(rownames(count_results_28v0_de),rownames(fpkm_results_28v0_de)))"
   ]
  },
  {
   "cell_type": "code",
   "execution_count": 20,
   "metadata": {},
   "outputs": [],
   "source": [
    "# Enable Warning messages\n",
    "options(warn = 0)"
   ]
  },
  {
   "cell_type": "code",
   "execution_count": null,
   "metadata": {},
   "outputs": [],
   "source": []
  },
  {
   "cell_type": "markdown",
   "metadata": {},
   "source": [
    "<h1>\n",
    "    Thermodynamics of Materials AD19: <br>\n",
    "    <b>Class Activity 03</b>\n",
    "</h1>\n",
    "\n",
    "<table width=\"75%\" align=\"center\">\n",
    "    <tr>\n",
    "        <th align=\"left\" colspan=\"2\">\n",
    "            <h2><b>Team<b>:</b></h2>\n",
    "        </th>\n",
    "    </tr>\n",
    "    <tr>\n",
    "        <td><h3>Antonio Osamu Katagiri Tanaka</h3></td>\n",
    "        <td><h4>A01212611@itesm.mx</h4></td>\n",
    "    </tr>\n",
    "    <tr>\n",
    "        <td><h3>Diego Sebastián Ceciliano Franco</h3></td>\n",
    "        <td><h4>A01373414@itesm.mx</h4></td>\n",
    "    </tr>\n",
    "    <tr>\n",
    "        <td><h3>Jesús Alberto Martínez Espinosa</h3></td>\n",
    "        <td><h4>A01750270@itesm.mx</h4></td>\n",
    "    </tr>\n",
    "</table>\n",
    "\n",
    "<h2>R. Gaskell, D., & E. Laughlin, D. (2018). <b>Introduction to the Thermodynamics of Materials.</b> (C. Press, Ed.). Taylor & Francis Group.</h2>\n",
    "\n",
    "<h1>Binary Phase Diagrams</h1>\n",
    "\n",
    "---"
   ]
  }
 ],
 "metadata": {
  "kernelspec": {
   "display_name": "R",
   "language": "R",
   "name": "ir"
  },
  "language_info": {
   "codemirror_mode": "r",
   "file_extension": ".r",
   "mimetype": "text/x-r-source",
   "name": "R",
   "pygments_lexer": "r",
   "version": "3.6.1"
  }
 },
 "nbformat": 4,
 "nbformat_minor": 4
}
