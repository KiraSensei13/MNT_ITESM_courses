{
 "cells": [
  {
   "cell_type": "code",
   "execution_count": 1,
   "metadata": {},
   "outputs": [],
   "source": [
    "# LIBRARIES\n",
    "from collections import Counter\n",
    "\n",
    "# CONSTANTS\n",
    "EOS = \"$\""
   ]
  },
  {
   "cell_type": "markdown",
   "metadata": {},
   "source": [
    "<h1>\n",
    "    Bioinformatics (Ene 20 Gpo 1):\n",
    "</h1>\n",
    "\n",
    "<table width=\"75%\" align=\"center\">\n",
    "    <tr>\n",
    "        <th align=\"left\" colspan=\"2\">\n",
    "            <h2><b>Team<b>:</b></h2>\n",
    "        </th>\n",
    "    </tr>\n",
    "    <tr>\n",
    "        <td><h3>Antonio Osamu Katagiri Tanaka</h3></td>\n",
    "        <td><h4>A01212611@itesm.mx</h4></td>\n",
    "    </tr>\n",
    "</table>\n",
    "\n",
    "<h2>\n",
    "    Kingsford, C. (2009). <b>Burrows-Wheeler Transform</b>. Carnegie Mellon University. Retrieved from https://www.cs.cmu.edu/~ckingsf/bioinfo-lectures/bwt.pdf\n",
    "    <br>\n",
    "    Langmead, B. (2013). <b>Introduction to the Burrows-Wheeler Transform and FM Index</b>.\n",
    "</h2>\n",
    "\n",
    "<h1>Burrows-Wheeler Transform</h1>"
   ]
  },
  {
   "cell_type": "markdown",
   "metadata": {},
   "source": [
    "---\n",
    "#### Returns cnt information for the letters in the string 's'. cnt[letter] contains the number of symbols in 's' that are lexographically smaller than 'letter'."
   ]
  },
  {
   "cell_type": "code",
   "execution_count": 2,
   "metadata": {},
   "outputs": [
    {
     "name": "stdout",
     "output_type": "stream",
     "text": [
      "Character score:\n",
      " {'a': 0, 'b': 3, 'n': 4} \n",
      "\n"
     ]
    },
    {
     "data": {
      "text/plain": [
       "{'a': 0, 'b': 3, 'n': 4}"
      ]
     },
     "execution_count": 2,
     "metadata": {},
     "output_type": "execute_result"
    }
   ],
   "source": [
    "def make_cnt(s, printTbl, alphabet=None):\n",
    "    if alphabet is None:\n",
    "        alphabet = set(s)\n",
    "    c = Counter(s)\n",
    "    total = 0\n",
    "    result = {}\n",
    "    for letter in sorted(alphabet):\n",
    "        result[letter] = total\n",
    "        total += c[letter]\n",
    "    if printTbl: print(\"Character score:\\n\", result, \"\\n\")\n",
    "    return result\n",
    "\n",
    "\n",
    "make_cnt('banana', printTbl=True)"
   ]
  },
  {
   "cell_type": "markdown",
   "metadata": {},
   "source": [
    "---\n",
    "#### Returns the suffix array of 's'"
   ]
  },
  {
   "cell_type": "code",
   "execution_count": 3,
   "metadata": {},
   "outputs": [
    {
     "name": "stdout",
     "output_type": "stream",
     "text": [
      "Suffixes:\n",
      " ['$', 'a$', 'ana$', 'anana$', 'banana$', 'na$', 'nana$'] \n",
      "\n"
     ]
    },
    {
     "data": {
      "text/plain": [
       "[6, 5, 3, 1, 0, 4, 2]"
      ]
     },
     "execution_count": 3,
     "metadata": {},
     "output_type": "execute_result"
    }
   ],
   "source": [
    "def make_suffixArray(s, printTbl):\n",
    "    suffixes = {s[i:] : i for i in range(len(s))}\n",
    "    lst_sort = sorted(suffixes.keys())\n",
    "    lst = list(suffixes[suffix] for suffix in lst_sort)\n",
    "    if printTbl: print(\"Suffixes:\\n\", lst_sort, \"\\n\")\n",
    "    return lst\n",
    "\n",
    "\n",
    "make_suffixArray('banana' + EOS, printTbl=True)"
   ]
  },
  {
   "cell_type": "markdown",
   "metadata": {},
   "source": [
    "---\n",
    "#### Computes the Burrows-Wheeler transform from a suffix array."
   ]
  },
  {
   "cell_type": "code",
   "execution_count": 4,
   "metadata": {},
   "outputs": [
    {
     "name": "stdout",
     "output_type": "stream",
     "text": [
      "Suffixes:\n",
      " ['$', 'a$', 'ana$', 'anana$', 'banana$', 'na$', 'nana$'] \n",
      "\n",
      "iBWT:\n",
      " banana$ \n",
      "\n",
      "BWT:\n",
      " annb$aa \n",
      "\n"
     ]
    },
    {
     "data": {
      "text/plain": [
       "'annb$aa'"
      ]
     },
     "execution_count": 4,
     "metadata": {},
     "output_type": "execute_result"
    }
   ],
   "source": [
    "def make_bwt(s, printTbl, suffixArray=None):\n",
    "    if suffixArray is None:\n",
    "        suffixArray = make_suffixArray(s, printTbl)\n",
    "    \n",
    "    res = \"\".join(s[idx - 1] for idx in suffixArray)\n",
    "    if printTbl:\n",
    "        print(\"iBWT:\\n\", s, \"\\n\")\n",
    "        print(\"BWT:\\n\", res, \"\\n\")\n",
    "    return res\n",
    "\n",
    "\n",
    "make_bwt('banana' + EOS, printTbl=True)"
   ]
  },
  {
   "cell_type": "markdown",
   "metadata": {},
   "source": [
    "---\n",
    "#### Returns occurrence information for letters in the string 'bwt'."
   ]
  },
  {
   "cell_type": "code",
   "execution_count": 5,
   "metadata": {},
   "outputs": [
    {
     "name": "stdout",
     "output_type": "stream",
     "text": [
      "BWT Occurrence:\n",
      " {'b': [0, 0, 0, 1, 1, 1, 1], 'n': [0, 1, 2, 2, 2, 2, 2], '$': [0, 0, 0, 0, 1, 1, 1], 'a': [1, 1, 1, 1, 1, 2, 3]} \n",
      "\n"
     ]
    },
    {
     "data": {
      "text/plain": [
       "{'b': [0, 0, 0, 1, 1, 1, 1],\n",
       " 'n': [0, 1, 2, 2, 2, 2, 2],\n",
       " '$': [0, 0, 0, 0, 1, 1, 1],\n",
       " 'a': [1, 1, 1, 1, 1, 2, 3]}"
      ]
     },
     "execution_count": 5,
     "metadata": {},
     "output_type": "execute_result"
    }
   ],
   "source": [
    "def make_occ(bwt, printTbl, letters=None):\n",
    "    if letters is None:\n",
    "        letters = set(bwt)\n",
    "    result = {letter : [0] for letter in letters}\n",
    "    result[bwt[0]] = [1]\n",
    "    for letter in bwt[1:]:\n",
    "        for k, v in result.items():\n",
    "            v.append(v[-1] + (k == letter))\n",
    "    if printTbl: print(\"BWT Occurrence:\\n\", result, \"\\n\")\n",
    "    return result\n",
    "\n",
    "\n",
    "make_occ('annb' + EOS + 'aa', printTbl=True)"
   ]
  },
  {
   "cell_type": "markdown",
   "metadata": {},
   "source": [
    "---\n",
    "#### Returns the data structures needed to perform BWT searches"
   ]
  },
  {
   "cell_type": "code",
   "execution_count": 6,
   "metadata": {},
   "outputs": [],
   "source": [
    "def make_all(sequence, printTbl, suffixArray=None, eos=EOS):\n",
    "    \"\"\"\"\"\"\n",
    "    alphabet = set(sequence)\n",
    "    assert eos not in alphabet\n",
    "    cnt = make_cnt(sequence, printTbl, alphabet)\n",
    "    sequence = \"\".join([sequence, eos])\n",
    "    if suffixArray is None:\n",
    "        suffixArray = make_suffixArray(sequence, printTbl)\n",
    "    bwt = make_bwt(sequence, printTbl, suffixArray)\n",
    "    occ = make_occ(bwt, printTbl, alphabet | set([eos]))\n",
    "    for k, v in occ.items():\n",
    "        v.extend([v[-1], 0]) # for when pointers go off the edges\n",
    "    if printTbl: print(\"alphabet:\\n\", alphabet, \"\\n\")\n",
    "    return alphabet, bwt, occ, cnt, suffixArray"
   ]
  },
  {
   "cell_type": "markdown",
   "metadata": {},
   "source": [
    "---\n",
    "#### update (begin, end) given a new letter"
   ]
  },
  {
   "cell_type": "code",
   "execution_count": 7,
   "metadata": {},
   "outputs": [],
   "source": [
    "def update_range(begin, end, letter, occ, cnt, length):\n",
    "    newbegin = cnt[letter] + occ[letter][begin - 1] + 1\n",
    "    newend = cnt[letter] + occ[letter][end]\n",
    "    return newbegin, newend"
   ]
  },
  {
   "cell_type": "markdown",
   "metadata": {},
   "source": [
    "---\n",
    "#### Find all matches of the string 'query' in the string 'sequence', with at most 'mismatch' mismatches."
   ]
  },
  {
   "cell_type": "code",
   "execution_count": 13,
   "metadata": {},
   "outputs": [],
   "source": [
    "def find(query, sequence, printTbl=False, mismatches=0, bwt_data=None, suffixArray=None):\n",
    "    assert len(query) > 0\n",
    "    query_str = query\n",
    "    if bwt_data is None:\n",
    "        bwt_data = make_all(sequence, printTbl, suffixArray=suffixArray)\n",
    "    alphabet, bwt, occ, cnt, suffixArray = bwt_data\n",
    "    assert len(alphabet) > 0\n",
    "    if not set(query) <= alphabet:\n",
    "        return []\n",
    "    length = len(bwt)\n",
    "    results = []\n",
    "    # a stack of partial matches\n",
    "    class Partial(object):\n",
    "        def __init__(self, **kwargs):\n",
    "            self.__dict__.update(kwargs)\n",
    "    partial_matches = [Partial(query=query, begin=0, end=len(bwt) - 1,\n",
    "                        mismatches=mismatches)]\n",
    "    while len(partial_matches) > 0:\n",
    "        p = partial_matches.pop()\n",
    "        query = p.query[:-1]\n",
    "        last = p.query[-1]\n",
    "        letters = [last] if p.mismatches == 0 else alphabet\n",
    "        for letter in letters:\n",
    "            begin, end = update_range(p.begin, p.end, letter, occ, cnt, length)\n",
    "            if begin <= end:\n",
    "                if len(query) == 0:\n",
    "                    results.extend(suffixArray[begin : end + 1])\n",
    "                else:\n",
    "                    mm = p.mismatches\n",
    "                    if letter != last:\n",
    "                        mm = max(0, p.mismatches - 1)\n",
    "                    partial_matches.append(Partial(query=query, begin=begin,\n",
    "                                            end=end, mismatches=mm))\n",
    "    res = sorted(set(results))\n",
    "    print(\"subSequence appears at possitions:\\n\", res)\n",
    "    print('', sequence)\n",
    "    for i in res: print(' '*i,query_str)\n",
    "    print()\n",
    "    return res"
   ]
  },
  {
   "cell_type": "markdown",
   "metadata": {},
   "source": [
    "---"
   ]
  },
  {
   "cell_type": "code",
   "execution_count": 14,
   "metadata": {},
   "outputs": [
    {
     "name": "stdout",
     "output_type": "stream",
     "text": [
      "Character score:\n",
      " {'a': 0, 'b': 3, 'n': 4} \n",
      "\n",
      "Suffixes:\n",
      " ['$', 'a$', 'ana$', 'anana$', 'banana$', 'na$', 'nana$'] \n",
      "\n",
      "iBWT:\n",
      " banana$ \n",
      "\n",
      "BWT:\n",
      " annb$aa \n",
      "\n",
      "BWT Occurrence:\n",
      " {'b': [0, 0, 0, 1, 1, 1, 1], 'n': [0, 1, 2, 2, 2, 2, 2], '$': [0, 0, 0, 0, 1, 1, 1], 'a': [1, 1, 1, 1, 1, 2, 3]} \n",
      "\n",
      "alphabet:\n",
      " {'b', 'n', 'a'} \n",
      "\n",
      "subSequence appears at possitions:\n",
      " [1, 3]\n",
      " banana\n",
      "  ana\n",
      "    ana\n",
      "\n"
     ]
    },
    {
     "data": {
      "text/plain": [
       "[1, 3]"
      ]
     },
     "execution_count": 14,
     "metadata": {},
     "output_type": "execute_result"
    }
   ],
   "source": [
    "find('ana', 'banana', printTbl=True)"
   ]
  },
  {
   "cell_type": "code",
   "execution_count": 15,
   "metadata": {},
   "outputs": [
    {
     "name": "stdout",
     "output_type": "stream",
     "text": [
      "Character score:\n",
      " {'a': 0, 'b': 3, 'n': 4} \n",
      "\n",
      "Suffixes:\n",
      " ['$', 'a$', 'ana$', 'anana$', 'banana$', 'na$', 'nana$'] \n",
      "\n",
      "iBWT:\n",
      " banana$ \n",
      "\n",
      "BWT:\n",
      " annb$aa \n",
      "\n",
      "BWT Occurrence:\n",
      " {'b': [0, 0, 0, 1, 1, 1, 1], 'n': [0, 1, 2, 2, 2, 2, 2], '$': [0, 0, 0, 0, 1, 1, 1], 'a': [1, 1, 1, 1, 1, 2, 3]} \n",
      "\n",
      "alphabet:\n",
      " {'b', 'n', 'a'} \n",
      "\n",
      "subSequence appears at possitions:\n",
      " [0, 2]\n",
      " banana\n",
      " nan\n",
      "   nan\n",
      "\n"
     ]
    },
    {
     "data": {
      "text/plain": [
       "[0, 2]"
      ]
     },
     "execution_count": 15,
     "metadata": {},
     "output_type": "execute_result"
    }
   ],
   "source": [
    "find('nan', 'banana', printTbl=True, mismatches=1)"
   ]
  },
  {
   "cell_type": "code",
   "execution_count": 17,
   "metadata": {},
   "outputs": [
    {
     "name": "stdout",
     "output_type": "stream",
     "text": [
      "subSequence appears at possitions:\n",
      " [7]\n",
      " ATTAAAGGTTTATACCTTCCCAGGTAACAAACCAACCAACTTTCGATCTCTTGTAGATCT\n",
      "        GTTTATAC\n",
      "\n"
     ]
    },
    {
     "data": {
      "text/plain": [
       "[7]"
      ]
     },
     "execution_count": 17,
     "metadata": {},
     "output_type": "execute_result"
    }
   ],
   "source": [
    "find('GTTTATAC', 'ATTAAAGGTTTATACCTTCCCAGGTAACAAACCAACCAACTTTCGATCTCTTGTAGATCT', printTbl=False, mismatches=1)"
   ]
  },
  {
   "cell_type": "code",
   "execution_count": null,
   "metadata": {},
   "outputs": [],
   "source": []
  }
 ],
 "metadata": {
  "kernelspec": {
   "display_name": "Python 3",
   "language": "python",
   "name": "python3"
  },
  "language_info": {
   "codemirror_mode": {
    "name": "ipython",
    "version": 3
   },
   "file_extension": ".py",
   "mimetype": "text/x-python",
   "name": "python",
   "nbconvert_exporter": "python",
   "pygments_lexer": "ipython3",
   "version": "3.7.3"
  }
 },
 "nbformat": 4,
 "nbformat_minor": 4
}
