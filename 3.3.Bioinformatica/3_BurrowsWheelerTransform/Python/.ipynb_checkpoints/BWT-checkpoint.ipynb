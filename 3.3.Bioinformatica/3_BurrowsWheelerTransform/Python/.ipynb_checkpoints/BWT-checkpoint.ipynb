{
 "cells": [
  {
   "cell_type": "code",
   "execution_count": 1,
   "metadata": {},
   "outputs": [],
   "source": [
    "# PYTHON LIBRARIES\n",
    "from collections import Counter\n",
    "\n",
    "# CONSTANTS\n",
    "EOS = \"$\""
   ]
  },
  {
   "cell_type": "markdown",
   "metadata": {},
   "source": [
    "---\n",
    "#### Returns count information for the letters in the string 's'. count[letter] contains the number of symbols in 's' that are lexographically smaller than 'letter'."
   ]
  },
  {
   "cell_type": "code",
   "execution_count": 2,
   "metadata": {},
   "outputs": [
    {
     "name": "stdout",
     "output_type": "stream",
     "text": [
      "Character score:\n",
      " {'a': 0, 'b': 3, 'n': 4} \n",
      "\n"
     ]
    },
    {
     "data": {
      "text/plain": [
       "{'a': 0, 'b': 3, 'n': 4}"
      ]
     },
     "execution_count": 2,
     "metadata": {},
     "output_type": "execute_result"
    }
   ],
   "source": [
    "def make_count(s, printTbl, alphabet=None):\n",
    "    if alphabet is None:\n",
    "        alphabet = set(s)\n",
    "    c = Counter(s)\n",
    "    total = 0\n",
    "    result = {}\n",
    "    for letter in sorted(alphabet):\n",
    "        result[letter] = total\n",
    "        total += c[letter]\n",
    "    if printTbl: print(\"Character score:\\n\", result, \"\\n\")\n",
    "    return result\n",
    "\n",
    "# Examples:\n",
    "# ---------\n",
    "make_count('banana', printTbl=True)"
   ]
  },
  {
   "cell_type": "markdown",
   "metadata": {},
   "source": [
    "---\n",
    "#### Returns the suffix array of 's'"
   ]
  },
  {
   "cell_type": "code",
   "execution_count": 3,
   "metadata": {},
   "outputs": [
    {
     "name": "stdout",
     "output_type": "stream",
     "text": [
      "Suffixes:\n",
      " ['$', 'a$', 'ana$', 'anana$', 'banana$', 'na$', 'nana$'] \n",
      "\n"
     ]
    },
    {
     "data": {
      "text/plain": [
       "[6, 5, 3, 1, 0, 4, 2]"
      ]
     },
     "execution_count": 3,
     "metadata": {},
     "output_type": "execute_result"
    }
   ],
   "source": [
    "def make_sa(s, printTbl):\n",
    "    suffixes = {s[i:] : i for i in range(len(s))}\n",
    "    lst_sort = sorted(suffixes.keys())\n",
    "    lst = list(suffixes[suffix] for suffix in lst_sort)\n",
    "    if printTbl: print(\"Suffixes:\\n\", lst_sort, \"\\n\")\n",
    "    return lst\n",
    "\n",
    "# Examples:\n",
    "# ---------\n",
    "make_sa('banana' + EOS, printTbl=True)"
   ]
  },
  {
   "cell_type": "markdown",
   "metadata": {},
   "source": [
    "---\n",
    "#### Computes the Burrows-Wheeler transform from a suffix array."
   ]
  },
  {
   "cell_type": "code",
   "execution_count": 4,
   "metadata": {},
   "outputs": [
    {
     "name": "stdout",
     "output_type": "stream",
     "text": [
      "Suffixes:\n",
      " ['$', 'a$', 'ana$', 'anana$', 'banana$', 'na$', 'nana$'] \n",
      "\n",
      "BWT:\n",
      " annb$aa \n",
      "\n"
     ]
    },
    {
     "data": {
      "text/plain": [
       "'annb$aa'"
      ]
     },
     "execution_count": 4,
     "metadata": {},
     "output_type": "execute_result"
    }
   ],
   "source": [
    "def make_bwt(s, printTbl, sa=None):\n",
    "    if sa is None:\n",
    "        sa = make_sa(s, printTbl)\n",
    "    \n",
    "    res = \"\".join(s[idx - 1] for idx in sa)\n",
    "    if printTbl: print(\"BWT:\\n\", res, \"\\n\")\n",
    "    return res\n",
    "\n",
    "# Examples:\n",
    "# ---------\n",
    "make_bwt('banana' + EOS, printTbl=True)"
   ]
  },
  {
   "cell_type": "markdown",
   "metadata": {},
   "source": [
    "---\n",
    "#### Returns occurrence information for letters in the string 'bwt'."
   ]
  },
  {
   "cell_type": "code",
   "execution_count": 5,
   "metadata": {},
   "outputs": [
    {
     "name": "stdout",
     "output_type": "stream",
     "text": [
      "BWT Occurrence:\n",
      " {'$': [0, 0, 0, 0, 1, 1, 1], 'n': [0, 1, 2, 2, 2, 2, 2], 'b': [0, 0, 0, 1, 1, 1, 1], 'a': [1, 1, 1, 1, 1, 2, 3]} \n",
      "\n"
     ]
    },
    {
     "data": {
      "text/plain": [
       "{'$': [0, 0, 0, 0, 1, 1, 1],\n",
       " 'n': [0, 1, 2, 2, 2, 2, 2],\n",
       " 'b': [0, 0, 0, 1, 1, 1, 1],\n",
       " 'a': [1, 1, 1, 1, 1, 2, 3]}"
      ]
     },
     "execution_count": 5,
     "metadata": {},
     "output_type": "execute_result"
    }
   ],
   "source": [
    "def make_occ(bwt, printTbl, letters=None):\n",
    "    if letters is None:\n",
    "        letters = set(bwt)\n",
    "    result = {letter : [0] for letter in letters}\n",
    "    result[bwt[0]] = [1]\n",
    "    for letter in bwt[1:]:\n",
    "        for k, v in result.items():\n",
    "            v.append(v[-1] + (k == letter))\n",
    "    if printTbl: print(\"BWT Occurrence:\\n\", result, \"\\n\")\n",
    "    return result\n",
    "\n",
    "# Examples:\n",
    "# ---------\n",
    "make_occ('annb' + EOS + 'aa', printTbl=True)"
   ]
  },
  {
   "cell_type": "markdown",
   "metadata": {},
   "source": [
    "---\n",
    "#### Returns the data structures needed to perform BWT searches"
   ]
  },
  {
   "cell_type": "code",
   "execution_count": 6,
   "metadata": {},
   "outputs": [],
   "source": [
    "def make_all(reference, printTbl, sa=None, eos=EOS):\n",
    "    \"\"\"\"\"\"\n",
    "    alphabet = set(reference)\n",
    "    assert eos not in alphabet\n",
    "    count = make_count(reference, printTbl, alphabet)\n",
    "    reference = \"\".join([reference, eos])\n",
    "    if sa is None:\n",
    "        sa = make_sa(reference, printTbl)\n",
    "    bwt = make_bwt(reference, printTbl, sa)\n",
    "    occ = make_occ(bwt, printTbl, alphabet | set([eos]))\n",
    "    for k, v in occ.items():\n",
    "        v.extend([v[-1], 0]) # for when pointers go off the edges\n",
    "    if printTbl: print(\"alphabet:\\n\", alphabet, \"\\n\")\n",
    "    return alphabet, bwt, occ, count, sa"
   ]
  },
  {
   "cell_type": "markdown",
   "metadata": {},
   "source": [
    "---\n",
    "#### update (begin, end) given a new letter"
   ]
  },
  {
   "cell_type": "code",
   "execution_count": 7,
   "metadata": {},
   "outputs": [],
   "source": [
    "def update_range(begin, end, letter, occ, count, length):\n",
    "    newbegin = count[letter] + occ[letter][begin - 1] + 1\n",
    "    newend = count[letter] + occ[letter][end]\n",
    "    return newbegin, newend"
   ]
  },
  {
   "cell_type": "markdown",
   "metadata": {},
   "source": [
    "---\n",
    "#### Find all matches of the string 'query' in the string 'reference', with at most 'mismatch' mismatches."
   ]
  },
  {
   "cell_type": "code",
   "execution_count": 8,
   "metadata": {},
   "outputs": [],
   "source": [
    "def find(query, reference, printTbl=False, mismatches=0, bwt_data=None, sa=None):\n",
    "    assert len(query) > 0\n",
    "    if bwt_data is None:\n",
    "        bwt_data = make_all(reference, printTbl, sa=sa)\n",
    "    alphabet, bwt, occ, count, sa = bwt_data\n",
    "    assert len(alphabet) > 0\n",
    "    if not set(query) <= alphabet:\n",
    "        return []\n",
    "    length = len(bwt)\n",
    "    results = []\n",
    "    # a stack of partial matches\n",
    "    class Partial(object):\n",
    "        def __init__(self, **kwargs):\n",
    "            self.__dict__.update(kwargs)\n",
    "    partials = [Partial(query=query, begin=0, end=len(bwt) - 1,\n",
    "                        mismatches=mismatches)]\n",
    "    while len(partials) > 0:\n",
    "        p = partials.pop()\n",
    "        query = p.query[:-1]\n",
    "        last = p.query[-1]\n",
    "        letters = [last] if p.mismatches == 0 else alphabet\n",
    "        for letter in letters:\n",
    "            begin, end = update_range(p.begin, p.end, letter, occ, count, length)\n",
    "            if begin <= end:\n",
    "                if len(query) == 0:\n",
    "                    results.extend(sa[begin : end + 1])\n",
    "                else:\n",
    "                    mm = p.mismatches\n",
    "                    if letter != last:\n",
    "                        mm = max(0, p.mismatches - 1)\n",
    "                    partials.append(Partial(query=query, begin=begin,\n",
    "                                            end=end, mismatches=mm))\n",
    "    res = sorted(set(results))\n",
    "    if printTbl: print(\"subSequence appears at possitions:\\n\", res, \"\\n\")\n",
    "    return res\n",
    "\n",
    "# Examples:\n",
    "# ---------"
   ]
  },
  {
   "cell_type": "markdown",
   "metadata": {},
   "source": [
    "---"
   ]
  },
  {
   "cell_type": "code",
   "execution_count": 14,
   "metadata": {},
   "outputs": [
    {
     "name": "stdout",
     "output_type": "stream",
     "text": [
      "Character score:\n",
      " {'a': 0, 'b': 3, 'n': 4} \n",
      "\n",
      "Suffixes:\n",
      " ['$', 'a$', 'ana$', 'anana$', 'banana$', 'na$', 'nana$'] \n",
      "\n",
      "BWT:\n",
      " annb$aa \n",
      "\n",
      "BWT Occurrence:\n",
      " {'$': [0, 0, 0, 0, 1, 1, 1], 'n': [0, 1, 2, 2, 2, 2, 2], 'b': [0, 0, 0, 1, 1, 1, 1], 'a': [1, 1, 1, 1, 1, 2, 3]} \n",
      "\n",
      "alphabet:\n",
      " {'n', 'b', 'a'} \n",
      "\n",
      "subSequence appears at possitions:\n",
      " [1, 3] \n",
      "\n"
     ]
    },
    {
     "data": {
      "text/plain": [
       "[1, 3]"
      ]
     },
     "execution_count": 14,
     "metadata": {},
     "output_type": "execute_result"
    }
   ],
   "source": [
    "find('ana', 'banana', printTbl=True)"
   ]
  },
  {
   "cell_type": "code",
   "execution_count": 17,
   "metadata": {},
   "outputs": [
    {
     "name": "stdout",
     "output_type": "stream",
     "text": [
      "Character score:\n",
      " {'a': 0, 'b': 3, 'n': 4} \n",
      "\n",
      "Suffixes:\n",
      " ['$', 'a$', 'ana$', 'anana$', 'banana$', 'na$', 'nana$'] \n",
      "\n",
      "BWT:\n",
      " annb$aa \n",
      "\n",
      "BWT Occurrence:\n",
      " {'$': [0, 0, 0, 0, 1, 1, 1], 'n': [0, 1, 2, 2, 2, 2, 2], 'b': [0, 0, 0, 1, 1, 1, 1], 'a': [1, 1, 1, 1, 1, 2, 3]} \n",
      "\n",
      "alphabet:\n",
      " {'n', 'b', 'a'} \n",
      "\n",
      "subSequence appears at possitions:\n",
      " [0, 2] \n",
      "\n"
     ]
    },
    {
     "data": {
      "text/plain": [
       "[0, 2]"
      ]
     },
     "execution_count": 17,
     "metadata": {},
     "output_type": "execute_result"
    }
   ],
   "source": [
    "find('nan', 'banana', printTbl=True, mismatches=1)"
   ]
  }
 ],
 "metadata": {
  "kernelspec": {
   "display_name": "Python 3",
   "language": "python",
   "name": "python3"
  },
  "language_info": {
   "codemirror_mode": {
    "name": "ipython",
    "version": 3
   },
   "file_extension": ".py",
   "mimetype": "text/x-python",
   "name": "python",
   "nbconvert_exporter": "python",
   "pygments_lexer": "ipython3",
   "version": "3.7.3"
  }
 },
 "nbformat": 4,
 "nbformat_minor": 4
}
