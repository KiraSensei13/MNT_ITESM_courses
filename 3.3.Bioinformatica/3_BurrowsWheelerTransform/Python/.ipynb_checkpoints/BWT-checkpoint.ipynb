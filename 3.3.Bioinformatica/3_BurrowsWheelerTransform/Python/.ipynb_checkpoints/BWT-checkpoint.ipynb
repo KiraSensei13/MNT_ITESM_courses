{
 "cells": [
  {
   "cell_type": "code",
   "execution_count": 1,
   "metadata": {},
   "outputs": [],
   "source": [
    "# LIBRARIES\n",
    "from collections import Counter as cnter;\n",
    "\n",
    "# CONSTANTS\n",
    "EOS = \"$\";"
   ]
  },
  {
   "cell_type": "markdown",
   "metadata": {},
   "source": [
    "<h1>\n",
    "    Bioinformatics (Ene 20 Gpo 1):\n",
    "</h1>\n",
    "\n",
    "<table width=\"75%\" align=\"center\">\n",
    "    <tr>\n",
    "        <th align=\"left\" colspan=\"2\">\n",
    "            <h2><b>Team<b>:</b></h2>\n",
    "        </th>\n",
    "    </tr>\n",
    "    <tr>\n",
    "        <td><h3>Antonio Osamu Katagiri Tanaka</h3></td>\n",
    "        <td><h4>A01212611@itesm.mx</h4></td>\n",
    "    </tr>\n",
    "</table>\n",
    "\n",
    "<h2>\n",
    "    Kingsford, C. (2009). <b>Burrows-Wheeler Transform</b>. Carnegie Mellon University. Retrieved from https://www.cs.cmu.edu/~ckingsf/bioinfo-lectures/bwt.pdf\n",
    "    <br>\n",
    "    Langmead, B. (2013). <b>Introduction to the Burrows-Wheeler Transform and FM Index</b>.\n",
    "</h2>\n",
    "\n",
    "<h1>Burrows-Wheeler Transform</h1>"
   ]
  },
  {
   "cell_type": "markdown",
   "metadata": {},
   "source": [
    "---\n",
    "#### Returns cnt information for the letters in the string 's'. cnt[letter] contains the number of symbols in 's' that are lexographically smaller than 'letter'."
   ]
  },
  {
   "cell_type": "code",
   "execution_count": 2,
   "metadata": {},
   "outputs": [
    {
     "name": "stdout",
     "output_type": "stream",
     "text": [
      "Character score:\n",
      " {'a': 0, 'b': 3, 'n': 4} \n",
      "\n"
     ]
    }
   ],
   "source": [
    "def make_cnt(s, printTbl, alphabet=None):\n",
    "    # Create alphabet (aka. used characters) if none is provided\n",
    "    if alphabet is None:\n",
    "        alphabet = set(s);\n",
    "        \n",
    "    # Count each character repetetions\n",
    "    c = cnter(s);\n",
    "    \n",
    "    # Sort the alphabet and\n",
    "    # Get the position where the next character starts\n",
    "    total = 0;\n",
    "    result = {};\n",
    "    for letter in sorted(alphabet):\n",
    "        result[letter] = total;\n",
    "        total += c[letter];\n",
    "        \n",
    "    # Print the result\n",
    "    if printTbl: print(\"Character score:\\n\", result, \"\\n\");\n",
    "    return result;\n",
    "\n",
    "\n",
    "make_cnt('banana', printTbl=True);"
   ]
  },
  {
   "cell_type": "markdown",
   "metadata": {},
   "source": [
    "---\n",
    "#### Returns the suffix array of 's'"
   ]
  },
  {
   "cell_type": "code",
   "execution_count": 3,
   "metadata": {},
   "outputs": [
    {
     "name": "stdout",
     "output_type": "stream",
     "text": [
      "Suffixes:\n",
      " ['$', 'a$', 'ana$', 'anana$', 'banana$', 'na$', 'nana$'] \n",
      "\n"
     ]
    }
   ],
   "source": [
    "def make_suffixArray(s, printTbl):\n",
    "    # Iterate s and generate all suffixes\n",
    "    suffixes = {};\n",
    "    for i in range(len(s)):\n",
    "        suffixes.update({s[i:] : i});\n",
    "    \n",
    "    # Sort suffixes by name\n",
    "    lst_sort = sorted(suffixes.keys());\n",
    "\n",
    "    # Iterate suffix and get their index\n",
    "    lst = list(suffixes[suffix] for suffix in lst_sort);\n",
    "    \n",
    "    # Print the list of sorted suffixes\n",
    "    if printTbl: print(\"Suffixes:\\n\", lst_sort, \"\\n\");\n",
    "        \n",
    "    # Return the list of indexes\n",
    "    return lst;\n",
    "\n",
    "\n",
    "make_suffixArray('banana' + EOS, printTbl=True);"
   ]
  },
  {
   "cell_type": "markdown",
   "metadata": {},
   "source": [
    "---\n",
    "#### Computes the Burrows-Wheeler transform from a suffix array."
   ]
  },
  {
   "cell_type": "code",
   "execution_count": 4,
   "metadata": {},
   "outputs": [
    {
     "name": "stdout",
     "output_type": "stream",
     "text": [
      "Suffixes:\n",
      " ['$', 'a$', 'ana$', 'anana$', 'banana$', 'na$', 'nana$'] \n",
      "\n",
      "iBWT:\n",
      " banana$ \n",
      "\n",
      "BWT:\n",
      " annb$aa \n",
      "\n"
     ]
    }
   ],
   "source": [
    "def make_bwt(s, printTbl, suffixArray=None):\n",
    "    # Create an suffix array if none is provided\n",
    "    if suffixArray is None:\n",
    "        suffixArray = make_suffixArray(s, printTbl);\n",
    "        \n",
    "    # Compute the Burrows-Wheeler Transform\n",
    "    bwt = '';\n",
    "    for idx in suffixArray:\n",
    "        bwt = bwt + s[idx - 1]; # -1 as the last character is EOS\n",
    "    \n",
    "    # Print the the Burrows-Wheeler Transform\n",
    "    if printTbl:\n",
    "        print(\"iBWT:\\n\", s, \"\\n\");\n",
    "        print(\"BWT:\\n\", bwt, \"\\n\");\n",
    "    return bwt;\n",
    "\n",
    "\n",
    "make_bwt('banana' + EOS, printTbl=True);"
   ]
  },
  {
   "cell_type": "markdown",
   "metadata": {},
   "source": [
    "---\n",
    "#### Returns occurrence information for letters in the string 'bwt'."
   ]
  },
  {
   "cell_type": "code",
   "execution_count": 5,
   "metadata": {},
   "outputs": [
    {
     "name": "stdout",
     "output_type": "stream",
     "text": [
      "BWT Occurrence:\n",
      " {'n': [0, 1, 2, 2, 2, 2, 2], 'b': [0, 0, 0, 1, 1, 1, 1], 'a': [1, 1, 1, 1, 1, 2, 3], '$': [0, 0, 0, 0, 1, 1, 1]} \n",
      "\n"
     ]
    }
   ],
   "source": [
    "def make_occ(bwt, printTbl, letters=None):\n",
    "    # Create a list with the used characters\n",
    "    if letters is None:\n",
    "        letters = set(bwt);\n",
    "    \n",
    "    # Create a dict including each character with counts eq to zero\n",
    "    result = {};\n",
    "    for letter in letters:\n",
    "        result.update({letter : [0]});\n",
    "    \n",
    "    # Initialize the counter with 1 for the 1st character\n",
    "    result[bwt[0]] = [1];\n",
    "    # for each charter in the BWT,\n",
    "    for letter in bwt[1:]:\n",
    "        # Add a column to the right, counting the appearances of each character\n",
    "        for k, v in result.items():\n",
    "            v.append(v[-1] + (k == letter));\n",
    "            \n",
    "    # Print the occurrences of each character\n",
    "    if printTbl: print(\"BWT Occurrence:\\n\", result, \"\\n\");\n",
    "    return result;\n",
    "\n",
    "\n",
    "make_occ('annb' + EOS + 'aa', printTbl=True);"
   ]
  },
  {
   "cell_type": "markdown",
   "metadata": {},
   "source": [
    "---\n",
    "#### Returns the data structures needed to perform BWT searches"
   ]
  },
  {
   "cell_type": "code",
   "execution_count": 6,
   "metadata": {},
   "outputs": [],
   "source": [
    "def make_all(sequence, printTbl, suffixArray=None, eos=EOS):\n",
    "    # Create a list with the used characters\n",
    "    alphabet = set(sequence);\n",
    "    \n",
    "    # Ensure EOS is not a character within the sequence\n",
    "    assert eos not in alphabet;\n",
    "    \n",
    "    # Get the count of the characters in the sequence\n",
    "    cnt = make_cnt(sequence, printTbl, alphabet);\n",
    "    \n",
    "    # Concatenate EOS to the sequence\n",
    "    sequence = sequence + eos;\n",
    "    \n",
    "    # Create an suffix array if none is provided\n",
    "    if suffixArray is None:\n",
    "        suffixArray = make_suffixArray(sequence, printTbl);\n",
    "        \n",
    "    # Compute the Burrows-Wheeler Transform\n",
    "    bwt = make_bwt(sequence, printTbl, suffixArray);\n",
    "    \n",
    "    # Get the occurrences of each character\n",
    "    letters = alphabet | set([eos])\n",
    "    occ = make_occ(bwt, printTbl, letters);\n",
    "    \n",
    "    # Make sure the indexes never exceed the sequence limits\n",
    "    for k, v in occ.items():\n",
    "        v.extend([v[-1], 0]);\n",
    "    \n",
    "    # Print/Return all tables\n",
    "    if printTbl: print(\"alphabet:\\n\", alphabet, \"\\n\");\n",
    "    return alphabet, bwt, occ, cnt, suffixArray;"
   ]
  },
  {
   "cell_type": "markdown",
   "metadata": {},
   "source": [
    "---\n",
    "#### update (begin, end) given a new letter"
   ]
  },
  {
   "cell_type": "code",
   "execution_count": 7,
   "metadata": {},
   "outputs": [],
   "source": [
    "def update_range(begin, end, letter, occ, cnt, length):\n",
    "    # Set the new left pointer\n",
    "    newbegin = cnt[letter] + occ[letter][begin - 1] + 1;\n",
    "    \n",
    "    # Set the new left pointer\n",
    "    newend = cnt[letter] + occ[letter][end];\n",
    "    \n",
    "    # Return the range limits\n",
    "    return newbegin, newend;"
   ]
  },
  {
   "cell_type": "markdown",
   "metadata": {},
   "source": [
    "---\n",
    "#### Find all matches of the string 'query' in the string 'sequence', with at most 'mismatch' mismatches."
   ]
  },
  {
   "cell_type": "code",
   "execution_count": 8,
   "metadata": {},
   "outputs": [],
   "source": [
    "def find(query, sequence, printTbl=False, mismatches=0, bwt_data=None, suffixArray=None):\n",
    "    # Ensure the query to search is long enough\n",
    "    assert len(query) > 0;\n",
    "    \n",
    "    # Save the query string for later use\n",
    "    query_str = query;\n",
    "    \n",
    "    # Create all the required tables\n",
    "    if bwt_data is None:\n",
    "        bwt_data = make_all(sequence, printTbl, suffixArray=suffixArray);\n",
    "    alphabet, bwt, occ, cnt, suffixArray = bwt_data;\n",
    "    \n",
    "    # Ensure the alphabet contains at least one character\n",
    "    assert len(alphabet) > 0;\n",
    "    \n",
    "    # If the query contains more characters than the alphabet,\n",
    "    # then there are not matches\n",
    "    if not set(query) <= alphabet:\n",
    "        return [];\n",
    "    \n",
    "    # Define a 'stack' data structure\n",
    "    class Partial(object):\n",
    "        def __init__(self, **kwargs):\n",
    "            self.__dict__.update(kwargs);\n",
    "    \n",
    "    # Create a 'stack' of partial matches\n",
    "    length = len(bwt);\n",
    "    results = [];\n",
    "    partial_matches = [Partial(\n",
    "        query      = query,\n",
    "        begin      = 0,\n",
    "        end        = len(bwt) - 1,\n",
    "        mismatches = mismatches\n",
    "    )];\n",
    "    \n",
    "    # Iterate the query (character by character) to find matches\n",
    "    while len(partial_matches) > 0:\n",
    "        # Read and remove an element of partial_matches\n",
    "        p = partial_matches.pop();\n",
    "        \n",
    "        # Search for the query (letter by letter)\n",
    "        query = p.query[:-1];        \n",
    "        last = p.query[-1];\n",
    "        \n",
    "        # If mismatches are allowed, then use the whole alphabet\n",
    "        # If no mismatches are allowed, only use the current character/letter\n",
    "        if p.mismatches == 0: letters = [last];\n",
    "        else:                 letters = alphabet;\n",
    "        \n",
    "        # Check if the current letter is a match \n",
    "        for letter in letters:\n",
    "            # Get the range where the current character appears\n",
    "            begin, end = update_range(p.begin, p.end, letter, occ, cnt, length);\n",
    "            \n",
    "            # Iterate the calculated range/window\n",
    "            if begin <= end:\n",
    "                # Stop comparing if the current letter is last character of the query\n",
    "                # Store the match location in results\n",
    "                if len(query) == 0:\n",
    "                    results.extend(suffixArray[begin : end + 1]);\n",
    "                else:\n",
    "                    # Track the number of mismatches\n",
    "                    mismatchesCnt = p.mismatches;\n",
    "                    \n",
    "                    # Decrement the number of allowed mismatches if one is founded\n",
    "                    if letter != last:\n",
    "                        mismatchesCnt = max(0, p.mismatches - 1);\n",
    "                    \n",
    "                    # Update the 'stack'\n",
    "                    partial_matches.append(Partial(\n",
    "                        query      = query,\n",
    "                        begin      = begin,\n",
    "                        end        = end,\n",
    "                        mismatches = mismatchesCnt\n",
    "                    ));\n",
    "                    \n",
    "    # Sort the match locations\n",
    "    res = sorted(set(results));\n",
    "    \n",
    "    # Print and Return the result\n",
    "    print(\"subSequence appears at possitions:\\n\", res);\n",
    "    print('', sequence);\n",
    "    for i in res: print(' '*i,query_str);\n",
    "    print();\n",
    "    return res;"
   ]
  },
  {
   "cell_type": "markdown",
   "metadata": {},
   "source": [
    "---\n",
    "#### Let's test the BWT algorithm to find \"ana\" in \"banana\""
   ]
  },
  {
   "cell_type": "code",
   "execution_count": 9,
   "metadata": {},
   "outputs": [
    {
     "name": "stdout",
     "output_type": "stream",
     "text": [
      "Character score:\n",
      " {'a': 0, 'b': 3, 'n': 4} \n",
      "\n",
      "Suffixes:\n",
      " ['$', 'a$', 'ana$', 'anana$', 'banana$', 'na$', 'nana$'] \n",
      "\n",
      "iBWT:\n",
      " banana$ \n",
      "\n",
      "BWT:\n",
      " annb$aa \n",
      "\n",
      "BWT Occurrence:\n",
      " {'n': [0, 1, 2, 2, 2, 2, 2], 'b': [0, 0, 0, 1, 1, 1, 1], 'a': [1, 1, 1, 1, 1, 2, 3], '$': [0, 0, 0, 0, 1, 1, 1]} \n",
      "\n",
      "alphabet:\n",
      " {'n', 'b', 'a'} \n",
      "\n",
      "subSequence appears at possitions:\n",
      " [1, 3]\n",
      " banana\n",
      "  ana\n",
      "    ana\n",
      "\n"
     ]
    }
   ],
   "source": [
    "find('ana', 'banana', printTbl=True);"
   ]
  },
  {
   "cell_type": "markdown",
   "metadata": {},
   "source": [
    "---\n",
    "#### Now an example with the SARS nucleotide (NC_004718.3 SARS coronavirus, partial genome)"
   ]
  },
  {
   "cell_type": "code",
   "execution_count": 10,
   "metadata": {},
   "outputs": [
    {
     "name": "stdout",
     "output_type": "stream",
     "text": [
      "subSequence appears at possitions:\n",
      " [41, 66]\n",
      " ATATTAGGTTTTTACCTACCCAGGAAAAGCCAACCAACCTCGATCTCTTGTAGATCTGTTCTCTAAGATCTCTTACGAACTTTAAAATCTGTGTAGCTGTCGCTCGGCTGCATGCACCTACGCAGTATAAACA\n",
      "                                          GATCTCTTA\n",
      "                                                                   GATCTCTTA\n",
      "\n"
     ]
    }
   ],
   "source": [
    "find(\n",
    "    'GATCTCTTA',\n",
    "    'ATATTAGGTTTTTACCTACCCAGGAAAAGCCAACCAACCTCGATCTCTTGTAGATCTGTTCTCTAAGATCTCTTACGAACTTTAAAATCTGTGTAGCTGTCGCTCGGCTGCATGCACCTACGCAGTATAAACA',\n",
    "    mismatches=1\n",
    ");"
   ]
  }
 ],
 "metadata": {
  "kernelspec": {
   "display_name": "Python 3",
   "language": "python",
   "name": "python3"
  },
  "language_info": {
   "codemirror_mode": {
    "name": "ipython",
    "version": 3
   },
   "file_extension": ".py",
   "mimetype": "text/x-python",
   "name": "python",
   "nbconvert_exporter": "python",
   "pygments_lexer": "ipython3",
   "version": "3.7.3"
  }
 },
 "nbformat": 4,
 "nbformat_minor": 4
}
