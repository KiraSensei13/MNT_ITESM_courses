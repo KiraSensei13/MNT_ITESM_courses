{
 "cells": [
  {
   "cell_type": "code",
   "execution_count": 2,
   "metadata": {},
   "outputs": [],
   "source": [
    "from IPython.display import display, Image"
   ]
  },
  {
   "cell_type": "markdown",
   "metadata": {},
   "source": [
    "<h1>\n",
    "    Thermodynamics of Materials AD19: <br>\n",
    "    <b>Thermodynamics & Statistical Mechanics GRE (Graduate Record Examinations) Exercises</b>\n",
    "</h1>\n",
    "\n",
    "<table width=\"75%\" align=\"center\">\n",
    "    <tr>\n",
    "        <th align=\"left\" colspan=\"2\">\n",
    "            <h2>compilation by:</b></h2>\n",
    "        </th>\n",
    "    </tr>\n",
    "    <tr>\n",
    "        <td><h3>Antonio Osamu Katagiri Tanaka</h3></td>\n",
    "        <td><h4><a href=\"https://www.katagiri-mx.com/\">https://www.katagiri-mx.com/</a></h4></td>\n",
    "    </tr>\n",
    "</table>\n",
    "\n",
    "<h4>\n",
    "GRE Chemistry Subject Test (For Test Takers). (n.d.). Retrieved December 4, 2019, from <a href=\"https://www.ets.org/gre/subject/about/content/chemistry\">https://www.ets.org/gre/subject/about/content/chemistry</a> <br>\n",
    "GRE Physics Subject Test (For Test Takers). (n.d.). Retrieved December 4, 2019, from <a href=\"https://www.ets.org/gre/subject/about/content/physics\">https://www.ets.org/gre/subject/about/content/physics</a>\n",
    "</h4>"
   ]
  },
  {
   "cell_type": "markdown",
   "metadata": {},
   "source": [
    "---\n",
    "## GR0177"
   ]
  },
  {
   "cell_type": "markdown",
   "metadata": {},
   "source": [
    "---\n",
    "### 5. A three-dimensional harmonic oscillator is in thermal equilibrium with a temperature reservoir at temperature T. The average total energy of the oscillator is\n",
    "\n",
    "(A) $$ \\frac{1}{2} k T $$\n",
    "\n",
    "(B) $$ k T $$\n",
    "\n",
    "(C) $$ \\frac{3}{2} k T $$\n",
    "\n",
    "<div class=\"alert alert-block alert-info\">\n",
    "(D) $$ 3 k T $$\n",
    "</div>\n",
    "\n",
    "(E) $$ 6 k T $$"
   ]
  },
  {
   "cell_type": "markdown",
   "metadata": {},
   "source": [
    "* Each degree of freedom contributes roughly $k T$ to the average total energy.\n",
    "\n",
    "* There are 3 translational degrees of freedom, 3 vibrational degrees of freedom and 3 rotational degrees of freedom.\n",
    "\n",
    "* The total energy is $9 k T$. Divide that by the number of dimensions to get $3 k T$."
   ]
  },
  {
   "cell_type": "markdown",
   "metadata": {},
   "source": [
    "---\n",
    "### 6.  An ideal monatomic gas expands quasi-statically to twice its volume. If the process is isothermal, the work done by the gas is $W_i$. If the process is adiabatic, the work done by the gas is $W_a$. Which of the following is true?\n",
    "\n",
    "(A) $$ W_i = W_a $$\n",
    "\n",
    "(B) $$ 0 = W_i < W_a $$\n",
    "\n",
    "(C) $$ 0 < W_i < W_a $$\n",
    "\n",
    "(D) $$ 0 = W_a < W_i $$\n",
    "\n",
    "<div class=\"alert alert-block alert-info\">\n",
    "(E) $$ 0 < W_a < W_i $$\n",
    "</div>"
   ]
  },
  {
   "cell_type": "markdown",
   "metadata": {},
   "source": [
    "* The work done by an adiabatic process is $$ W = \\frac{1}{\\gamma - 1} (P_2 V_2 - P_1 V_1) $$\n",
    "\n",
    "* One can quickly derive this from noting that $$ P V^\\gamma = const $$ in an adiabatic process and $$ W = \\int P dV $$\n",
    "\n",
    "* The work done by an isothermal process is $$ W = n R T_i ln\\left(\\frac{V_2}{V_1}\\right) = P_i V_i ln\\left(\\frac{V_2}{V_1}\\right) $$\n",
    "\n",
    "* One can quickly derive this from noting that $$ P_1 V_1 = P_2 V_2 = n R T_1 = n R T_2 $$ for an isothermal process\n",
    "\n",
    "* From the above formulae, one can immediately eliminate choice (A).\n",
    "\n",
    "* One can calculate the isothermal work to be $$ W_i = n R T_1 ln2 = P_1 V_1 ln2 $$\n",
    "\n",
    "* One can calculate the adiabatic work to be: $$ Wa = \\frac{1}{1 − \\gamma} (P_1 − 2 P_2) V_1 = \\frac{1}{1 − \\gamma} (P_1 − \\frac{2}{2^\\gamma} P_1)V_1 = \\frac{1}{1 − \\gamma} (1 − 2^{1 − \\gamma}) P_1 V_1 $$\n",
    "\n",
    "* For a monatomic gas, $$ \\gamma = \\frac{5}{3} $$, and one finds that $$ 0 < W_a < W_i $$. Choice (E).\n",
    "\n",
    "* Also, in general, an adiabatic process always does less work than an isothermal process in a closed cycle."
   ]
  },
  {
   "cell_type": "markdown",
   "metadata": {},
   "source": [
    "---\n",
    "### 35. If the absolute temperature of a blackbody is increased by a factor of 3, the energy radiated per second per unit area does which of the following?\n",
    "\n",
    "(A) Decreases by a factor of 81.\n",
    "\n",
    "(B) Decreases by a factor of 9.\n",
    "\n",
    "(C) Increases by a factor of 9.\n",
    "\n",
    "(D) Increases by a factor of 27.\n",
    "\n",
    "<div class=\"alert alert-block alert-info\">\n",
    "(E) Increases by a factor of 81.\n",
    "</div>"
   ]
  },
  {
   "cell_type": "markdown",
   "metadata": {},
   "source": [
    "* The blackbody radiation formula has $$ u = \\sigma T^4 $$. The ratio of energy radiated is thus $$ \\frac{{T_2}^4}{{T_1}^4} $$. Since $$ T_2 = 3 T_1 $$, the ratio is just $$ 3^4 = 81 $$, as in choice (E). (Obviously an increase since the final temperature is much higher than the initial.)"
   ]
  },
  {
   "cell_type": "markdown",
   "metadata": {},
   "source": [
    "---\n",
    "### 36. Consider the quasi-static adiabatic expansion of an ideal gas from an initial state $i$ to a final state $f$. Which of the following statements is NOT true?\n",
    "\n",
    "(A) No heat flows into or out of the gas.\n",
    "\n",
    "(B) The entropy of state $i$ equals the entropy of state $f$.\n",
    "\n",
    "(C) The change of internal energy of the gas is $$ - \\int P dV $$\n",
    "\n",
    "(D) The mechanical work done by the gas is $$ \\int P dV $$\n",
    "\n",
    "<div class=\"alert alert-block alert-info\">\n",
    "(E) The temperature of the gas remains constant.\n",
    "</div>"
   ]
  },
  {
   "cell_type": "markdown",
   "metadata": {},
   "source": [
    "* In an adiabatic expansion, $dS = 0$ (entropy), since $dQ = 0$ (heat).\n",
    "\n",
    "* No heat flows out, by definition, and thus choice (A) is out, as well as choice (B).\n",
    "\n",
    "* Choice (C) is true since by the first law, one has $Q = U + W \\Rightarrow U = −W$, and the given integral is just the definition of work.\n",
    "\n",
    "* Choice (D) defines work.\n",
    "\n",
    "* Choice (E) remains—so take that."
   ]
  },
  {
   "cell_type": "markdown",
   "metadata": {},
   "source": [
    "---"
   ]
  },
  {
   "cell_type": "code",
   "execution_count": 3,
   "metadata": {},
   "outputs": [
    {
     "data": {
      "image/png": "[encoded data removed]",
      "text/plain": [
       "<IPython.core.display.Image object>"
      ]
     },
     "metadata": {},
     "output_type": "display_data"
    }
   ],
   "source": [
    "display(Image(filename='./img/GR0177_37.png'))"
   ]
  },
  {
   "cell_type": "markdown",
   "metadata": {},
   "source": [
    "### 37. A constant amount of an ideal gas undergoes the cyclic process $ABCA$ in the $PV$ diagram shown above. The path $BC$ is isothermal. The work done by the gas during one complete cycle, beginning and ending at $A$, is most nearly\n",
    "\n",
    "(A) $600 kJ$\n",
    "\n",
    "(B) $300 kJ$\n",
    "\n",
    "(C) $0$\n",
    "\n",
    "<div class=\"alert alert-block alert-info\">\n",
    "(D) $-300 kJ$\n",
    "</div>\n",
    "    \n",
    "(E) $-600 kJ$"
   ]
  },
  {
   "cell_type": "markdown",
   "metadata": {},
   "source": [
    "* For path $C$ to $A$, one has $W = 0$ for an isochoric (constant volume) process.\n",
    "\n",
    "* For path $A$ to $B$, one has just $W = P \\Delta V = 200(V_B − 2)$ for an isobaric (constant pressure) process.\n",
    "\n",
    "* For path $B$ to $C$, one has $$ W = P_c V_c ln \\frac{V_C}{V_B} = 1000 ln \\frac{2}{V_b} $$\n",
    "\n",
    "* One can figure out $V_B$ from the isothermal condition $$ P_C V_C = P_B V_B \\rightarrow V_B = \\frac{P_C}{P_B} V_C = \\frac{5}{2} \\times 2 = 5 $$. Plug that in above to get, $$ W_{CA} = 0 $$ $$ W_{AB} = 600 $$ $$ W_{BC} = 1000 ln \\frac{2}{5} > −1000 $$ $$ W \\approx −400 $$, which is closest to choice (D)."
   ]
  },
  {
   "cell_type": "markdown",
   "metadata": {},
   "source": [
    "---\n",
    "### 47. A sealed and thermally insulated container of total volume $V$ is divided into two equal volumes by an impermeable wall. The left half of the container is initially occupied by $n$ moles of an ideal gas at temperature $T$. Which of the following gives the change in entropy of the system when the wall is suddenly removed and the gas expands to fill the entire volume?\n",
    "\n",
    "(A) $2 n R ln2$\n",
    "\n",
    "<div class=\"alert alert-block alert-info\">\n",
    "(B) $n R ln2$\n",
    "</div>\n",
    "    \n",
    "(C) $\\frac{1}{2} n R ln2$\n",
    "\n",
    "(D) $- n R ln2$\n",
    "\n",
    "(E) $- 2 n R ln2$"
   ]
  },
  {
   "cell_type": "markdown",
   "metadata": {},
   "source": [
    "Entropy is given as $$ dS = \\int \\frac{dQ}{T} $$. Since the volume expands by a factor of 2, the work in the isothermal process is $$ W = n R T ln \\frac{V_2}{V_1} = n R T ln2 $$. But, for an ideal gas, the internal energy change in an isothermal process is $0$, thus from the first law of Thermodynamics, one has $$ dQ = dW + dU \\Rightarrow dQ = dW $$. The temperature cancels out in the entropy integral, and thus the entropy is just $$ n R ln2 $$, as in choice (B)."
   ]
  },
  {
   "cell_type": "markdown",
   "metadata": {},
   "source": [
    "---\n",
    "### 48. A gaseous mixture of $O_2$ (molecular mass $32 u$) and $N_2$ (molecular mass $28 u$) is maintained at constant temperature. What is the ratio $$ \\frac{\\nu_{rms}(N_2)}{\\nu_{rms}(O_2)} $$ of the root-mean-square speeds of the molecules?\n",
    "\n",
    "(A) $$ \\frac{7}{8} $$\n",
    "\n",
    "(B) $$ \\sqrt{\\frac{7}{8}} $$\n",
    "\n",
    "<div class=\"alert alert-block alert-info\">\n",
    "(C) $$ \\sqrt{\\frac{8}{7}} $$\n",
    "</div>\n",
    "    \n",
    "(D) $$ \\left(\\frac{8}{7}\\right)^2 $$\n",
    "\n",
    "(E) $$ ln\\left(\\frac{8}{7}\\right) $$"
   ]
  },
  {
   "cell_type": "markdown",
   "metadata": {},
   "source": [
    "* In case one forgets the $RMS$ speed, one does not need to go through the formalism of deriving it with the Maxwell-Boltzmann distribution.\n",
    "\n",
    "* Instead, one can approximate its dependence on mass and temperature by $$ \\frac{3}{2} k T = \\frac{1}{2} m v^2 $$. One thus has $$ v \\propto \\sqrt{\\frac{k T}{m}} $$\n",
    "\n",
    "* For the ratio of velocities, one has $$ \\frac{v_N}{v_O} = \\frac{m_O}{m_N} $$\n",
    "\n",
    "* Plug in the given molecular masses for Oxygen and Nitrogen to get choice (C)."
   ]
  },
  {
   "cell_type": "markdown",
   "metadata": {},
   "source": [
    "---\n",
    "### 49. In a Maxwell-Boltzmann system with two states of energies $\\epsilon$ and $2 \\epsilon$, respectively, and a degeneracy of $2$ for each state, the partition function is\n",
    "\n",
    "(A) $$ e^{- \\frac{\\epsilon}{k T}} $$\n",
    "\n",
    "(B) $$ 2 e^{- \\frac{2 \\epsilon}{k T}} $$\n",
    "\n",
    "(C) $$ 2 e^{- \\frac{3 \\epsilon}{k T}} $$\n",
    "\n",
    "(D) $$ e^{- \\frac{\\epsilon}{k T}} + e^{- \\frac{2 \\epsilon}{k T}} $$\n",
    "\n",
    "<div class=\"alert alert-block alert-info\">\n",
    "(E) $$ 2 \\left[ e^{- \\frac{\\epsilon}{k T}} + e^{- \\frac{2 \\epsilon}{k T}} \\right] $$\n",
    "</div>"
   ]
  },
  {
   "cell_type": "markdown",
   "metadata": {},
   "source": [
    "* The partition function is given by the formula $$ Z = {\\sum}_i g_i e^{- \\frac{\\epsilon_i}{k T}} $$, where $g_i$ enotes the degeneracy of the ith state.\n",
    "\n",
    "* Plug in the given information into the formula to get choice (E)."
   ]
  },
  {
   "cell_type": "markdown",
   "metadata": {},
   "source": [
    "---"
   ]
  },
  {
   "cell_type": "code",
   "execution_count": 4,
   "metadata": {},
   "outputs": [
    {
     "data": {
      "image/png": "[encoded data removed]",
      "text/plain": [
       "<IPython.core.display.Image object>"
      ]
     },
     "metadata": {},
     "output_type": "display_data"
    }
   ],
   "source": [
    "display(Image(filename='./img/GR0177_63.png'))"
   ]
  },
  {
   "cell_type": "markdown",
   "metadata": {},
   "source": [
    "### 63. The distribution of relative intensity $I(\\lambda)$ of blackbody radiation from a solid object versus the wavelength $\\lambda$ is shown in the figure above. If the Wien displacement law constant is $2.9 \\times 10^{-3} m \\cdot K$, what is the approximate temperature of the object?\n",
    "\n",
    "(A) $10 K$\n",
    "\n",
    "(B) $50 K$\n",
    "\n",
    "(C) $250 K$\n",
    "\n",
    "<div class=\"alert alert-block alert-info\">\n",
    "(D) $1,500 K$\n",
    "</div>\n",
    "\n",
    "(E) $6,250 K$ "
   ]
  },
  {
   "cell_type": "markdown",
   "metadata": {},
   "source": [
    "* Recall Wien’s Law, $$ \\lambda T = 2.9 \\times 10^{−3} $$. It relates the temperature with the wavelength at maximal intensity.\n",
    "\n",
    "* The wavelength at the maximal intensity is approximately $2 \\mu m$. Plugging this in, one finds that $$ T = \\frac{2.9 \\times 10^{−3}}{2 \\times 10^{−6}} \\approx 1500K $$, as in choice (D)."
   ]
  },
  {
   "cell_type": "markdown",
   "metadata": {},
   "source": [
    "---\n",
    "### $$ C = 3 k N_A \\left(\\frac{h \\nu}{k T}\\right)^2 \\frac{e^{\\frac{h \\nu}{k T}}}{\\left(e^{\\frac{h \\nu}{k T}} - 1\\right)^2} $$\n",
    "\n",
    "### 65. Einstein’s formula for the molar heat capacity $C$ of solids is given above. At high temperatures, $C$ approaches which of the following?\n",
    "\n",
    "(A) $$ 0 $$\n",
    "\n",
    "(B) $$ 3 k N_A \\frac{h \\nu}{k T} $$\n",
    "\n",
    "(C) $$ 3 k N_A h \\nu $$\n",
    "\n",
    "<div class=\"alert alert-block alert-info\">\n",
    "(D) $$ 3 k N_A $$\n",
    "</div>\n",
    "\n",
    "(E) $$ N_A h \\nu $$"
   ]
  },
  {
   "cell_type": "markdown",
   "metadata": {},
   "source": [
    "* At high temperatures, one has $k T \\gg h \\nu$.\n",
    "\n",
    "* One expands the argument of the denominator according to $e^x \\approx 1 + x$ (for small $x$). The denominator becomes $\\left(1 + \\frac{h \\nu}{k T} − 1\\right) = \\frac{h \\nu}{k T}$. Since the whole quantity of the denominator is squared, the top $\\left(\\frac{h \\nu}{k T}\\right)^2$ term is canceled.\n",
    "\n",
    "* In the numerator, one has $e^{\\frac{h \\nu}{k T}} \\rightarrow 1$, since $e^{\\frac{1}{\\infty}} \\rightarrow e^0 \\rightarrow 1$.\n",
    "\n",
    "* Thus, one arrives at choice (D).\n",
    "\n",
    "* One either remembers this fact about solid or one derives it, as shown above. (Also, for low temperatures, at say around $20K$ for most solids, the Debye $T^3$ law applies, and specific heat is proportional to $T^3$. Debye’s theory is more accurate for solids."
   ]
  },
  {
   "cell_type": "markdown",
   "metadata": {},
   "source": [
    "---\n",
    "### 77. An ensemble of systems is in thermal equilibrium with a reservoir for which $k T = 0.025 eV$. State $A$ has an energy that is $0.1 eV$ above that of state $B$. If it is assumed the systems obey Maxwell-Boltzmann statistics and that the degeneracies of the two states are the same, then the ratio of the number of systems in state $A$ to the number in state $B$ is\n",
    "\n",
    "(A) $e^{+4}$\n",
    "\n",
    "(B) $e^{+0.25}$\n",
    "\n",
    "(C) $1$\n",
    "\n",
    "(D) $e^{-0.25}$\n",
    "\n",
    "<div class=\"alert alert-block alert-info\">\n",
    "(E) $e^{-4}$\n",
    "</div>"
   ]
  },
  {
   "cell_type": "markdown",
   "metadata": {},
   "source": [
    "* The Maxwell-Boltzmann distribution is $N \\propto g e^{−\\epsilon/(kT)}$\n",
    ", where $g$ is the degeneracy.\n",
    "\n",
    "* Given $\\epsilon_a = 0.1 + \\epsilon_b$, one finds the ratio of distributions (thus ratio of numbers) to be $$ \\frac{e^{− \\frac{(0.1+\\epsilon_b)}{k T}}}{e^{− \\frac{\\epsilon_b}{k T}}} = e^{− \\frac{0.1}{k T}} $$\n",
    "\n",
    "* The problem gives $kT = 0.025 eV$, and thus the above ratio becomes $$ e^{−.1/.025} = e^{−4} $$, as in choice(E)."
   ]
  },
  {
   "cell_type": "markdown",
   "metadata": {},
   "source": [
    "---\n",
    "## GR0627"
   ]
  },
  {
   "cell_type": "markdown",
   "metadata": {},
   "source": [
    "---\n",
    "### $$ C_{(s)} + {CO_2}_{(g)} \\rightleftharpoons 2 CO_{(g)} $$\n",
    "\n",
    "### 7. $\\Delta H$ for the reaction shown above is greater than zero. Assuming $\\Delta H$ is independent of temperature, which of the following statements about the percent yield of $CO_{(g)}$ is true?\n",
    "\n",
    "(A) It increases as the amount of $C_{(s)}$ increases.\n",
    "\n",
    "<div class=\"alert alert-block alert-info\">\n",
    "(B) It increases as the temperature increases.\n",
    "</div>\n",
    "\n",
    "(C) It decreases as the temperature increases.\n",
    "\n",
    "(D) It doubles when the initial partial pressure of $CO_2$ is doubled.\n",
    "\n",
    "(E) It increases when the total pressure of the reaction system increases. "
   ]
  },
  {
   "cell_type": "markdown",
   "metadata": {},
   "source": [
    "---"
   ]
  },
  {
   "cell_type": "code",
   "execution_count": 5,
   "metadata": {},
   "outputs": [
    {
     "data": {
      "image/png": "[encoded data removed]",
      "text/plain": [
       "<IPython.core.display.Image object>"
      ]
     },
     "metadata": {},
     "output_type": "display_data"
    }
   ],
   "source": [
    "display(Image(filename='./img/GR0627_16.png'))"
   ]
  },
  {
   "cell_type": "markdown",
   "metadata": {},
   "source": [
    "### 16. The curve shown above illustrates the $P \\bar{V}$ behavior of a real gas, where $\\bar{V}$ is the molar volume. According to the van der Waals model for nonideal gas behavior, the values of $\\frac{P \\bar{V}}{R T}$ greater than 1.0 at high pressures are due to\n",
    "\n",
    "(A) the effects of increased rate of collision of the molecules with the walls of the container\n",
    "\n",
    "(B) the effects of dissociation of individual gas molecules\n",
    "\n",
    "<div class=\"alert alert-block alert-info\">\n",
    "(C) the effects of the volume occupied by the molecules themselves\n",
    "</div>\n",
    "\n",
    "(D) the effects of forces of attraction between molecules\n",
    "\n",
    "(E) ideal gas behavior in this pressure region"
   ]
  },
  {
   "cell_type": "markdown",
   "metadata": {},
   "source": [
    "---\n",
    "### $$ {O_3}_{(g)} \\rightarrow \\frac{3}{2} {O_2}_{(g)} $$\n",
    "\n",
    "### 17. For the reaction shown above at $298 K$, $\\Delta G^{\\circ} = -163 kJ/mol$. What is the value of the equilibrium constant, $K_P$, for this reaction? \n",
    "\n",
    "<div class=\"alert alert-block alert-info\">\n",
    "(A) $K_P > 1.0$\n",
    "</div>\n",
    "\n",
    "(B) $K_P = 1.0$\n",
    "\n",
    "(C) $0.0 < K_P < 1.0$\n",
    "\n",
    "(D) $K_P = 0.0$\n",
    "\n",
    "(E) $K_P < 0.0$ "
   ]
  },
  {
   "cell_type": "markdown",
   "metadata": {},
   "source": [
    "---\n",
    "### 25. When $1.0 kJ$ of heat is added to $5.0 L$ of an ideal gas, the gas expands against a constant external pressure of $1.0 bar$ to a final volume of $8.0 L$. What is the change in internal energy, $\\Delta U$, for the gas? ($1.0 L \\cdot bar = 0.10 kJ$)\n",
    "\n",
    "(A) $0.30 kJ$\n",
    "\n",
    "<div class=\"alert alert-block alert-info\">\n",
    "(B) $0.70 kJ$\n",
    "</div>\n",
    "\n",
    "(C) $1.0 kJ$\n",
    "\n",
    "(D) $1.3 kJ$\n",
    "\n",
    "(E) $1.8 kJ$"
   ]
  },
  {
   "cell_type": "markdown",
   "metadata": {},
   "source": [
    "---\n",
    "### 26. Which of the following must be true for adiabatic processes?\n",
    "\n",
    "(A) $C_V = C_P$\n",
    "\n",
    "(B) $\\Delta H = 0$\n",
    "\n",
    "(C) $\\Delta U = 0$\n",
    "\n",
    "(D) $\\Delta S = 0$\n",
    "\n",
    "<div class=\"alert alert-block alert-info\">\n",
    "(E) $q = 0$\n",
    "</div>"
   ]
  },
  {
   "cell_type": "markdown",
   "metadata": {},
   "source": [
    "---\n",
    "### 33. Two cylinders, one containing $1 mole$ of $C_4H_{10}$ gas at $1 atm$ and the other containing $1 mole$ of $CH_4$ gas at $1 atm$, are at $288 K$. If each gas absorbs $100 J$ of heat under conditions of constant volume, which of the following is true? \n",
    "\n",
    "<div class=\"alert alert-block alert-info\">\n",
    "(A) The temperature of the $CH_4$ increases more than the temperature of the $C_4H_{10}$.\n",
    "</div>\n",
    "\n",
    "(B) The internal energy of both the $CH_4$ and the $C_4H_{10}$ decreases.\n",
    "\n",
    "(C) The heat capacity of the $C_4H_{10}$ is less than the heat capacity of the $CH_4$.\n",
    "\n",
    "(D) The entropy of both the $CH_4$ and the $C_4H_{10}$ decreases.\n",
    "\n",
    "(E) The heat transferred to the $C_4H_{10}$ is greater than the heat transferred to the $CH_4$. "
   ]
  },
  {
   "cell_type": "markdown",
   "metadata": {},
   "source": [
    "---\n",
    "### 34. Which of the following statements is true about a pure substance above its critical point? \n",
    "\n",
    "<div class=\"alert alert-block alert-info\">\n",
    "(A) One fluid phase is present.\n",
    "</div>\n",
    "\n",
    "(B) Solid, liquid, and gas are in equilibrium.\n",
    "\n",
    "(C) Only liquid and gas are in equilibrium.\n",
    "\n",
    "(D) A liquid forms.\n",
    "\n",
    "(E) A solid forms."
   ]
  },
  {
   "cell_type": "markdown",
   "metadata": {},
   "source": [
    "---\n",
    "### 37. At standard temperature and pressure, all of the following compounds exist in the gas state EXCEPT\n",
    "\n",
    "(A) $H Cl$\n",
    "\n",
    "(B) $H Br$\n",
    "\n",
    "(C) $N H_3$\n",
    "\n",
    "(D) $B H_3$\n",
    "\n",
    "<div class=\"alert alert-block alert-info\">\n",
    "(E) $Li H$\n",
    "</div>"
   ]
  },
  {
   "cell_type": "markdown",
   "metadata": {},
   "source": [
    "---\n",
    "### 49. For a system at thermal equilibrium, which of the following is the Boltzmann distribution expression for the probability, $p_i$, that a single molecule is in the $ith$ energy state with energy $\\varepsilon_i$ ?\n",
    "\n",
    "(A) $$ p_i = \\frac{\\varepsilon_i}{k T} $$\n",
    "\n",
    "(B) $$ p_i = 1 - e^{-\\frac{\\varepsilon_i}{k T}} $$\n",
    "\n",
    "(C) $$ p_i = \\left(\\sum_{i = 0}^{\\infty} e^{-\\frac{\\varepsilon_i}{k T}}\\right) - e^{-\\frac{\\varepsilon_i}{k T}} $$\n",
    "\n",
    "(D) $$ p_i = \\left(e^{-\\frac{\\varepsilon_i}{k T}}\\right)^{N_i} $$\n",
    "\n",
    "<div class=\"alert alert-block alert-info\">\n",
    "(E) $$ p_i = \\frac{e^{-\\frac{\\varepsilon_i}{k T}}}{\\left(\\sum_{i = 0}^{\\infty} e^{-\\frac{\\varepsilon_i}{k T}}\\right)} $$\n",
    "</div>"
   ]
  },
  {
   "cell_type": "markdown",
   "metadata": {},
   "source": [
    "---\n",
    "### 50. Which of the following expressions involving fugacity, $f$, is correct as $P \\rightarrow 0$ ?\n",
    "\n",
    "<div class=\"alert alert-block alert-info\">\n",
    "(A) $f = P$\n",
    "</div>\n",
    "\n",
    "(B) $f = \\frac{1}{P}$\n",
    "\n",
    "(C) $f = 1$\n",
    "\n",
    "(D) $f = \\frac{1}{V}$\n",
    "\n",
    "(E) $f = V$"
   ]
  },
  {
   "cell_type": "markdown",
   "metadata": {},
   "source": [
    "---\n",
    "### 51. Sodium acetate spontaneously crystallizes out of a supersaturated solution on standing or on the addition of a seed crystal. Which of the following is true for the thermodynamic quantities of this system for this process? \n",
    "\n",
    "<div class=\"alert alert-block alert-info\">\n",
    "(A) $\\Delta S < 0, \\Delta H < 0$\n",
    "</div>\n",
    "\n",
    "(B) $\\Delta S < 0, \\Delta G > 0$\n",
    "\n",
    "(C) $\\Delta S > 0, \\Delta H > 0$\n",
    "\n",
    "(D) $\\Delta S > 0, \\Delta G < 0$\n",
    "\n",
    "(E) $\\Delta G < 0, \\Delta H > 0$ "
   ]
  },
  {
   "cell_type": "markdown",
   "metadata": {},
   "source": [
    "---\n",
    "### 52. If ideal gas behavior is assumed, for which of the following reactions does $\\Delta H$ equal $\\Delta U$ ?\n",
    "(A) $N_2{O_4}_{(g)} \\rightarrow 2 N{O_2}_{(g)}$\n",
    "\n",
    "(B) $C{H_4}_{(g)} + 2 {O_2}_{(g)} \\rightarrow C{O_2}_{(g)} + 2 H_2O_{(l)}$\n",
    "\n",
    "(C) $S{O_2}_{(g)} + \\frac{1}{2}{O_2}_{(g)} \\rightarrow S{O_3}_{(g)}$\n",
    "\n",
    "(D) ${Br_2}_{(l)} + 3 {Cl_2}_{(g)} \\rightarrow 2 Br{Cl_3}_{(g)}$\n",
    "\n",
    "<div class=\"alert alert-block alert-info\">\n",
    "(E) ${Cl_2}_{(g)} + {F_2}_{(g)} \\rightarrow 2 ClF_{(g)}$\n",
    "</div>"
   ]
  },
  {
   "cell_type": "markdown",
   "metadata": {},
   "source": [
    "---\n",
    "### $$ \\left(\\frac{\\partial U}{\\partial V}\\right)_T = - P + T \\left(\\frac{\\partial P}{\\partial T}\\right)_V $$\n",
    "\n",
    "### 58. Given the expression above, what is the value of $$ \\left(\\frac{\\partial U}{\\partial V}\\right)_T $$ for an ideal gas undergoing isothermal expansion? ($P V = n R T$ for an ideal gas.)\n",
    "\n",
    "(A) $-P + \\frac{n R}{V}$\n",
    "\n",
    "(B) $nR$\n",
    "\n",
    "(C) $-P$\n",
    "\n",
    "(D) $1$\n",
    "\n",
    "<div class=\"alert alert-block alert-info\">\n",
    "(E) $0$\n",
    "</div>"
   ]
  },
  {
   "cell_type": "markdown",
   "metadata": {},
   "source": [
    "---\n",
    "### 59. The heat of fusion of ice is $333.5 J/g$. The entropy change for the water when freezing $5.0 g$ of water at $0^{\\circ}C$ and $1 atm$ pressure is \n",
    "\n",
    "(A) $6.1 J/K$\n",
    "\n",
    "(B) $1.2 J/K$\n",
    "\n",
    "(C) $0$\n",
    "\n",
    "(D) $-1.2 J/K$\n",
    "\n",
    "<div class=\"alert alert-block alert-info\">\n",
    "(E) $-6.1 J/K$\n",
    "</div>"
   ]
  },
  {
   "cell_type": "markdown",
   "metadata": {},
   "source": [
    "---\n",
    "### 104. A large activation energy implies which of the following about a reaction? \n",
    "\n",
    "(A) It is spontaneous.\n",
    "\n",
    "(B) It is highly endothermic.\n",
    "\n",
    "(C) It is at equilibrium.\n",
    "\n",
    "(D) It is very rapid.\n",
    "\n",
    "<div class=\"alert alert-block alert-info\">\n",
    "(E) It has a highly temperature-dependent rate constant.\n",
    "</div>"
   ]
  },
  {
   "cell_type": "markdown",
   "metadata": {},
   "source": [
    "---\n",
    "## GR0877"
   ]
  },
  {
   "cell_type": "markdown",
   "metadata": {},
   "source": [
    "---\n",
    "###  8. The energy from electromagnetic waves in equilibrium in a cavity is used to melt ice. If the Kelvin temperature of the cavity is increased by a factor of two, the mass of ice that can be melted in a fixed amount of time is increased by a factor of\n",
    "\n",
    "(A) 2\n",
    "\n",
    "(B) 4\n",
    "\n",
    "(C) 8\n",
    "\n",
    "<div class=\"alert alert-block alert-info\">\n",
    "(D) 16\n",
    "</div>\n",
    "\n",
    "(E) 32 "
   ]
  },
  {
   "cell_type": "markdown",
   "metadata": {},
   "source": [
    "---\n",
    "### 21. For an adiabatic process involving an ideal gas having volume $V$ and temperature $T$, which of the following is constant? $\\left(\\gamma = \\frac{C_P}{C_V}\\right)$\n",
    "\n",
    "(A) $T V$\n",
    "\n",
    "(B) $T V^\\gamma$\n",
    "\n",
    "<div class=\"alert alert-block alert-info\">\n",
    "(C) $T V^{\\gamma - 1}$\n",
    "</div>\n",
    "   \n",
    "(D) $T^\\gamma V$\n",
    "\n",
    "(E) $T^\\gamma V^{-1}$"
   ]
  },
  {
   "cell_type": "markdown",
   "metadata": {},
   "source": [
    "---\n",
    "### 33. A thermodynamic system, initially at absolute temperature $T_1$ , contains a mass $m$ of water with specific heat capacity $c$. Heat is added until the temperature rises to $T_2$ . The change in entropy of the water is\n",
    "\n",
    "(A) $$ 0 $$\n",
    "\n",
    "(B) $$ T_2 - T_1 $$\n",
    "\n",
    "(C) $$ m c T_2 $$\n",
    "\n",
    "(D) $$ m c (T_2 - T_1) $$\n",
    "\n",
    "<div class=\"alert alert-block alert-info\">\n",
    "(E) $$ m c ln \\left(\\frac{T_2}{T_1}\\right) $$\n",
    "</div>"
   ]
  },
  {
   "cell_type": "markdown",
   "metadata": {},
   "source": [
    "---\n",
    "### 34. Heat $Q$ is added to a monatomic ideal gas under conditions of constant volume, resulting in a temperature change $\\Delta T$. How much heat will be required to produce the same temperature change, if it is added under conditions of constant pressure?\n",
    "\n",
    "(A) $$ \\frac{3}{5} Q $$\n",
    "\n",
    "(B) $$ Q $$\n",
    "\n",
    "<div class=\"alert alert-block alert-info\">\n",
    "(C) $$ \\frac{5}{3} Q $$\n",
    "</div>\n",
    "    \n",
    "(D) $$ 2 Q $$\n",
    "\n",
    "(E) $$ \\frac{10}{3} Q $$"
   ]
  },
  {
   "cell_type": "markdown",
   "metadata": {},
   "source": [
    "---\n",
    "### 35. A heat pump is to extract heat from an outdoor environment at $7^{\\circ} C$ and heat the environment indoors to $27^{\\circ} C$. For each $15,000 J$ of heat delivered indoors, the smallest amount of work that must be supplied to the heat pump is approximately\n",
    "\n",
    "(A) $500 J$\n",
    "\n",
    "<div class=\"alert alert-block alert-info\">\n",
    "(B) $1,000 J$\n",
    "</div>\n",
    "    \n",
    "(C) $1,100 J$\n",
    "\n",
    "(D) $2,000 J$\n",
    "\n",
    "(E) $2,200 J$"
   ]
  },
  {
   "cell_type": "markdown",
   "metadata": {},
   "source": [
    "---\n",
    "### $$ \\left(p + \\frac{a}{V^2}\\right) (V - b) = R T $$\n",
    "\n",
    "### 79. Consider $1 mole$ of a real gas that obeys the van der Waals equation of state shown above. If the gas undergoes an isothermal expansion at temperature $T_0$ from volume $V_1$ to volume $V_2$, which of the following gives the work done by the gas?\n",
    "\n",
    "(A) $$ 0 $$\n",
    "\n",
    "(B) $$ R T_0 ln \\left(\\frac{V_2}{V_1}\\right) $$\n",
    "\n",
    "(C) $$ R T_0 ln \\left(\\frac{V_2 - b}{V_1 - b}\\right) $$\n",
    "\n",
    "<div class=\"alert alert-block alert-info\">\n",
    "(D) $$ R T_0 ln \\left(\\frac{V_2 - b}{V_1 - b}\\right) + a \\left(\\frac{1}{V_2} - \\frac{1}{V_1}\\right) $$\n",
    "</div>\n",
    "    \n",
    "(E) $$ R T_0 \\left(\\frac{1}{(V_2 - b)^2} - \\frac{1}{(V_2 - b)^2}\\right) + a \\left(\\frac{1}{{V_2}^3} - \\frac{1}{{V_1}^3}\\right) $$"
   ]
  },
  {
   "cell_type": "markdown",
   "metadata": {},
   "source": [
    "---\n",
    "## GR1727"
   ]
  },
  {
   "cell_type": "markdown",
   "metadata": {},
   "source": [
    "---\n",
    "### $$ \\left(P + \\frac{a n^2}{V^2}\\right) (V - n b) = n R T $$\n",
    "\n",
    "### 6. Of the following substances, which is likely to have the largest value of the coefficient $a$ in the van der Waals equation of state for real gases shown above?\n",
    "\n",
    "(A) $H_2$\n",
    "\n",
    "(B) $N_2$\n",
    "\n",
    "(C) $CH_4$\n",
    "\n",
    "<div class=\"alert alert-block alert-info\">\n",
    "(D) $NH_3$\n",
    "</div>\n",
    "    \n",
    "(E) $CO_2$"
   ]
  },
  {
   "cell_type": "markdown",
   "metadata": {},
   "source": [
    "---\n",
    "### 15. Which of the following must be true about a binary liquid mixture that obeys Raoult’s law?\n",
    "\n",
    "### I. The partial pressure of each component at equilibrium is proportional to its mole fraction in the liquid mixture.\n",
    "\n",
    "### II. The volume of the mixture is equal to the sum of the volumes of each component before mixing.\n",
    "\n",
    "### III. Intermolecular interactions in the mixture are identical to intermolecular interactions in the pure components.\n",
    "\n",
    "(A) I only\n",
    "\n",
    "(B) III only\n",
    "\n",
    "(C) I and III only\n",
    "\n",
    "(D) II and III only\n",
    "\n",
    "<div class=\"alert alert-block alert-info\">\n",
    "(E) I, II, and III\n",
    "</div>"
   ]
  },
  {
   "cell_type": "markdown",
   "metadata": {},
   "source": [
    "---\n",
    "### 21. Which of the following is always true of a spontaneous process?\n",
    "\n",
    "(A) The process is exothermic.\n",
    "\n",
    "(B) The process does not involve any work.\n",
    "\n",
    "(C) The entropy of the system increases.\n",
    "\n",
    "(D) The internal energy of the system decreases.\n",
    "\n",
    "<div class=\"alert alert-block alert-info\">\n",
    "(E) The total entropy of the system plus surroundings increases.\n",
    "</div>"
   ]
  },
  {
   "cell_type": "markdown",
   "metadata": {},
   "source": [
    "---\n",
    "### 22. The equation $\\Delta H = \\Delta U + P \\Delta V$ is applicable\n",
    "\n",
    "(A) always\n",
    "\n",
    "<div class=\"alert alert-block alert-info\">\n",
    "(B) only for constant pressure processes\n",
    "</div>\n",
    "    \n",
    "(C) only for constant temperature processes\n",
    "\n",
    "(D) only for constant volume processes\n",
    "\n",
    "(E) only for constant entropy processes"
   ]
  },
  {
   "cell_type": "markdown",
   "metadata": {},
   "source": [
    "---\n",
    "### 23. A system that consists of a sample of nitrogen gas behaving as an ideal gas is compressed at a constant temperature. Which of the following is true about $w$ (work) and $q$ (heat transfer) for this process?\n",
    "\n",
    "<div class=\"alert alert-block alert-info\">\n",
    "(A) $w > 0$; $q < 0$\n",
    "</div>\n",
    "\n",
    "(B) $w > 0$; $q > 0$\n",
    "\n",
    "(C) $w < 0$; $q < 0$\n",
    "\n",
    "(D) $w < 0$; $q > 0$\n",
    "\n",
    "(E) $w = 0$; $q = 0$"
   ]
  },
  {
   "cell_type": "markdown",
   "metadata": {},
   "source": [
    "---\n",
    "### 24. What is the maximum number of phases that can be at equilibrium with each other in a three-component mixture?\n",
    "\n",
    "(A) 2\n",
    "\n",
    "(B) 3\n",
    "\n",
    "(C) 4\n",
    "\n",
    "<div class=\"alert alert-block alert-info\">\n",
    "(D) 5\n",
    "</div>\n",
    "\n",
    "(E) 6"
   ]
  },
  {
   "cell_type": "markdown",
   "metadata": {},
   "source": [
    "---\n",
    "### 27. The dissociation energy for a hydrogen-bromine bond is defined as the change in enthalpy, $\\Delta H$, for which of the following reactions?\n",
    "\n",
    "(A) $2 HBr_{(g)} → {H_2}_{(g)} + {Br_2}_{(l)}$\n",
    "\n",
    "(B) $HBr_{(g)} → {H^+}_{(g)} + {Br^−}_{(g)}$\n",
    "\n",
    "(C) $H_{(g)} + Br_{(g)} → HBr_{(g)}$\n",
    "\n",
    "(D) ${H_2}_{(g)} + {Br_2}_{(l)} → 2 HBr_{(g)}$\n",
    "\n",
    "<div class=\"alert alert-block alert-info\">\n",
    "(E) $HBr_{(g)} → H_{(g)} + Br_{(g)}$\n",
    "<\\div>"
   ]
  },
  {
   "cell_type": "markdown",
   "metadata": {},
   "source": [
    "---\n",
    "### 37. Of the following compounds, which has the lowest melting point?\n",
    "\n",
    "<div class=\"alert alert-block alert-info\">\n",
    "(A) $HCl$\n",
    "</div>\n",
    "\n",
    "(B) $AgCl$\n",
    "\n",
    "(C) $CaCl_2$\n",
    "\n",
    "(D) $CCl_4$\n",
    "\n",
    "(E) $SnCl_4$"
   ]
  },
  {
   "cell_type": "markdown",
   "metadata": {},
   "source": [
    "---\n",
    "### 39. The $K_P$ for the reaction shown above is $0.26$ at $1,000^{\\circ}C$ and $40.8$ at $1,300^{\\circ}C$. Which of the following combinations of $\\Delta H$ and $\\Delta S$ are most plausible for this reaction at these temperatures?\n",
    "\n",
    "(A) $\\Delta H = 0$; $\\Delta S = 0$\n",
    "\n",
    "<div class=\"alert alert-block alert-info\">\n",
    "(B) $\\Delta H > 0$; $\\Delta S > 0$\n",
    "</div>\n",
    "\n",
    "(C) $\\Delta H > 0$; $\\Delta S < 0$\n",
    "\n",
    "(D) $\\Delta H < 0$; $\\Delta S > 0$\n",
    "\n",
    "(E) $\\Delta H < 0$; $\\Delta S < 0$"
   ]
  },
  {
   "cell_type": "markdown",
   "metadata": {},
   "source": [
    "---\n",
    "### $CaC{O_3}_{(s)}$; $S^{\\circ} = 92.9 J K^{-1} mol^{-1}$\n",
    "### $CaO_{(s)}$; $S^{\\circ} = 39.8 J K^{-1} mol^{-1}$\n",
    "### $C{O_2}_{(g)}$; $S^{\\circ} = 213.7 J K^{-1} mol^{-1}$\n",
    "\n",
    "### 41. Given the standard molar entropies listed above, the standard reaction entropy, $\\Delta S^{\\circ}$, in $J K^{-1} mol^{-1}$, for the decomposition of calcium carbonate into calcium oxide and carbon dioxide is\n",
    "\n",
    "(A) $(92.9 + 39.8 + 213.7)$\n",
    "\n",
    "(B) $(−92.9 −39.8 −213.7)$\n",
    "\n",
    "(C) $(−92.9 −39.8 + 213.7)$\n",
    "\n",
    "(D) $(39.8 + 213.7)$\n",
    "\n",
    "<div class=\"alert alert-block alert-info\">\n",
    "(E) $(−92.9 + 39.8 + 213.7)$\n",
    "</div>"
   ]
  },
  {
   "cell_type": "markdown",
   "metadata": {},
   "source": [
    "---\n",
    "### System A; Adiabatic Process; $Work = -300 J$\n",
    "### System B; Nonadiabatic Process; $Work = -200 J$\n",
    "\n",
    "### 72. System A and system B above are identical closed systems that undergo a change of state from the same initial conditions ($P_1$, $V_1$, $T_1$) to the same final conditions ($P_2$, $V_2$, $T_2$), but by a different process. What are $\\Delta U$ and $q$ for the change in state for system B?\n",
    "\n",
    "(A) $\\Delta U (J) = −300$; $q(J) = 0$\n",
    "\n",
    "(B) $\\Delta U (J) = −300$; $q(J) −100$\n",
    "\n",
    "(C) $\\Delta U (J) = −100$; $q(J) −100$\n",
    "\n",
    "<div class=\"alert alert-block alert-info\">\n",
    "(D) $\\Delta U (J) = 0$; $q(J) −300$\n",
    "</div>\n",
    "\n",
    "(E) $\\Delta U (J) = 200$; $q(J) 0$"
   ]
  },
  {
   "cell_type": "markdown",
   "metadata": {},
   "source": [
    "---\n",
    "### 102. Of the following colligative properties, which is most practical for determining the extent of protein aggregation?\n",
    "\n",
    "<div class=\"alert alert-block alert-info\">\n",
    "(A) Osmotic pressure\n",
    "</div>\n",
    "\n",
    "(B) Freezing point depression\n",
    "\n",
    "(C) Boiling point elevation\n",
    "\n",
    "(D) Solvent vapor pressure lowering\n",
    "\n",
    "(E) Solute vapor pressure"
   ]
  },
  {
   "cell_type": "markdown",
   "metadata": {},
   "source": [
    "---\n",
    "### 127. What is the limiting high-temperature molar heat capacity at constant volume ($C_V$) of a gas-phase diatomic molecule?\n",
    "\n",
    "(A) $$ \\frac{3}{2} R $$\n",
    "\n",
    "(B) $$ 2 R $$\n",
    "\n",
    "(C) $$ \\frac{5}{2} R $$\n",
    "\n",
    "(D) $$ 3 R $$\n",
    "\n",
    "<div class=\"alert alert-block alert-info\">\n",
    "(E) $$ \\frac{7}{2} R $$\n",
    "</div>"
   ]
  },
  {
   "cell_type": "markdown",
   "metadata": {},
   "source": [
    "---\n",
    "## GR1777"
   ]
  },
  {
   "cell_type": "markdown",
   "metadata": {},
   "source": [
    "---\n",
    "### 7. Which of the following is true about any system that undergoes a reversible thermodynamic process?\n",
    "\n",
    "(A) There are no changes in the internal energy of the system.\n",
    "\n",
    "(B) The temperature of the system remains constant during the process. \n",
    "\n",
    "<div class=\"alert alert-block alert-info\">\n",
    "(C) The entropy of the system and its environment remains unchanged.\n",
    "</div>\n",
    "\n",
    "(D) The entropy of the system and its environment must increase. \n",
    "\n",
    "(E) The net work done by the system is zero."
   ]
  },
  {
   "cell_type": "markdown",
   "metadata": {},
   "source": [
    "---\n",
    "### 8. For which of the following thermodynamic processes is the increase in the internal energy of an ideal gas equal to the heat added to the gas?\n",
    "\n",
    "(A) Constant temperature\n",
    "\n",
    "<div class=\"alert alert-block alert-info\">\n",
    "(B) Constant volume\n",
    "</div>\n",
    "\n",
    "(C) Constant pressure\n",
    "\n",
    "(D) Adiabatic\n",
    "\n",
    "(E) Cyclic"
   ]
  },
  {
   "cell_type": "markdown",
   "metadata": {},
   "source": [
    "---"
   ]
  },
  {
   "cell_type": "code",
   "execution_count": 6,
   "metadata": {},
   "outputs": [
    {
     "data": {
      "image/png": "[encoded data removed]",
      "text/plain": [
       "<IPython.core.display.Image object>"
      ]
     },
     "metadata": {},
     "output_type": "display_data"
    }
   ],
   "source": [
    "display(Image(filename='./img/GR1777_28.png'))"
   ]
  },
  {
   "cell_type": "markdown",
   "metadata": {},
   "source": [
    "### 28. A sample of nitrogen gas undergoes the cyclic thermodynamic process shown above. Which of the following gives the net heat transferred to the system in one complete cycle $1 \\rightarrow 2 \\rightarrow 3 \\rightarrow 1$?\n",
    "\n",
    "(A) $-80 J$\n",
    "\n",
    "(B) $-40 J$\n",
    "\n",
    "<div class=\"alert alert-block alert-info\">\n",
    "(C) $40 J$\n",
    "</div>\n",
    "    \n",
    "(D) $80 J$\n",
    "\n",
    "(E) $180 J$"
   ]
  },
  {
   "cell_type": "markdown",
   "metadata": {},
   "source": [
    "---"
   ]
  },
  {
   "cell_type": "code",
   "execution_count": 7,
   "metadata": {},
   "outputs": [
    {
     "data": {
      "image/png": "[encoded data removed]",
      "text/plain": [
       "<IPython.core.display.Image object>"
      ]
     },
     "metadata": {},
     "output_type": "display_data"
    }
   ],
   "source": [
    "display(Image(filename='./img/GR1777_29.png'))"
   ]
  },
  {
   "cell_type": "markdown",
   "metadata": {},
   "source": [
    "### 29. For an ideal gas, consider the three thermodynamic processes —labeled 1, 2, and 3- shown in the PV diagram above. Each process has the same initial state and the same final volume. One process is adiabatic, one is isobaric, and one is isothermal. Which of the following correctly identifies the three processes?\n",
    "\n",
    "(A) $1 \\rightarrow Adiabatic$; $2 \\rightarrow Isobaric$; $3 \\rightarrow Isothermal$\n",
    "\n",
    "(B) $2 \\rightarrow Adiabatic$; $1 \\rightarrow Isobaric$; $3 \\rightarrow Isothermal$\n",
    "\n",
    "(C) $2 \\rightarrow Adiabatic$; $3 \\rightarrow Isobaric$; $1 \\rightarrow Isothermal$\n",
    "\n",
    "<div class=\"alert alert-block alert-info\">\n",
    "(D) $3 \\rightarrow Adiabatic$; $1 \\rightarrow Isobaric$; $2 \\rightarrow Isothermal$\n",
    "</div>\n",
    "    \n",
    "(E) $3 \\rightarrow Adiabatic$; $2 \\rightarrow Isobaric$; $1 \\rightarrow Isothermal$"
   ]
  },
  {
   "cell_type": "markdown",
   "metadata": {},
   "source": [
    "---\n",
    "### 57. Which of the following statements is (are) true for a Maxwell-Boltzmann description of an ideal gas of atoms in equilibrium at temperature $T$?\n",
    "\n",
    "### I. The average velocity of the atoms is zero.\n",
    "\n",
    "### II. The distribution of the speeds of the atoms has a maximum at $v = 0$.\n",
    "\n",
    "### III. The probability of finding an atom with zero kinetic energy is zero.\n",
    "\n",
    "(A) I only\n",
    "\n",
    "(B) II only\n",
    "\n",
    "(C) I and II\n",
    "\n",
    "<div class=\"alert alert-block alert-info\">\n",
    "(D) I and III\n",
    "</div>\n",
    "\n",
    "(E) II and III"
   ]
  },
  {
   "cell_type": "markdown",
   "metadata": {},
   "source": [
    "---\n",
    "### 58. A monatomic ideal gas changes from an initial state ($P_i$, $V_i$, $T_i$, $ni$) to a final state ($P_f$, $V_f$, $T_f$, $n_f$), where $P_i < P_f$, $V_i = V_f$ , $T_i < T_f$ and $n_i = n_f$. Which of the following gives the change in entropy of the gas?\n",
    "\n",
    "<div class=\"alert alert-block alert-info\">\n",
    "(A) $$ \\frac{3}{2} n R ln \\left(\\frac{T_f}{T_i}\\right) $$\n",
    "</div>\n",
    "\n",
    "(B) $$ \\frac{3}{2} n R ln \\left(\\frac{T_i}{T_f}\\right) $$\n",
    "\n",
    "(C) $$ \\frac{5}{2} n R ln \\left(\\frac{T_f}{T_i}\\right) $$\n",
    "\n",
    "(D) $$ \\frac{5}{2} n R ln \\left(\\frac{T_i}{T_f}\\right) $$\n",
    "\n",
    "(E) $$ 0 $$"
   ]
  },
  {
   "cell_type": "markdown",
   "metadata": {},
   "source": [
    "---"
   ]
  },
  {
   "cell_type": "code",
   "execution_count": 8,
   "metadata": {},
   "outputs": [
    {
     "data": {
      "image/png": "[encoded data removed]",
      "text/plain": [
       "<IPython.core.display.Image object>"
      ]
     },
     "metadata": {},
     "output_type": "display_data"
    }
   ],
   "source": [
    "display(Image(filename='./img/GR1777_91.png'))"
   ]
  },
  {
   "cell_type": "markdown",
   "metadata": {},
   "source": [
    "### 91. The diagram above shows a Carnot cycle for an ideal air conditioner, which is to cool a house on a hot summer day. The air conditioner absorbs heat at the lower temperature inside and pumps it to the environment at the higher temperature outside. Which of the following gives the ratio of the heat $Q_{bc}$ absorbed in the house (i.e., between points $b$ and $c$ on the cycle) to the work done during the cycle?\n",
    "\n",
    "(A) 0\n",
    "\n",
    "(B) 0.033\n",
    "\n",
    "(C) 0.97\n",
    "\n",
    "(D) 1.0\n",
    "\n",
    "<div class=\"alert alert-block alert-info\">\n",
    "(E) 30\n",
    "</div>"
   ]
  },
  {
   "cell_type": "code",
   "execution_count": null,
   "metadata": {},
   "outputs": [],
   "source": []
  }
 ],
 "metadata": {
  "kernelspec": {
   "display_name": "Python 3",
   "language": "python",
   "name": "python3"
  },
  "language_info": {
   "codemirror_mode": {
    "name": "ipython",
    "version": 3
   },
   "file_extension": ".py",
   "mimetype": "text/x-python",
   "name": "python",
   "nbconvert_exporter": "python",
   "pygments_lexer": "ipython3",
   "version": "3.7.3"
  }
 },
 "nbformat": 4,
 "nbformat_minor": 4
}
