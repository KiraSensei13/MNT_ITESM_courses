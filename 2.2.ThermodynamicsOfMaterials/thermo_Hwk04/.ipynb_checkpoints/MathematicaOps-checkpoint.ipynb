{
 "cells": [
  {
   "cell_type": "markdown",
   "metadata": {},
   "source": [
    "# Exercise 1.1"
   ]
  },
  {
   "cell_type": "code",
   "execution_count": 3,
   "metadata": {
    "scrolled": true
   },
   "outputs": [
    {
     "data": {
      "text/html": [
       "<div><img alt=\"Output\" src=\"data:image/png;base64,iVBORw0KGgoAAAANSUhEUgAAAHsAAAArCAIAAADXK2DfAAAAqXpUWHRSYXcgcHJvZmlsZSB0eXBlIGV4aWYAAHjaVU7BDQIxDPt3CkZI08RuxzkdPYkNGB8HEBJ+JK5lx237+bjardD7bJGcWIAJsWL5ITLtg242uqabZX6lw/4Qg45EbwytcCOxxKeYJtItiQsnIGPH3S1O7Q1SMbAcAC66nIPRJNepzeBwcwXSkHQOndmKnFJSLwWjlJPLbRxVXfDNd2H7NW5U9F7fbS+9qDdb5gLobwAAAAlwSFlzAAALEwAACxMBAJqcGAAAAF10RVh0U29mdHdhcmUAQ3JlYXRlZCB3aXRoIHRoZSBXb2xmcmFtIExhbmd1YWdlIGZvciBTdHVkZW50cyAtIFBlcnNvbmFsIFVzZSBPbmx5IDogd3d3LndvbGZyYW0uY29tSN96kwAAACF0RVh0Q3JlYXRpb24gVGltZQAyMDE5OjA5OjA3IDE3OjQ3OjEyGPieSgAAA7lJREFUaIHtmzt26jAQhsc5LCCLkF3cwwrkFRiaVLTp5BI1t0uRIh2NXEJ321Q0kVYQr4BD4dFedAse8RMwQbJJ/FUkEpmZ37LsGU08YwwMOOShawdOoGLvSJjowphOQq9IeYZtvjxoadn0F8mACjTGGBT08LE6h0nHfhljDAq6t9vsWz19XuNfkOmMplvs2o0cZP65jHafgjFUfMvfnrEqDN2H4mrBU/YUde1GLTrbQMW3aPl1M2wmBc1HTr1rTcp9jwMAFfjZS8FV7POxNBXfVOxNVocfWH6k52ucCjQGBU35s+MH4wXoJPQmIM2yRu/JZr+1o6DFsZ4rDgAAZP5P0JQv1Pmp7tBJ6PNxndy7jWaPWvC0OHgPigOQ+QuD1Vt/lrlOnnkKsJrUPh7J/IWl3Pc8z3v7I1jxq54ZMiC33Mca/0kMirtmUNw1g+KuGRR3zQPAN8pgA+15OCaqxhiDs3c/7lWi8QPJ1UT3GemZ6idK0UV51DUo5eUV2DaMdLaB8RPZ1V42QrD0PdMQkcZLRKIpxolazltWll5fX7+1NCzAOX98fKwfwyzzo6YQ28aSN7SvHarYm4A0n5GKeWW+1qXN3f8bfMQJVEUvziQkf916qHgDhyhQayhHseM7sYxIMAY+eRNo5mRXgxk/FU1oxMpZQLaFLZRvBV2eWeds79lHkW23EAQAt48if7hlJDu7jRtjDArW4pjpPpHCUogjgGiJWbgr/F9S+dcq+Zgu53e4evvBUDt0zZBzumZQ3DWD4q75bYrrJA7DMIzt1Y+0isMwDMNYNZiw8gbUXxDRGIOCtmmjusrQsWmrRB/WuIrLfUv2OKYz48Di+63WarEd17c0daW4Sm5zX+skLF4uFR9Lziqpv446WWxf6roebmVaI8If2KzrzVu9tZpAkc/ovtWtiYLmv51LoI2RolrmRMFulTCfMt28rXSiOIqCL5IBk3Lf1tF6fy3EXYm6FLRkAEAppZTeQPda0ygYY4yxJgNdKI6lpScZHMo5bVuDD9/Zx10SvGrqxpwy3UQX+zgC+KVfMbnbV+vblnWB8p8j0xldrRUAqPWKzqb5JyIJILN4jnjKdBM9760FuKAITKYzytdqCesVnaHTEtsVprtQ3AdAgFr31IKnTBZfIwiJzlSod3HHUI1aZxBY7YJuNt2IxV2ukVLtWeZ6Ia9MTJpOaK1Vuc+bbqKbt8O61zYLWH5uXkc3GVA0hcx+lqk+YNq/f6zo7ERCa235GNS+hasYzoBc04dK1u/iP4oAniblZzn1AAAAAElFTkSuQmCC\"></div>"
      ]
     },
     "execution_count": 3,
     "metadata": {
      "text/html": []
     },
     "output_type": "execute_result"
    }
   ],
   "source": [
    "D[Solve[(P + a/V^2)*(V - b) == R*T, P], V] //ToRadicals //First //First //FullSimplify"
   ]
  },
  {
   "cell_type": "code",
   "execution_count": 4,
   "metadata": {},
   "outputs": [
    {
     "data": {
      "text/html": [
       "<div><img alt=\"Output\" src=\"data:image/png;base64,iVBORw0KGgoAAAANSUhEUgAAAEIAAAAmCAIAAAD/U9rzAAAAqXpUWHRSYXcgcHJvZmlsZSB0eXBlIGV4aWYAAHjaVU7BDQIxDPt3CkZI08RuxzkdPYkNGB8HEBJ+JK5lx237+bjardD7bJGcWIAJsWL5ITLtg242uqabZX6lw/4Qg45EbwytcCOxxKeYJtItiQsnIGPH3S1O7Q1SMbAcAC66nIPRJNepzeBwcwXSkHQOndmKnFJSLwWjlJPLbRxVXfDNd2H7NW5U9F7fbS+9qDdb5gLobwAAAAlwSFlzAAALEwAACxMBAJqcGAAAAF10RVh0U29mdHdhcmUAQ3JlYXRlZCB3aXRoIHRoZSBXb2xmcmFtIExhbmd1YWdlIGZvciBTdHVkZW50cyAtIFBlcnNvbmFsIFVzZSBPbmx5IDogd3d3LndvbGZyYW0uY29tSN96kwAAACF0RVh0Q3JlYXRpb24gVGltZQAyMDE5OjA5OjA3IDE3OjQyOjE3X0ya9wAAAgVJREFUWIXtmDFyozAUhh8eH8CHkF35BPIJsJtUtNtJpdVsl8JFujSiNN22qWhWOsFyggwFT3d5W8QQDJhksQ14h69iBh7oQ7zhlzwigsdnNujTrfQKNqHrfqNhNQCAayQiQg3qR3eRwTVOsF3AkxS7ls9vOZYrsK8qEcbvXE9DYkQxjtPH1ZHBPyqukQg1T65pjZH0Btv/0jxRr7brDcahAcD2zwKil64T4tH0+xsPk8aYmDTGxAwAwIWbW8TMAZkBWLlUa0NERBi8LWXnf9CQkBFFnkHNAUCY1viCRrdfMARzl73D+okBWOlt37UWyVvmwGcXvZm/Qxna474pjh4Oh3u97xpKqcVi8XF8CupWelsw9Me3UtWud67SMMufq98yhAaTPjXKzNlqDWr7opH2DKCYmxIOsbacyVJIoXXSeobKzWHEl61BRIRaXLU6uD1AlLc2wLcWL2j0yByIaEq4Y2LSGBOTxj9jpXevwPYos+HCzfk7sLIcxx9Fg+0CHsWfHjaOeLArQkTvGvkm+sWVjbO26cy5R8Wib41oGz8RtW6gY5Y1lpY9qhZ32Yo+T8SMlR4nzNHPx6RSBGBNhehctTCvie3R920c8QDLZ2+v4aqJuDqcLwqzNIXVqqkw94CaRa876kYU8bklSrclT9QchBD1BNuzRsHlKN0aoC8ts/+ThPsX/HUW9DwSUZgAAAAASUVORK5CYII=\"></div>"
      ]
     },
     "execution_count": 4,
     "metadata": {
      "text/html": []
     },
     "output_type": "execute_result"
    }
   ],
   "source": [
    "D[Solve[(P + a/V^2)*(V - b) == R*T, P], T] //ToRadicals //First //First //FullSimplify"
   ]
  },
  {
   "cell_type": "code",
   "execution_count": 9,
   "metadata": {},
   "outputs": [
    {
     "data": {
      "text/html": [
       "<div><img alt=\"Output\" src=\"data:image/png;base64,iVBORw0KGgoAAAANSUhEUgAAAIMAAAAuCAIAAACEfT0BAAAAqXpUWHRSYXcgcHJvZmlsZSB0eXBlIGV4aWYAAHjaVU7BDQIxDPt3CkZI08RuxzkdPYkNGB8HEBJ+JK5lx237+bjardD7bJGcWIAJsWL5ITLtg242uqabZX6lw/4Qg45EbwytcCOxxKeYJtItiQsnIGPH3S1O7Q1SMbAcAC66nIPRJNepzeBwcwXSkHQOndmKnFJSLwWjlJPLbRxVXfDNd2H7NW5U9F7fbS+9qDdb5gLobwAAAAlwSFlzAAALEwAACxMBAJqcGAAAAF10RVh0U29mdHdhcmUAQ3JlYXRlZCB3aXRoIHRoZSBXb2xmcmFtIExhbmd1YWdlIGZvciBTdHVkZW50cyAtIFBlcnNvbmFsIFVzZSBPbmx5IDogd3d3LndvbGZyYW0uY29tSN96kwAAACF0RVh0Q3JlYXRpb24gVGltZQAyMDE5OjA5OjA3IDE3OjQyOjQzJVaqqwAAA/VJREFUeJztmzt2ozAUhi9zZgFZBKaY4xWgFRCaqdy6Q6Vp0k2RPo0o4yVM5SZoBckKfCgs7YUpMDYvCYlIRh7zVwkI6UeXe8Xjs1eWJSxyQD9mHp9TjBBCCFM+s5O55bmREzxDb8HnezS3jxk1d04AAHBO34r1bxNhoNjD1EA/M8hsJCj2LkJZq97wDLUnieJzE84Y/ILjQTqDNMtsly+xQwCaWY+v8ZwICSvLsmQE0m1z8vx4E+4bs00P+3AT+wDgR1G0e9nIQsGzE8S+aasdiR0CRMHJdixsVSc/3oRfBetsuZ5ofZo8wxhjjLfF5kVYnvhHEezUA1FnJhKlEaeD9wfDDitFMciT9vsqTSpP6pzIE4Akb+9lJKy3XRsqiBGSj7eq+63HZSQUjZETwdgyhxouJsl4TnylK8/zvOcjYd1boes1177exsQAVp1NvKXWriSvxu1n5eVAAGD9A0cc+gGcbC5VP013GBL2uYMMrdJtFn+2a4ofb8L0QN/hsA83bHrd55yx1hT7vlpn5wNPRQFBMHSgKYdTZDTDrinNSNgvT+f0T3RKU6lbnepBh+pj3UpUnWQObVcnW5GoZqI/4YyEIJwhYbeSmesZuEgcbWl/IofqJqbJbCRsKbd8PY7LdkZYWLGtKIrhNOujM/2A2PKrGEfeO42Lc666Lt/n4HcTif9e91GdHkFLJFzREglXtETCFS2RcEXn906vr6+z2nhQpWn69PRU/b3cxbqipTq5oiUSrmiJhCtaIuGKlki4oiUSrmiJhCt6hEjwDCOEELZOEap4ERPZdj8JOiHGWFmWjIRaHINVMRJ2v5TPlRO3RIkvn9vWwVwf/VoaJrLVIsEzNMwda8kUZTwFJebZW/Fnwq8CJMx1Y1YGWugT2VqpJCEcFXppYioNMGlKV2Hz6BY4OYSBMJIkE123Ca7hcx8+F5nJofKkkhP+rv6NiR+soUc4Ni8bccUZooxHUWKRIS2UmOJVuj/+3coWbQGz3B20T3fqmpQQ2VpXSCfOGru7vJAaSqwykhGUWIiVyZnrS5vBHXpEdpOLbSO7fayE4lW6zstesaXYe97X/yTdvZUGKOMmSpwWDKA1ntxMza9GEe0RrH4AHxwi1cW5HohxPjAQVMx1ChXxq7XQyEz2dY2EHPvlGVql67zsL3oUPx8JK3d+1ajQ8SrUKINsGHYWM8ty5louPZMquSvAjS/7GvmrUZ0UUOIxU8ZQYoXqJJ4Eyd2HBpGtEIkK2W2oM+yFCg4JEXvqnKsaSqzgywxKrBAJEXMtvw9UJ7Jv94x9I8rYPkpsSbd7xr4NZXwDlNiSbkoU2Ad9Z+WYv6eF7XBFj/BW/D70D+L0xFQjaf5vAAAAAElFTkSuQmCC\"></div>"
      ]
     },
     "execution_count": 9,
     "metadata": {
      "text/html": []
     },
     "output_type": "execute_result"
    }
   ],
   "source": [
    "-(R/(-b + V))/(-((R T)/(b - V)^2) + (2 a)/V^3) //ToRadicals //FullSimplify"
   ]
  },
  {
   "cell_type": "markdown",
   "metadata": {},
   "source": [
    "# Exercise 1.2"
   ]
  },
  {
   "cell_type": "code",
   "execution_count": 10,
   "metadata": {},
   "outputs": [
    {
     "data": {
      "text/html": [
       "<div><img alt=\"Output\" src=\"data:image/png;base64,iVBORw0KGgoAAAANSUhEUgAAAHwAAAAsCAIAAAAo8kseAAAAqXpUWHRSYXcgcHJvZmlsZSB0eXBlIGV4aWYAAHjaVU7BDQIxDPt3CkZI08RuxzkdPYkNGB8HEBJ+JK5lx237+bjardD7bJGcWIAJsWL5ITLtg242uqabZX6lw/4Qg45EbwytcCOxxKeYJtItiQsnIGPH3S1O7Q1SMbAcAC66nIPRJNepzeBwcwXSkHQOndmKnFJSLwWjlJPLbRxVXfDNd2H7NW5U9F7fbS+9qDdb5gLobwAAAAlwSFlzAAALEwAACxMBAJqcGAAAAF10RVh0U29mdHdhcmUAQ3JlYXRlZCB3aXRoIHRoZSBXb2xmcmFtIExhbmd1YWdlIGZvciBTdHVkZW50cyAtIFBlcnNvbmFsIFVzZSBPbmx5IDogd3d3LndvbGZyYW0uY29tSN96kwAAACF0RVh0Q3JlYXRpb24gVGltZQAyMDE5OjA5OjA3IDE3OjQ0OjM42K66OAAAA1JJREFUeJztmjtyqzAUhn8yWUAWIbvIeAWwAuwmFW06VJomfYrbuRGl06VN5eaiFcQr8FAg7YVbGGIeAqxcG/mhr/Lw+Ef8OjpGh+PkeQ7LuDyYHsDtIjn1PM/zKJeNM46N9DMjY281/V77lUMXFemcOpSbHsRJkZKv0tmLXz96BtNl7Dl7vLi5sEwhY68+n5xqjo5T50A9NLrFpRB4xm7TjKT8xAjmhkn5Cy4TGvcmIYp7T45gblU7CTWHVh1b68H6xQ+OlJw80smyzF9kOsM2Fd0Bo04l5RW/WCY94mQRuB8/Ecc3H26wIAoJyVt/ey3IInBrD6YWlzGllFL6mgZvjfyiM9t6NOb/iNNJCBTH9JfJkHjlUE+cJ6zrxCHSkxDN+48TLzmb6UkIpeVJWJnxtuk/R5RTJmroiR8UO2wRQgiRMJYoxavSiruHxGuc5e1Fxp4zR5Kv/eYZTue7YkiCubqysm56Mw8MiJdJQJ1bCvEsTTOlOCqz+L1sZaZ+8QaPAw+qj4y9STRTOQ7IbAc8AwD4KtoibF9SwFfRNkzqEoT4pOdxBsXJInCjDcWHG4i2a4V4lk18f8A0Fb3iTfoXgjatEFOlbQBwGWu9qwws4UF6xQ+j63tDOiandzAsXmJ3pAa4qB3pvWBNN4A13QDWdANY0w3wAFxmXfCWeQA4nUSzojAYfE1urKJ9kVSLBUe93ouEnan8ejc8ymyH2QsBOHXmO8bC7Vcm0bMRJv5C0Jivl4ptPt7f388VHVdOFEVPT0/730XthVNnjiT/9jmNWtdL2Uj0k7fpXxpD4bs1/RgeyXSGaP6HiXxJ9kWj2Us9zKUQonlbliJF74Kw9FCrAHcVwRsIFv7++4Jl/xHjUBo8orYnOgtxliOxVUYD2B2pAazpBrCmG+DOTO9u6hyT+/wjVTR1jsmdRTrQ1dQ5JldterWNrlGU1m/qHBPTG4X/4bCXbnfh6TZ1jsnpm42MQBaBG6UCILUjG772faBo6hQEMqarFMAOwefS2GhvJNJVRSO9ps4xuXbTS5QdoTpNnWNy1X+kKMwWzN1Gr63Pu1pNnWNy7aYDAMjyk7nbaNV8Idm7Ti/N81vJ6cpO/VynqXNM7nNHapibSC/XhjXdAP8Acd8U5CBPjW4AAAAASUVORK5CYII=\"></div>"
      ]
     },
     "execution_count": 10,
     "metadata": {
      "text/html": []
     },
     "output_type": "execute_result"
    }
   ],
   "source": [
    "D[Solve[(P + a/V^2)*(V - b) == R*T, T], V] //ToRadicals //First //First //FullSimplify"
   ]
  },
  {
   "cell_type": "code",
   "execution_count": 11,
   "metadata": {},
   "outputs": [
    {
     "data": {
      "text/html": [
       "<div><img alt=\"Output\" src=\"data:image/png;base64,iVBORw0KGgoAAAANSUhEUgAAAEIAAAAnCAIAAAA0DwlWAAAAqXpUWHRSYXcgcHJvZmlsZSB0eXBlIGV4aWYAAHjaVU7BDQIxDPt3CkZI08RuxzkdPYkNGB8HEBJ+JK5lx237+bjardD7bJGcWIAJsWL5ITLtg242uqabZX6lw/4Qg45EbwytcCOxxKeYJtItiQsnIGPH3S1O7Q1SMbAcAC66nIPRJNepzeBwcwXSkHQOndmKnFJSLwWjlJPLbRxVXfDNd2H7NW5U9F7fbS+9qDdb5gLobwAAAAlwSFlzAAALEwAACxMBAJqcGAAAAF10RVh0U29mdHdhcmUAQ3JlYXRlZCB3aXRoIHRoZSBXb2xmcmFtIExhbmd1YWdlIGZvciBTdHVkZW50cyAtIFBlcnNvbmFsIFVzZSBPbmx5IDogd3d3LndvbGZyYW0uY29tSN96kwAAACF0RVh0Q3JlYXRpb24gVGltZQAyMDE5OjA5OjA3IDE3OjQ0OjQ54OgcaQAAAhJJREFUWIXtmDty4jAAhn8xHIBDCCpOoJzA0KRyu51UoibdFhTp0ogSd9umcrPWCdYnyLiwdBelABu/cBiIH9nxV9ljydInIfRbxDmHn8+sx7a0IEJ38+o+NR7BHp7KY6AFeTrY7O6naNCtz4Lw4qHDgPlbmt32rqEFIYSQ4lCWsVo3PSl7VCz61gg24bNzzhkF+atZxKRpY9WiR9UC8+/vKqwt9o/SQnM8OnpZn2RiANpU0VhbrZjVCfXR83QYMN8Un36/hrXGmFLzle58UTFNEqxWTRUzD9QsANcfEQeP8sv8ulpKKXPtDUYxcM7BqkV61sipdeRSqkXDGcXQNADETbv4eJg0xsSkMSZmwCk+fpF0Rs4M0GIp16d/YuO/L7v6JOgWF102xWubS3kHilR7gSGY2/QD62cKaEE2H0rx+D218K7HIOptjTjo485reLjf77sa7xpSysVicbo+R0MtyAaR++dpIWvly4kVwPJl9Vcc0GDSp0aROV2tITevyrgdBfK5KVBNrACQJkjQOmk944qLoyV4FjGKt8S3IYBz2dIG2oJnjmmNoAMxJdwxMWmMiUljTAyrkR0hPhyuB5+N807Vcox4C4NrnKFbn8VJLfTcSheHn/eg32TMo6bQfBuDZojCAdwNMaiFwX9UTBnnjGLxI0tjJGuD7v4oFsu3u7+fx6EB0N1vjuD13gn5TxLuJ4/wFvYXIXbhAAAAAElFTkSuQmCC\"></div>"
      ]
     },
     "execution_count": 11,
     "metadata": {
      "text/html": []
     },
     "output_type": "execute_result"
    }
   ],
   "source": [
    "D[Solve[(P + a/V^2)*(V - b) == R*T, T], P] //ToRadicals //First //First //FullSimplify"
   ]
  },
  {
   "cell_type": "code",
   "execution_count": 12,
   "metadata": {},
   "outputs": [
    {
     "data": {
      "text/html": [
       "<div><img alt=\"Output\" src=\"data:image/png;base64,iVBORw0KGgoAAAANSUhEUgAAAGQAAAAsCAIAAAAci4oCAAAAqXpUWHRSYXcgcHJvZmlsZSB0eXBlIGV4aWYAAHjaVU7BDQIxDPt3CkZI08RuxzkdPYkNGB8HEBJ+JK5lx237+bjardD7bJGcWIAJsWL5ITLtg242uqabZX6lw/4Qg45EbwytcCOxxKeYJtItiQsnIGPH3S1O7Q1SMbAcAC66nIPRJNepzeBwcwXSkHQOndmKnFJSLwWjlJPLbRxVXfDNd2H7NW5U9F7fbS+9qDdb5gLobwAAAAlwSFlzAAALEwAACxMBAJqcGAAAAF10RVh0U29mdHdhcmUAQ3JlYXRlZCB3aXRoIHRoZSBXb2xmcmFtIExhbmd1YWdlIGZvciBTdHVkZW50cyAtIFBlcnNvbmFsIFVzZSBPbmx5IDogd3d3LndvbGZyYW0uY29tSN96kwAAACF0RVh0Q3JlYXRpb24gVGltZQAyMDE5OjA5OjA3IDE3OjQ1OjAz3O1XFgAAAwFJREFUaIHtmr912zAQxo95GUBD0CryMgE5gawmlUYAy2gE9WrA0p5CTYAJ7An8VAjYhSlIWgDxhzzyGPvF+FW2KHzAfQeCoHBZ0zSQmMa3jx7AmmhZlWVZlpXUJHrZF5hZui7P25en3WKhNWaWrLJKrqA7C63l+frz13KngM4sWdckU13Xpe20rLKyk5Z1KAXhVlop+AFvF5rkNRQozrl6/08wYGK+VGG2FgyKd2nBeUA31qppFC/mD8iAxCzFrbEIBkwI1ibDHPREMSNuJ+pQ0N5WijPGGGMFww7CD4VZapBwwQC6kSteoO0y4h545XY1rRUVFGuWAngYfMRE+/DJ94fi9aoGV7XFUC7fH4rniwQAeXkuDvvcvLaFm39tjLWi4vsKmiNorZRlX57bkeX7Q3G8yCe4PBcHNTXqea1QUJj1AKAAvMOT5+MrE/ZzO893eTyWNu4K3Kj1DbahXUC4FRkU97Lg1hLRr+0AM9b3FsULAM8zddDTxFZU0Gwdws90UsLL+7+BZlO628Nt/T27/AN7kp34XMjeDbXWw4WamPV7GOMrvEiT8V//RENNMgtBMgtBMgtBMgtB97pzOp0+dBifl+PxuNls2r/T1gFBug0RJLMQJLMQJLMQJLMQJLMQJLMQJLMcwuUkaVMawlNOQjKzPlUlCAn+chLDLF2XWUtJU+RBQKxOZBqyyu7YKcWXk/QnF/fiCfyR+6JKkDjxio8JGGNzAsOWk/iOwgRzD9/Ms0DHmGWVIHHxWJ2I+TUh/N2aiRyYgy4n8ZjlSI5eXlgJEhefVvERPH01zBLMSSWunMQxyzet+s9D6Y9mr2maRlngxO+KgXCUUkoJzoVXfOR4fEzcwnoa6rrMHkE0bvmlrB7fOqn2jByD1rZZw/V5RLyvj/FXx3Tit+v15hUHw/2X386xY1x8iOVx6PYzbi7jljOzZ0515GI/It59g7Fo6qfchuHuR8R7erOclPqWJQCAgnOn+6WVIFHx++hiQc83C1FOknbwCNK7IYJkFoK/LkAzjivYryMAAAAASUVORK5CYII=\"></div>"
      ]
     },
     "execution_count": 12,
     "metadata": {
      "text/html": []
     },
     "output_type": "execute_result"
    }
   ],
   "source": [
    "-((-b + V)/R)/((2 a b - a V + P V^3)/(R V^3)) //ToRadicals //FullSimplify"
   ]
  },
  {
   "cell_type": "code",
   "execution_count": null,
   "metadata": {},
   "outputs": [],
   "source": []
  }
 ],
 "metadata": {
  "kernelspec": {
   "display_name": "Wolfram Language 11.3",
   "language": "Wolfram Language",
   "name": "wolframlanguage11.3"
  },
  "language_info": {
   "codemirror_mode": "mathematica",
   "file_extension": ".m",
   "mimetype": "application/vnd.wolfram.m",
   "name": "Wolfram Language",
   "pygments_lexer": "mathematica",
   "version": "12.0"
  }
 },
 "nbformat": 4,
 "nbformat_minor": 4
}
