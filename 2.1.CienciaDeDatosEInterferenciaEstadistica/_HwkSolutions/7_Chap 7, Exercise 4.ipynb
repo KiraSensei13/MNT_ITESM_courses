{
 "cells": [
  {
   "cell_type": "code",
   "execution_count": 1,
   "metadata": {},
   "outputs": [],
   "source": [
    "import numpy as np\n",
    "import scipy.stats as st\n",
    "import matplotlib.pyplot as plt"
   ]
  },
  {
   "cell_type": "code",
   "execution_count": 2,
   "metadata": {},
   "outputs": [],
   "source": [
    "# First, we generate the 1000 binomial draws\n",
    "n, p, r = 90, 0.265, 1000\n",
    "bin_draws = st.binom.rvs(n,p, size=r)\n",
    "pi_draws = bin_draws / n"
   ]
  },
  {
   "cell_type": "code",
   "execution_count": 3,
   "metadata": {},
   "outputs": [],
   "source": [
    "# Then, use 7.21 to transform them into Normal variates\n",
    "xi_draws = np.round(2 * np.sqrt(n + 0.5) * \\\n",
    "           np.arcsin(np.sqrt((n * pi_draws + 0.375) / (n + 0.75))), 2)"
   ]
  },
  {
   "cell_type": "code",
   "execution_count": 4,
   "metadata": {},
   "outputs": [
    {
     "data": {
      "text/plain": [
       "1.0090086315999998"
      ]
     },
     "execution_count": 4,
     "metadata": {},
     "output_type": "execute_result"
    }
   ],
   "source": [
    "# Now, verify variance and approximate normality\n",
    "# We start verifying that the variance is very close to 1.\n",
    "xi_draws.var()"
   ]
  },
  {
   "cell_type": "code",
   "execution_count": 5,
   "metadata": {},
   "outputs": [
    {
     "data": {
      "text/plain": [
       "(array([  1.,  10.,  26., 108., 153., 262., 250., 125.,  39.,  26.]),\n",
       " array([-3.75822, -3.11022, -2.46222, -1.81422, -1.16622, -0.51822,\n",
       "         0.12978,  0.77778,  1.42578,  2.07378,  2.72178]),\n",
       " <a list of 10 Patch objects>)"
      ]
     },
     "execution_count": 5,
     "metadata": {},
     "output_type": "execute_result"
    },
    {
     "data": {
      "image/png": "[encoded data removed]",
      "text/plain": [
       "<Figure size 576x576 with 1 Axes>"
      ]
     },
     "metadata": {
      "needs_background": "light"
     },
     "output_type": "display_data"
    }
   ],
   "source": [
    "# Histogram seems to support approximate normality. Let's check with a Kolmogorov-Smirnov test\n",
    "plt.figure(figsize=(8,8))\n",
    "plt.hist(xi_draws - xi_draws.mean())"
   ]
  },
  {
   "cell_type": "code",
   "execution_count": 6,
   "metadata": {},
   "outputs": [
    {
     "data": {
      "text/plain": [
       "KstestResult(statistic=0.05264800407115827, pvalue=0.0075380720610079615)"
      ]
     },
     "execution_count": 6,
     "metadata": {},
     "output_type": "execute_result"
    }
   ],
   "source": [
    "# Kolmogorov-Smirnov test rejects normality (small p-value).\n",
    "c_xi = xi_draws - xi_draws.mean()\n",
    "st.kstest(c_xi, cdf='norm')\n",
    "# Let's check with an Anderson-Darling one."
   ]
  },
  {
   "cell_type": "code",
   "execution_count": 7,
   "metadata": {},
   "outputs": [
    {
     "data": {
      "text/plain": [
       "AndersonResult(statistic=2.514190287020483, critical_values=array([0.574, 0.653, 0.784, 0.914, 1.088]), significance_level=array([15. , 10. ,  5. ,  2.5,  1. ]))"
      ]
     },
     "execution_count": 7,
     "metadata": {},
     "output_type": "execute_result"
    }
   ],
   "source": [
    "# Anderson-Darling test also rejects normality (high-test statistic).\n",
    "st.anderson(c_xi)"
   ]
  },
  {
   "cell_type": "code",
   "execution_count": 8,
   "metadata": {},
   "outputs": [],
   "source": [
    "# Conclusion is that the variance of the xi's is the unit variance. However, their distrbution doesn't quite appear\n",
    "# to be Normal. One way to improve normality is to increase n (you can change it's value in the second cell of this notebook)"
   ]
  },
  {
   "cell_type": "code",
   "execution_count": null,
   "metadata": {},
   "outputs": [],
   "source": []
  },
  {
   "cell_type": "code",
   "execution_count": null,
   "metadata": {},
   "outputs": [],
   "source": []
  }
 ],
 "metadata": {
  "kernelspec": {
   "display_name": "Python 3",
   "language": "python",
   "name": "python3"
  },
  "language_info": {
   "codemirror_mode": {
    "name": "ipython",
    "version": 3
   },
   "file_extension": ".py",
   "mimetype": "text/x-python",
   "name": "python",
   "nbconvert_exporter": "python",
   "pygments_lexer": "ipython3",
   "version": "3.7.3"
  }
 },
 "nbformat": 4,
 "nbformat_minor": 2
}
