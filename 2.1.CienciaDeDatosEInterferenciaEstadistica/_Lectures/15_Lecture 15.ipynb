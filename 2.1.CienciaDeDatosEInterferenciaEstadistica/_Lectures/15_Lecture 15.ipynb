{
 "cells": [
  {
   "cell_type": "code",
   "execution_count": 5,
   "metadata": {},
   "outputs": [],
   "source": [
    "import pandas as pd\n",
    "import numpy as np\n",
    "import matplotlib.pyplot as plt"
   ]
  },
  {
   "cell_type": "code",
   "execution_count": 6,
   "metadata": {},
   "outputs": [
    {
     "data": {
      "text/html": [
       "<div>\n",
       "<style scoped>\n",
       "    .dataframe tbody tr th:only-of-type {\n",
       "        vertical-align: middle;\n",
       "    }\n",
       "\n",
       "    .dataframe tbody tr th {\n",
       "        vertical-align: top;\n",
       "    }\n",
       "\n",
       "    .dataframe thead th {\n",
       "        text-align: right;\n",
       "    }\n",
       "</style>\n",
       "<table border=\"1\" class=\"dataframe\">\n",
       "  <thead>\n",
       "    <tr style=\"text-align: right;\">\n",
       "      <th></th>\n",
       "      <th>Player</th>\n",
       "      <th>MLE</th>\n",
       "      <th>TRUTH</th>\n",
       "    </tr>\n",
       "  </thead>\n",
       "  <tbody>\n",
       "    <tr>\n",
       "      <th>0</th>\n",
       "      <td>1</td>\n",
       "      <td>0.345</td>\n",
       "      <td>0.298</td>\n",
       "    </tr>\n",
       "    <tr>\n",
       "      <th>1</th>\n",
       "      <td>2</td>\n",
       "      <td>0.333</td>\n",
       "      <td>0.346</td>\n",
       "    </tr>\n",
       "    <tr>\n",
       "      <th>2</th>\n",
       "      <td>3</td>\n",
       "      <td>0.322</td>\n",
       "      <td>0.222</td>\n",
       "    </tr>\n",
       "    <tr>\n",
       "      <th>3</th>\n",
       "      <td>4</td>\n",
       "      <td>0.311</td>\n",
       "      <td>0.276</td>\n",
       "    </tr>\n",
       "    <tr>\n",
       "      <th>4</th>\n",
       "      <td>5</td>\n",
       "      <td>0.289</td>\n",
       "      <td>0.263</td>\n",
       "    </tr>\n",
       "  </tbody>\n",
       "</table>\n",
       "</div>"
      ],
      "text/plain": [
       "   Player    MLE  TRUTH\n",
       "0       1  0.345  0.298\n",
       "1       2  0.333  0.346\n",
       "2       3  0.322  0.222\n",
       "3       4  0.311  0.276\n",
       "4       5  0.289  0.263"
      ]
     },
     "execution_count": 6,
     "metadata": {},
     "output_type": "execute_result"
    }
   ],
   "source": [
    "baseball_df = pd.read_csv('baseball.csv')\n",
    "baseball_df.head()"
   ]
  },
  {
   "cell_type": "markdown",
   "metadata": {},
   "source": [
    "#### We suppose that number of hits for player i $h_i \\sim Bin(90, \\pi_i)$.\n",
    "#### Thus, each player's batting average $p_i \\sim Bin(90, \\pi_i)/90$, where $\\pi_i$ is its true average.\n",
    "#### MLE column represents MLE estimate of $p_i$ (mean proportion) of first 90 at bats"
   ]
  },
  {
   "cell_type": "code",
   "execution_count": 9,
   "metadata": {},
   "outputs": [],
   "source": [
    "# Using Normal Approximation...\n",
    "# Get binomial variance\n",
    "baseball_df['pi_90'] = baseball_df['MLE']\n",
    "p_bar = baseball_df['pi_90'].mean()\n",
    "p_variance = p_bar * (1- p_bar) / 90\n",
    "# Transform to N(mu, 1) distr.\n",
    "baseball_df['x_norm'] = baseball_df['pi_90'] / np.sqrt(p_variance)\n",
    "# Get sum of squares of pi vs p_bar\n",
    "ssq_pi = np.sum((baseball_df['pi_90'] - p_bar) ** 2)\n",
    "baseball_df['p_hat_JS'] = p_bar + (1 - (18 - 3) * p_variance / ssq_pi) * (baseball_df['pi_90'] - p_bar)"
   ]
  },
  {
   "cell_type": "code",
   "execution_count": 10,
   "metadata": {},
   "outputs": [
    {
     "data": {
      "text/html": [
       "<div>\n",
       "<style scoped>\n",
       "    .dataframe tbody tr th:only-of-type {\n",
       "        vertical-align: middle;\n",
       "    }\n",
       "\n",
       "    .dataframe tbody tr th {\n",
       "        vertical-align: top;\n",
       "    }\n",
       "\n",
       "    .dataframe thead th {\n",
       "        text-align: right;\n",
       "    }\n",
       "</style>\n",
       "<table border=\"1\" class=\"dataframe\">\n",
       "  <thead>\n",
       "    <tr style=\"text-align: right;\">\n",
       "      <th></th>\n",
       "      <th>MLE</th>\n",
       "      <th>p_hat_JS</th>\n",
       "      <th>TRUTH</th>\n",
       "      <th>x_norm</th>\n",
       "    </tr>\n",
       "  </thead>\n",
       "  <tbody>\n",
       "    <tr>\n",
       "      <th>0</th>\n",
       "      <td>0.345</td>\n",
       "      <td>0.284893</td>\n",
       "      <td>0.298</td>\n",
       "      <td>7.522698</td>\n",
       "    </tr>\n",
       "    <tr>\n",
       "      <th>1</th>\n",
       "      <td>0.333</td>\n",
       "      <td>0.280786</td>\n",
       "      <td>0.346</td>\n",
       "      <td>7.261039</td>\n",
       "    </tr>\n",
       "    <tr>\n",
       "      <th>2</th>\n",
       "      <td>0.322</td>\n",
       "      <td>0.277021</td>\n",
       "      <td>0.222</td>\n",
       "      <td>7.021185</td>\n",
       "    </tr>\n",
       "    <tr>\n",
       "      <th>3</th>\n",
       "      <td>0.311</td>\n",
       "      <td>0.273255</td>\n",
       "      <td>0.276</td>\n",
       "      <td>6.781331</td>\n",
       "    </tr>\n",
       "    <tr>\n",
       "      <th>4</th>\n",
       "      <td>0.289</td>\n",
       "      <td>0.265725</td>\n",
       "      <td>0.263</td>\n",
       "      <td>6.301622</td>\n",
       "    </tr>\n",
       "    <tr>\n",
       "      <th>5</th>\n",
       "      <td>0.289</td>\n",
       "      <td>0.265725</td>\n",
       "      <td>0.273</td>\n",
       "      <td>6.301622</td>\n",
       "    </tr>\n",
       "    <tr>\n",
       "      <th>6</th>\n",
       "      <td>0.278</td>\n",
       "      <td>0.261959</td>\n",
       "      <td>0.303</td>\n",
       "      <td>6.061768</td>\n",
       "    </tr>\n",
       "    <tr>\n",
       "      <th>7</th>\n",
       "      <td>0.255</td>\n",
       "      <td>0.254087</td>\n",
       "      <td>0.270</td>\n",
       "      <td>5.560255</td>\n",
       "    </tr>\n",
       "    <tr>\n",
       "      <th>8</th>\n",
       "      <td>0.244</td>\n",
       "      <td>0.250321</td>\n",
       "      <td>0.230</td>\n",
       "      <td>5.320401</td>\n",
       "    </tr>\n",
       "    <tr>\n",
       "      <th>9</th>\n",
       "      <td>0.233</td>\n",
       "      <td>0.246556</td>\n",
       "      <td>0.264</td>\n",
       "      <td>5.080547</td>\n",
       "    </tr>\n",
       "    <tr>\n",
       "      <th>10</th>\n",
       "      <td>0.233</td>\n",
       "      <td>0.246556</td>\n",
       "      <td>0.264</td>\n",
       "      <td>5.080547</td>\n",
       "    </tr>\n",
       "    <tr>\n",
       "      <th>11</th>\n",
       "      <td>0.222</td>\n",
       "      <td>0.242791</td>\n",
       "      <td>0.210</td>\n",
       "      <td>4.840693</td>\n",
       "    </tr>\n",
       "    <tr>\n",
       "      <th>12</th>\n",
       "      <td>0.222</td>\n",
       "      <td>0.242791</td>\n",
       "      <td>0.256</td>\n",
       "      <td>4.840693</td>\n",
       "    </tr>\n",
       "    <tr>\n",
       "      <th>13</th>\n",
       "      <td>0.222</td>\n",
       "      <td>0.242791</td>\n",
       "      <td>0.269</td>\n",
       "      <td>4.840693</td>\n",
       "    </tr>\n",
       "    <tr>\n",
       "      <th>14</th>\n",
       "      <td>0.211</td>\n",
       "      <td>0.239025</td>\n",
       "      <td>0.316</td>\n",
       "      <td>4.600839</td>\n",
       "    </tr>\n",
       "    <tr>\n",
       "      <th>15</th>\n",
       "      <td>0.211</td>\n",
       "      <td>0.239025</td>\n",
       "      <td>0.226</td>\n",
       "      <td>4.600839</td>\n",
       "    </tr>\n",
       "    <tr>\n",
       "      <th>16</th>\n",
       "      <td>0.200</td>\n",
       "      <td>0.235260</td>\n",
       "      <td>0.285</td>\n",
       "      <td>4.360984</td>\n",
       "    </tr>\n",
       "    <tr>\n",
       "      <th>17</th>\n",
       "      <td>0.145</td>\n",
       "      <td>0.216434</td>\n",
       "      <td>0.200</td>\n",
       "      <td>3.161714</td>\n",
       "    </tr>\n",
       "  </tbody>\n",
       "</table>\n",
       "</div>"
      ],
      "text/plain": [
       "      MLE  p_hat_JS  TRUTH    x_norm\n",
       "0   0.345  0.284893  0.298  7.522698\n",
       "1   0.333  0.280786  0.346  7.261039\n",
       "2   0.322  0.277021  0.222  7.021185\n",
       "3   0.311  0.273255  0.276  6.781331\n",
       "4   0.289  0.265725  0.263  6.301622\n",
       "5   0.289  0.265725  0.273  6.301622\n",
       "6   0.278  0.261959  0.303  6.061768\n",
       "7   0.255  0.254087  0.270  5.560255\n",
       "8   0.244  0.250321  0.230  5.320401\n",
       "9   0.233  0.246556  0.264  5.080547\n",
       "10  0.233  0.246556  0.264  5.080547\n",
       "11  0.222  0.242791  0.210  4.840693\n",
       "12  0.222  0.242791  0.256  4.840693\n",
       "13  0.222  0.242791  0.269  4.840693\n",
       "14  0.211  0.239025  0.316  4.600839\n",
       "15  0.211  0.239025  0.226  4.600839\n",
       "16  0.200  0.235260  0.285  4.360984\n",
       "17  0.145  0.216434  0.200  3.161714"
      ]
     },
     "execution_count": 10,
     "metadata": {},
     "output_type": "execute_result"
    }
   ],
   "source": [
    "baseball_df[['MLE', 'p_hat_JS', 'TRUTH', 'x_norm']]"
   ]
  },
  {
   "cell_type": "code",
   "execution_count": 11,
   "metadata": {},
   "outputs": [
    {
     "data": {
      "text/plain": [
       "(0.04251199999999998, 0.02125445075434289)"
      ]
     },
     "execution_count": 11,
     "metadata": {},
     "output_type": "execute_result"
    }
   ],
   "source": [
    "# Now compute Sum of Squared Errors for both MLE and JS\n",
    "(((baseball_df['MLE'] - baseball_df['TRUTH']) ** 2).sum(), \n",
    "((baseball_df['p_hat_JS'] - baseball_df['TRUTH']) ** 2).sum())"
   ]
  },
  {
   "cell_type": "code",
   "execution_count": 13,
   "metadata": {},
   "outputs": [
    {
     "data": {
      "image/png": "[encoded data removed]",
      "text/plain": [
       "<Figure size 1440x720 with 1 Axes>"
      ]
     },
     "metadata": {
      "needs_background": "light"
     },
     "output_type": "display_data"
    }
   ],
   "source": [
    "fig = plt.figure(figsize=(20,10))\n",
    "ax = fig.add_subplot(1,1,1)\n",
    "ax.plot(baseball_df['MLE'], np.repeat(5,baseball_df.shape[0]), '.r')\n",
    "ax.plot(baseball_df['p_hat_JS'], np.repeat(3,baseball_df.shape[0]), '.k')\n",
    "ax.plot(baseball_df['TRUTH'], np.repeat(1,baseball_df.shape[0]), '.b')\n",
    "ax.set_yticks(np.arange(6))\n",
    "ax.set_yticklabels(('','TRUE', '', 'JAMES-STEIN', '', 'MLE'))\n",
    "fig.show()"
   ]
  },
  {
   "cell_type": "code",
   "execution_count": null,
   "metadata": {},
   "outputs": [],
   "source": []
  }
 ],
 "metadata": {
  "kernelspec": {
   "display_name": "Python 3",
   "language": "python",
   "name": "python3"
  },
  "language_info": {
   "codemirror_mode": {
    "name": "ipython",
    "version": 3
   },
   "file_extension": ".py",
   "mimetype": "text/x-python",
   "name": "python",
   "nbconvert_exporter": "python",
   "pygments_lexer": "ipython3",
   "version": "3.7.3"
  }
 },
 "nbformat": 4,
 "nbformat_minor": 2
}
