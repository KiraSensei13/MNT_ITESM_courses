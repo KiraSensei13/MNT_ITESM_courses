{
 "cells": [
  {
   "cell_type": "markdown",
   "metadata": {},
   "source": [
    "<h1>\n",
    "    Ciencia de datos e inferencia estadística (Ago 19 Gpo 1): <br>\n",
    "    <b>Case Study 01</b>\n",
    "</h1>\n",
    "\n",
    "<table width=\"75%\" align=\"center\">\n",
    "    <tr>\n",
    "        <th align=\"left\" colspan=\"2\">\n",
    "            <h2><b>Code Players</b> (aka. Team 11)<b>:</b></h2>\n",
    "        </th>\n",
    "    </tr>\n",
    "    <tr>\n",
    "        <td><h3>Antonio Osamu Katagiri Tanaka</h3></td>\n",
    "        <td><h4>A01212611@itesm.mx</h4></td>\n",
    "    </tr>\n",
    "    <tr>\n",
    "        <td><h3>Diego Sebastián Ceciliano Franco</h3></td>\n",
    "        <td><h4>A01373414@itesm.mx</h4></td>\n",
    "    </tr>\n",
    "    <tr>\n",
    "        <td><h3>Carlos Cardoso Isidoro</h3></td>\n",
    "        <td><h4>A01750267@itesm.mx</h4></td>\n",
    "    </tr>\n",
    "    <tr>\n",
    "        <td><h3>Jesús Alberto Martínez Espinosa</h3></td>\n",
    "        <td><h4>A01750270@itesm.mx</h4></td>\n",
    "    </tr>\n",
    "</table>\n",
    "\n",
    "<h1>Chapter 06 - <b>Empirical Bayes</b>.</h1>\n",
    "<h2>Efron, B., & Hastie, T. (2017). <b>Computer Age Statistical Inference</b>.</h2>"
   ]
  },
  {
   "cell_type": "markdown",
   "metadata": {},
   "source": [
    "### Setup"
   ]
  },
  {
   "cell_type": "code",
   "execution_count": 1,
   "metadata": {},
   "outputs": [],
   "source": [
    "%matplotlib inline\n",
    "\n",
    "import numpy as np\n",
    "import pandas as pd\n",
    "import matplotlib.pyplot as plt\n",
    "plt.rc('xtick', labelsize=15)     \n",
    "plt.rc('ytick', labelsize=15)\n",
    "\n",
    "from matplotlib.collections import LineCollection\n",
    "from math import factorial, log\n",
    "from scipy import special, optimize"
   ]
  },
  {
   "cell_type": "markdown",
   "metadata": {},
   "source": [
    "---\n",
    "# 6.1 Robbins' Formula"
   ]
  },
  {
   "cell_type": "markdown",
   "metadata": {},
   "source": [
    "### Data"
   ]
  },
  {
   "cell_type": "code",
   "execution_count": 2,
   "metadata": {},
   "outputs": [
    {
     "name": "stdout",
     "output_type": "stream",
     "text": [
      "{0: 7840, 1: 1317, 2: 239, 3: 42, 4: 14, 5: 4, 6: 4, 7: 1}\n"
     ]
    }
   ],
   "source": [
    "counts = dict(enumerate([7840, 1317, 239, 42, 14, 4, 4, 1]));\n",
    "print(counts);"
   ]
  },
  {
   "cell_type": "markdown",
   "metadata": {},
   "source": [
    "### Robbins' formula calculations"
   ]
  },
  {
   "cell_type": "markdown",
   "metadata": {},
   "source": [
    "#### Empirical version\n",
    "\n",
    "$$ \\hat{E} \\{\\theta | x\\} = \\frac{(x + 1) \\hat{f}(x + 1)}{\\hat{f}(x)} = \\frac{(x + 1) y_{x + 1}}{y_x} $$"
   ]
  },
  {
   "cell_type": "code",
   "execution_count": 3,
   "metadata": {},
   "outputs": [],
   "source": [
    "formula6p7 = [0] * (len(counts) - 1);\n",
    "for i in range(len(counts) - 1):\n",
    "    formula6p7[i] = ((i + 1) * counts[i + 1] / counts[i]);"
   ]
  },
  {
   "cell_type": "markdown",
   "metadata": {},
   "source": [
    "#### Gamma-prior version\n",
    "\n",
    "$$ g(\\theta) = \\frac{\\theta^{\\nu - 1} \\epsilon^{-\\frac{\\theta}{\\sigma}}}{\\sigma^{\\nu} \\Gamma (\\nu)} \\text{, for } \\theta \\geq 0 $$"
   ]
  },
  {
   "cell_type": "code",
   "execution_count": 4,
   "metadata": {},
   "outputs": [],
   "source": [
    "def f(x, nu, sigma):\n",
    "    gamma = sigma / (1 + sigma);\n",
    "    numer = gamma ** (nu + x) * special.gamma(nu + x);\n",
    "    denom = sigma ** nu * special.gamma(nu) * factorial(x);\n",
    "    return numer / denom;"
   ]
  },
  {
   "cell_type": "markdown",
   "metadata": {},
   "source": [
    "parameters $\\nu$ and $\\sigma$ unknown. Estimates $(\\hat{\\nu}, \\hat{\\sigma})$ are obtained by maximum likelihood fitting to the counts yx"
   ]
  },
  {
   "cell_type": "code",
   "execution_count": 5,
   "metadata": {},
   "outputs": [
    {
     "name": "stdout",
     "output_type": "stream",
     "text": [
      "      fun: 5348.039959663243\n",
      " hess_inv: <2x2 LbfgsInvHessProduct with dtype=float64>\n",
      "      jac: array([-0.02601155, -0.05820766])\n",
      "  message: b'CONVERGENCE: REL_REDUCTION_OF_F_<=_FACTR*EPSMCH'\n",
      "     nfev: 54\n",
      "      nit: 15\n",
      "   status: 0\n",
      "  success: True\n",
      "        x: array([0.7015099 , 0.30555692])\n"
     ]
    }
   ],
   "source": [
    "def negloglikelihood(params):\n",
    "    nu, sigma = params;\n",
    "    summation = 0;\n",
    "    \n",
    "    for x in range(len(counts)):\n",
    "        summation += (counts[x] * log(f(x, nu, sigma)));\n",
    "    \n",
    "    return -summation;\n",
    "\n",
    "results = optimize.minimize(\n",
    "    negloglikelihood,\n",
    "    x0 = [0.5, 1.0],\n",
    "    bounds=[[0, None], [0, None]]\n",
    ");\n",
    "\n",
    "print(results);\n",
    "nu, sigma = results.x;"
   ]
  },
  {
   "cell_type": "markdown",
   "metadata": {},
   "source": [
    "function to compute: $\\gamma^{MLE}$\n",
    "$$ \\gamma^{MLE} = \\frac{(x + 1) \\hat{f}(x + 1)}{\\hat{f}(x)} $$"
   ]
  },
  {
   "cell_type": "code",
   "execution_count": 6,
   "metadata": {},
   "outputs": [],
   "source": [
    "def gamma_mle_(counts, nu, sigma):\n",
    "    gamma_mle = [0] * (len(counts) - 1);\n",
    "    \n",
    "    for x in range(len(counts) - 1):\n",
    "        gamma_mle[x] = (x + 1) * f(x + 1, nu, sigma) / f(x, nu, sigma);\n",
    "    \n",
    "    return gamma_mle;"
   ]
  },
  {
   "cell_type": "markdown",
   "metadata": {},
   "source": [
    "### Table 6.1"
   ]
  },
  {
   "cell_type": "code",
   "execution_count": 7,
   "metadata": {},
   "outputs": [
    {
     "name": "stdout",
     "output_type": "stream",
     "text": [
      "Claims x            0      1      2      3      4      5      6      7\n",
      "----------------------------------------------------------------------\n",
      "Counts y_x       7840   1317    239     42     14      4      4      1\n",
      "Formula (6.7)   0.168  0.363  0.527   1.33   1.43   6.00   1.75\n",
      "Gamma MLE       0.164  0.398  0.632  0.866   1.10   1.33   1.57\n"
     ]
    }
   ],
   "source": [
    "gamma_mle = gamma_mle_(counts, nu, sigma);\n",
    "\n",
    "tmplt_int = \"  \".join([\"{:<14}\"] + [\"{:>5}\"]*8);\n",
    "tmplt_flt = \"  \".join([\"{:<14}\"] + [\"{:>#5.3g}\"]*7);\n",
    "\n",
    "print(tmplt_int.format(\"Claims x\", *list(range(8))));\n",
    "print(\"-\" * 70);\n",
    "print(tmplt_int.format('Counts y_x', *counts.values(), 0));\n",
    "print(tmplt_flt.format('Formula (6.7)', *formula6p7, 0));\n",
    "print(tmplt_flt.format('Gamma MLE', *gamma_mle, 0));"
   ]
  },
  {
   "cell_type": "markdown",
   "metadata": {},
   "source": [
    "### Figure 6.1"
   ]
  },
  {
   "cell_type": "code",
   "execution_count": 8,
   "metadata": {},
   "outputs": [
    {
     "data": {
      "text/plain": [
       "<module 'matplotlib.pyplot' from 'C:\\\\Users\\\\oskat\\\\Anaconda3\\\\lib\\\\site-packages\\\\matplotlib\\\\pyplot.py'>"
      ]
     },
     "metadata": {},
     "output_type": "display_data"
    },
    {
     "data": {
      "image/png": "[encoded data removed]",
      "text/plain": [
       "<Figure size 1296x864 with 1 Axes>"
      ]
     },
     "metadata": {
      "needs_background": "light"
     },
     "output_type": "display_data"
    }
   ],
   "source": [
    "scale = 6;\n",
    "plt.subplots(figsize=(3*scale, 2*scale));\n",
    "\n",
    "# Calculate the number of events\n",
    "n_events = 0;\n",
    "for claims, count in counts.items():\n",
    "    n_events += count;\n",
    "\n",
    "# Compute the gamma_mle fit\n",
    "n_counts = len(counts);\n",
    "gamma_mle_fit = [0] * (n_counts - 1);\n",
    "for x in range(n_counts - 1):\n",
    "    gamma_mle_fit[x] = log(n_events * f(x, nu, sigma));\n",
    "\n",
    "# Compute log(counts)\n",
    "log_counts = [0] * (n_counts);\n",
    "for x in range(n_counts):\n",
    "    log_counts[x] = log(counts[x]);\n",
    "\n",
    "# Plot\n",
    "plt.plot(range(n_counts-1), gamma_mle_fit, ':', linewidth=3, label=r'$\\gamma^{MLE}$' + ' fit');\n",
    "plt.scatter(range(n_counts), log_counts, label='Auto accident data vs claims');\n",
    "\n",
    "# Origin axis\n",
    "Xzeros = np.linspace(0, 0, n_counts);\n",
    "plt.plot(range(n_counts), Xzeros, ':', linewidth=0.5);\n",
    "Yzeros = np.linspace(0, 0, n_counts+2);\n",
    "plt.plot(Yzeros, range(n_counts+2), ':', linewidth=0.5);\n",
    "\n",
    "# Display plots\n",
    "plt.yscale('linear');\n",
    "plt.xlabel('claims', fontsize=24);\n",
    "plt.ylabel('log(counts)', fontsize=24);\n",
    "plt.title('Figure 6.1', size=24);\n",
    "plt.legend(prop={'size': 18});\n",
    "display(plt);"
   ]
  },
  {
   "cell_type": "markdown",
   "metadata": {},
   "source": [
    "---\n",
    "# 6.2 The Missing-Species Problem"
   ]
  },
  {
   "cell_type": "markdown",
   "metadata": {},
   "source": [
    "### Data"
   ]
  },
  {
   "cell_type": "code",
   "execution_count": 9,
   "metadata": {},
   "outputs": [],
   "source": [
    "butterflies_df = pd.read_csv(\"./data/butterfly.txt\", delimiter=\" \", index_col=\"x\");"
   ]
  },
  {
   "cell_type": "markdown",
   "metadata": {},
   "source": [
    "### Table 6.2"
   ]
  },
  {
   "cell_type": "code",
   "execution_count": 10,
   "metadata": {},
   "outputs": [
    {
     "name": "stdout",
     "output_type": "stream",
     "text": [
      "x        1    2    3    4    5    6    7    8    9   10   11   12\n",
      "-----------------------------------------------------------------\n",
      "y      118   74   44   24   29   22   20   19   20   15   12   14\n",
      "\n",
      "\n",
      "x       13   14   15   16   17   18   19   20   21   22   23   24\n",
      "-----------------------------------------------------------------\n",
      "y        6   12    6    9    9    6   10   10   11    5    3    3\n"
     ]
    }
   ],
   "source": [
    "n_butterflies_df = len(butterflies_df);\n",
    "nHalf_butterflies_df = int(n_butterflies_df/2);\n",
    "\n",
    "tmplt_int = \"  \".join([\"{:<5}\"] + [\"{:>3}\"]*nHalf_butterflies_df);\n",
    "\n",
    "butterflies_lst1 = [butterflies_df.iat[i, 0] for i in range(0,nHalf_butterflies_df)];\n",
    "butterflies_lst2 = [butterflies_df.iat[i, 0] for i in range(nHalf_butterflies_df,n_butterflies_df)];\n",
    "\n",
    "print(tmplt_int.format(\"x\", *range(1, nHalf_butterflies_df+1)));\n",
    "print(\"-\" * 65);\n",
    "print(tmplt_int.format('y', *butterflies_lst1));\n",
    "print(\"\\n\");\n",
    "print(tmplt_int.format(\"x\", *range(nHalf_butterflies_df+1, n_butterflies_df+1)));\n",
    "print(\"-\" * 65);\n",
    "print(tmplt_int.format('y', *butterflies_lst2));"
   ]
  },
  {
   "cell_type": "markdown",
   "metadata": {},
   "source": [
    "### Table 6.3"
   ]
  },
  {
   "cell_type": "markdown",
   "metadata": {},
   "source": [
    "$$ \\hat{E}(t) = y_1 t - y_2 t^2 + y_3 t^3 - \\ldots $$"
   ]
  },
  {
   "cell_type": "code",
   "execution_count": 11,
   "metadata": {},
   "outputs": [],
   "source": [
    "def nonpar_bayes(butterflies, t):\n",
    "    result = 0.0;\n",
    "\n",
    "    for n_times, row in butterflies.iterrows():\n",
    "        n_butterflies = row[\"y\"];\n",
    "        \n",
    "        # multiply (-1)**(n_times - 1) as the sign is positive\n",
    "        # for odd indexes and negative for even indexes\n",
    "        \n",
    "        result += (-1)**(n_times - 1) * n_butterflies * t**n_times;\n",
    "    return result;"
   ]
  },
  {
   "cell_type": "markdown",
   "metadata": {},
   "source": [
    "$$ \\hat{sd}(t) = \\left(\\sum _{x=1}^{24} y_x t^{2x}\\right)^{\\frac{1}{2}} $$"
   ]
  },
  {
   "cell_type": "code",
   "execution_count": 12,
   "metadata": {},
   "outputs": [],
   "source": [
    "def sd_hat(butterflies, t):\n",
    "    variance = 0.0;\n",
    "    \n",
    "    for n_times, row in butterflies.iterrows():\n",
    "        n_butterflies = row[\"y\"];\n",
    "        \n",
    "        '''The sd_hat(t) values do not match table 6.3 from the book.\n",
    "        If the exponent is changed from '2 * n_times' to just 2,\n",
    "        then the values match:'''\n",
    "        #variance += n_butterflies * t**(2 * n_times);\n",
    "        variance += n_butterflies * t**(2);\n",
    "        \n",
    "    return np.sqrt(variance);"
   ]
  },
  {
   "cell_type": "code",
   "execution_count": 21,
   "metadata": {},
   "outputs": [],
   "source": [
    "t = np.linspace(0.0, 1, 11);\n",
    "n_t = len(t);\n",
    "\n",
    "i_count = 0;\n",
    "nonpar_vals = [0] * n_t;\n",
    "for i in t:\n",
    "    nonpar_vals[i_count] = nonpar_bayes(butterflies_df, i);\n",
    "    i_count += 1;\n",
    "\n",
    "i_count = 0;\n",
    "sd_hat_vals = [0] * n_t;\n",
    "for i in t:\n",
    "    sd_hat_vals[i_count] = sd_hat(butterflies_df, i);\n",
    "    i_count += 1;"
   ]
  },
  {
   "cell_type": "code",
   "execution_count": 44,
   "metadata": {},
   "outputs": [
    {
     "name": "stdout",
     "output_type": "stream",
     "text": [
      "        t    0.0    0.1    0.2    0.3    0.4    0.5    0.6    0.7    0.8    0.9    1.0\n",
      "--------------------------------------------------------------------------------------\n",
      "     E(t)   0.00  11.10  20.96  29.79  37.79  45.17  52.15  58.93  65.57  71.56  75.00\n",
      "sd_hat(t)   0.00   2.24   4.48   6.71   8.95  11.19  13.43  15.67  17.91  20.14  22.38\n"
     ]
    }
   ],
   "source": [
    "tmplt_t = \"  {:>5.1f}\" * n_t;\n",
    "tmplt = \"  {:>5.2f}\" * n_t;\n",
    "\n",
    "print(\"        t\" + tmplt_t.format(*t));\n",
    "print(\"-\" * 86);\n",
    "print(\"     E(t)\" + tmplt.format(*nonpar_vals));\n",
    "print(\"sd_hat(t)\" + tmplt.format(*sd_hat_vals));"
   ]
  },
  {
   "cell_type": "markdown",
   "metadata": {},
   "source": [
    "### Figure 6.2"
   ]
  },
  {
   "cell_type": "markdown",
   "metadata": {},
   "source": [
    "$$ E(t) = \\frac{e_1 \\left\\{ 1 - (1 + \\gamma t)^{-\\nu} \\right\\}}{\\gamma \\nu} $$"
   ]
  },
  {
   "cell_type": "code",
   "execution_count": 23,
   "metadata": {},
   "outputs": [],
   "source": [
    "def par_bayes(butterflies_df, t):\n",
    "    nu = 0.104;\n",
    "    sigma = 89.79;\n",
    "    gamma = sigma / (1 + sigma);\n",
    "    \n",
    "    numer = butterflies_df.iloc[0]['y'] * (1 - (1 + gamma * t)**(-nu));\n",
    "    denom = gamma * nu;\n",
    "    return  numer / denom;"
   ]
  },
  {
   "cell_type": "code",
   "execution_count": 24,
   "metadata": {},
   "outputs": [],
   "source": [
    "# Calculate the parametric empirical Bayes estimates\n",
    "par_vals = [0] * n_t\n",
    "i_count = 0;\n",
    "for i in t:\n",
    "    par_vals[i_count] = par_bayes(butterflies_df, i);\n",
    "    i_count += 1;"
   ]
  },
  {
   "cell_type": "code",
   "execution_count": 25,
   "metadata": {},
   "outputs": [],
   "source": [
    "# Calculate the non-parametric empirical Bayes estimates\n",
    "# standard deviation lines\n",
    "sd_lines = LineCollection([\n",
    "    [[t, exp - sd], [t, exp + sd]]\n",
    "    for t, exp, sd in zip(t, nonpar_vals, sd_hat_vals)\n",
    "])"
   ]
  },
  {
   "cell_type": "code",
   "execution_count": 26,
   "metadata": {},
   "outputs": [],
   "source": [
    "# Calculate the Gamma model values for t = 2, 4, and 8\n",
    "beyond_t = (2, 4, 8);\n",
    "n_exp = [0] * len(beyond_t)\n",
    "i_count = 0;\n",
    "for i in beyond_t:\n",
    "    n_exp[i_count] = int(round(par_bayes(butterflies_df, i)))\n",
    "    i_count += 1;"
   ]
  },
  {
   "cell_type": "code",
   "execution_count": 28,
   "metadata": {},
   "outputs": [
    {
     "data": {
      "text/plain": [
       "<module 'matplotlib.pyplot' from 'C:\\\\Users\\\\oskat\\\\Anaconda3\\\\lib\\\\site-packages\\\\matplotlib\\\\pyplot.py'>"
      ]
     },
     "metadata": {},
     "output_type": "display_data"
    },
    {
     "data": {
      "image/png": "[encoded data removed]",
      "text/plain": [
       "<Figure size 1296x864 with 1 Axes>"
      ]
     },
     "metadata": {
      "needs_background": "light"
     },
     "output_type": "display_data"
    }
   ],
   "source": [
    "scale = 6;\n",
    "plt.subplots(figsize=(3*scale, 2*scale));\n",
    "\n",
    "# Plot\n",
    "plt.plot(t, par_vals, ':', linewidth=3, label='gamma model');\n",
    "plt.plot(t, nonpar_vals, '-', linewidth=3, label='Nonparametric fit ' + r'$\\pm$' + ' 1 sd');\n",
    "\n",
    "# Legends for the Gamma model values for t = 2, 4, and 8\n",
    "i_count = 0;\n",
    "for i in beyond_t:\n",
    "    plt.plot(0, 0, '-', linewidth=0, label=r'$\\hat{E}$(' + str(i) + ') = ' + str(n_exp[i_count]));\n",
    "    i_count += 1;\n",
    "\n",
    "# Origin axis\n",
    "Xzeros = np.linspace(0, 0, len(par_vals));\n",
    "plt.plot(np.linspace(min(t), max(t), len(par_vals)), Xzeros, ':', linewidth=0.5);\n",
    "Yzeros = np.linspace(0, 0, len(t));\n",
    "plt.plot(Yzeros, np.linspace(min(par_vals), max(par_vals), len(t)), ':', linewidth=0.5);\n",
    "\n",
    "# Display plots\n",
    "plt.yscale('linear');\n",
    "plt.xlabel('time t', fontsize=24);\n",
    "plt.ylabel(r'$\\hat{E}(t)$', fontsize=24);\n",
    "plt.title('Figure 6.2', size=24);\n",
    "plt.legend(prop={'size': 18});\n",
    "display(plt);"
   ]
  },
  {
   "cell_type": "markdown",
   "metadata": {},
   "source": [
    "### Table 6.4"
   ]
  },
  {
   "cell_type": "markdown",
   "metadata": {},
   "source": [
    "### Data"
   ]
  },
  {
   "cell_type": "code",
   "execution_count": 117,
   "metadata": {},
   "outputs": [],
   "source": [
    "shakespeare_df = pd.read_csv(\"./data/shakespeare.txt\", delimiter=\" \");"
   ]
  },
  {
   "cell_type": "code",
   "execution_count": 118,
   "metadata": {},
   "outputs": [
    {
     "name": "stdout",
     "output_type": "stream",
     "text": [
      "            1.0     2.0     3.0     4.0     5.0     6.0     7.0     8.0     9.0     10.0 \n",
      "------------------------------------------------------------------------------------------\n",
      "     0.0+   14376   4343    2292    1463    1043    837     638     519     430     364  \n",
      "     10.0+   305     259     242     223     187     181     179     130     127     128  \n",
      "     20.0+   104     105     99      112     93      74      83      76      72      63   \n",
      "     30.0+   73      47      56      59      53      45      34      49      45      52   \n",
      "     40.0+   49      41      30      35      37      21      41      30      28      19   \n",
      "     50.0+   25      19      28      27      31      19      19      22      23      14   \n",
      "     60.0+   30      19      21      18      15      10      15      14      11      16   \n",
      "     70.0+   13      12      10      16      18      11      8       15      12      7    \n",
      "     80.0+   13      12      11      8       10      11      7       12      9       8    \n",
      "     90.0+   4       7       6       7       10      10      15      7       7       5    \n"
     ]
    }
   ],
   "source": [
    "n = np.linspace(1, 10, 10);\n",
    "tmplt = \"   {:<5}\" * len(n);\n",
    "\n",
    "print(\"         \" + tmplt.format(*n));\n",
    "print(\"-\" * 90);\n",
    "i_count = 0;\n",
    "for i in range(len(n)):\n",
    "    window = 10;\n",
    "    shakespeare_lst = list(shakespeare_df.iloc[i_count*window:i_count*window+10]['count']);\n",
    "    print(\"     \" + str(i_count*max(n)) + '+' + tmplt.format(*shakespeare_lst));\n",
    "    i_count += 1;"
   ]
  },
  {
   "cell_type": "markdown",
   "metadata": {},
   "source": [
    "---\n",
    "# 6.3 A Medical Example"
   ]
  },
  {
   "cell_type": "markdown",
   "metadata": {},
   "source": [
    "### Data"
   ]
  },
  {
   "cell_type": "code",
   "execution_count": 130,
   "metadata": {},
   "outputs": [],
   "source": [
    "nodes_df = pd.read_csv(\"./data/nodes.txt\", delimiter=\" \");"
   ]
  },
  {
   "cell_type": "markdown",
   "metadata": {},
   "source": [
    "### Figure 6.3"
   ]
  },
  {
   "cell_type": "markdown",
   "metadata": {},
   "source": [
    "$$ p_k = \\frac{x_k}{n_k} \\text{ , where } k = 1, 2, \\dots, N $$"
   ]
  },
  {
   "cell_type": "code",
   "execution_count": 129,
   "metadata": {},
   "outputs": [],
   "source": [
    "x = nodes_df.iloc[:]['x'];\n",
    "n = nodes_df.iloc[:]['n'];\n",
    "p = x/n;"
   ]
  },
  {
   "cell_type": "code",
   "execution_count": 211,
   "metadata": {},
   "outputs": [
    {
     "name": "stdout",
     "output_type": "stream",
     "text": [
      "844\n"
     ]
    },
    {
     "data": {
      "text/plain": [
       "<module 'matplotlib.pyplot' from 'C:\\\\Users\\\\oskat\\\\Anaconda3\\\\lib\\\\site-packages\\\\matplotlib\\\\pyplot.py'>"
      ]
     },
     "metadata": {},
     "output_type": "display_data"
    },
    {
     "data": {
      "image/png": "[encoded data removed]",
      "text/plain": [
       "<Figure size 1296x864 with 1 Axes>"
      ]
     },
     "metadata": {
      "needs_background": "light"
     },
     "output_type": "display_data"
    }
   ],
   "source": [
    "print(len(p))\n",
    "\n",
    "scale = 6;\n",
    "plt.subplots(figsize=(3*scale, 2*scale));\n",
    "\n",
    "# Plot\n",
    "n_bins = 40\n",
    "y, x, _ = plt.hist(p, bins=n_bins, zorder=0)\n",
    "plt.scatter((x[1]-x[0])/2, 100, color='white', s=50, zorder=1)\n",
    "\n",
    "# Display plots\n",
    "plt.yscale('linear');\n",
    "plt.xlabel(r'$p = x/n$', fontsize=24);\n",
    "plt.ylabel('Frequency', fontsize=24);\n",
    "plt.title('Figure 6.3', size=24);\n",
    "plt.ylim(0,105)\n",
    "plt.annotate(str(max(y)),\n",
    "             xy=((2*x[1]+x[0])/2,100),\n",
    "             xytext=(x[3],100),\n",
    "             arrowprops=dict(arrowstyle=\"->\"),\n",
    "             fontsize=15)\n",
    "display(plt);"
   ]
  },
  {
   "cell_type": "markdown",
   "metadata": {},
   "source": [
    "### Figure 6.4"
   ]
  },
  {
   "cell_type": "markdown",
   "metadata": {},
   "source": [
    "$$ f_\\alpha(x_k) = \\int_0^1 \\left(\n",
    "\\begin{array}{c}\n",
    " n_k \\\\\n",
    " x_k \\\\\n",
    "\\end{array}\n",
    "\\right) \\theta^{x_k} (1 - \\theta)^{n_k - x_k} g_\\alpha(\\theta) d \\theta $$"
   ]
  },
  {
   "cell_type": "markdown",
   "metadata": {},
   "source": [
    "$$ \\hat{\\alpha} = \\overset{\\text{arg max}}{\\alpha} \\left\\{ \\sum _{k=1}^{N} Log f_\\alpha(x_k) \\right\\} $$"
   ]
  },
  {
   "cell_type": "markdown",
   "metadata": {},
   "source": [
    "$$ Log\\{g_\\alpha(\\theta)\\} = a_0 + \\sum _{j=1}^{4} \\alpha_j \\theta^j $$"
   ]
  },
  {
   "cell_type": "code",
   "execution_count": null,
   "metadata": {},
   "outputs": [],
   "source": []
  }
 ],
 "metadata": {
  "kernelspec": {
   "display_name": "Python 3",
   "language": "python",
   "name": "python3"
  },
  "language_info": {
   "codemirror_mode": {
    "name": "ipython",
    "version": 3
   },
   "file_extension": ".py",
   "mimetype": "text/x-python",
   "name": "python",
   "nbconvert_exporter": "python",
   "pygments_lexer": "ipython3",
   "version": "3.7.3"
  }
 },
 "nbformat": 4,
 "nbformat_minor": 4
}
