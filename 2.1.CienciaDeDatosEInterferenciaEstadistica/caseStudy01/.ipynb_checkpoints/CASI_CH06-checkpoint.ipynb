{
 "cells": [
  {
   "cell_type": "markdown",
   "metadata": {},
   "source": [
    "<h1>\n",
    "    Ciencia de datos e inferencia estadística (Ago 19 Gpo 1): <br>\n",
    "    <b>Case Study 01</b>\n",
    "</h1>\n",
    "\n",
    "<table width=\"75%\" align=\"center\">\n",
    "    <tr>\n",
    "        <th align=\"left\" colspan=\"2\">\n",
    "            <h2><b>Code Players</b> (aka. Team 11)<b>:</b></h2>\n",
    "        </th>\n",
    "    </tr>\n",
    "    <tr>\n",
    "        <td><h3>Antonio Osamu Katagiri Tanaka</h3></td>\n",
    "        <td><h4>A01212611@itesm.mx</h4></td>\n",
    "    </tr>\n",
    "    <tr>\n",
    "        <td><h3>Diego Sebastián Ceciliano Franco</h3></td>\n",
    "        <td><h4>A01373414@itesm.mx</h4></td>\n",
    "    </tr>\n",
    "    <tr>\n",
    "        <td><h3>Carlos Cardoso Isidoro</h3></td>\n",
    "        <td><h4>A01750267@itesm.mx</h4></td>\n",
    "    </tr>\n",
    "    <tr>\n",
    "        <td><h3>Jesús Alberto Martínez Espinosa</h3></td>\n",
    "        <td><h4>A01750270@itesm.mx</h4></td>\n",
    "    </tr>\n",
    "</table>\n",
    "\n",
    "<h1>Chapter 06 - <b>Empirical Bayes</b>.</h1>\n",
    "<h2>Efron, B., & Hastie, T. (2017). <b>Computer Age Statistical Inference</b>.</h2>"
   ]
  },
  {
   "cell_type": "markdown",
   "metadata": {},
   "source": [
    "### Setup"
   ]
  },
  {
   "cell_type": "code",
   "execution_count": 1,
   "metadata": {},
   "outputs": [],
   "source": [
    "%matplotlib inline\n",
    "\n",
    "import numpy as np\n",
    "import pandas as pd\n",
    "import matplotlib.pyplot as plt\n",
    "\n",
    "from matplotlib.collections import LineCollection\n",
    "from math import factorial, log\n",
    "from scipy import special, optimize"
   ]
  },
  {
   "cell_type": "markdown",
   "metadata": {},
   "source": [
    "---\n",
    "# 6.1 Robbins' Formula"
   ]
  },
  {
   "cell_type": "markdown",
   "metadata": {},
   "source": [
    "### Data"
   ]
  },
  {
   "cell_type": "code",
   "execution_count": 2,
   "metadata": {},
   "outputs": [
    {
     "name": "stdout",
     "output_type": "stream",
     "text": [
      "{0: 7840, 1: 1317, 2: 239, 3: 42, 4: 14, 5: 4, 6: 4, 7: 1}\n"
     ]
    }
   ],
   "source": [
    "counts = dict(enumerate([7840, 1317, 239, 42, 14, 4, 4, 1]));\n",
    "print(counts);"
   ]
  },
  {
   "cell_type": "markdown",
   "metadata": {},
   "source": [
    "### Robbins' formula calculations"
   ]
  },
  {
   "cell_type": "markdown",
   "metadata": {},
   "source": [
    "#### Empirical version\n",
    "\n",
    "$$ \\hat{E} \\{\\theta | x\\} = \\frac{(x + 1) \\hat{f}(x + 1)}{\\hat{f}(x)} = \\frac{(x + 1) y_{x + 1}}{y_x} $$"
   ]
  },
  {
   "cell_type": "code",
   "execution_count": 3,
   "metadata": {},
   "outputs": [],
   "source": [
    "formula6p7 = [0] * (len(counts) - 1);\n",
    "for i in range(len(counts) - 1):\n",
    "    formula6p7[i] = ((i + 1) * counts[i + 1] / counts[i]);"
   ]
  },
  {
   "cell_type": "markdown",
   "metadata": {},
   "source": [
    "#### Gamma-prior version\n",
    "\n",
    "$$ g(\\theta) = \\frac{\\theta^{\\nu - 1} \\epsilon^{-\\frac{\\theta}{\\sigma}}}{\\sigma^{\\nu} \\Gamma (\\nu)} \\text{, for } \\theta \\geq 0 $$"
   ]
  },
  {
   "cell_type": "code",
   "execution_count": 4,
   "metadata": {},
   "outputs": [],
   "source": [
    "def f(x, nu, sigma):\n",
    "    gamma = sigma / (1 + sigma);\n",
    "    numer = gamma ** (nu + x) * special.gamma(nu + x);\n",
    "    denom = sigma ** nu * special.gamma(nu) * factorial(x);\n",
    "    return numer / denom;"
   ]
  },
  {
   "cell_type": "markdown",
   "metadata": {},
   "source": [
    "parameters $\\nu$ and $\\sigma$ unknown. Estimates $(\\hat{\\nu}, \\hat{\\sigma})$ are obtained by maximum likelihood fitting to the counts yx"
   ]
  },
  {
   "cell_type": "code",
   "execution_count": 220,
   "metadata": {},
   "outputs": [
    {
     "name": "stdout",
     "output_type": "stream",
     "text": [
      "      fun: 5348.039959663243\n",
      " hess_inv: <2x2 LbfgsInvHessProduct with dtype=float64>\n",
      "      jac: array([-0.02601155, -0.05820766])\n",
      "  message: b'CONVERGENCE: REL_REDUCTION_OF_F_<=_FACTR*EPSMCH'\n",
      "     nfev: 54\n",
      "      nit: 15\n",
      "   status: 0\n",
      "  success: True\n",
      "        x: array([0.7015099 , 0.30555692])\n"
     ]
    }
   ],
   "source": [
    "def negloglikelihood(params):\n",
    "    nu, sigma = params;\n",
    "    summation = 0;\n",
    "    \n",
    "    for x in range(len(counts)):\n",
    "        summation += (counts[x] * log(f(x, nu, sigma)));\n",
    "    \n",
    "    return -summation;\n",
    "\n",
    "results = optimize.minimize(\n",
    "    negloglikelihood,\n",
    "    x0 = [0.5, 1.0],\n",
    "    bounds=[[0, None], [0, None]]\n",
    ");\n",
    "\n",
    "print(results)\n",
    "nu, sigma = results.x"
   ]
  },
  {
   "cell_type": "markdown",
   "metadata": {},
   "source": [
    "function to compute: $\\gamma^{MLE}$\n",
    "$$ \\gamma^{MLE} = \\frac{(x + 1) \\hat{f}(x + 1)}{\\hat{f}(x)} $$"
   ]
  },
  {
   "cell_type": "code",
   "execution_count": 218,
   "metadata": {},
   "outputs": [],
   "source": [
    "def gamma_mle_(counts, nu, sigma):\n",
    "    gamma_mle = [0] * (len(counts) - 1);\n",
    "    \n",
    "    for x in range(len(counts) - 1):\n",
    "        gamma_mle[x] = (x + 1) * f(x + 1, nu, sigma) / f(x, nu, sigma);\n",
    "    \n",
    "    return gamma_mle;"
   ]
  },
  {
   "cell_type": "markdown",
   "metadata": {},
   "source": [
    "### Table 6.1"
   ]
  },
  {
   "cell_type": "code",
   "execution_count": 219,
   "metadata": {},
   "outputs": [
    {
     "name": "stdout",
     "output_type": "stream",
     "text": [
      "Claims x            0      1      2      3      4      5      6      7\n",
      "----------------------------------------------------------------------\n",
      "Counts y_x       7840   1317    239     42     14      4      4      1\n",
      "Formula (6.7)   0.168  0.363  0.527   1.33   1.43   6.00   1.75\n",
      "Gamma MLE       0.164  0.398  0.632  0.866   1.10   1.33   1.57\n"
     ]
    }
   ],
   "source": [
    "gamma_mle = gamma_mle_(counts, nu, sigma)\n",
    "\n",
    "tmplt_int = \"  \".join([\"{:<14}\"] + [\"{:>5}\"]*8)\n",
    "tmplt_flt = \"  \".join([\"{:<14}\"] + [\"{:>#5.3g}\"]*7)\n",
    "\n",
    "print(tmplt_int.format(\"Claims x\", *list(range(8))))\n",
    "print(\"-\" * 70)\n",
    "print(tmplt_int.format('Counts y_x', *counts.values(), 0))\n",
    "print(tmplt_flt.format('Formula (6.7)', *formula6p7, 0))\n",
    "print(tmplt_flt.format('Gamma MLE', *gamma_mle, 0))"
   ]
  },
  {
   "cell_type": "markdown",
   "metadata": {},
   "source": [
    "### Figure 6.1"
   ]
  },
  {
   "cell_type": "code",
   "execution_count": 221,
   "metadata": {},
   "outputs": [
    {
     "data": {
      "text/plain": [
       "<module 'matplotlib.pyplot' from 'C:\\\\Users\\\\oskat\\\\Anaconda3\\\\lib\\\\site-packages\\\\matplotlib\\\\pyplot.py'>"
      ]
     },
     "metadata": {},
     "output_type": "display_data"
    },
    {
     "data": {
      "image/png": "[encoded data removed]",
      "text/plain": [
       "<Figure size 1296x864 with 1 Axes>"
      ]
     },
     "metadata": {
      "needs_background": "light"
     },
     "output_type": "display_data"
    }
   ],
   "source": [
    "scale = 6;\n",
    "plt.subplots(figsize=(3*scale, 2*scale));\n",
    "\n",
    "# Calculate the number of events\n",
    "n_events = 0;\n",
    "for claims, count in counts.items():\n",
    "    n_events += count;\n",
    "\n",
    "# Compute the gamma_mle fit\n",
    "n_counts = len(counts);\n",
    "gamma_mle_fit = [0] * (n_counts - 1);\n",
    "for x in range(n_counts - 1):\n",
    "    gamma_mle_fit[x] = log(n_events * f(x, nu, sigma));\n",
    "\n",
    "# Compute log(counts)\n",
    "log_counts = [0] * (n_counts);\n",
    "for x in range(n_counts):\n",
    "    log_counts[x] = log(counts[x]);\n",
    "\n",
    "# Plot\n",
    "plt.plot(range(n_counts-1), gamma_mle_fit, ':', linewidth=1.5, label=r'$\\gamma^{MLE}$' + ' fit')\n",
    "plt.scatter(range(n_counts), log_counts, label='Auto accident data vs claims')\n",
    "\n",
    "# Origin axis\n",
    "Xzeros = np.linspace(0, 0, n_counts);\n",
    "plt.plot(range(n_counts), Xzeros, ':', linewidth=0.5);\n",
    "Yzeros = np.linspace(0, 0, n_counts+2);\n",
    "plt.plot(Yzeros, range(n_counts+2), ':', linewidth=0.5);\n",
    "\n",
    "# Display plots\n",
    "plt.yscale('linear')\n",
    "plt.xlabel('claims', fontsize=24);\n",
    "plt.ylabel('log(counts)', fontsize=24);\n",
    "plt.title('Figure 6.1', size=24);\n",
    "plt.legend(prop={'size': 18});\n",
    "display(plt);"
   ]
  },
  {
   "cell_type": "markdown",
   "metadata": {},
   "source": [
    "---\n",
    "# 6.2 The Missing-Species Problem"
   ]
  },
  {
   "cell_type": "markdown",
   "metadata": {},
   "source": [
    "### Data"
   ]
  },
  {
   "cell_type": "code",
   "execution_count": 213,
   "metadata": {},
   "outputs": [],
   "source": [
    "butterflies_df = pd.read_csv(\"./data/butterfly.txt\", delimiter=\" \", index_col=\"x\");"
   ]
  },
  {
   "cell_type": "markdown",
   "metadata": {},
   "source": [
    "### Table 6.2"
   ]
  },
  {
   "cell_type": "code",
   "execution_count": 214,
   "metadata": {},
   "outputs": [
    {
     "name": "stdout",
     "output_type": "stream",
     "text": [
      "x        1    2    3    4    5    6    7    8    9   10   11   12\n",
      "-----------------------------------------------------------------\n",
      "y      118   74   44   24   29   22   20   19   20   15   12   14\n",
      "\n",
      "\n",
      "x       13   14   15   16   17   18   19   20   21   22   23   24\n",
      "-----------------------------------------------------------------\n",
      "y        6   12    6    9    9    6   10   10   11    5    3    3\n"
     ]
    }
   ],
   "source": [
    "tmplt_int = \"  \".join([\"{:<5}\"] + [\"{:>3}\"]*nHalf_butterflies_df);\n",
    "\n",
    "n_butterflies_df = len(butterflies_df);\n",
    "nHalf_butterflies_df = int(n_butterflies_df/2);\n",
    "\n",
    "butterflies_lst1 = [butterflies_df.iat[i, 0] for i in range(0,nHalf_butterflies_df)];\n",
    "butterflies_lst2 = [butterflies_df.iat[i, 0] for i in range(nHalf_butterflies_df,n_butterflies_df)];\n",
    "\n",
    "print(tmplt_int.format(\"x\", *range(1, nHalf_butterflies_df+1)));\n",
    "print(\"-\" * 65)\n",
    "print(tmplt_int.format('y', *butterflies_lst1))\n",
    "print(\"\\n\")\n",
    "print(tmplt_int.format(\"x\", *range(nHalf_butterflies_df+1, n_butterflies_df+1)))\n",
    "print(\"-\" * 65)\n",
    "print(tmplt_int.format('y', *butterflies_lst2))"
   ]
  },
  {
   "cell_type": "markdown",
   "metadata": {},
   "source": [
    "### Table 6.3"
   ]
  },
  {
   "cell_type": "markdown",
   "metadata": {},
   "source": [
    "$$ \\hat{E}(t) = y_1 t - y_2 t^2 + y_3 t^3 - \\ldots $$"
   ]
  },
  {
   "cell_type": "code",
   "execution_count": 231,
   "metadata": {},
   "outputs": [],
   "source": [
    "def nonpar_bayes(butterflies, t):\n",
    "    result = 0.0\n",
    "\n",
    "    for n_times, row in butterflies.iterrows():\n",
    "        n_butterflies = row[\"y\"]\n",
    "        \n",
    "        # multiply (-1)**(n_times - 1) as the sign is positive\n",
    "        # for odd indexes and negative for even indexes\n",
    "        \n",
    "        result += (-1)**(n_times - 1) * n_butterflies * t**n_times\n",
    "    return result"
   ]
  },
  {
   "cell_type": "markdown",
   "metadata": {},
   "source": [
    "$$ \\hat{sd}(t) = \\left(\\sum _{x=1}^{24} y_x t^{2x}\\right)^{\\frac{1}{2}} $$"
   ]
  },
  {
   "cell_type": "code",
   "execution_count": 232,
   "metadata": {},
   "outputs": [],
   "source": [
    "def sd_hat(butterflies, t):\n",
    "    variance = 0.0\n",
    "    \n",
    "    for n_times, row in butterflies.iterrows():\n",
    "        n_butterflies = row[\"y\"]\n",
    "        variance += n_butterflies * t**(2 * n_times)\n",
    "        \n",
    "    return np.sqrt(variance)"
   ]
  },
  {
   "cell_type": "code",
   "execution_count": 237,
   "metadata": {},
   "outputs": [
    {
     "name": "stdout",
     "output_type": "stream",
     "text": [
      "24\n",
      "[0.0, 11.101869828606485, 20.96168825551341, 29.79147875416794, 37.79271458114722, 45.17149204015732, 52.146925893598656, 58.928329979829016, 65.57361693013983, 71.5599248125184, 75.0]\n",
      "[0.0, 1.0896991524830155, 2.2002910041898374, 3.354584120349017, 4.5797189893501296, 5.911137493187634, 7.400910067899504, 9.139109987934896, 11.321945184086248, 14.557091452525949, 22.38302928559939]\n"
     ]
    }
   ],
   "source": [
    "print(len(butterflies))\n",
    "\n",
    "nonpar_vals = [nonpar_bayes(butterflies, i / 10) for i in range(11)]\n",
    "print(nonpar_vals)\n",
    "\n",
    "sd_hat_vals = [sd_hat(butterflies, i / 10) for i in range(11)]\n",
    "print(sd_hat_vals)"
   ]
  },
  {
   "cell_type": "code",
   "execution_count": 225,
   "metadata": {},
   "outputs": [
    {
     "name": "stdout",
     "output_type": "stream",
     "text": [
      "        t    0.0    0.1    0.2    0.3    0.4    0.5    0.6    0.7    0.8    0.9    1.0\n",
      "--------------------------------------------------------------------------------------\n",
      "     E(t)   0.00  12.59  26.96  43.54  62.91  86.05  114.61  151.84  205.12  295.56  501.00\n",
      "sd_hat(t)   0.00   2.24   4.48   6.71   8.95  11.19  13.43  15.67  17.91  20.14  22.38\n"
     ]
    }
   ],
   "source": [
    "tmplt = \"  {:>5.2f}\" * 11\n",
    "print(\"        t    0.0    0.1    0.2    0.3    0.4    0.5    0.6    0.7    0.8    0.9    1.0\")\n",
    "print(\"-\" * 86)\n",
    "print(\"     E(t)\" + tmplt.format(*nonpar_vals))\n",
    "print(\"sd_hat(t)\" + tmplt.format(*sd_hat_vals))"
   ]
  },
  {
   "cell_type": "markdown",
   "metadata": {},
   "source": [
    "The $\\hat{sd}$ values here do not match table 6.3 from the book. If I change the exponent in the function `sd_hat()` from `2 * n_times` to just 2, then the values match:"
   ]
  },
  {
   "cell_type": "code",
   "execution_count": 9,
   "metadata": {},
   "outputs": [
    {
     "name": "stdout",
     "output_type": "stream",
     "text": [
      "sd_hat_noexp(t)   0.00   2.24   4.48   6.71   8.95  11.19  13.43  15.67  17.91  20.14  22.38\n"
     ]
    }
   ],
   "source": [
    "def sd_hat_noexp(butterflies, t):\n",
    "    variance = 0.0\n",
    "    for n_times, row in butterflies.iterrows():\n",
    "        n_butterflies = row[\"y\"]\n",
    "        variance += n_butterflies * t**2  # removed `* n_times`\n",
    "    return np.sqrt(variance)\n",
    "\n",
    "sd_hat_noexp_vals = [sd_hat_noexp(butterflies, i / 10) for i in range(11)]\n",
    "\n",
    "print(\"sd_hat_noexp(t)\" + tmplt.format(*sd_hat_noexp_vals))"
   ]
  },
  {
   "cell_type": "markdown",
   "metadata": {},
   "source": [
    "### Figure 6.2"
   ]
  },
  {
   "cell_type": "code",
   "execution_count": 10,
   "metadata": {},
   "outputs": [],
   "source": [
    "# the plot's x values\n",
    "t_vals = np.array([i / 10 for i in range(11)])"
   ]
  },
  {
   "cell_type": "code",
   "execution_count": 11,
   "metadata": {},
   "outputs": [],
   "source": [
    "# the parametric empirical Bayes solution from pg 81\n",
    "\n",
    "def par_bayes(butterflies, t):\n",
    "    nu = 0.104\n",
    "    sigma = 89.79\n",
    "    gamma = sigma / (1 + sigma)\n",
    "    return butterflies.loc[1, \"y\"] * (1 - (1 + gamma * t)**(-nu)) / (gamma * nu)"
   ]
  },
  {
   "cell_type": "code",
   "execution_count": 12,
   "metadata": {},
   "outputs": [],
   "source": [
    "par_vals = [par_bayes(butterflies, t) for t in t_vals]"
   ]
  },
  {
   "cell_type": "markdown",
   "metadata": {},
   "source": [
    "Create vertical standard deviation lines for the non-parametric empirical Bayes estimates"
   ]
  },
  {
   "cell_type": "code",
   "execution_count": 13,
   "metadata": {},
   "outputs": [],
   "source": [
    "sd_lines = LineCollection(\n",
    "    [\n",
    "        [[t, exp - sd], [t, exp + sd]]\n",
    "        for t, exp, sd in zip(t_vals, nonpar_vals, sd_hat_vals)\n",
    "    ],\n",
    "    color=\"k\"\n",
    ")"
   ]
  },
  {
   "cell_type": "markdown",
   "metadata": {},
   "source": [
    "Make the plot"
   ]
  },
  {
   "cell_type": "code",
   "execution_count": 14,
   "metadata": {},
   "outputs": [
    {
     "data": {
      "image/png": "[encoded data removed]",
      "text/plain": [
       "<Figure size 864x576 with 1 Axes>"
      ]
     },
     "metadata": {
      "needs_background": "light"
     },
     "output_type": "display_data"
    }
   ],
   "source": [
    "fig, ax = plt.subplots(figsize=(12, 8))\n",
    "\n",
    "ax.plot(t_vals, par_vals, linestyle=\"--\", label=\"Gamma model\")\n",
    "ax.plot(t_vals, nonpar_vals, c=\"k\", label=\"non-parametric\")\n",
    "ax.add_collection(sd_lines)\n",
    "ax.set_xlabel(\"time $t$\", size=20)\n",
    "ax.set_ylabel(\"$\\hat{E}(t)$\", size=20)\n",
    "ax.set_ylim(-5, 100)\n",
    "ax.legend(loc=2);"
   ]
  },
  {
   "cell_type": "markdown",
   "metadata": {},
   "source": [
    "Calculate the Gamma model values beyond $t = 1$. In the book, these values are in the plot's legend."
   ]
  },
  {
   "cell_type": "code",
   "execution_count": 15,
   "metadata": {},
   "outputs": [
    {
     "name": "stdout",
     "output_type": "stream",
     "text": [
      "t  E(t)\n",
      "-------\n",
      "2   123\n",
      "4   176\n",
      "8   233\n"
     ]
    }
   ],
   "source": [
    "print(\"t  E(t)\")\n",
    "print(\"-------\")\n",
    "for t in (2, 4, 8):\n",
    "    n_exp = int(round(par_bayes(butterflies, t)))\n",
    "    print(\"{}   {:>3}\".format(t, n_exp))"
   ]
  }
 ],
 "metadata": {
  "kernelspec": {
   "display_name": "Python 3",
   "language": "python",
   "name": "python3"
  },
  "language_info": {
   "codemirror_mode": {
    "name": "ipython",
    "version": 3
   },
   "file_extension": ".py",
   "mimetype": "text/x-python",
   "name": "python",
   "nbconvert_exporter": "python",
   "pygments_lexer": "ipython3",
   "version": "3.7.3"
  }
 },
 "nbformat": 4,
 "nbformat_minor": 4
}
