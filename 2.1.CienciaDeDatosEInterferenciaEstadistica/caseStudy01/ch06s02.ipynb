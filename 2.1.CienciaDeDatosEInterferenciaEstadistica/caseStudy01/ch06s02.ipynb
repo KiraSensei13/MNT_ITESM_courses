{
 "cells": [
  {
   "cell_type": "markdown",
   "metadata": {},
   "source": [
    "# 6.2 The Missing-Species Problem"
   ]
  },
  {
   "cell_type": "markdown",
   "metadata": {},
   "source": [
    "### Setup"
   ]
  },
  {
   "cell_type": "code",
   "execution_count": 1,
   "metadata": {},
   "outputs": [],
   "source": [
    "%matplotlib inline"
   ]
  },
  {
   "cell_type": "code",
   "execution_count": 2,
   "metadata": {},
   "outputs": [],
   "source": [
    "import numpy as np\n",
    "import pandas as pd\n",
    "import matplotlib.pyplot as plt\n",
    "from matplotlib.collections import LineCollection"
   ]
  },
  {
   "cell_type": "code",
   "execution_count": 3,
   "metadata": {},
   "outputs": [],
   "source": [
    "#plt.rc(\"text\", usetex=True)"
   ]
  },
  {
   "cell_type": "markdown",
   "metadata": {},
   "source": [
    "Load data"
   ]
  },
  {
   "cell_type": "code",
   "execution_count": 5,
   "metadata": {},
   "outputs": [],
   "source": [
    "butterflies = pd.read_csv(\"./data/butterfly.txt\", delimiter=\" \", index_col=\"x\")"
   ]
  },
  {
   "cell_type": "code",
   "execution_count": 6,
   "metadata": {},
   "outputs": [
    {
     "data": {
      "text/html": [
       "<div>\n",
       "<style scoped>\n",
       "    .dataframe tbody tr th:only-of-type {\n",
       "        vertical-align: middle;\n",
       "    }\n",
       "\n",
       "    .dataframe tbody tr th {\n",
       "        vertical-align: top;\n",
       "    }\n",
       "\n",
       "    .dataframe thead th {\n",
       "        text-align: right;\n",
       "    }\n",
       "</style>\n",
       "<table border=\"1\" class=\"dataframe\">\n",
       "  <thead>\n",
       "    <tr style=\"text-align: right;\">\n",
       "      <th></th>\n",
       "      <th>y</th>\n",
       "    </tr>\n",
       "    <tr>\n",
       "      <th>x</th>\n",
       "      <th></th>\n",
       "    </tr>\n",
       "  </thead>\n",
       "  <tbody>\n",
       "    <tr>\n",
       "      <th>1</th>\n",
       "      <td>118</td>\n",
       "    </tr>\n",
       "    <tr>\n",
       "      <th>2</th>\n",
       "      <td>74</td>\n",
       "    </tr>\n",
       "    <tr>\n",
       "      <th>3</th>\n",
       "      <td>44</td>\n",
       "    </tr>\n",
       "    <tr>\n",
       "      <th>4</th>\n",
       "      <td>24</td>\n",
       "    </tr>\n",
       "    <tr>\n",
       "      <th>5</th>\n",
       "      <td>29</td>\n",
       "    </tr>\n",
       "  </tbody>\n",
       "</table>\n",
       "</div>"
      ],
      "text/plain": [
       "     y\n",
       "x     \n",
       "1  118\n",
       "2   74\n",
       "3   44\n",
       "4   24\n",
       "5   29"
      ]
     },
     "execution_count": 6,
     "metadata": {},
     "output_type": "execute_result"
    }
   ],
   "source": [
    "butterflies.head()"
   ]
  },
  {
   "cell_type": "markdown",
   "metadata": {},
   "source": [
    "### Table 6.3"
   ]
  },
  {
   "cell_type": "markdown",
   "metadata": {},
   "source": [
    "The formulas in 6.19 and 6.21:"
   ]
  },
  {
   "cell_type": "code",
   "execution_count": 10,
   "metadata": {},
   "outputs": [],
   "source": [
    "def nonpar_bayes(butterflies, t):\n",
    "    result = 0.0\n",
    "    for n_times, row in butterflies.iterrows():\n",
    "        n_butterflies = row[\"y\"]\n",
    "        result += (-1)**(n_times - 1) * n_butterflies * t**n_times\n",
    "    return result\n",
    "\n",
    "def sd_hat(butterflies, t):\n",
    "    variance = 0.0\n",
    "    for n_times, row in butterflies.iterrows():\n",
    "        n_butterflies = row[\"y\"]\n",
    "        variance += n_butterflies * t**(2)\n",
    "        # variance += n_butterflies * t**(2 * n_times)\n",
    "    return np.sqrt(variance)"
   ]
  },
  {
   "cell_type": "code",
   "execution_count": 11,
   "metadata": {},
   "outputs": [],
   "source": [
    "nonpar_vals = [nonpar_bayes(butterflies, i / 10) for i in range(11)]\n",
    "sd_hat_vals = [sd_hat(butterflies, i / 10) for i in range(11)]"
   ]
  },
  {
   "cell_type": "code",
   "execution_count": 12,
   "metadata": {},
   "outputs": [
    {
     "name": "stdout",
     "output_type": "stream",
     "text": [
      "        t    0.0    0.1    0.2    0.3    0.4    0.5    0.6    0.7    0.8    0.9    1.0\n",
      "--------------------------------------------------------------------------------------\n",
      "     E(t)   0.00  11.10  20.96  29.79  37.79  45.17  52.15  58.93  65.57  71.56  75.00\n",
      "sd_hat(t)   0.00   2.24   4.48   6.71   8.95  11.19  13.43  15.67  17.91  20.14  22.38\n"
     ]
    }
   ],
   "source": [
    "tmplt = \"  {:>5.2f}\" * 11\n",
    "print(\"        t    0.0    0.1    0.2    0.3    0.4    0.5    0.6    0.7    0.8    0.9    1.0\")\n",
    "print(\"-\" * 86)\n",
    "print(\"     E(t)\" + tmplt.format(*nonpar_vals))\n",
    "print(\"sd_hat(t)\" + tmplt.format(*sd_hat_vals))"
   ]
  },
  {
   "cell_type": "markdown",
   "metadata": {},
   "source": [
    "The $\\hat{sd}$ values here do not match table 6.3 from the book. If I change the exponent in the function `sd_hat()` from `2 * n_times` to just 2, then the values match:"
   ]
  },
  {
   "cell_type": "code",
   "execution_count": 9,
   "metadata": {},
   "outputs": [
    {
     "name": "stdout",
     "output_type": "stream",
     "text": [
      "sd_hat_noexp(t)   0.00   2.24   4.48   6.71   8.95  11.19  13.43  15.67  17.91  20.14  22.38\n"
     ]
    }
   ],
   "source": [
    "def sd_hat_noexp(butterflies, t):\n",
    "    variance = 0.0\n",
    "    for n_times, row in butterflies.iterrows():\n",
    "        n_butterflies = row[\"y\"]\n",
    "        variance += n_butterflies * t**2  # removed `* n_times`\n",
    "    return np.sqrt(variance)\n",
    "\n",
    "sd_hat_noexp_vals = [sd_hat_noexp(butterflies, i / 10) for i in range(11)]\n",
    "\n",
    "print(\"sd_hat_noexp(t)\" + tmplt.format(*sd_hat_noexp_vals))"
   ]
  },
  {
   "cell_type": "markdown",
   "metadata": {},
   "source": [
    "### Figure 6.2"
   ]
  },
  {
   "cell_type": "code",
   "execution_count": 10,
   "metadata": {},
   "outputs": [],
   "source": [
    "# the plot's x values\n",
    "t_vals = np.array([i / 10 for i in range(11)])"
   ]
  },
  {
   "cell_type": "code",
   "execution_count": 11,
   "metadata": {},
   "outputs": [],
   "source": [
    "# the parametric empirical Bayes solution from pg 81\n",
    "\n",
    "def par_bayes(butterflies, t):\n",
    "    nu = 0.104\n",
    "    sigma = 89.79\n",
    "    gamma = sigma / (1 + sigma)\n",
    "    return butterflies.loc[1, \"y\"] * (1 - (1 + gamma * t)**(-nu)) / (gamma * nu)"
   ]
  },
  {
   "cell_type": "code",
   "execution_count": 12,
   "metadata": {},
   "outputs": [],
   "source": [
    "par_vals = [par_bayes(butterflies, t) for t in t_vals]"
   ]
  },
  {
   "cell_type": "markdown",
   "metadata": {},
   "source": [
    "Create vertical standard deviation lines for the non-parametric empirical Bayes estimates"
   ]
  },
  {
   "cell_type": "code",
   "execution_count": 13,
   "metadata": {},
   "outputs": [],
   "source": [
    "sd_lines = LineCollection(\n",
    "    [\n",
    "        [[t, exp - sd], [t, exp + sd]]\n",
    "        for t, exp, sd in zip(t_vals, nonpar_vals, sd_hat_vals)\n",
    "    ],\n",
    "    color=\"k\"\n",
    ")"
   ]
  },
  {
   "cell_type": "markdown",
   "metadata": {},
   "source": [
    "Make the plot"
   ]
  },
  {
   "cell_type": "code",
   "execution_count": 14,
   "metadata": {},
   "outputs": [
    {
     "data": {
      "image/png": "[encoded data removed]",
      "text/plain": [
       "<Figure size 864x576 with 1 Axes>"
      ]
     },
     "metadata": {
      "needs_background": "light"
     },
     "output_type": "display_data"
    }
   ],
   "source": [
    "fig, ax = plt.subplots(figsize=(12, 8))\n",
    "\n",
    "ax.plot(t_vals, par_vals, linestyle=\"--\", label=\"Gamma model\")\n",
    "ax.plot(t_vals, nonpar_vals, c=\"k\", label=\"non-parametric\")\n",
    "ax.add_collection(sd_lines)\n",
    "ax.set_xlabel(\"time $t$\", size=20)\n",
    "ax.set_ylabel(\"$\\hat{E}(t)$\", size=20)\n",
    "ax.set_ylim(-5, 100)\n",
    "ax.legend(loc=2);"
   ]
  },
  {
   "cell_type": "markdown",
   "metadata": {},
   "source": [
    "Calculate the Gamma model values beyond $t = 1$. In the book, these values are in the plot's legend."
   ]
  },
  {
   "cell_type": "code",
   "execution_count": 15,
   "metadata": {},
   "outputs": [
    {
     "name": "stdout",
     "output_type": "stream",
     "text": [
      "t  E(t)\n",
      "-------\n",
      "2   123\n",
      "4   176\n",
      "8   233\n"
     ]
    }
   ],
   "source": [
    "print(\"t  E(t)\")\n",
    "print(\"-------\")\n",
    "for t in (2, 4, 8):\n",
    "    n_exp = int(round(par_bayes(butterflies, t)))\n",
    "    print(\"{}   {:>3}\".format(t, n_exp))"
   ]
  }
 ],
 "metadata": {
  "kernelspec": {
   "display_name": "Python 3",
   "language": "python",
   "name": "python3"
  },
  "language_info": {
   "codemirror_mode": {
    "name": "ipython",
    "version": 3
   },
   "file_extension": ".py",
   "mimetype": "text/x-python",
   "name": "python",
   "nbconvert_exporter": "python",
   "pygments_lexer": "ipython3",
   "version": "3.7.3"
  }
 },
 "nbformat": 4,
 "nbformat_minor": 4
}
