{
 "cells": [
  {
   "cell_type": "code",
   "execution_count": 1,
   "metadata": {},
   "outputs": [
    {
     "data": {
      "text/html": [
       "<div><pre style=\"&#102;&#111;&#110;&#116;&#45;&#102;&#97;&#109;&#105;&#108;&#121;&#58;&#32;&#34;&#67;&#111;&#117;&#114;&#105;&#101;&#114;&#32;&#78;&#101;&#119;&#34;&#44;&#67;&#111;&#117;&#114;&#105;&#101;&#114;&#44;&#109;&#111;&#110;&#111;&#115;&#112;&#97;&#99;&#101;&#59;\">&#955;</pre></div>"
      ]
     },
     "execution_count": 1,
     "metadata": {
      "text/html": []
     },
     "output_type": "execute_result"
    }
   ],
   "source": [
    "\\!\\(\n",
    "\\*UnderoverscriptBox[\\(\\[Sum]\\), \\(x = 0\\), \\(\\[Infinity]\\)]\\(\\((x)\\)*\n",
    "\\*FractionBox[\\(Exp[\\(-\\[Lambda]\\)]*\n",
    "\\*SuperscriptBox[\\(\\[Lambda]\\), \\(x\\)]\\), \\(Factorial[\n",
    "     x]\\)]\\)\\) // FullSimplify"
   ]
  },
  {
   "cell_type": "code",
   "execution_count": 2,
   "metadata": {},
   "outputs": [
    {
     "data": {
      "text/html": [
       "<div><img alt=\"Output\" src=\"data:image/png;base64,iVBORw0KGgoAAAANSUhEUgAAAB0AAAAPCAIAAACX71PIAAAAqXpUWHRSYXcgcHJvZmlsZSB0eXBlIGV4aWYAAHjaVU7BDQIxDPt3CkZI08RuxzkdPYkNGB8HEBJ+JK5lx237+bjardD7bJGcWIAJsWL5ITLtg242uqabZX6lw/4Qg45EbwytcCOxxKeYJtItiQsnIGPH3S1O7Q1SMbAcAC66nIPRJNepzeBwcwXSkHQOndmKnFJSLwWjlJPLbRxVXfDNd2H7NW5U9F7fbS+9qDdb5gLobwAAAAlwSFlzAAALEwAACxMBAJqcGAAAAF10RVh0U29mdHdhcmUAQ3JlYXRlZCB3aXRoIHRoZSBXb2xmcmFtIExhbmd1YWdlIGZvciBTdHVkZW50cyAtIFBlcnNvbmFsIFVzZSBPbmx5IDogd3d3LndvbGZyYW0uY29tSN96kwAAACF0RVh0Q3JlYXRpb24gVGltZQAyMDE5OjEwOjIzIDIwOjA4OjUxSEt3KgAAAMxJREFUOI3tlCEOwkAQRf8QjlLFEbYnIPha3FaicEgcZiuRWDzbmyD65y6D6JZA0qZNkwoSRu3O/Hkz+8WKmWGBWC0B/VmuVrmISFnPpNSliOSf7SugLmWPG4Obv932asbT5pxX2qUsBYODjzYYjJHD1Y4RQhJN9pdNMybRx/3endcTkKrt66gKIMuyflV1QVF0t/F9VUmSzfPZkCS1V1WXFxwPO4ApMdXf+Laux/rgUmv0rpXBLPrv0f30AS6DA9xHKXoHH03s/z8AwAuLYRFyk1rTOAAAAABJRU5ErkJggg==\"></div>"
      ]
     },
     "execution_count": 2,
     "metadata": {
      "text/html": []
     },
     "output_type": "execute_result"
    }
   ],
   "source": [
    "\\!\\(\n",
    "\\*UnderoverscriptBox[\\(\\[Sum]\\), \\(x = \n",
    "    0\\), \\(\\[Infinity]\\)]\\(\\((x + 1)\\)*\n",
    "\\*FractionBox[\\(Exp[\\(-\\[Lambda]\\)]*\n",
    "\\*SuperscriptBox[\\(\\[Lambda]\\), \\(x\\)]\\), \\(Factorial[\n",
    "     x]\\)]\\)\\) // FullSimplify"
   ]
  },
  {
   "cell_type": "code",
   "execution_count": null,
   "metadata": {},
   "outputs": [],
   "source": []
  }
 ],
 "metadata": {
  "kernelspec": {
   "display_name": "Wolfram Language 11.3",
   "language": "Wolfram Language",
   "name": "wolframlanguage11.3"
  },
  "language_info": {
   "codemirror_mode": "mathematica",
   "file_extension": ".m",
   "mimetype": "application/vnd.wolfram.m",
   "name": "Wolfram Language",
   "pygments_lexer": "mathematica",
   "version": "12.0"
  }
 },
 "nbformat": 4,
 "nbformat_minor": 4
}
