{
 "cells": [
  {
   "cell_type": "code",
   "execution_count": 1,
   "metadata": {},
   "outputs": [
    {
     "data": {
      "text/html": [
       "<div><img alt=\"Output\" src=\"data:image/png;base64,iVBORw0KGgoAAAANSUhEUgAAAA4AAAAPCAIAAABbdmkjAAAAqXpUWHRSYXcgcHJvZmlsZSB0eXBlIGV4aWYAAHjaVU7BDQIxDPt3CkZI08RuxzkdPYkNGB8HEBJ+JK5lx237+bjardD7bJGcWIAJsWL5ITLtg242uqabZX6lw/4Qg45EbwytcCOxxKeYJtItiQsnIGPH3S1O7Q1SMbAcAC66nIPRJNepzeBwcwXSkHQOndmKnFJSLwWjlJPLbRxVXfDNd2H7NW5U9F7fbS+9qDdb5gLobwAAAAlwSFlzAAALEwAACxMBAJqcGAAAAF10RVh0U29mdHdhcmUAQ3JlYXRlZCB3aXRoIHRoZSBXb2xmcmFtIExhbmd1YWdlIGZvciBTdHVkZW50cyAtIFBlcnNvbmFsIFVzZSBPbmx5IDogd3d3LndvbGZyYW0uY29tSN96kwAAACF0RVh0Q3JlYXRpb24gVGltZQAyMDE5OjEwOjIzIDIxOjAzOjE5U4q2qQAAAK9JREFUKJHNkiESwjAQRf/2LAXRIyQn6OCxuERygcq6mlQisfUkN0Gwe5dFFBoKZajkq92dtzNvJyFVxboUK7k/QiV5a4mIiKxPX1hV5Rgjsz7DMcTc5UA5mI99FxfQQi5o5iMOptoA0vte3lyvt9kkdcN+V+ZeJCUBgKLcYujGGiK9ty2aYyaTP3Soy+ms4B66xgXOHs4Y82KNBf8JDRxdhn88QX06V60dz6P1P+sO8R61TbNmP7AAAAAASUVORK5CYII=\"></div>"
      ]
     },
     "execution_count": 1,
     "metadata": {
      "text/html": []
     },
     "output_type": "execute_result"
    }
   ],
   "source": [
    "\\!\\(\n",
    "\\*UnderoverscriptBox[\\(\\[Sum]\\), \\(x = 0\\), \\(\\[Infinity]\\)]\\(\\((x)\\)*\n",
    "\\*FractionBox[\\(Exp[\\(-\n",
    "\\*SubscriptBox[\\(\\[Theta]\\), \\(k\\)]\\)]*\n",
    "\\*SuperscriptBox[\n",
    "SubscriptBox[\\(\\[Theta]\\), \\(k\\)], \\(x\\)]\\), \\(Factorial[\n",
    "     x]\\)]\\)\\) // FullSimplify"
   ]
  },
  {
   "cell_type": "code",
   "execution_count": 2,
   "metadata": {},
   "outputs": [
    {
     "data": {
      "text/html": [
       "<div><img alt=\"Output\" src=\"data:image/png;base64,iVBORw0KGgoAAAANSUhEUgAAACMAAAAPCAIAAADh1eFDAAAAqXpUWHRSYXcgcHJvZmlsZSB0eXBlIGV4aWYAAHjaVU7BDQIxDPt3CkZI08RuxzkdPYkNGB8HEBJ+JK5lx237+bjardD7bJGcWIAJsWL5ITLtg242uqabZX6lw/4Qg45EbwytcCOxxKeYJtItiQsnIGPH3S1O7Q1SMbAcAC66nIPRJNepzeBwcwXSkHQOndmKnFJSLwWjlJPLbRxVXfDNd2H7NW5U9F7fbS+9qDdb5gLobwAAAAlwSFlzAAALEwAACxMBAJqcGAAAAF10RVh0U29mdHdhcmUAQ3JlYXRlZCB3aXRoIHRoZSBXb2xmcmFtIExhbmd1YWdlIGZvciBTdHVkZW50cyAtIFBlcnNvbmFsIFVzZSBPbmx5IDogd3d3LndvbGZyYW0uY29tSN96kwAAACF0RVh0Q3JlYXRpb24gVGltZQAyMDE5OjEwOjIzIDIxOjAzOjIy73U84gAAAQ9JREFUOI3dlCFywzAQRf92chS5IEeQT2CHFJWaSTQHCCwzkaFhqFFIpRPkCgbavYsKmozt1J5kOo1BP5K0f/dpRzuilBJW0cs6mH9NkiYnIrLhuaRgqcKRnf59FQk2z4mIiPLF66aL2GkYnxbF3vNixDOPtm7W+fA7cYzz7TRVWZZZRldl5f7EM8ZHSCIiAoCvi3HsE4ebFp3eZoA0tpl475NEmJk59n1kZuYbFPo4OQl1975T4/QQBAA2d0lKFUoBiDErCvUj+oquDru2UIBIU1cdDufBFWx1eju3AICUvJkmz8+Fd25pIpy5jK02g4ed0VqPamE2+Q/Ezjj2ZmA9948o2uP2I/+eDEpr/eVfS4xyYuhx++EAAAAASUVORK5CYII=\"></div>"
      ]
     },
     "execution_count": 2,
     "metadata": {
      "text/html": []
     },
     "output_type": "execute_result"
    }
   ],
   "source": [
    "\\!\\(\n",
    "\\*UnderoverscriptBox[\\(\\[Sum]\\), \\(x = \n",
    "    0\\), \\(\\[Infinity]\\)]\\(\\((x + 1)\\)*\n",
    "\\*FractionBox[\\(Exp[\\(-\n",
    "\\*SubscriptBox[\\(\\[Theta]\\), \\(k\\)]\\)]*\n",
    "\\*SuperscriptBox[\n",
    "SubscriptBox[\\(\\[Theta]\\), \\(k\\)], \\(x\\)]\\), \\(Factorial[\n",
    "     x]\\)]\\)\\) // FullSimplify"
   ]
  },
  {
   "cell_type": "code",
   "execution_count": null,
   "metadata": {},
   "outputs": [],
   "source": []
  }
 ],
 "metadata": {
  "kernelspec": {
   "display_name": "Wolfram Language 11.3",
   "language": "Wolfram Language",
   "name": "wolframlanguage11.3"
  },
  "language_info": {
   "codemirror_mode": "mathematica",
   "file_extension": ".m",
   "mimetype": "application/vnd.wolfram.m",
   "name": "Wolfram Language",
   "pygments_lexer": "mathematica",
   "version": "12.0"
  }
 },
 "nbformat": 4,
 "nbformat_minor": 4
}
