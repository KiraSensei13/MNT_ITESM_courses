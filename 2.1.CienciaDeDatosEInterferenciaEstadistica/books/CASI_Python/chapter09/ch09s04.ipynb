{
 "cells": [
  {
   "cell_type": "markdown",
   "metadata": {},
   "source": [
    "# 9.4 The Proportional Hazards Model"
   ]
  },
  {
   "cell_type": "markdown",
   "metadata": {},
   "source": [
    "### Setup"
   ]
  },
  {
   "cell_type": "code",
   "execution_count": 1,
   "metadata": {},
   "outputs": [],
   "source": [
    "%matplotlib inline"
   ]
  },
  {
   "cell_type": "code",
   "execution_count": 2,
   "metadata": {},
   "outputs": [],
   "source": [
    "import warnings\n",
    "\n",
    "import numpy as np\n",
    "import pandas as pd\n",
    "import statsmodels.api as sm"
   ]
  },
  {
   "cell_type": "code",
   "execution_count": 3,
   "metadata": {},
   "outputs": [],
   "source": [
    "warnings.simplefilter(\"ignore\")"
   ]
  },
  {
   "cell_type": "code",
   "execution_count": 4,
   "metadata": {},
   "outputs": [],
   "source": [
    "cancer = pd.read_csv(\"../data/pediatric.txt\", delimiter=\" \")"
   ]
  },
  {
   "cell_type": "code",
   "execution_count": 5,
   "metadata": {},
   "outputs": [
    {
     "data": {
      "text/html": [
       "<div>\n",
       "<style scoped>\n",
       "    .dataframe tbody tr th:only-of-type {\n",
       "        vertical-align: middle;\n",
       "    }\n",
       "\n",
       "    .dataframe tbody tr th {\n",
       "        vertical-align: top;\n",
       "    }\n",
       "\n",
       "    .dataframe thead th {\n",
       "        text-align: right;\n",
       "    }\n",
       "</style>\n",
       "<table border=\"1\" class=\"dataframe\">\n",
       "  <thead>\n",
       "    <tr style=\"text-align: right;\">\n",
       "      <th></th>\n",
       "      <th>sex</th>\n",
       "      <th>race</th>\n",
       "      <th>age</th>\n",
       "      <th>entry</th>\n",
       "      <th>far</th>\n",
       "      <th>t</th>\n",
       "      <th>d</th>\n",
       "    </tr>\n",
       "  </thead>\n",
       "  <tbody>\n",
       "    <tr>\n",
       "      <th>0</th>\n",
       "      <td>1</td>\n",
       "      <td>1</td>\n",
       "      <td>2.50</td>\n",
       "      <td>710</td>\n",
       "      <td>108</td>\n",
       "      <td>325</td>\n",
       "      <td>0</td>\n",
       "    </tr>\n",
       "    <tr>\n",
       "      <th>1</th>\n",
       "      <td>2</td>\n",
       "      <td>1</td>\n",
       "      <td>10.00</td>\n",
       "      <td>1866</td>\n",
       "      <td>38</td>\n",
       "      <td>1451</td>\n",
       "      <td>0</td>\n",
       "    </tr>\n",
       "    <tr>\n",
       "      <th>2</th>\n",
       "      <td>2</td>\n",
       "      <td>2</td>\n",
       "      <td>18.17</td>\n",
       "      <td>2531</td>\n",
       "      <td>100</td>\n",
       "      <td>221</td>\n",
       "      <td>0</td>\n",
       "    </tr>\n",
       "    <tr>\n",
       "      <th>3</th>\n",
       "      <td>2</td>\n",
       "      <td>1</td>\n",
       "      <td>3.92</td>\n",
       "      <td>2210</td>\n",
       "      <td>100</td>\n",
       "      <td>2158</td>\n",
       "      <td>0</td>\n",
       "    </tr>\n",
       "    <tr>\n",
       "      <th>4</th>\n",
       "      <td>1</td>\n",
       "      <td>1</td>\n",
       "      <td>11.83</td>\n",
       "      <td>875</td>\n",
       "      <td>78</td>\n",
       "      <td>760</td>\n",
       "      <td>0</td>\n",
       "    </tr>\n",
       "  </tbody>\n",
       "</table>\n",
       "</div>"
      ],
      "text/plain": [
       "   sex  race    age  entry  far     t  d\n",
       "0    1     1   2.50    710  108   325  0\n",
       "1    2     1  10.00   1866   38  1451  0\n",
       "2    2     2  18.17   2531  100   221  0\n",
       "3    2     1   3.92   2210  100  2158  0\n",
       "4    1     1  11.83    875   78   760  0"
      ]
     },
     "execution_count": 5,
     "metadata": {},
     "output_type": "execute_result"
    }
   ],
   "source": [
    "cancer.head()"
   ]
  },
  {
   "cell_type": "markdown",
   "metadata": {},
   "source": [
    "### Fit the proportional hazards model"
   ]
  },
  {
   "cell_type": "code",
   "execution_count": 6,
   "metadata": {},
   "outputs": [],
   "source": [
    "def standardize(column):\n",
    "    return (column - column.mean()) / np.sqrt(column.var(ddof=1))"
   ]
  },
  {
   "cell_type": "code",
   "execution_count": 7,
   "metadata": {},
   "outputs": [],
   "source": [
    "X = cancer[[\"sex\", \"race\"]]\n",
    "X[\"age\"] = standardize(cancer.age)\n",
    "X[\"entry\"] = standardize(cancer.entry)\n",
    "X[\"far\"] = standardize(cancer.far)"
   ]
  },
  {
   "cell_type": "code",
   "execution_count": 8,
   "metadata": {},
   "outputs": [],
   "source": [
    "model = sm.PHReg(cancer.t, X, status=cancer.d)\n",
    "res = model.fit()"
   ]
  },
  {
   "cell_type": "markdown",
   "metadata": {},
   "source": [
    "### Table 9.7"
   ]
  },
  {
   "cell_type": "code",
   "execution_count": 9,
   "metadata": {},
   "outputs": [
    {
     "data": {
      "text/html": [
       "<table class=\"simpletable\">\n",
       "<tr>\n",
       "        <td>Model:</td>        <td>PH Reg</td>  <td>Sample size:</td> <td>1618</td>\n",
       "</tr>\n",
       "<tr>\n",
       "  <td>Dependent variable:</td>    <td>t</td>    <td>Num. events:</td>  <td>162</td>\n",
       "</tr>\n",
       "<tr>\n",
       "         <td>Ties:</td>        <td>Breslow</td>       <td></td>         <td></td>  \n",
       "</tr>\n",
       "</table>\n",
       "<table class=\"simpletable\">\n",
       "<tr>\n",
       "    <td></td>    <th>log HR</th>  <th>log HR SE</th>   <th>HR</th>      <th>t</th>     <th>P>|t|</th> <th>[0.025</th> <th>0.975]</th>\n",
       "</tr>\n",
       "<tr>\n",
       "  <th>sex</th>   <td>-0.0236</td>  <td>0.1604</td>   <td>0.9767</td> <td>-0.1469</td> <td>0.8832</td> <td>0.7132</td> <td>1.3376</td>\n",
       "</tr>\n",
       "<tr>\n",
       "  <th>race</th>  <td>0.2824</td>   <td>0.1690</td>   <td>1.3263</td> <td>1.6714</td>  <td>0.0946</td> <td>0.9524</td> <td>1.8470</td>\n",
       "</tr>\n",
       "<tr>\n",
       "  <th>age</th>   <td>-0.2346</td>  <td>0.0882</td>   <td>0.7909</td> <td>-2.6600</td> <td>0.0078</td> <td>0.6653</td> <td>0.9401</td>\n",
       "</tr>\n",
       "<tr>\n",
       "  <th>entry</th> <td>-0.4597</td>  <td>0.0785</td>   <td>0.6315</td> <td>-5.8543</td> <td>0.0000</td> <td>0.5414</td> <td>0.7365</td>\n",
       "</tr>\n",
       "<tr>\n",
       "  <th>far</th>   <td>0.2956</td>   <td>0.0718</td>   <td>1.3440</td> <td>4.1170</td>  <td>0.0000</td> <td>1.1675</td> <td>1.5471</td>\n",
       "</tr>\n",
       "</table>"
      ],
      "text/plain": [
       "<class 'statsmodels.iolib.summary2.Summary'>\n",
       "\"\"\"\n",
       "                      Results: PHReg\n",
       "===========================================================\n",
       "Model:                    PH Reg      Sample size:     1618\n",
       "Dependent variable:       t           Num. events:     162 \n",
       "Ties:                     Breslow                          \n",
       "-----------------------------------------------------------\n",
       "       log HR log HR SE   HR      t    P>|t|  [0.025 0.975]\n",
       "-----------------------------------------------------------\n",
       "sex   -0.0236    0.1604 0.9767 -0.1469 0.8832 0.7132 1.3376\n",
       "race   0.2824    0.1690 1.3263  1.6714 0.0946 0.9524 1.8470\n",
       "age   -0.2346    0.0882 0.7909 -2.6600 0.0078 0.6653 0.9401\n",
       "entry -0.4597    0.0785 0.6315 -5.8543 0.0000 0.5414 0.7365\n",
       "far    0.2956    0.0718 1.3440  4.1170 0.0000 1.1675 1.5471\n",
       "===========================================================\n",
       "Confidence intervals are for the hazard ratios\n",
       "\"\"\""
      ]
     },
     "execution_count": 9,
     "metadata": {},
     "output_type": "execute_result"
    }
   ],
   "source": [
    "res.summary()"
   ]
  }
 ],
 "metadata": {
  "kernelspec": {
   "display_name": "Python 3",
   "language": "python",
   "name": "python3"
  },
  "language_info": {
   "codemirror_mode": {
    "name": "ipython",
    "version": 3
   },
   "file_extension": ".py",
   "mimetype": "text/x-python",
   "name": "python",
   "nbconvert_exporter": "python",
   "pygments_lexer": "ipython3",
   "version": "3.7.1"
  }
 },
 "nbformat": 4,
 "nbformat_minor": 2
}
