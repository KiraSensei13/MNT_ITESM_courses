{
 "cells": [
  {
   "cell_type": "markdown",
   "metadata": {},
   "source": [
    "# 1.2 Hypothesis Testing"
   ]
  },
  {
   "cell_type": "markdown",
   "metadata": {},
   "source": [
    "### Setup"
   ]
  },
  {
   "cell_type": "code",
   "execution_count": 1,
   "metadata": {},
   "outputs": [],
   "source": [
    "%matplotlib inline"
   ]
  },
  {
   "cell_type": "code",
   "execution_count": 2,
   "metadata": {},
   "outputs": [],
   "source": [
    "import numpy as np\n",
    "import pandas as pd\n",
    "import matplotlib.pyplot as plt"
   ]
  },
  {
   "cell_type": "markdown",
   "metadata": {},
   "source": [
    "Load data"
   ]
  },
  {
   "cell_type": "code",
   "execution_count": 3,
   "metadata": {},
   "outputs": [],
   "source": [
    "leukemia = pd.read_csv(\"../data/leukemia_big.csv\")"
   ]
  },
  {
   "cell_type": "code",
   "execution_count": 4,
   "metadata": {},
   "outputs": [
    {
     "data": {
      "text/plain": [
       "(7128, 72)"
      ]
     },
     "execution_count": 4,
     "metadata": {},
     "output_type": "execute_result"
    }
   ],
   "source": [
    "leukemia.shape"
   ]
  },
  {
   "cell_type": "code",
   "execution_count": 5,
   "metadata": {},
   "outputs": [
    {
     "data": {
      "text/html": [
       "<div>\n",
       "<style scoped>\n",
       "    .dataframe tbody tr th:only-of-type {\n",
       "        vertical-align: middle;\n",
       "    }\n",
       "\n",
       "    .dataframe tbody tr th {\n",
       "        vertical-align: top;\n",
       "    }\n",
       "\n",
       "    .dataframe thead th {\n",
       "        text-align: right;\n",
       "    }\n",
       "</style>\n",
       "<table border=\"1\" class=\"dataframe\">\n",
       "  <thead>\n",
       "    <tr style=\"text-align: right;\">\n",
       "      <th></th>\n",
       "      <th>ALL</th>\n",
       "      <th>ALL.1</th>\n",
       "      <th>ALL.2</th>\n",
       "      <th>ALL.3</th>\n",
       "      <th>ALL.4</th>\n",
       "      <th>ALL.5</th>\n",
       "      <th>ALL.6</th>\n",
       "      <th>ALL.7</th>\n",
       "      <th>ALL.8</th>\n",
       "      <th>ALL.9</th>\n",
       "      <th>...</th>\n",
       "      <th>AML.15</th>\n",
       "      <th>AML.16</th>\n",
       "      <th>AML.17</th>\n",
       "      <th>AML.18</th>\n",
       "      <th>AML.19</th>\n",
       "      <th>AML.20</th>\n",
       "      <th>AML.21</th>\n",
       "      <th>AML.22</th>\n",
       "      <th>AML.23</th>\n",
       "      <th>AML.24</th>\n",
       "    </tr>\n",
       "  </thead>\n",
       "  <tbody>\n",
       "    <tr>\n",
       "      <th>0</th>\n",
       "      <td>-1.533622</td>\n",
       "      <td>-0.867610</td>\n",
       "      <td>-0.433172</td>\n",
       "      <td>-1.671903</td>\n",
       "      <td>-1.187689</td>\n",
       "      <td>-1.127234</td>\n",
       "      <td>-1.045409</td>\n",
       "      <td>-0.106917</td>\n",
       "      <td>-1.198796</td>\n",
       "      <td>-1.190899</td>\n",
       "      <td>...</td>\n",
       "      <td>-0.436650</td>\n",
       "      <td>-1.274708</td>\n",
       "      <td>-0.681458</td>\n",
       "      <td>-0.876610</td>\n",
       "      <td>-0.624022</td>\n",
       "      <td>-0.431628</td>\n",
       "      <td>-1.435259</td>\n",
       "      <td>-0.671954</td>\n",
       "      <td>-1.013161</td>\n",
       "      <td>-0.969482</td>\n",
       "    </tr>\n",
       "    <tr>\n",
       "      <th>1</th>\n",
       "      <td>-1.235673</td>\n",
       "      <td>-1.275501</td>\n",
       "      <td>-1.184492</td>\n",
       "      <td>-1.596424</td>\n",
       "      <td>-1.335256</td>\n",
       "      <td>-1.113730</td>\n",
       "      <td>-0.800880</td>\n",
       "      <td>-0.745177</td>\n",
       "      <td>-0.849312</td>\n",
       "      <td>-1.190899</td>\n",
       "      <td>...</td>\n",
       "      <td>-0.915483</td>\n",
       "      <td>-1.354363</td>\n",
       "      <td>-0.653559</td>\n",
       "      <td>-1.096250</td>\n",
       "      <td>-1.066594</td>\n",
       "      <td>-1.335256</td>\n",
       "      <td>-1.204586</td>\n",
       "      <td>-0.751457</td>\n",
       "      <td>-0.889592</td>\n",
       "      <td>-1.080988</td>\n",
       "    </tr>\n",
       "    <tr>\n",
       "      <th>2</th>\n",
       "      <td>-0.333983</td>\n",
       "      <td>0.375927</td>\n",
       "      <td>-0.459196</td>\n",
       "      <td>-1.422571</td>\n",
       "      <td>-0.797493</td>\n",
       "      <td>-1.362768</td>\n",
       "      <td>-0.671954</td>\n",
       "      <td>-1.175674</td>\n",
       "      <td>0.320813</td>\n",
       "      <td>0.646610</td>\n",
       "      <td>...</td>\n",
       "      <td>-0.736156</td>\n",
       "      <td>-0.022153</td>\n",
       "      <td>-0.037455</td>\n",
       "      <td>-0.567335</td>\n",
       "      <td>-1.100749</td>\n",
       "      <td>-0.552938</td>\n",
       "      <td>-0.948874</td>\n",
       "      <td>-0.231657</td>\n",
       "      <td>-0.742163</td>\n",
       "      <td>-0.779500</td>\n",
       "    </tr>\n",
       "    <tr>\n",
       "      <th>3</th>\n",
       "      <td>0.488702</td>\n",
       "      <td>0.444011</td>\n",
       "      <td>0.436264</td>\n",
       "      <td>0.193353</td>\n",
       "      <td>0.235632</td>\n",
       "      <td>-0.360312</td>\n",
       "      <td>0.184941</td>\n",
       "      <td>0.425653</td>\n",
       "      <td>0.333983</td>\n",
       "      <td>0.235270</td>\n",
       "      <td>...</td>\n",
       "      <td>0.083781</td>\n",
       "      <td>0.356562</td>\n",
       "      <td>0.416241</td>\n",
       "      <td>0.533986</td>\n",
       "      <td>0.227505</td>\n",
       "      <td>0.416816</td>\n",
       "      <td>0.408202</td>\n",
       "      <td>0.326556</td>\n",
       "      <td>0.361813</td>\n",
       "      <td>0.298864</td>\n",
       "    </tr>\n",
       "    <tr>\n",
       "      <th>4</th>\n",
       "      <td>-1.300893</td>\n",
       "      <td>-1.229660</td>\n",
       "      <td>-1.325882</td>\n",
       "      <td>-1.818329</td>\n",
       "      <td>-1.311206</td>\n",
       "      <td>-1.513975</td>\n",
       "      <td>-1.651624</td>\n",
       "      <td>-1.339555</td>\n",
       "      <td>-0.593132</td>\n",
       "      <td>0.133302</td>\n",
       "      <td>...</td>\n",
       "      <td>-1.547444</td>\n",
       "      <td>-1.264475</td>\n",
       "      <td>-1.512318</td>\n",
       "      <td>-1.469583</td>\n",
       "      <td>-1.283472</td>\n",
       "      <td>-0.977672</td>\n",
       "      <td>-1.090178</td>\n",
       "      <td>-1.545120</td>\n",
       "      <td>-1.174272</td>\n",
       "      <td>-1.443183</td>\n",
       "    </tr>\n",
       "  </tbody>\n",
       "</table>\n",
       "<p>5 rows × 72 columns</p>\n",
       "</div>"
      ],
      "text/plain": [
       "        ALL     ALL.1     ALL.2     ALL.3     ALL.4     ALL.5     ALL.6  \\\n",
       "0 -1.533622 -0.867610 -0.433172 -1.671903 -1.187689 -1.127234 -1.045409   \n",
       "1 -1.235673 -1.275501 -1.184492 -1.596424 -1.335256 -1.113730 -0.800880   \n",
       "2 -0.333983  0.375927 -0.459196 -1.422571 -0.797493 -1.362768 -0.671954   \n",
       "3  0.488702  0.444011  0.436264  0.193353  0.235632 -0.360312  0.184941   \n",
       "4 -1.300893 -1.229660 -1.325882 -1.818329 -1.311206 -1.513975 -1.651624   \n",
       "\n",
       "      ALL.7     ALL.8     ALL.9    ...       AML.15    AML.16    AML.17  \\\n",
       "0 -0.106917 -1.198796 -1.190899    ...    -0.436650 -1.274708 -0.681458   \n",
       "1 -0.745177 -0.849312 -1.190899    ...    -0.915483 -1.354363 -0.653559   \n",
       "2 -1.175674  0.320813  0.646610    ...    -0.736156 -0.022153 -0.037455   \n",
       "3  0.425653  0.333983  0.235270    ...     0.083781  0.356562  0.416241   \n",
       "4 -1.339555 -0.593132  0.133302    ...    -1.547444 -1.264475 -1.512318   \n",
       "\n",
       "     AML.18    AML.19    AML.20    AML.21    AML.22    AML.23    AML.24  \n",
       "0 -0.876610 -0.624022 -0.431628 -1.435259 -0.671954 -1.013161 -0.969482  \n",
       "1 -1.096250 -1.066594 -1.335256 -1.204586 -0.751457 -0.889592 -1.080988  \n",
       "2 -0.567335 -1.100749 -0.552938 -0.948874 -0.231657 -0.742163 -0.779500  \n",
       "3  0.533986  0.227505  0.416816  0.408202  0.326556  0.361813  0.298864  \n",
       "4 -1.469583 -1.283472 -0.977672 -1.090178 -1.545120 -1.174272 -1.443183  \n",
       "\n",
       "[5 rows x 72 columns]"
      ]
     },
     "execution_count": 5,
     "metadata": {},
     "output_type": "execute_result"
    }
   ],
   "source": [
    "leukemia.head()"
   ]
  },
  {
   "cell_type": "markdown",
   "metadata": {},
   "source": [
    "### Figure 1.4"
   ]
  },
  {
   "cell_type": "markdown",
   "metadata": {},
   "source": [
    "Collect ALL and AML values"
   ]
  },
  {
   "cell_type": "code",
   "execution_count": 6,
   "metadata": {},
   "outputs": [],
   "source": [
    "cols_all = [col for col in leukemia.columns if col.startswith(\"ALL\")]\n",
    "values_all = leukemia.loc[135, cols_all].values"
   ]
  },
  {
   "cell_type": "code",
   "execution_count": 7,
   "metadata": {},
   "outputs": [],
   "source": [
    "cols_aml = [col for col in leukemia.columns if col.startswith(\"AML\")]\n",
    "values_aml = leukemia.loc[135, cols_aml].values"
   ]
  },
  {
   "cell_type": "markdown",
   "metadata": {},
   "source": [
    "Make plot"
   ]
  },
  {
   "cell_type": "code",
   "execution_count": 8,
   "metadata": {},
   "outputs": [
    {
     "data": {
      "image/png": "[encoded data removed]",
      "text/plain": [
       "<Figure size 864x576 with 2 Axes>"
      ]
     },
     "metadata": {
      "needs_background": "light"
     },
     "output_type": "display_data"
    }
   ],
   "source": [
    "fig, ax = plt.subplots(2, 1, figsize=(12, 8))\n",
    "\n",
    "ax[0].hist(values_all, bins=11, edgecolor=\"k\")\n",
    "ax[0].set_xlabel(\"ALL scores - mean {:>.3f}\".format(values_all.mean()), size=18);\n",
    "\n",
    "ax[1].hist(values_aml, bins=11, edgecolor=\"k\")\n",
    "ax[1].set_xlabel(\"AML scores - mean {:>.3f}\".format(values_aml.mean()), size=18);"
   ]
  },
  {
   "cell_type": "markdown",
   "metadata": {},
   "source": [
    "### t-test"
   ]
  },
  {
   "cell_type": "code",
   "execution_count": 9,
   "metadata": {},
   "outputs": [],
   "source": [
    "from scipy import stats"
   ]
  },
  {
   "cell_type": "code",
   "execution_count": 10,
   "metadata": {},
   "outputs": [],
   "source": [
    "t_val, p_val = stats.ttest_ind(values_aml, values_all)"
   ]
  },
  {
   "cell_type": "code",
   "execution_count": 11,
   "metadata": {},
   "outputs": [
    {
     "name": "stdout",
     "output_type": "stream",
     "text": [
      "t = 3.01;  p = 0.0036\n"
     ]
    }
   ],
   "source": [
    "print(\"t = {:>.2f};  p = {:>.4f}\".format(t_val, p_val))"
   ]
  },
  {
   "cell_type": "markdown",
   "metadata": {},
   "source": [
    "### Figure 1.5"
   ]
  },
  {
   "cell_type": "markdown",
   "metadata": {},
   "source": [
    "t statistics"
   ]
  },
  {
   "cell_type": "code",
   "execution_count": 12,
   "metadata": {},
   "outputs": [],
   "source": [
    "t_values = []\n",
    "for _, row in leukemia.iterrows():\n",
    "    values_all = row[cols_all].values\n",
    "    values_aml = row[cols_aml].values\n",
    "    t, _ = stats.ttest_ind(values_aml, values_all)\n",
    "    t_values.append(t)"
   ]
  },
  {
   "cell_type": "markdown",
   "metadata": {},
   "source": [
    "Distrubtion values"
   ]
  },
  {
   "cell_type": "code",
   "execution_count": 13,
   "metadata": {},
   "outputs": [],
   "source": [
    "dist_x = np.arange(-10, 10, 0.1)\n",
    "dist_t = stats.t.pdf(dist_x, df=70)"
   ]
  },
  {
   "cell_type": "markdown",
   "metadata": {},
   "source": [
    "Plot"
   ]
  },
  {
   "cell_type": "code",
   "execution_count": 14,
   "metadata": {},
   "outputs": [
    {
     "data": {
      "image/png": "[encoded data removed]",
      "text/plain": [
       "<Figure size 864x576 with 1 Axes>"
      ]
     },
     "metadata": {
      "needs_background": "light"
     },
     "output_type": "display_data"
    }
   ],
   "source": [
    "fig, ax = plt.subplots(figsize=(12, 8))\n",
    "\n",
    "hist_info = ax.hist(t_values, bins=65, edgecolor=\"k\", facecolor=\"limegreen\")\n",
    "bin_y, bin_x = hist_info[0], hist_info[1]\n",
    "hist_area = ((bin_x[1:] - bin_x[:-1]) * bin_y).sum()\n",
    "\n",
    "ax.plot(dist_x, dist_t * hist_area, c=\"k\")\n",
    "\n",
    "ax.set_xticks([t_val], minor=True)\n",
    "ax.set_xticklabels([np.round(t_val, 2)], minor=True)\n",
    "ax.tick_params(axis='both', which='minor', length=4, color=\"white\")\n",
    "\n",
    "ax.plot([t_val, t_val], [-5, -25], c=\"r\")\n",
    "\n",
    "ax.set_xlabel(\"t statistics\", size=18)\n",
    "ax.set_ylabel(\"Frequency\", size=18)\n",
    "ax.set_ylim(-30, 720);"
   ]
  },
  {
   "cell_type": "markdown",
   "metadata": {},
   "source": [
    "It looks like the binning here is slightly different from the book's."
   ]
  }
 ],
 "metadata": {
  "kernelspec": {
   "display_name": "Python 3",
   "language": "python",
   "name": "python3"
  },
  "language_info": {
   "codemirror_mode": {
    "name": "ipython",
    "version": 3
   },
   "file_extension": ".py",
   "mimetype": "text/x-python",
   "name": "python",
   "nbconvert_exporter": "python",
   "pygments_lexer": "ipython3",
   "version": "3.7.3"
  }
 },
 "nbformat": 4,
 "nbformat_minor": 4
}
