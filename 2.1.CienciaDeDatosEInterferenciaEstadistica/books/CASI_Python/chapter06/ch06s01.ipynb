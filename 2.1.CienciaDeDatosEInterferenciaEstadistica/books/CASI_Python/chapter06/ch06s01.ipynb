{
 "cells": [
  {
   "cell_type": "markdown",
   "metadata": {},
   "source": [
    "# 6.1 Robbins' Formula"
   ]
  },
  {
   "cell_type": "markdown",
   "metadata": {},
   "source": [
    "### Setup"
   ]
  },
  {
   "cell_type": "code",
   "execution_count": 1,
   "metadata": {},
   "outputs": [],
   "source": [
    "%matplotlib inline"
   ]
  },
  {
   "cell_type": "code",
   "execution_count": 2,
   "metadata": {},
   "outputs": [],
   "source": [
    "from math import factorial, log\n",
    "\n",
    "from scipy import special, optimize\n",
    "import matplotlib.pyplot as plt"
   ]
  },
  {
   "cell_type": "markdown",
   "metadata": {},
   "source": [
    "### Data"
   ]
  },
  {
   "cell_type": "code",
   "execution_count": 3,
   "metadata": {},
   "outputs": [
    {
     "data": {
      "text/plain": [
       "{0: 7840, 1: 1317, 2: 239, 3: 42, 4: 14, 5: 4, 6: 4, 7: 1}"
      ]
     },
     "execution_count": 3,
     "metadata": {},
     "output_type": "execute_result"
    }
   ],
   "source": [
    "counts = dict(enumerate([7840, 1317, 239, 42, 14, 4, 4, 1]))\n",
    "counts"
   ]
  },
  {
   "cell_type": "markdown",
   "metadata": {},
   "source": [
    "### Robbins' formula calculations"
   ]
  },
  {
   "cell_type": "markdown",
   "metadata": {},
   "source": [
    "#### Empirical version"
   ]
  },
  {
   "cell_type": "code",
   "execution_count": 4,
   "metadata": {},
   "outputs": [],
   "source": [
    "formula6p7 = [(i + 1) * counts[i + 1] / counts[i] for i in range(len(counts) - 1)]"
   ]
  },
  {
   "cell_type": "markdown",
   "metadata": {},
   "source": [
    "#### Gamma-prior version\n",
    "\n",
    "This uses the discussion at the end of the chapter under $\\dagger_1$"
   ]
  },
  {
   "cell_type": "code",
   "execution_count": 5,
   "metadata": {},
   "outputs": [],
   "source": [
    "events = [claims for claims, count in counts.items() for _ in range(count)]"
   ]
  },
  {
   "cell_type": "code",
   "execution_count": 6,
   "metadata": {},
   "outputs": [],
   "source": [
    "def f(x, nu, sigma):\n",
    "    gamma = sigma / (1 + sigma)\n",
    "    numer = gamma ** (nu + x) * special.gamma(nu + x)\n",
    "    denom = sigma ** nu * special.gamma(nu) * factorial(x)\n",
    "    return numer / denom\n",
    "\n",
    "def negloglikelihood(params):\n",
    "    nu, sigma = params\n",
    "    return -sum(counts[x] * log(f(x, nu, sigma)) for x in range(8))"
   ]
  },
  {
   "cell_type": "code",
   "execution_count": 7,
   "metadata": {},
   "outputs": [],
   "source": [
    "results = optimize.minimize(\n",
    "    negloglikelihood,\n",
    "    x0=[0.5, 1.0],\n",
    "    bounds=[[0, None], [0, None]]\n",
    ")"
   ]
  },
  {
   "cell_type": "code",
   "execution_count": 8,
   "metadata": {},
   "outputs": [],
   "source": [
    "nu, sigma = results.x"
   ]
  },
  {
   "cell_type": "code",
   "execution_count": 9,
   "metadata": {},
   "outputs": [],
   "source": [
    "gamma_mle = [\n",
    "    (i + 1) * f(i + 1, nu, sigma) / f(i, nu, sigma)\n",
    "    for i in range(len(counts) - 1)\n",
    "]"
   ]
  },
  {
   "cell_type": "markdown",
   "metadata": {},
   "source": [
    "### Table 6.1"
   ]
  },
  {
   "cell_type": "code",
   "execution_count": 10,
   "metadata": {},
   "outputs": [
    {
     "name": "stdout",
     "output_type": "stream",
     "text": [
      "Claims x            0      1      2      3      4      5      6      7\n",
      "----------------------------------------------------------------------\n",
      "Counts y_x       7840   1317    239     42     14      4      4      1\n",
      "Formula (6.7)   0.168  0.363  0.527   1.33   1.43   6.00   1.75\n",
      "Gamma MLE       0.164  0.398  0.632  0.866   1.10   1.33   1.57\n"
     ]
    }
   ],
   "source": [
    "tmplt_int = \"  \".join([\"{:<14}\"] + [\"{:>5}\"]*8)\n",
    "tmplt_flt = \"  \".join([\"{:<14}\"] + [\"{:>#5.3g}\"]*7)\n",
    "\n",
    "print(tmplt_int.format(\"Claims x\", *list(range(8))))\n",
    "print(\"-\" * 70)\n",
    "print(tmplt_int.format(\"Counts y_x\", *counts.values(), 0))\n",
    "print(tmplt_flt.format(\"Formula (6.7)\", *formula6p7, 0))\n",
    "print(tmplt_flt.format(\"Gamma MLE\", *gamma_mle, 0))"
   ]
  },
  {
   "cell_type": "markdown",
   "metadata": {},
   "source": [
    "### Figure 6.1"
   ]
  },
  {
   "cell_type": "code",
   "execution_count": 11,
   "metadata": {},
   "outputs": [
    {
     "data": {
      "image/png": "[encoded data removed]",
      "text/plain": [
       "<Figure size 864x576 with 1 Axes>"
      ]
     },
     "metadata": {
      "needs_background": "light"
     },
     "output_type": "display_data"
    }
   ],
   "source": [
    "fig, ax = plt.subplots(figsize=(12, 8))\n",
    "\n",
    "ax.axvline(0, c=\"gray\", linestyle=\":\")\n",
    "ax.axhline(0, c=\"gray\", linestyle=\":\")\n",
    "\n",
    "n_events = len(events)\n",
    "\n",
    "ax.plot(range(7), [log(n_events * f(x, nu, sigma)) for x in range(7)], c=\"r\", linestyle=\":\")\n",
    "ax.scatter(range(8), [log(counts[x]) for x in range(8)])\n",
    "\n",
    "ax.set_xlabel(\"claims\", size=16)\n",
    "ax.set_ylabel(\"log(counts)\", size=16);"
   ]
  }
 ],
 "metadata": {
  "kernelspec": {
   "display_name": "Python 3",
   "language": "python",
   "name": "python3"
  },
  "language_info": {
   "codemirror_mode": {
    "name": "ipython",
    "version": 3
   },
   "file_extension": ".py",
   "mimetype": "text/x-python",
   "name": "python",
   "nbconvert_exporter": "python",
   "pygments_lexer": "ipython3",
   "version": "3.7.1"
  }
 },
 "nbformat": 4,
 "nbformat_minor": 2
}
