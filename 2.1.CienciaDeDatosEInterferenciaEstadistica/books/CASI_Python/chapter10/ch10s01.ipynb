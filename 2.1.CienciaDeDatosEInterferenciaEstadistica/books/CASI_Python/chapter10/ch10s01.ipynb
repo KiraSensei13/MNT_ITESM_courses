{
 "cells": [
  {
   "cell_type": "markdown",
   "metadata": {},
   "source": [
    "# 10.1 The Jackknife Estimate of Standard Errors"
   ]
  },
  {
   "cell_type": "markdown",
   "metadata": {},
   "source": [
    "### Setup"
   ]
  },
  {
   "cell_type": "code",
   "execution_count": 1,
   "metadata": {},
   "outputs": [],
   "source": [
    "%matplotlib inline"
   ]
  },
  {
   "cell_type": "code",
   "execution_count": 2,
   "metadata": {},
   "outputs": [],
   "source": [
    "import numpy as np\n",
    "import pandas as pd\n",
    "import matplotlib.pyplot as plt\n",
    "from scipy.interpolate import interp1d\n",
    "from matplotlib.collections import LineCollection\n",
    "from statsmodels.nonparametric.smoothers_lowess import lowess"
   ]
  },
  {
   "cell_type": "markdown",
   "metadata": {},
   "source": [
    "Load the data"
   ]
  },
  {
   "cell_type": "code",
   "execution_count": 3,
   "metadata": {},
   "outputs": [],
   "source": [
    "kidney = pd.read_csv(\"../data/kidney.txt\", delimiter=\" \")"
   ]
  },
  {
   "cell_type": "code",
   "execution_count": 4,
   "metadata": {},
   "outputs": [
    {
     "data": {
      "text/html": [
       "<div>\n",
       "<style scoped>\n",
       "    .dataframe tbody tr th:only-of-type {\n",
       "        vertical-align: middle;\n",
       "    }\n",
       "\n",
       "    .dataframe tbody tr th {\n",
       "        vertical-align: top;\n",
       "    }\n",
       "\n",
       "    .dataframe thead th {\n",
       "        text-align: right;\n",
       "    }\n",
       "</style>\n",
       "<table border=\"1\" class=\"dataframe\">\n",
       "  <thead>\n",
       "    <tr style=\"text-align: right;\">\n",
       "      <th></th>\n",
       "      <th>age</th>\n",
       "      <th>tot</th>\n",
       "    </tr>\n",
       "  </thead>\n",
       "  <tbody>\n",
       "    <tr>\n",
       "      <th>0</th>\n",
       "      <td>18</td>\n",
       "      <td>2.44</td>\n",
       "    </tr>\n",
       "    <tr>\n",
       "      <th>1</th>\n",
       "      <td>19</td>\n",
       "      <td>3.86</td>\n",
       "    </tr>\n",
       "    <tr>\n",
       "      <th>2</th>\n",
       "      <td>19</td>\n",
       "      <td>-1.22</td>\n",
       "    </tr>\n",
       "    <tr>\n",
       "      <th>3</th>\n",
       "      <td>20</td>\n",
       "      <td>2.30</td>\n",
       "    </tr>\n",
       "    <tr>\n",
       "      <th>4</th>\n",
       "      <td>21</td>\n",
       "      <td>0.98</td>\n",
       "    </tr>\n",
       "  </tbody>\n",
       "</table>\n",
       "</div>"
      ],
      "text/plain": [
       "   age   tot\n",
       "0   18  2.44\n",
       "1   19  3.86\n",
       "2   19 -1.22\n",
       "3   20  2.30\n",
       "4   21  0.98"
      ]
     },
     "execution_count": 4,
     "metadata": {},
     "output_type": "execute_result"
    }
   ],
   "source": [
    "kidney.head()"
   ]
  },
  {
   "cell_type": "markdown",
   "metadata": {},
   "source": [
    "### Lowess model"
   ]
  },
  {
   "cell_type": "markdown",
   "metadata": {},
   "source": [
    "Create main lowess predictions\n",
    "\n",
    "The `lowess` function returns an N x 2 Numpy array with x-values in the 0th column and y-values (fit values) in the 1st column"
   ]
  },
  {
   "cell_type": "code",
   "execution_count": 5,
   "metadata": {},
   "outputs": [],
   "source": [
    "low_preds = lowess(kidney.tot, kidney.age, frac=1/3.0)"
   ]
  },
  {
   "cell_type": "code",
   "execution_count": 6,
   "metadata": {},
   "outputs": [
    {
     "data": {
      "text/plain": [
       "array([[18.        ,  2.24792193],\n",
       "       [19.        ,  1.95243881],\n",
       "       [19.        ,  1.95243881],\n",
       "       [20.        ,  1.65762652],\n",
       "       [21.        ,  1.36364605]])"
      ]
     },
     "execution_count": 6,
     "metadata": {},
     "output_type": "execute_result"
    }
   ],
   "source": [
    "low_preds[:5]"
   ]
  },
  {
   "cell_type": "markdown",
   "metadata": {},
   "source": [
    "Below we'll create jackknife and bootstrap estimates at the ages 20, 30, ..., 80. We'll use `interp1d` to interpolate these values"
   ]
  },
  {
   "cell_type": "code",
   "execution_count": 7,
   "metadata": {},
   "outputs": [],
   "source": [
    "ages = np.array(list(range(20, 90, 5)))"
   ]
  },
  {
   "cell_type": "code",
   "execution_count": 8,
   "metadata": {},
   "outputs": [],
   "source": [
    "n_ages = ages.shape[0]\n",
    "n_obs = kidney.shape[0]"
   ]
  },
  {
   "cell_type": "markdown",
   "metadata": {},
   "source": [
    "### Jackknife estimates"
   ]
  },
  {
   "cell_type": "code",
   "execution_count": 9,
   "metadata": {},
   "outputs": [],
   "source": [
    "low_jacks = []\n",
    "for i in range(n_obs):\n",
    "    jack_tot = np.concatenate((kidney.tot[:i], kidney.tot[i + 1:]))\n",
    "    jack_age = np.concatenate((kidney.age[:i], kidney.age[i + 1:]))\n",
    "    new_preds = lowess(jack_tot, jack_age, frac=1/3.0)\n",
    "    low_jacks.append(new_preds)"
   ]
  },
  {
   "cell_type": "code",
   "execution_count": 10,
   "metadata": {},
   "outputs": [],
   "source": [
    "# interpolate lowess predictions for age = 20, 30, ..., 80\n",
    "jack_decs = np.zeros((n_ages, n_obs))\n",
    "for i, pred in enumerate(low_jacks):\n",
    "    # interp1d seems to have trouble with non-unique values\n",
    "    pred = np.unique(pred, axis=0)\n",
    "    # create an interpolator and collect each lowess's predictions\n",
    "    interpolate = interp1d(pred[:, 0], pred[:, 1], fill_value=\"extrapolate\", assume_sorted=True)\n",
    "    jack_decs[:, i] = interpolate(ages)\n",
    "\n",
    "# get estimate of theta\n",
    "theta = jack_decs.mean(axis=1)\n",
    "\n",
    "# get standard deviation for each age\n",
    "jack_var = ((jack_decs - theta[:, None])**2).sum(axis=1) * (n_obs - 1) / n_obs\n",
    "jack_sds = np.sqrt(jack_var)"
   ]
  },
  {
   "cell_type": "markdown",
   "metadata": {},
   "source": [
    "### Boostrap estimates"
   ]
  },
  {
   "cell_type": "markdown",
   "metadata": {},
   "source": [
    "This code is copied from section 1.1"
   ]
  },
  {
   "cell_type": "markdown",
   "metadata": {},
   "source": [
    "Create 250 bootstrap samples of the lowess predictions"
   ]
  },
  {
   "cell_type": "code",
   "execution_count": 11,
   "metadata": {},
   "outputs": [],
   "source": [
    "n_boots = 500"
   ]
  },
  {
   "cell_type": "code",
   "execution_count": 12,
   "metadata": {},
   "outputs": [],
   "source": [
    "low_boots = []\n",
    "for i in range(n_boots):\n",
    "    boot_data = kidney.sample(n=kidney.shape[0], replace=True)\n",
    "    new_preds = lowess(boot_data.tot, boot_data.age, frac=1/3.0)\n",
    "    low_boots.append(new_preds)"
   ]
  },
  {
   "cell_type": "markdown",
   "metadata": {},
   "source": [
    "Get bootstrap standard deviation as an estimate of standard error"
   ]
  },
  {
   "cell_type": "code",
   "execution_count": 13,
   "metadata": {},
   "outputs": [],
   "source": [
    "# interpolate lowess predictions for age = 20, 30, ..., 80\n",
    "boot_decs = np.zeros((n_ages, n_boots))\n",
    "for i, pred in enumerate(low_boots):\n",
    "    # interp1d seems to have trouble with non-unique values\n",
    "    pred = np.unique(pred, axis=0)\n",
    "    # create an interpolator and collect each lowess's predictions\n",
    "    interpolate = interp1d(pred[:, 0], pred[:, 1], fill_value=\"extrapolate\", assume_sorted=True)\n",
    "    boot_decs[:, i] = interpolate(ages)\n",
    "\n",
    "# get standard deviation for each age\n",
    "boot_var = np.var(boot_decs, axis=1, ddof=1)\n",
    "boot_sds = np.sqrt(boot_var)"
   ]
  },
  {
   "cell_type": "markdown",
   "metadata": {},
   "source": [
    "### Figure 10.1"
   ]
  },
  {
   "cell_type": "markdown",
   "metadata": {},
   "source": [
    "First, collect info for s.e. lines"
   ]
  },
  {
   "cell_type": "code",
   "execution_count": 14,
   "metadata": {},
   "outputs": [],
   "source": [
    "# interpolate the original lowess points for age = 20, 30, ..., 80 \n",
    "interpolate = interp1d(\n",
    "    low_preds[:, 0],\n",
    "    low_preds[:, 1],\n",
    "    fill_value=\"extrapolate\",\n",
    "    assume_sorted=True\n",
    ")\n",
    "\n",
    "jack_se_lines = LineCollection(\n",
    "    [\n",
    "        [[age + 0.3, interpolate(age) - 2 * se], [age + 0.3, interpolate(age) + 2 * se]]\n",
    "        for age, se in zip(ages, jack_sds)\n",
    "    ],\n",
    "    color=\"b\",\n",
    "    linestyle=\"--\",\n",
    ")\n",
    "\n",
    "boot_se_lines = LineCollection(\n",
    "    [\n",
    "        [[age - 0.3, interpolate(age) - 2 * se], [age - 0.3, interpolate(age) + 2 * se]]\n",
    "        for age, se in zip(ages, boot_sds)\n",
    "    ],\n",
    "    color=\"r\",\n",
    ")"
   ]
  },
  {
   "cell_type": "code",
   "execution_count": 15,
   "metadata": {},
   "outputs": [
    {
     "data": {
      "image/png": "[encoded data removed]",
      "text/plain": [
       "<Figure size 864x504 with 1 Axes>"
      ]
     },
     "metadata": {
      "needs_background": "light"
     },
     "output_type": "display_data"
    }
   ],
   "source": [
    "fig, ax = plt.subplots(figsize=(12, 7))\n",
    "\n",
    "#ax.scatter(kidney.age, kidney.tot)\n",
    "ax.plot(low_preds[:, 0], low_preds[:, 1], color=\"k\")\n",
    "ax.add_collection(jack_se_lines)\n",
    "ax.add_collection(boot_se_lines)\n",
    "\n",
    "ax.set_xlabel(\"age\", size=18)\n",
    "ax.set_ylabel(\"tot\", size=18)\n",
    "\n",
    "ax.set_ylim(-6, 3.5);"
   ]
  }
 ],
 "metadata": {
  "kernelspec": {
   "display_name": "Python 3",
   "language": "python",
   "name": "python3"
  },
  "language_info": {
   "codemirror_mode": {
    "name": "ipython",
    "version": 3
   },
   "file_extension": ".py",
   "mimetype": "text/x-python",
   "name": "python",
   "nbconvert_exporter": "python",
   "pygments_lexer": "ipython3",
   "version": "3.7.1"
  }
 },
 "nbformat": 4,
 "nbformat_minor": 2
}
