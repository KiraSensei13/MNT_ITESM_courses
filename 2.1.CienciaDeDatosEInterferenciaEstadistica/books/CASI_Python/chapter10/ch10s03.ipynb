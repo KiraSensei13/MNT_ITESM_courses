{
 "cells": [
  {
   "cell_type": "markdown",
   "metadata": {},
   "source": [
    "# 10.3 Resampling Plans"
   ]
  },
  {
   "cell_type": "markdown",
   "metadata": {},
   "source": [
    "### Setup"
   ]
  },
  {
   "cell_type": "code",
   "execution_count": 1,
   "metadata": {},
   "outputs": [],
   "source": [
    "%matplotlib inline"
   ]
  },
  {
   "cell_type": "code",
   "execution_count": 2,
   "metadata": {},
   "outputs": [],
   "source": [
    "import numpy as np\n",
    "import pandas as pd\n",
    "import matplotlib.pyplot as plt"
   ]
  },
  {
   "cell_type": "code",
   "execution_count": 3,
   "metadata": {},
   "outputs": [],
   "source": [
    "leukemia = pd.read_csv(\"../data/leukemia_big.csv\")"
   ]
  },
  {
   "cell_type": "code",
   "execution_count": 4,
   "metadata": {},
   "outputs": [
    {
     "data": {
      "text/html": [
       "<div>\n",
       "<style scoped>\n",
       "    .dataframe tbody tr th:only-of-type {\n",
       "        vertical-align: middle;\n",
       "    }\n",
       "\n",
       "    .dataframe tbody tr th {\n",
       "        vertical-align: top;\n",
       "    }\n",
       "\n",
       "    .dataframe thead th {\n",
       "        text-align: right;\n",
       "    }\n",
       "</style>\n",
       "<table border=\"1\" class=\"dataframe\">\n",
       "  <thead>\n",
       "    <tr style=\"text-align: right;\">\n",
       "      <th></th>\n",
       "      <th>ALL</th>\n",
       "      <th>ALL.1</th>\n",
       "      <th>ALL.2</th>\n",
       "      <th>ALL.3</th>\n",
       "      <th>ALL.4</th>\n",
       "      <th>ALL.5</th>\n",
       "      <th>ALL.6</th>\n",
       "      <th>ALL.7</th>\n",
       "      <th>ALL.8</th>\n",
       "      <th>ALL.9</th>\n",
       "      <th>...</th>\n",
       "      <th>AML.15</th>\n",
       "      <th>AML.16</th>\n",
       "      <th>AML.17</th>\n",
       "      <th>AML.18</th>\n",
       "      <th>AML.19</th>\n",
       "      <th>AML.20</th>\n",
       "      <th>AML.21</th>\n",
       "      <th>AML.22</th>\n",
       "      <th>AML.23</th>\n",
       "      <th>AML.24</th>\n",
       "    </tr>\n",
       "  </thead>\n",
       "  <tbody>\n",
       "    <tr>\n",
       "      <th>0</th>\n",
       "      <td>-1.533622</td>\n",
       "      <td>-0.867610</td>\n",
       "      <td>-0.433172</td>\n",
       "      <td>-1.671903</td>\n",
       "      <td>-1.187689</td>\n",
       "      <td>-1.127234</td>\n",
       "      <td>-1.045409</td>\n",
       "      <td>-0.106917</td>\n",
       "      <td>-1.198796</td>\n",
       "      <td>-1.190899</td>\n",
       "      <td>...</td>\n",
       "      <td>-0.436650</td>\n",
       "      <td>-1.274708</td>\n",
       "      <td>-0.681458</td>\n",
       "      <td>-0.876610</td>\n",
       "      <td>-0.624022</td>\n",
       "      <td>-0.431628</td>\n",
       "      <td>-1.435259</td>\n",
       "      <td>-0.671954</td>\n",
       "      <td>-1.013161</td>\n",
       "      <td>-0.969482</td>\n",
       "    </tr>\n",
       "    <tr>\n",
       "      <th>1</th>\n",
       "      <td>-1.235673</td>\n",
       "      <td>-1.275501</td>\n",
       "      <td>-1.184492</td>\n",
       "      <td>-1.596424</td>\n",
       "      <td>-1.335256</td>\n",
       "      <td>-1.113730</td>\n",
       "      <td>-0.800880</td>\n",
       "      <td>-0.745177</td>\n",
       "      <td>-0.849312</td>\n",
       "      <td>-1.190899</td>\n",
       "      <td>...</td>\n",
       "      <td>-0.915483</td>\n",
       "      <td>-1.354363</td>\n",
       "      <td>-0.653559</td>\n",
       "      <td>-1.096250</td>\n",
       "      <td>-1.066594</td>\n",
       "      <td>-1.335256</td>\n",
       "      <td>-1.204586</td>\n",
       "      <td>-0.751457</td>\n",
       "      <td>-0.889592</td>\n",
       "      <td>-1.080988</td>\n",
       "    </tr>\n",
       "    <tr>\n",
       "      <th>2</th>\n",
       "      <td>-0.333983</td>\n",
       "      <td>0.375927</td>\n",
       "      <td>-0.459196</td>\n",
       "      <td>-1.422571</td>\n",
       "      <td>-0.797493</td>\n",
       "      <td>-1.362768</td>\n",
       "      <td>-0.671954</td>\n",
       "      <td>-1.175674</td>\n",
       "      <td>0.320813</td>\n",
       "      <td>0.646610</td>\n",
       "      <td>...</td>\n",
       "      <td>-0.736156</td>\n",
       "      <td>-0.022153</td>\n",
       "      <td>-0.037455</td>\n",
       "      <td>-0.567335</td>\n",
       "      <td>-1.100749</td>\n",
       "      <td>-0.552938</td>\n",
       "      <td>-0.948874</td>\n",
       "      <td>-0.231657</td>\n",
       "      <td>-0.742163</td>\n",
       "      <td>-0.779500</td>\n",
       "    </tr>\n",
       "    <tr>\n",
       "      <th>3</th>\n",
       "      <td>0.488702</td>\n",
       "      <td>0.444011</td>\n",
       "      <td>0.436264</td>\n",
       "      <td>0.193353</td>\n",
       "      <td>0.235632</td>\n",
       "      <td>-0.360312</td>\n",
       "      <td>0.184941</td>\n",
       "      <td>0.425653</td>\n",
       "      <td>0.333983</td>\n",
       "      <td>0.235270</td>\n",
       "      <td>...</td>\n",
       "      <td>0.083781</td>\n",
       "      <td>0.356562</td>\n",
       "      <td>0.416241</td>\n",
       "      <td>0.533986</td>\n",
       "      <td>0.227505</td>\n",
       "      <td>0.416816</td>\n",
       "      <td>0.408202</td>\n",
       "      <td>0.326556</td>\n",
       "      <td>0.361813</td>\n",
       "      <td>0.298864</td>\n",
       "    </tr>\n",
       "    <tr>\n",
       "      <th>4</th>\n",
       "      <td>-1.300893</td>\n",
       "      <td>-1.229660</td>\n",
       "      <td>-1.325882</td>\n",
       "      <td>-1.818329</td>\n",
       "      <td>-1.311206</td>\n",
       "      <td>-1.513975</td>\n",
       "      <td>-1.651624</td>\n",
       "      <td>-1.339555</td>\n",
       "      <td>-0.593132</td>\n",
       "      <td>0.133302</td>\n",
       "      <td>...</td>\n",
       "      <td>-1.547444</td>\n",
       "      <td>-1.264475</td>\n",
       "      <td>-1.512318</td>\n",
       "      <td>-1.469583</td>\n",
       "      <td>-1.283472</td>\n",
       "      <td>-0.977672</td>\n",
       "      <td>-1.090178</td>\n",
       "      <td>-1.545120</td>\n",
       "      <td>-1.174272</td>\n",
       "      <td>-1.443183</td>\n",
       "    </tr>\n",
       "  </tbody>\n",
       "</table>\n",
       "<p>5 rows × 72 columns</p>\n",
       "</div>"
      ],
      "text/plain": [
       "        ALL     ALL.1     ALL.2     ALL.3     ALL.4     ALL.5     ALL.6  \\\n",
       "0 -1.533622 -0.867610 -0.433172 -1.671903 -1.187689 -1.127234 -1.045409   \n",
       "1 -1.235673 -1.275501 -1.184492 -1.596424 -1.335256 -1.113730 -0.800880   \n",
       "2 -0.333983  0.375927 -0.459196 -1.422571 -0.797493 -1.362768 -0.671954   \n",
       "3  0.488702  0.444011  0.436264  0.193353  0.235632 -0.360312  0.184941   \n",
       "4 -1.300893 -1.229660 -1.325882 -1.818329 -1.311206 -1.513975 -1.651624   \n",
       "\n",
       "      ALL.7     ALL.8     ALL.9    ...       AML.15    AML.16    AML.17  \\\n",
       "0 -0.106917 -1.198796 -1.190899    ...    -0.436650 -1.274708 -0.681458   \n",
       "1 -0.745177 -0.849312 -1.190899    ...    -0.915483 -1.354363 -0.653559   \n",
       "2 -1.175674  0.320813  0.646610    ...    -0.736156 -0.022153 -0.037455   \n",
       "3  0.425653  0.333983  0.235270    ...     0.083781  0.356562  0.416241   \n",
       "4 -1.339555 -0.593132  0.133302    ...    -1.547444 -1.264475 -1.512318   \n",
       "\n",
       "     AML.18    AML.19    AML.20    AML.21    AML.22    AML.23    AML.24  \n",
       "0 -0.876610 -0.624022 -0.431628 -1.435259 -0.671954 -1.013161 -0.969482  \n",
       "1 -1.096250 -1.066594 -1.335256 -1.204586 -0.751457 -0.889592 -1.080988  \n",
       "2 -0.567335 -1.100749 -0.552938 -0.948874 -0.231657 -0.742163 -0.779500  \n",
       "3  0.533986  0.227505  0.416816  0.408202  0.326556  0.361813  0.298864  \n",
       "4 -1.469583 -1.283472 -0.977672 -1.090178 -1.545120 -1.174272 -1.443183  \n",
       "\n",
       "[5 rows x 72 columns]"
      ]
     },
     "execution_count": 4,
     "metadata": {},
     "output_type": "execute_result"
    }
   ],
   "source": [
    "leukemia.head()"
   ]
  },
  {
   "cell_type": "code",
   "execution_count": 5,
   "metadata": {},
   "outputs": [],
   "source": [
    "all_cols = [x for x in leukemia.columns if x.startswith(\"ALL\")]\n",
    "aml_cols = [x for x in leukemia.columns if x.startswith(\"AML\")]\n",
    "\n",
    "all_vals = leukemia[all_cols].iloc[135].values\n",
    "aml_vals = leukemia[aml_cols].iloc[135].values"
   ]
  },
  {
   "cell_type": "markdown",
   "metadata": {},
   "source": [
    "### Figure 10.4"
   ]
  },
  {
   "cell_type": "markdown",
   "metadata": {},
   "source": [
    "Difference in medians"
   ]
  },
  {
   "cell_type": "code",
   "execution_count": 6,
   "metadata": {},
   "outputs": [
    {
     "data": {
      "text/plain": [
       "0.235"
      ]
     },
     "execution_count": 6,
     "metadata": {},
     "output_type": "execute_result"
    }
   ],
   "source": [
    "mediff_est = (np.median(aml_vals) - np.median(all_vals))\n",
    "mediff_est.round(3)"
   ]
  },
  {
   "cell_type": "markdown",
   "metadata": {},
   "source": [
    "Bootstrap values"
   ]
  },
  {
   "cell_type": "code",
   "execution_count": 7,
   "metadata": {},
   "outputs": [],
   "source": [
    "n_all = all_vals.shape[0]\n",
    "n_aml = aml_vals.shape[0]\n",
    "\n",
    "n_boots = 500\n",
    "bootvals = []\n",
    "for _ in range(n_boots):\n",
    "    aml_boot = np.random.choice(aml_vals, size=n_aml, replace=True)\n",
    "    all_boot = np.random.choice(all_vals, size=n_all, replace=True)\n",
    "    bootvals.append(np.median(aml_boot) - np.median(all_boot))"
   ]
  },
  {
   "cell_type": "markdown",
   "metadata": {},
   "source": [
    "Standard error"
   ]
  },
  {
   "cell_type": "code",
   "execution_count": 8,
   "metadata": {},
   "outputs": [
    {
     "data": {
      "text/plain": [
       "0.072"
      ]
     },
     "execution_count": 8,
     "metadata": {},
     "output_type": "execute_result"
    }
   ],
   "source": [
    "np.sqrt(np.var(bootvals, ddof=1)).round(3)"
   ]
  },
  {
   "cell_type": "markdown",
   "metadata": {},
   "source": [
    "Plot"
   ]
  },
  {
   "cell_type": "code",
   "execution_count": 9,
   "metadata": {},
   "outputs": [
    {
     "data": {
      "image/png": "[encoded data removed]",
      "text/plain": [
       "<Figure size 864x504 with 1 Axes>"
      ]
     },
     "metadata": {
      "needs_background": "light"
     },
     "output_type": "display_data"
    }
   ],
   "source": [
    "fig, ax = plt.subplots(figsize=(12, 7))\n",
    "\n",
    "ax.hist(bootvals, bins=36, color=\"cyan\", edgecolor=\"k\")\n",
    "ax.axvline(mediff_est, c=\"k\", linewidth=2)\n",
    "ax.axvline(0, c=\"k\", linestyle=\"--\", linewidth=1)\n",
    "\n",
    "ax.set_xlabel(\"mediff*\", size=18)\n",
    "ax.set_ylabel(\"Frequency\", size=18);"
   ]
  }
 ],
 "metadata": {
  "kernelspec": {
   "display_name": "Python 3",
   "language": "python",
   "name": "python3"
  },
  "language_info": {
   "codemirror_mode": {
    "name": "ipython",
    "version": 3
   },
   "file_extension": ".py",
   "mimetype": "text/x-python",
   "name": "python",
   "nbconvert_exporter": "python",
   "pygments_lexer": "ipython3",
   "version": "3.7.1"
  }
 },
 "nbformat": 4,
 "nbformat_minor": 2
}
