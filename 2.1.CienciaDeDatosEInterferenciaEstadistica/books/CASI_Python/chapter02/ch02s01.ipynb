{
 "cells": [
  {
   "cell_type": "markdown",
   "metadata": {},
   "source": [
    "# 2.1 Frequentist Inference"
   ]
  },
  {
   "cell_type": "markdown",
   "metadata": {},
   "source": [
    "### Setup"
   ]
  },
  {
   "cell_type": "code",
   "execution_count": 1,
   "metadata": {},
   "outputs": [],
   "source": [
    "import numpy as np\n",
    "import pandas as pd"
   ]
  },
  {
   "cell_type": "markdown",
   "metadata": {},
   "source": [
    "Load data"
   ]
  },
  {
   "cell_type": "code",
   "execution_count": 2,
   "metadata": {},
   "outputs": [],
   "source": [
    "# dataset is a single column; extract it as a Series\n",
    "gfr = pd.read_csv(\"../data/gfr.txt\", delimiter=\" \", header=None, names=[\"gfr\"])\n",
    "gfr = gfr.gfr"
   ]
  },
  {
   "cell_type": "code",
   "execution_count": 3,
   "metadata": {},
   "outputs": [
    {
     "data": {
      "text/plain": [
       "0    108\n",
       "1     91\n",
       "2     62\n",
       "3     59\n",
       "4     84\n",
       "Name: gfr, dtype: int64"
      ]
     },
     "execution_count": 3,
     "metadata": {},
     "output_type": "execute_result"
    }
   ],
   "source": [
    "gfr.head()"
   ]
  },
  {
   "cell_type": "markdown",
   "metadata": {},
   "source": [
    "### Table 2.1"
   ]
  },
  {
   "cell_type": "markdown",
   "metadata": {},
   "source": [
    "#### Mean"
   ]
  },
  {
   "cell_type": "code",
   "execution_count": 4,
   "metadata": {},
   "outputs": [],
   "source": [
    "mean = gfr.mean()"
   ]
  },
  {
   "cell_type": "code",
   "execution_count": 5,
   "metadata": {},
   "outputs": [],
   "source": [
    "n_gfr = gfr.shape[0]\n",
    "se_mean = np.sqrt(((gfr - mean)**2).sum() / (n_gfr * (n_gfr - 1)))"
   ]
  },
  {
   "cell_type": "markdown",
   "metadata": {},
   "source": [
    "#### Bootstrap samples"
   ]
  },
  {
   "cell_type": "code",
   "execution_count": 6,
   "metadata": {},
   "outputs": [],
   "source": [
    "def winsorize25(values):\n",
    "    q25, q75 = values.quantile(q=[0.25, 0.75])\n",
    "    values = values.clip(lower=q25, upper=q75)\n",
    "    return values.mean()"
   ]
  },
  {
   "cell_type": "code",
   "execution_count": 7,
   "metadata": {},
   "outputs": [],
   "source": [
    "win_boots = []\n",
    "med_boots = []\n",
    "for _ in range(1000):\n",
    "    boot_data = gfr.sample(n=gfr.shape[0], replace=True)\n",
    "    win_boots.append(winsorize25(boot_data))\n",
    "    med_boots.append(boot_data.median())"
   ]
  },
  {
   "cell_type": "markdown",
   "metadata": {},
   "source": [
    "#### Winsorized mean"
   ]
  },
  {
   "cell_type": "code",
   "execution_count": 8,
   "metadata": {},
   "outputs": [],
   "source": [
    "winsorized = winsorize25(gfr)"
   ]
  },
  {
   "cell_type": "code",
   "execution_count": 9,
   "metadata": {},
   "outputs": [],
   "source": [
    "se_wins = np.var(win_boots, ddof=1)"
   ]
  },
  {
   "cell_type": "markdown",
   "metadata": {},
   "source": [
    "#### Median"
   ]
  },
  {
   "cell_type": "code",
   "execution_count": 10,
   "metadata": {},
   "outputs": [],
   "source": [
    "median = gfr.median()"
   ]
  },
  {
   "cell_type": "code",
   "execution_count": 11,
   "metadata": {},
   "outputs": [],
   "source": [
    "se_median = np.var(med_boots, ddof=1)"
   ]
  },
  {
   "cell_type": "markdown",
   "metadata": {},
   "source": [
    "#### Table"
   ]
  },
  {
   "cell_type": "code",
   "execution_count": 12,
   "metadata": {},
   "outputs": [
    {
     "name": "stdout",
     "output_type": "stream",
     "text": [
      "                   Estimate    SE\n",
      "-----------------------------------\n",
      "mean                  54.27  0.94\n",
      "25% Winsorized mean   52.81  0.84\n",
      "median                52.00  0.77\n"
     ]
    }
   ],
   "source": [
    "tmplt = \"{:<20}  {:>0.2f}  {:>0.2f}\"\n",
    "print(\"                   Estimate    SE\")\n",
    "print(\"-\" * 35)\n",
    "print(tmplt.format(\"mean\", mean, se_mean))\n",
    "print(tmplt.format(\"25% Winsorized mean\", winsorized, se_wins))\n",
    "print(tmplt.format(\"median\", median, se_median))"
   ]
  },
  {
   "cell_type": "markdown",
   "metadata": {},
   "source": [
    "All of these values are slightly different from the book's values. For the bootstrap SE that's expected. For the others, I'm not sure why they're different. In particular, in repeated runs of the boostrap samples, the Winsorized mean usually has higher SE than the median."
   ]
  }
 ],
 "metadata": {
  "kernelspec": {
   "display_name": "Python 3",
   "language": "python",
   "name": "python3"
  },
  "language_info": {
   "codemirror_mode": {
    "name": "ipython",
    "version": 3
   },
   "file_extension": ".py",
   "mimetype": "text/x-python",
   "name": "python",
   "nbconvert_exporter": "python",
   "pygments_lexer": "ipython3",
   "version": "3.7.3"
  }
 },
 "nbformat": 4,
 "nbformat_minor": 4
}
