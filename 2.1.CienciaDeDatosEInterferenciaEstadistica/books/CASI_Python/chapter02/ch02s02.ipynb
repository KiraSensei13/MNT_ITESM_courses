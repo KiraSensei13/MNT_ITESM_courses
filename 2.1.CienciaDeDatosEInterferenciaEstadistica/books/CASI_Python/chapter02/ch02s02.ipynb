{
 "cells": [
  {
   "cell_type": "markdown",
   "metadata": {},
   "source": [
    "# 2.2 Frequentist Optimality"
   ]
  },
  {
   "cell_type": "markdown",
   "metadata": {},
   "source": [
    "<small>Thanks to Francisco Fonseca and Trevor Hastie for uncovering and correcting an error in the book, which made it possible to complete this section.</small>"
   ]
  },
  {
   "cell_type": "markdown",
   "metadata": {},
   "source": [
    "### Setup"
   ]
  },
  {
   "cell_type": "code",
   "execution_count": 1,
   "metadata": {},
   "outputs": [],
   "source": [
    "%matplotlib inline"
   ]
  },
  {
   "cell_type": "code",
   "execution_count": 2,
   "metadata": {},
   "outputs": [],
   "source": [
    "import numpy as np\n",
    "import matplotlib.pyplot as plt\n",
    "from scipy.stats import norm"
   ]
  },
  {
   "cell_type": "markdown",
   "metadata": {},
   "source": [
    "For ten independent samples from each normal distribution, with means $\\mu_0 = 0$, $\\mu_1 = 0.5$ and variance $\\sigma_0^2 = \\sigma_1^2 = 1$, we have\n",
    "\n",
    "$$\n",
    "\\begin{aligned}\n",
    "\\log L(x) &= \\log\\left(f_1(x) / f_0(x)\\right) \\newline\n",
    "&= \\log \\frac{\\prod_{i=1}^{10}\\frac{1}{\\sqrt{2\\pi}}\\exp\\left(-(x_i - 0.5)^2 / 2\\right)}{\\prod_{i=1}^{10} \\frac{1}{\\sqrt{2\\pi}}\\exp\\left(-x_i^2 / 2\\right)} \\newline\n",
    "&= \\log \\frac{\\prod_{i=1}^{10} \\exp\\left(-(x_i - 0.5)^2 / 2\\right)}{\\prod_{i=1}^{10} \\exp\\left(-x_i^2 / 2\\right)} \\newline\n",
    "&= \\log \\frac{\\exp\\left(-\\sum_{i=1}^{10}(x_i - 0.5)^2 / 2\\right)}{ \\exp\\left(-\\sum_{i=1}^{10}x_i^2 / 2\\right)} \\newline\n",
    "&= \\log \\exp\\left(-\\sum_{i=1}^{10}(x_i - 0.5)^2 / 2\\right) - \\log \\exp\\left(-\\sum_{i=1}^{10}x_i^2 / 2\\right) \\newline\n",
    "&= -\\sum_{i=1}^{10}(x_i - 0.5)^2 / 2 + \\sum_{i=1}^{10}x_i^2 / 2 \\newline\n",
    "&= \\frac{1}{2} \\left( -\\sum_{i=1}^{10}x_i^2 + \\sum_{i=1}^{10} x_i - \\sum_{i=1}^{10} 0.25 + \\sum_{i=1}^{10}x_i^2 \\right) \\newline\n",
    "&= \\frac{1}{2} \\sum_{i=1}^{10} x_i - \\frac{5}{4} \\newline\n",
    "&= \\frac{5}{10} \\sum_{i=1}^{10} x_i - \\frac{5}{4} \\newline\n",
    "&= 5 \\cdot \\overline{x} - \\frac{5}{4} \\newline\n",
    "\\end{aligned}\n",
    "$$"
   ]
  },
  {
   "cell_type": "markdown",
   "metadata": {},
   "source": [
    "Then the testing rule is\n",
    "\n",
    "$$\n",
    "t_c(x) = \\left\\{ \n",
    "\\begin{aligned}\n",
    "1 & \\quad\\text{if}\\quad 5 \\cdot \\overline{x} - \\frac{5}{4} \\geq c \\\\\n",
    "0 & \\quad\\text{if}\\quad 5 \\cdot \\overline{x} - \\frac{5}{4} < c\n",
    "\\end{aligned}\n",
    "\\right.\n",
    "$$\n",
    "\n",
    "which is\n",
    "\n",
    "$$\n",
    "t_c(x) = \\left\\{ \n",
    "\\begin{aligned}\n",
    "1 & \\quad\\text{if}\\quad \\overline{x} \\geq c/5 + 1/4 \\\\\n",
    "0 & \\quad\\text{if}\\quad \\overline{x} < c/5 + 1/4\n",
    "\\end{aligned}\n",
    "\\right.\n",
    "$$"
   ]
  },
  {
   "cell_type": "markdown",
   "metadata": {},
   "source": [
    "Then with\n",
    "\n",
    "$$\n",
    "\\begin{aligned}\n",
    "\\alpha &= \\Pr_{f_0}\\left\\{t(x) = 1\\right\\} \\\\\n",
    "\\beta &= \\Pr_{f_1}\\left\\{t(x) = 0\\right\\}\n",
    "\\end{aligned}\n",
    "$$\n",
    "\n",
    "we have\n",
    "\n",
    "$$\n",
    "\\begin{aligned}\n",
    "\\alpha &= \\Pr_{f_0}\\left\\{\\overline{x} \\geq 0.2 c + 0.25 \\right\\} \\\\\n",
    "\\beta &= \\Pr_{f_1}\\left\\{\\overline{x} < 0.2 c + 0.25 \\right\\}\n",
    "\\end{aligned}\n",
    "$$"
   ]
  },
  {
   "cell_type": "markdown",
   "metadata": {},
   "source": [
    "For $\\alpha$ and $\\beta$ we need to pull values from the CDFs of the distributions on sample means."
   ]
  },
  {
   "cell_type": "code",
   "execution_count": 3,
   "metadata": {},
   "outputs": [],
   "source": [
    "m0 = norm(loc=0, scale=(1 / np.sqrt(10)))\n",
    "m1 = norm(loc=0.5, scale=(1 / np.sqrt(10)))"
   ]
  },
  {
   "cell_type": "markdown",
   "metadata": {},
   "source": [
    "Values for the plot"
   ]
  },
  {
   "cell_type": "code",
   "execution_count": 4,
   "metadata": {},
   "outputs": [],
   "source": [
    "# each cutoff is 0.2 * c + 0.25\n",
    "cutoffs = np.arange(0.9, -0.95, -0.1)\n",
    "sparse_cutoffs = np.arange(0.8, -0.5, -0.2)"
   ]
  },
  {
   "cell_type": "code",
   "execution_count": 5,
   "metadata": {},
   "outputs": [],
   "source": [
    "a_vals = [1 - m0.cdf(cutoff) for cutoff in cutoffs]\n",
    "b_vals = [m1.cdf(cutoff) for cutoff in cutoffs]"
   ]
  },
  {
   "cell_type": "code",
   "execution_count": 6,
   "metadata": {},
   "outputs": [],
   "source": [
    "sparse_a_vals = [1 - m0.cdf(cutoff) for cutoff in sparse_cutoffs]\n",
    "sparse_b_vals = [m1.cdf(cutoff) for cutoff in sparse_cutoffs]"
   ]
  },
  {
   "cell_type": "markdown",
   "metadata": {},
   "source": [
    "### Figure 2.2"
   ]
  },
  {
   "cell_type": "code",
   "execution_count": 7,
   "metadata": {},
   "outputs": [
    {
     "data": {
      "image/png": "[encoded data removed]",
      "text/plain": [
       "<Figure size 576x576 with 1 Axes>"
      ]
     },
     "metadata": {
      "needs_background": "light"
     },
     "output_type": "display_data"
    }
   ],
   "source": [
    "fix, ax = plt.subplots(figsize=(8, 8))\n",
    "\n",
    "ax.axvline(0, linestyle=\":\")\n",
    "ax.axvline(1, linestyle=\":\")\n",
    "ax.axhline(0, linestyle=\":\")\n",
    "ax.axhline(1, linestyle=\":\")\n",
    "\n",
    "ax.plot(a_vals, b_vals)\n",
    "ax.scatter(sparse_a_vals, sparse_b_vals, c=\"r\")\n",
    "\n",
    "ax.set_xlim(-0.15, 1.15)\n",
    "ax.set_ylim(-0.15, 1.15)\n",
    "\n",
    "ax.set_xlabel(\"$\\\\alpha$\", size=18)\n",
    "ax.set_ylabel(\"$\\\\beta$\", size=18);"
   ]
  }
 ],
 "metadata": {
  "kernelspec": {
   "display_name": "Python 3",
   "language": "python",
   "name": "python3"
  },
  "language_info": {
   "codemirror_mode": {
    "name": "ipython",
    "version": 3
   },
   "file_extension": ".py",
   "mimetype": "text/x-python",
   "name": "python",
   "nbconvert_exporter": "python",
   "pygments_lexer": "ipython3",
   "version": "3.7.1"
  }
 },
 "nbformat": 4,
 "nbformat_minor": 2
}
