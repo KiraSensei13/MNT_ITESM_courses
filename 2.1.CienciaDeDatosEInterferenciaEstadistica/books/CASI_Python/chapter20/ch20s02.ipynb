{
 "cells": [
  {
   "cell_type": "markdown",
   "metadata": {},
   "source": [
    "# 20.2 Accuracy After Model Selection"
   ]
  },
  {
   "cell_type": "markdown",
   "metadata": {},
   "source": [
    "### Setup"
   ]
  },
  {
   "cell_type": "code",
   "execution_count": 1,
   "metadata": {},
   "outputs": [],
   "source": [
    "%matplotlib inline"
   ]
  },
  {
   "cell_type": "code",
   "execution_count": 2,
   "metadata": {},
   "outputs": [],
   "source": [
    "import numpy as np\n",
    "import pandas as pd\n",
    "import statsmodels.api as sm\n",
    "import matplotlib.pyplot as plt"
   ]
  },
  {
   "cell_type": "code",
   "execution_count": 3,
   "metadata": {},
   "outputs": [
    {
     "data": {
      "text/html": [
       "<div>\n",
       "<style scoped>\n",
       "    .dataframe tbody tr th:only-of-type {\n",
       "        vertical-align: middle;\n",
       "    }\n",
       "\n",
       "    .dataframe tbody tr th {\n",
       "        vertical-align: top;\n",
       "    }\n",
       "\n",
       "    .dataframe thead th {\n",
       "        text-align: right;\n",
       "    }\n",
       "</style>\n",
       "<table border=\"1\" class=\"dataframe\">\n",
       "  <thead>\n",
       "    <tr style=\"text-align: right;\">\n",
       "      <th></th>\n",
       "      <th>compliance</th>\n",
       "      <th>cholesterol.decrease</th>\n",
       "    </tr>\n",
       "  </thead>\n",
       "  <tbody>\n",
       "    <tr>\n",
       "      <th>0</th>\n",
       "      <td>-2.2510</td>\n",
       "      <td>11.50</td>\n",
       "    </tr>\n",
       "    <tr>\n",
       "      <th>1</th>\n",
       "      <td>-2.2510</td>\n",
       "      <td>-6.25</td>\n",
       "    </tr>\n",
       "    <tr>\n",
       "      <th>2</th>\n",
       "      <td>-2.2510</td>\n",
       "      <td>-7.25</td>\n",
       "    </tr>\n",
       "    <tr>\n",
       "      <th>3</th>\n",
       "      <td>-2.2510</td>\n",
       "      <td>-5.25</td>\n",
       "    </tr>\n",
       "    <tr>\n",
       "      <th>4</th>\n",
       "      <td>-1.8312</td>\n",
       "      <td>-23.00</td>\n",
       "    </tr>\n",
       "  </tbody>\n",
       "</table>\n",
       "</div>"
      ],
      "text/plain": [
       "   compliance  cholesterol.decrease\n",
       "0     -2.2510                 11.50\n",
       "1     -2.2510                 -6.25\n",
       "2     -2.2510                 -7.25\n",
       "3     -2.2510                 -5.25\n",
       "4     -1.8312                -23.00"
      ]
     },
     "execution_count": 3,
     "metadata": {},
     "output_type": "execute_result"
    }
   ],
   "source": [
    "cholesterol = pd.read_csv(\"../data/cholesterol.txt\", delimiter=\" \")\n",
    "cholesterol.head()"
   ]
  },
  {
   "cell_type": "markdown",
   "metadata": {},
   "source": [
    "### Calculate C<sub>p</sub> for polynomial models"
   ]
  },
  {
   "cell_type": "code",
   "execution_count": 4,
   "metadata": {},
   "outputs": [],
   "source": [
    "# https://stackoverflow.com/a/41317397 for the orthogonal polynomial\n",
    "\n",
    "def make_poly(x, degree, orthogonal=False):\n",
    "    x_mat = np.transpose(np.vstack((x**k for k in range(degree + 1))))\n",
    "    if orthogonal:\n",
    "        x_mat = np.linalg.qr(x_mat)[0]\n",
    "        x_mat[:, 0] = 1\n",
    "    columns = [\"x{}\".format(i) for i in range(degree + 1)]\n",
    "    return pd.DataFrame(x_mat, columns=columns)"
   ]
  },
  {
   "cell_type": "markdown",
   "metadata": {},
   "source": [
    "Note the Cp function below does not divide by the number of observations, unlike in equation 12.51"
   ]
  },
  {
   "cell_type": "code",
   "execution_count": 5,
   "metadata": {
    "collapsed": true
   },
   "outputs": [],
   "source": [
    "def cp(results, X, y, sigma_hat):\n",
    "    nobs, p = X.shape\n",
    "    resid = results.predict(X) - y\n",
    "    err = (resid**2).sum()\n",
    "    covariance_penalty = 2 * p * sigma_hat**2\n",
    "    return err + covariance_penalty"
   ]
  },
  {
   "cell_type": "code",
   "execution_count": 6,
   "metadata": {},
   "outputs": [],
   "source": [
    "y = cholesterol[\"cholesterol.decrease\"]\n",
    "\n",
    "cp_vals = []\n",
    "for degree in range(7):\n",
    "    X = make_poly(cholesterol[\"compliance\"], degree=degree)\n",
    "    model = sm.OLS(y, X)\n",
    "    res = model.fit()\n",
    "    cp_val = cp(res, X, y, sigma_hat=22.0)\n",
    "    cp_vals.append(cp_val)"
   ]
  },
  {
   "cell_type": "markdown",
   "metadata": {},
   "source": [
    "### Table 20.2"
   ]
  },
  {
   "cell_type": "code",
   "execution_count": 7,
   "metadata": {},
   "outputs": [
    {
     "name": "stdout",
     "output_type": "stream",
     "text": [
      " Degree     Cp\n",
      "----------------\n",
      "   0      71887\n",
      "   1       1131\n",
      "   2       1411\n",
      "   3        667\n",
      "   4       1591\n",
      "   5       1811\n",
      "   6       2758\n"
     ]
    }
   ],
   "source": [
    "tmplt = \"   {}   {:8.0f}\"\n",
    "print(\" Degree     Cp\")\n",
    "print(\"----------------\")\n",
    "for degree, cp_val in enumerate(cp_vals):\n",
    "    print(tmplt.format(degree, cp_val - 80000))"
   ]
  },
  {
   "cell_type": "markdown",
   "metadata": {},
   "source": [
    "### Bootstrap samples, adaptive degree"
   ]
  },
  {
   "cell_type": "markdown",
   "metadata": {},
   "source": [
    "The function below carries out the C<sub>p</sub>-based procedure for choosing the polynomial degree and fitting the chosen model"
   ]
  },
  {
   "cell_type": "code",
   "execution_count": 8,
   "metadata": {},
   "outputs": [],
   "source": [
    "def find_poly_fit(x, y):\n",
    "    cp_vals = []\n",
    "    for degree in range(7):\n",
    "        X = make_poly(x, degree=degree)\n",
    "        res = sm.OLS(y, X).fit()\n",
    "        cp_val = cp(res, X, y, sigma_hat=22.0)\n",
    "        cp_vals.append(cp_val)\n",
    "    best_degree = np.argmin(cp_vals)\n",
    "    X = make_poly(x, degree=best_degree)\n",
    "    return sm.OLS(y, X).fit(), best_degree"
   ]
  },
  {
   "cell_type": "markdown",
   "metadata": {},
   "source": [
    "We have to record extra details here. For Figure 20.5 we need to record the number of times each datapoint is selected for each bootstrap sample (and put extra work into calculating the bagged standard errors). For Figure 20.6 we need to record the degree of the polynomial chosen for each bootstrap model."
   ]
  },
  {
   "cell_type": "code",
   "execution_count": 9,
   "metadata": {},
   "outputs": [],
   "source": [
    "n_boots = 4000\n",
    "n_obs = cholesterol.shape[0]\n",
    "\n",
    "indices = np.arange(n_obs)\n",
    "bootstrap_indices = np.zeros((n_boots, n_obs))\n",
    "\n",
    "for i in range(n_boots):\n",
    "    bootstrap_indices[i, :] = np.random.choice(indices, size=n_obs, replace=True)"
   ]
  },
  {
   "cell_type": "code",
   "execution_count": 10,
   "metadata": {},
   "outputs": [],
   "source": [
    "x_pred = np.arange(-2.2, 2.0, 0.05)\n",
    "y_pred_adapt = np.zeros((n_boots, x_pred.shape[0]))\n",
    "degree_adapt = np.zeros(n_boots, dtype=\"int\")\n",
    "\n",
    "for i in range(n_boots):\n",
    "    data = cholesterol.iloc[bootstrap_indices[i, :]]\n",
    "    y = data[\"cholesterol.decrease\"].values\n",
    "    x = data[\"compliance\"].values\n",
    "    res, degree = find_poly_fit(x, y)\n",
    "    y_pred_adapt[i, :] = res.predict(make_poly(x_pred, degree))\n",
    "    degree_adapt[i] = degree"
   ]
  },
  {
   "cell_type": "code",
   "execution_count": 11,
   "metadata": {},
   "outputs": [
    {
     "name": "stdout",
     "output_type": "stream",
     "text": [
      "s.e. at -2: 7.88\n"
     ]
    }
   ],
   "source": [
    "se_adapt = np.sqrt(y_pred_adapt[:, 4].var(ddof=1))\n",
    "print(\"s.e. at -2: {:.2f}\".format(se_adapt))"
   ]
  },
  {
   "cell_type": "markdown",
   "metadata": {},
   "source": [
    "This s.e. is usually quite different from the book's value, 5.98"
   ]
  },
  {
   "cell_type": "markdown",
   "metadata": {},
   "source": [
    "Calculate s.e. of the bagged estimate, (20.29) - (20.32)"
   ]
  },
  {
   "cell_type": "code",
   "execution_count": 12,
   "metadata": {},
   "outputs": [],
   "source": [
    "# N from (20.29)\n",
    "n_mat = np.zeros((n_boots, n_obs))\n",
    "for i in range(n_obs):\n",
    "    n_mat[:, i] = (bootstrap_indices == i).sum(axis=1)"
   ]
  },
  {
   "cell_type": "code",
   "execution_count": 13,
   "metadata": {},
   "outputs": [],
   "source": [
    "# eq (20.31) and (20.32)\n",
    "\n",
    "def cov_j(n_mat, t_mat, t_index, j):\n",
    "    return (\n",
    "        (n_mat[:, j] - n_mat[:, j].mean()) * \n",
    "        (t_mat[:, t_index] - t_mat[:, t_index].mean())\n",
    "    ).mean(axis=0)\n",
    "\n",
    "def se_tindex(n_mat, t_mat, t_index):\n",
    "    cov_sq = [cov_j(n_mat, t_mat, t_index, j)**2 for j in range(n_obs)]\n",
    "    return np.sqrt(np.sum(cov_sq))\n",
    "\n",
    "def se_bagged(n_mat, t_mat):\n",
    "    return np.array([se_tindex(n_mat, t_mat, i) for i in range(t_mat.shape[1])])"
   ]
  },
  {
   "cell_type": "code",
   "execution_count": 14,
   "metadata": {},
   "outputs": [],
   "source": [
    "ses_bagged = se_bagged(n_mat, y_pred_adapt)"
   ]
  },
  {
   "cell_type": "markdown",
   "metadata": {},
   "source": [
    "Check that `ses_bagged` has the right shape"
   ]
  },
  {
   "cell_type": "code",
   "execution_count": 15,
   "metadata": {},
   "outputs": [
    {
     "data": {
      "image/png": "[encoded data removed]",
      "text/plain": [
       "<Figure size 432x288 with 1 Axes>"
      ]
     },
     "metadata": {
      "needs_background": "light"
     },
     "output_type": "display_data"
    }
   ],
   "source": [
    "plt.plot(x_pred, ses_bagged);"
   ]
  },
  {
   "cell_type": "markdown",
   "metadata": {},
   "source": [
    "### Bootstrap samples, degree fixed at 3"
   ]
  },
  {
   "cell_type": "code",
   "execution_count": 16,
   "metadata": {},
   "outputs": [],
   "source": [
    "n_boots = 4000\n",
    "n_obs = cholesterol.shape[0]\n",
    "\n",
    "x_pred = make_poly(np.arange(-2.2, 2.0, 0.05), degree=3,)\n",
    "y_pred_fixed = np.zeros((n_boots, x_pred.shape[0]))\n",
    "\n",
    "for i in range(n_boots):\n",
    "    data = cholesterol.sample(n_obs, replace=True)\n",
    "    y = data[\"cholesterol.decrease\"].values\n",
    "    X = make_poly(data[\"compliance\"], degree=3)\n",
    "    res = sm.OLS(y, X).fit()\n",
    "    y_pred_fixed[i, :] = res.predict(x_pred)"
   ]
  },
  {
   "cell_type": "code",
   "execution_count": 17,
   "metadata": {},
   "outputs": [
    {
     "name": "stdout",
     "output_type": "stream",
     "text": [
      "s.e. at -2: 4.13\n"
     ]
    }
   ],
   "source": [
    "se_fixed = np.sqrt(y_pred_fixed[:, 4].var(ddof=1))\n",
    "print(\"s.e. at -2: {:.2f}\".format(se_fixed))"
   ]
  },
  {
   "cell_type": "markdown",
   "metadata": {},
   "source": [
    "This s.e. is usually similar to the book's value, 3.97"
   ]
  },
  {
   "cell_type": "markdown",
   "metadata": {},
   "source": [
    "### Figure 20.4"
   ]
  },
  {
   "cell_type": "code",
   "execution_count": 18,
   "metadata": {},
   "outputs": [],
   "source": [
    "adapt_neg2 = y_pred_adapt[:, 4]\n",
    "fixed_neg2 = y_pred_fixed[:, 4]\n",
    "\n",
    "bins = np.arange(-21, 25, 0.9)"
   ]
  },
  {
   "cell_type": "code",
   "execution_count": 19,
   "metadata": {},
   "outputs": [
    {
     "data": {
      "image/png": "[encoded data removed]",
      "text/plain": [
       "<Figure size 864x576 with 1 Axes>"
      ]
     },
     "metadata": {
      "needs_background": "light"
     },
     "output_type": "display_data"
    }
   ],
   "source": [
    "fig, ax = plt.subplots(figsize=(12, 8))\n",
    "\n",
    "ax.hist(adapt_neg2, bins=bins, color=\"cyan\", edgecolor=\"k\")\n",
    "ax.hist(fixed_neg2, bins=bins, histtype=\"step\", edgecolor=\"k\", linewidth=2)\n",
    "\n",
    "ax.annotate(\n",
    "    \"adaptive degree\",\n",
    "    size=12,\n",
    "    xy=(-10, 110),\n",
    "    xytext=(-14, 150),\n",
    "    arrowprops=dict(\n",
    "        arrowstyle=\"->\",\n",
    "        color=\"darkcyan\",\n",
    "    ),\n",
    "    color=\"darkcyan\",\n",
    "    horizontalalignment=\"center\",\n",
    ")\n",
    "\n",
    "ax.annotate(\n",
    "    \"fixed degree (3)\",\n",
    "    size=12,\n",
    "    xy=(4, 300),\n",
    "    xytext=(11, 310),\n",
    "    arrowprops=dict(\n",
    "        arrowstyle=\"->\",\n",
    "        color=\"k\",\n",
    "    ),\n",
    "    color=\"k\",\n",
    "    horizontalalignment=\"center\",\n",
    ")\n",
    "\n",
    "ax.set_xlabel(\"Cholesterol decrease $\\\\hat{\\\\theta}_{-2}^*$\", size=14)\n",
    "ax.set_ylabel(\"Frequency\", size=14);"
   ]
  },
  {
   "cell_type": "markdown",
   "metadata": {},
   "source": [
    "For the plot above, I limited the bins to give a picture similar to the book's. Without the limit, the picture looks a lot different:"
   ]
  },
  {
   "cell_type": "code",
   "execution_count": 20,
   "metadata": {},
   "outputs": [
    {
     "data": {
      "image/png": "[encoded data removed]",
      "text/plain": [
       "<Figure size 864x576 with 1 Axes>"
      ]
     },
     "metadata": {
      "needs_background": "light"
     },
     "output_type": "display_data"
    }
   ],
   "source": [
    "fig, ax = plt.subplots(figsize=(12, 8))\n",
    "\n",
    "ax.hist(adapt_neg2, bins=170, color=\"cyan\", edgecolor=\"k\")\n",
    "ax.hist(fixed_neg2, bins=50, histtype=\"step\", edgecolor=\"k\", linewidth=2)\n",
    "\n",
    "ax.set_xlabel(\"Cholesterol decrease $\\\\hat{\\\\theta}_{-2}^*$\", size=14)\n",
    "ax.set_ylabel(\"Frequency\", size=14);"
   ]
  },
  {
   "cell_type": "markdown",
   "metadata": {},
   "source": [
    "### Figure 20.5"
   ]
  },
  {
   "cell_type": "code",
   "execution_count": 21,
   "metadata": {},
   "outputs": [],
   "source": [
    "ses_adapt = np.sqrt(y_pred_adapt.var(ddof=1, axis=0))\n",
    "ses_fixed = np.sqrt(y_pred_fixed.var(ddof=1, axis=0))"
   ]
  },
  {
   "cell_type": "code",
   "execution_count": 22,
   "metadata": {},
   "outputs": [
    {
     "data": {
      "image/png": "[encoded data removed]",
      "text/plain": [
       "<Figure size 864x504 with 1 Axes>"
      ]
     },
     "metadata": {
      "needs_background": "light"
     },
     "output_type": "display_data"
    }
   ],
   "source": [
    "fig, ax = plt.subplots(figsize=(12, 7))\n",
    "\n",
    "xvals = np.arange(-2.2, 2.0, 0.05)\n",
    "\n",
    "ax.axhline(0, c=\"gray\", linestyle=\":\")\n",
    "ax.axvline(0, c=\"gray\", linestyle=\":\")\n",
    "\n",
    "ax.plot(xvals, ses_adapt, c=\"k\")\n",
    "ax.plot(xvals, ses_bagged, c=\"b\", linestyle=\":\")\n",
    "ax.plot(xvals, ses_fixed, c=\"r\", linestyle=\"--\")\n",
    "\n",
    "ax.annotate(\n",
    "    \"adaptive\",\n",
    "    size=12,\n",
    "    xy=(-0.6, 3.7),\n",
    "    xytext=(-0.5, 4.5),\n",
    "    arrowprops=dict(\n",
    "        arrowstyle=\"->\",\n",
    "        color=\"k\",\n",
    "    ),\n",
    "    color=\"k\",\n",
    "    horizontalalignment=\"center\",\n",
    ")\n",
    "\n",
    "ax.annotate(\n",
    "    \"fixed\",\n",
    "    size=12,\n",
    "    xy=(-0.7, 2.2),\n",
    "    xytext=(-0.8, 1.2),\n",
    "    arrowprops=dict(\n",
    "        arrowstyle=\"->\",\n",
    "        color=\"r\",\n",
    "    ),\n",
    "    color=\"r\",\n",
    "    horizontalalignment=\"center\",\n",
    ")\n",
    "\n",
    "ax.annotate(\n",
    "    \"smoothed\",\n",
    "    size=12,\n",
    "    xy=(1.5, 5.9),\n",
    "    xytext=(1.1, 6.5),\n",
    "    arrowprops=dict(\n",
    "        arrowstyle=\"->\",\n",
    "        color=\"b\",\n",
    "    ),\n",
    "    color=\"b\",\n",
    "    horizontalalignment=\"center\",\n",
    ")\n",
    "\n",
    "ax.set_xlabel(\"Adjusted compliance c\", size=14)\n",
    "ax.set_ylabel(\"Standard error of $\\\\hat{\\\\theta}_c$\", size=14);"
   ]
  },
  {
   "cell_type": "markdown",
   "metadata": {},
   "source": [
    "Check that we get, roughly, \"the ratio of $\\hat{\\text{se}}_\\text{IJ}[s_c({\\bf x})] / \\hat{\\text{se}}_\\text{boot}[t(c, {\\bf x})]$ averaging 0.88\" and and \"adaptive/fixed D 1.43, adaptive/smoothed D 1.14\""
   ]
  },
  {
   "cell_type": "code",
   "execution_count": 23,
   "metadata": {},
   "outputs": [
    {
     "data": {
      "text/plain": [
       "0.87"
      ]
     },
     "execution_count": 23,
     "metadata": {},
     "output_type": "execute_result"
    }
   ],
   "source": [
    "(ses_bagged / ses_adapt).mean().round(2)"
   ]
  },
  {
   "cell_type": "code",
   "execution_count": 24,
   "metadata": {},
   "outputs": [
    {
     "data": {
      "text/plain": [
       "1.48"
      ]
     },
     "execution_count": 24,
     "metadata": {},
     "output_type": "execute_result"
    }
   ],
   "source": [
    "(ses_adapt / ses_fixed).mean().round(2)"
   ]
  },
  {
   "cell_type": "code",
   "execution_count": 25,
   "metadata": {},
   "outputs": [
    {
     "data": {
      "text/plain": [
       "1.16"
      ]
     },
     "execution_count": 25,
     "metadata": {},
     "output_type": "execute_result"
    }
   ],
   "source": [
    "(ses_adapt / ses_bagged).mean().round(2)"
   ]
  },
  {
   "cell_type": "markdown",
   "metadata": {},
   "source": [
    "### Figure 20.6"
   ]
  },
  {
   "cell_type": "markdown",
   "metadata": {},
   "source": [
    "\"Histograms are scaled to have equal areas\""
   ]
  },
  {
   "cell_type": "code",
   "execution_count": 26,
   "metadata": {},
   "outputs": [],
   "source": [
    "freq_1, edges = np.histogram(adapt_neg2[degree_adapt == 1], bins=bins)\n",
    "freq_2, _ = np.histogram(fixed_neg2, bins=bins)\n",
    "freq_3, _ = np.histogram(adapt_neg2[degree_adapt != 1], bins=bins)\n",
    "\n",
    "area_1 = ((edges[1:] - edges[:-1]) * freq_1).sum()\n",
    "area_2 = ((edges[1:] - edges[:-1]) * freq_2).sum()\n",
    "area_3 = ((edges[1:] - edges[:-1]) * freq_3).sum()\n",
    "\n",
    "centers = (edges[:-1] + edges[1:]) / 2"
   ]
  },
  {
   "cell_type": "code",
   "execution_count": 27,
   "metadata": {},
   "outputs": [
    {
     "data": {
      "image/png": "[encoded data removed]",
      "text/plain": [
       "<Figure size 864x576 with 1 Axes>"
      ]
     },
     "metadata": {
      "needs_background": "light"
     },
     "output_type": "display_data"
    }
   ],
   "source": [
    "fig, ax = plt.subplots(figsize=(12, 8))\n",
    "\n",
    "ax.hist(adapt_neg2[degree_adapt == 1], bins=bins, color=\"cyan\", edgecolor=\"k\")\n",
    "ax.hist(\n",
    "    fixed_neg2,\n",
    "    bins=bins,\n",
    "    histtype=\"step\",\n",
    "    edgecolor=\"r\",\n",
    "    linewidth=2,\n",
    "    linestyle=\"--\",\n",
    "    weights=[(area_1 / area_2)] * fixed_neg2.shape[0],\n",
    ")\n",
    "ax.hist(\n",
    "    adapt_neg2[degree_adapt != 1],\n",
    "    bins=bins,\n",
    "    histtype=\"step\",\n",
    "    edgecolor=\"k\",\n",
    "    linewidth=2,\n",
    "    weights=[(area_1 / area_3)] * adapt_neg2[degree_adapt != 1].shape[0]\n",
    ")\n",
    "\n",
    "ax.annotate(\n",
    "    \"adaptive\\nm* = 1\",\n",
    "    size=12,\n",
    "    xy=(-12, 60),\n",
    "    xytext=(-18, 60),\n",
    "    arrowprops=dict(\n",
    "        arrowstyle=\"->\",\n",
    "        color=\"darkcyan\",\n",
    "    ),\n",
    "    color=\"darkcyan\",\n",
    "    horizontalalignment=\"center\",\n",
    "    verticalalignment=\"center\",\n",
    ")\n",
    "\n",
    "ax.annotate(\n",
    "    \"fixed\\nm = 3\",\n",
    "    size=12,\n",
    "    xy=(3, 70),\n",
    "    xytext=(9, 70),\n",
    "    arrowprops=dict(\n",
    "        arrowstyle=\"->\",\n",
    "        color=\"r\",\n",
    "    ),\n",
    "    color=\"r\",\n",
    "    horizontalalignment=\"center\",\n",
    "    verticalalignment=\"center\",\n",
    ")\n",
    "\n",
    "ax.annotate(\n",
    "    \"adaptive\\nm* > 1\",\n",
    "    size=12,\n",
    "    xy=(11, 25),\n",
    "    xytext=(18, 25),\n",
    "    arrowprops=dict(\n",
    "        arrowstyle=\"->\",\n",
    "        color=\"k\",\n",
    "    ),\n",
    "    color=\"k\",\n",
    "    horizontalalignment=\"center\",\n",
    "    verticalalignment=\"center\",\n",
    ")\n",
    "\n",
    "ax.set_xlabel(\"Cholesterol decrease $\\\\hat{\\\\theta}_{-2}^*$\", size=14)\n",
    "ax.set_ylabel(\"Frequency\", size=14);"
   ]
  },
  {
   "cell_type": "markdown",
   "metadata": {},
   "source": [
    "### Table 20.3"
   ]
  },
  {
   "cell_type": "code",
   "execution_count": 28,
   "metadata": {},
   "outputs": [],
   "source": [
    "degree_dummy = np.zeros((n_boots, 7))\n",
    "degree_dummy[np.arange(n_boots), degree_adapt.astype(\"int\")] = 1"
   ]
  },
  {
   "cell_type": "code",
   "execution_count": 29,
   "metadata": {},
   "outputs": [],
   "source": [
    "se_props = se_bagged(n_mat, degree_dummy)"
   ]
  },
  {
   "cell_type": "code",
   "execution_count": 30,
   "metadata": {},
   "outputs": [
    {
     "name": "stdout",
     "output_type": "stream",
     "text": [
      "            m =    1     2     3     4     5     6\n",
      "---------------------------------------------------\n",
      " proportion     0.21  0.13  0.34  0.08  0.19  0.05\n",
      "    sd_IJ       0.26  0.19  0.25  0.15  0.26  0.05\n"
     ]
    }
   ],
   "source": [
    "proportions = [(degree_adapt == i).sum() / 4000 for i in range(1, 7)]\n",
    "print(\"            m =    1     2     3     4     5     6\")\n",
    "print(\"---------------------------------------------------\")\n",
    "print(\" proportion     {:.2f}  {:.2f}  {:.2f}  {:.2f}  {:.2f}  {:.2f}\".format(*proportions))\n",
    "print(\"    sd_IJ       {:.2f}  {:.2f}  {:.2f}  {:.2f}  {:.2f}  {:.2f}\".format(*se_props[1:]))"
   ]
  }
 ],
 "metadata": {
  "kernelspec": {
   "display_name": "Python 3",
   "language": "python",
   "name": "python3"
  },
  "language_info": {
   "codemirror_mode": {
    "name": "ipython",
    "version": 3
   },
   "file_extension": ".py",
   "mimetype": "text/x-python",
   "name": "python",
   "nbconvert_exporter": "python",
   "pygments_lexer": "ipython3",
   "version": "3.7.1"
  }
 },
 "nbformat": 4,
 "nbformat_minor": 2
}
