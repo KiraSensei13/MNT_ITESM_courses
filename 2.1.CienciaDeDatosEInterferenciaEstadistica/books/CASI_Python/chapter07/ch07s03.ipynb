{
 "cells": [
  {
   "cell_type": "markdown",
   "metadata": {},
   "source": [
    "# 7.3 Ridge Regression"
   ]
  },
  {
   "cell_type": "markdown",
   "metadata": {},
   "source": [
    "### Setup"
   ]
  },
  {
   "cell_type": "code",
   "execution_count": 1,
   "metadata": {
    "collapsed": true
   },
   "outputs": [],
   "source": [
    "%matplotlib inline"
   ]
  },
  {
   "cell_type": "code",
   "execution_count": 2,
   "metadata": {
    "collapsed": true
   },
   "outputs": [],
   "source": [
    "import warnings\n",
    "\n",
    "import numpy as np\n",
    "import pandas as pd\n",
    "import matplotlib.pyplot as plt\n",
    "import statsmodels.formula.api as smf\n",
    "from sklearn.linear_model import Ridge"
   ]
  },
  {
   "cell_type": "code",
   "execution_count": 3,
   "metadata": {},
   "outputs": [],
   "source": [
    "warnings.simplefilter(\"ignore\")"
   ]
  },
  {
   "cell_type": "markdown",
   "metadata": {},
   "source": [
    "Load data"
   ]
  },
  {
   "cell_type": "code",
   "execution_count": 4,
   "metadata": {
    "collapsed": true
   },
   "outputs": [],
   "source": [
    "diabetes = pd.read_csv(\"../data/diabetes.csv\")"
   ]
  },
  {
   "cell_type": "code",
   "execution_count": 5,
   "metadata": {},
   "outputs": [
    {
     "data": {
      "text/html": [
       "<div>\n",
       "<style scoped>\n",
       "    .dataframe tbody tr th:only-of-type {\n",
       "        vertical-align: middle;\n",
       "    }\n",
       "\n",
       "    .dataframe tbody tr th {\n",
       "        vertical-align: top;\n",
       "    }\n",
       "\n",
       "    .dataframe thead th {\n",
       "        text-align: right;\n",
       "    }\n",
       "</style>\n",
       "<table border=\"1\" class=\"dataframe\">\n",
       "  <thead>\n",
       "    <tr style=\"text-align: right;\">\n",
       "      <th></th>\n",
       "      <th>age</th>\n",
       "      <th>sex</th>\n",
       "      <th>bmi</th>\n",
       "      <th>map</th>\n",
       "      <th>tc</th>\n",
       "      <th>ldl</th>\n",
       "      <th>hdl</th>\n",
       "      <th>tch</th>\n",
       "      <th>ltg</th>\n",
       "      <th>glu</th>\n",
       "      <th>prog</th>\n",
       "    </tr>\n",
       "  </thead>\n",
       "  <tbody>\n",
       "    <tr>\n",
       "      <th>0</th>\n",
       "      <td>59</td>\n",
       "      <td>1</td>\n",
       "      <td>32.1</td>\n",
       "      <td>101.0</td>\n",
       "      <td>157</td>\n",
       "      <td>93.2</td>\n",
       "      <td>38.0</td>\n",
       "      <td>4.0</td>\n",
       "      <td>2.11</td>\n",
       "      <td>87</td>\n",
       "      <td>151</td>\n",
       "    </tr>\n",
       "    <tr>\n",
       "      <th>1</th>\n",
       "      <td>48</td>\n",
       "      <td>0</td>\n",
       "      <td>21.6</td>\n",
       "      <td>87.0</td>\n",
       "      <td>183</td>\n",
       "      <td>103.2</td>\n",
       "      <td>70.0</td>\n",
       "      <td>3.0</td>\n",
       "      <td>1.69</td>\n",
       "      <td>69</td>\n",
       "      <td>75</td>\n",
       "    </tr>\n",
       "    <tr>\n",
       "      <th>2</th>\n",
       "      <td>72</td>\n",
       "      <td>1</td>\n",
       "      <td>30.5</td>\n",
       "      <td>93.0</td>\n",
       "      <td>156</td>\n",
       "      <td>93.6</td>\n",
       "      <td>41.0</td>\n",
       "      <td>4.0</td>\n",
       "      <td>2.03</td>\n",
       "      <td>85</td>\n",
       "      <td>141</td>\n",
       "    </tr>\n",
       "    <tr>\n",
       "      <th>3</th>\n",
       "      <td>24</td>\n",
       "      <td>0</td>\n",
       "      <td>25.3</td>\n",
       "      <td>84.0</td>\n",
       "      <td>198</td>\n",
       "      <td>131.4</td>\n",
       "      <td>40.0</td>\n",
       "      <td>5.0</td>\n",
       "      <td>2.12</td>\n",
       "      <td>89</td>\n",
       "      <td>206</td>\n",
       "    </tr>\n",
       "    <tr>\n",
       "      <th>4</th>\n",
       "      <td>50</td>\n",
       "      <td>0</td>\n",
       "      <td>23.0</td>\n",
       "      <td>101.0</td>\n",
       "      <td>192</td>\n",
       "      <td>125.4</td>\n",
       "      <td>52.0</td>\n",
       "      <td>4.0</td>\n",
       "      <td>1.86</td>\n",
       "      <td>80</td>\n",
       "      <td>135</td>\n",
       "    </tr>\n",
       "  </tbody>\n",
       "</table>\n",
       "</div>"
      ],
      "text/plain": [
       "   age  sex   bmi    map   tc    ldl   hdl  tch   ltg  glu  prog\n",
       "0   59    1  32.1  101.0  157   93.2  38.0  4.0  2.11   87   151\n",
       "1   48    0  21.6   87.0  183  103.2  70.0  3.0  1.69   69    75\n",
       "2   72    1  30.5   93.0  156   93.6  41.0  4.0  2.03   85   141\n",
       "3   24    0  25.3   84.0  198  131.4  40.0  5.0  2.12   89   206\n",
       "4   50    0  23.0  101.0  192  125.4  52.0  4.0  1.86   80   135"
      ]
     },
     "execution_count": 5,
     "metadata": {},
     "output_type": "execute_result"
    }
   ],
   "source": [
    "diabetes.head()"
   ]
  },
  {
   "cell_type": "markdown",
   "metadata": {},
   "source": [
    "Standardize the data"
   ]
  },
  {
   "cell_type": "code",
   "execution_count": 6,
   "metadata": {
    "collapsed": true
   },
   "outputs": [],
   "source": [
    "x_columns = [col for col in diabetes.columns if col != \"prog\"]"
   ]
  },
  {
   "cell_type": "code",
   "execution_count": 7,
   "metadata": {
    "collapsed": true
   },
   "outputs": [],
   "source": [
    "n_cases = diabetes.shape[0]\n",
    "\n",
    "diabetes_norm = pd.DataFrame(\n",
    "    {\n",
    "        col: (diabetes[col] - diabetes[col].mean()) / np.sqrt((n_cases - 1) * diabetes[col].var())\n",
    "        for col in x_columns\n",
    "    }\n",
    ")\n",
    "diabetes_norm[\"prog\"] = diabetes[\"prog\"] - diabetes[\"prog\"].mean()"
   ]
  },
  {
   "cell_type": "markdown",
   "metadata": {},
   "source": [
    "### Ridge regression paths"
   ]
  },
  {
   "cell_type": "code",
   "execution_count": 8,
   "metadata": {
    "collapsed": true
   },
   "outputs": [],
   "source": [
    "alpha_vals = [i * 1.0 / 100 for i in range(0, 26)]"
   ]
  },
  {
   "cell_type": "code",
   "execution_count": 9,
   "metadata": {},
   "outputs": [
    {
     "data": {
      "text/plain": [
       "Ridge(alpha=0.0, copy_X=True, fit_intercept=False, max_iter=None,\n",
       "   normalize=False, random_state=None, solver='auto', tol=0.001)"
      ]
     },
     "execution_count": 9,
     "metadata": {},
     "output_type": "execute_result"
    }
   ],
   "source": [
    "skl_model = Ridge(alpha=0.0, fit_intercept=False)\n",
    "skl_model.fit(diabetes_norm[x_columns], diabetes_norm.prog)"
   ]
  },
  {
   "cell_type": "code",
   "execution_count": 10,
   "metadata": {},
   "outputs": [],
   "source": [
    "paths = np.zeros((len(x_columns), len(alpha_vals)))\n",
    "for i, alpha in enumerate(alpha_vals):\n",
    "    model = Ridge(alpha=alpha, fit_intercept=False)\n",
    "    model.fit(diabetes_norm[x_columns], diabetes_norm.prog)\n",
    "    paths[:, i] = model.coef_"
   ]
  },
  {
   "cell_type": "markdown",
   "metadata": {},
   "source": [
    "### Figure 7.2"
   ]
  },
  {
   "cell_type": "code",
   "execution_count": 11,
   "metadata": {},
   "outputs": [
    {
     "data": {
      "image/png": "[encoded data removed]",
      "text/plain": [
       "<Figure size 864x576 with 1 Axes>"
      ]
     },
     "metadata": {
      "needs_background": "light"
     },
     "output_type": "display_data"
    }
   ],
   "source": [
    "fig, ax = plt.subplots(figsize=(12, 8))\n",
    "\n",
    "ax.axvline(0.10, c=\"r\", linestyle=\":\")\n",
    "\n",
    "for column, line in zip(x_columns, paths):\n",
    "    ax.plot(alpha_vals, line, \"o-\")\n",
    "    ax.text(-0.015, line[0], column, verticalalignment=\"center\")\n",
    "\n",
    "ax.set_xlabel(r\"$\\lambda$\", size=18)\n",
    "ax.set_ylabel(r\"$\\hat{\\beta}(\\lambda)$\", size=18)\n",
    "\n",
    "ax.set_xlim(-0.02, 0.26);"
   ]
  },
  {
   "cell_type": "markdown",
   "metadata": {},
   "source": [
    "### Table 7.3\n",
    "\n",
    "Standard deviation values are excluded because of homework exercise 7.7a"
   ]
  },
  {
   "cell_type": "markdown",
   "metadata": {},
   "source": [
    "Get coefficients for OLS"
   ]
  },
  {
   "cell_type": "code",
   "execution_count": 12,
   "metadata": {},
   "outputs": [],
   "source": [
    "formula = \"prog ~ \" + \" + \".join(x_columns) + \" -1\"\n",
    "sm_model = smf.ols(formula=formula, data=diabetes_norm)\n",
    "results = sm_model.fit()\n",
    "beta_ols = results.params"
   ]
  },
  {
   "cell_type": "markdown",
   "metadata": {},
   "source": [
    "Ridge coefficients"
   ]
  },
  {
   "cell_type": "code",
   "execution_count": 13,
   "metadata": {},
   "outputs": [],
   "source": [
    "beta_rdg = paths[:, 10]  # alpha = 0.1 is column 10"
   ]
  },
  {
   "cell_type": "markdown",
   "metadata": {},
   "source": [
    "Table"
   ]
  },
  {
   "cell_type": "code",
   "execution_count": 14,
   "metadata": {},
   "outputs": [
    {
     "name": "stdout",
     "output_type": "stream",
     "text": [
      "     beta(0)  beta(0.1)\n",
      "----------------------------------------\n",
      "age     -9.7      1.5\n",
      "sex   -239.1   -206.8\n",
      "bmi    519.2    489.3\n",
      "map    324.1    301.6\n",
      "tc    -787.0    -83.2\n",
      "ldl    472.1    -71.2\n",
      "hdl     99.9   -188.3\n",
      "tch    177.2    115.8\n",
      "ltg    749.4    443.8\n",
      "glu     68.0     86.9\n"
     ]
    }
   ],
   "source": [
    "tmplt = \"{:<3}   {:>6.1f}   {:>6.1f}\"\n",
    "print(\"     beta(0)  beta(0.1)\")\n",
    "print(\"-\" * 40)\n",
    "for info in zip(x_columns, beta_ols, beta_rdg):\n",
    "    print(tmplt.format(*info))"
   ]
  },
  {
   "cell_type": "markdown",
   "metadata": {},
   "source": [
    "The coefficients are slightly different for both unregularized and $\\lambda = 0.1$.\n",
    "\n",
    "Using Scikit-learn's `Ridge` model, the closest match I could get for $\\hat{\\beta}(0.1)$ is with $\\lambda \\approx 0.0985$:"
   ]
  },
  {
   "cell_type": "code",
   "execution_count": 15,
   "metadata": {},
   "outputs": [
    {
     "data": {
      "text/plain": [
       "array([   1.3, -207.2,  489.8,  301.9,  -84.1,  -70.7, -188.2,  115.7,\n",
       "        444.7,   86.7])"
      ]
     },
     "execution_count": 15,
     "metadata": {},
     "output_type": "execute_result"
    }
   ],
   "source": [
    "skl_model = Ridge(alpha=0.0985, fit_intercept=False)\n",
    "skl_model.fit(diabetes_norm[x_columns], diabetes_norm.prog)\n",
    "skl_model.coef_.round(1)"
   ]
  }
 ],
 "metadata": {
  "kernelspec": {
   "display_name": "Python 3",
   "language": "python",
   "name": "python3"
  },
  "language_info": {
   "codemirror_mode": {
    "name": "ipython",
    "version": 3
   },
   "file_extension": ".py",
   "mimetype": "text/x-python",
   "name": "python",
   "nbconvert_exporter": "python",
   "pygments_lexer": "ipython3",
   "version": "3.7.1"
  }
 },
 "nbformat": 4,
 "nbformat_minor": 2
}
