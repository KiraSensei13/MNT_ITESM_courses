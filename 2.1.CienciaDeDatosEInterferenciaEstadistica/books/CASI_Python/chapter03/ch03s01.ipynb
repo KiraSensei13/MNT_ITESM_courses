{
 "cells": [
  {
   "cell_type": "markdown",
   "metadata": {},
   "source": [
    "# 3.1 Two Examples"
   ]
  },
  {
   "cell_type": "markdown",
   "metadata": {},
   "source": [
    "### Setup"
   ]
  },
  {
   "cell_type": "code",
   "execution_count": 1,
   "metadata": {},
   "outputs": [],
   "source": [
    "%matplotlib inline"
   ]
  },
  {
   "cell_type": "code",
   "execution_count": 2,
   "metadata": {},
   "outputs": [],
   "source": [
    "import numpy as np\n",
    "import pandas as pd\n",
    "import mpmath\n",
    "import matplotlib.pyplot as plt\n",
    "from matplotlib import rc"
   ]
  },
  {
   "cell_type": "markdown",
   "metadata": {},
   "source": [
    "Load student data"
   ]
  },
  {
   "cell_type": "code",
   "execution_count": 3,
   "metadata": {},
   "outputs": [],
   "source": [
    "scores = pd.read_csv(\"../data/student_score.txt\", delimiter=\" \")"
   ]
  },
  {
   "cell_type": "code",
   "execution_count": 4,
   "metadata": {},
   "outputs": [
    {
     "data": {
      "text/html": [
       "<div>\n",
       "<style scoped>\n",
       "    .dataframe tbody tr th:only-of-type {\n",
       "        vertical-align: middle;\n",
       "    }\n",
       "\n",
       "    .dataframe tbody tr th {\n",
       "        vertical-align: top;\n",
       "    }\n",
       "\n",
       "    .dataframe thead th {\n",
       "        text-align: right;\n",
       "    }\n",
       "</style>\n",
       "<table border=\"1\" class=\"dataframe\">\n",
       "  <thead>\n",
       "    <tr style=\"text-align: right;\">\n",
       "      <th></th>\n",
       "      <th>mech</th>\n",
       "      <th>vecs</th>\n",
       "      <th>alg</th>\n",
       "      <th>analy</th>\n",
       "      <th>stat</th>\n",
       "    </tr>\n",
       "  </thead>\n",
       "  <tbody>\n",
       "    <tr>\n",
       "      <th>0</th>\n",
       "      <td>7</td>\n",
       "      <td>51</td>\n",
       "      <td>43</td>\n",
       "      <td>17</td>\n",
       "      <td>22</td>\n",
       "    </tr>\n",
       "    <tr>\n",
       "      <th>1</th>\n",
       "      <td>44</td>\n",
       "      <td>69</td>\n",
       "      <td>53</td>\n",
       "      <td>53</td>\n",
       "      <td>53</td>\n",
       "    </tr>\n",
       "    <tr>\n",
       "      <th>2</th>\n",
       "      <td>49</td>\n",
       "      <td>41</td>\n",
       "      <td>61</td>\n",
       "      <td>49</td>\n",
       "      <td>64</td>\n",
       "    </tr>\n",
       "    <tr>\n",
       "      <th>3</th>\n",
       "      <td>59</td>\n",
       "      <td>70</td>\n",
       "      <td>68</td>\n",
       "      <td>62</td>\n",
       "      <td>56</td>\n",
       "    </tr>\n",
       "    <tr>\n",
       "      <th>4</th>\n",
       "      <td>34</td>\n",
       "      <td>42</td>\n",
       "      <td>50</td>\n",
       "      <td>47</td>\n",
       "      <td>29</td>\n",
       "    </tr>\n",
       "  </tbody>\n",
       "</table>\n",
       "</div>"
      ],
      "text/plain": [
       "   mech  vecs  alg  analy  stat\n",
       "0     7    51   43     17    22\n",
       "1    44    69   53     53    53\n",
       "2    49    41   61     49    64\n",
       "3    59    70   68     62    56\n",
       "4    34    42   50     47    29"
      ]
     },
     "execution_count": 4,
     "metadata": {},
     "output_type": "execute_result"
    }
   ],
   "source": [
    "scores.head()"
   ]
  },
  {
   "cell_type": "markdown",
   "metadata": {},
   "source": [
    "### Correlation between `mechanics` and `vectors`"
   ]
  },
  {
   "cell_type": "code",
   "execution_count": 5,
   "metadata": {},
   "outputs": [
    {
     "name": "stdout",
     "output_type": "stream",
     "text": [
      "theta_hat = 0.498\n"
     ]
    }
   ],
   "source": [
    "corr = scores.corr()\n",
    "theta_hat = corr.loc[\"mech\", \"vecs\"]\n",
    "print(\"theta_hat = {:>0.3f}\".format(theta_hat))"
   ]
  },
  {
   "cell_type": "markdown",
   "metadata": {},
   "source": [
    "### Calculating posteriors for Figure 3.2"
   ]
  },
  {
   "cell_type": "markdown",
   "metadata": {},
   "source": [
    "$\n",
    "\\begin{aligned}\n",
    "    f_\\theta(\\hat{\\theta})\n",
    "    &= \\frac{(n - 2)(1 - \\theta^2)^{(n - 1) / 2}(1 - \\hat{\\theta}^2)^{(n - 4)/2}}{\\pi} \\int_0^\\infty \\frac{dw}{(\\cosh w - \\theta \\hat{\\theta})^{n - 1}} \\\\\n",
    "    &= \\frac{20}{\\pi} (1 - \\theta^2)^{10.5}(1 - \\hat{\\theta}^2)^9 \\int_0^\\infty \\frac{dw}{(\\cosh w - \\theta \\hat{\\theta})^{21}}\n",
    "\\end{aligned}\n",
    "$"
   ]
  },
  {
   "cell_type": "markdown",
   "metadata": {},
   "source": [
    "We want to graph the posterior, $ \\displaystyle g(\\mu | x) = \\frac{ g(\\mu) f_\\mu(x) }{ f(x) }$ with $ \\displaystyle f(x) = \\int_\\Omega f_\\mu(x)g(\\mu) d\\mu $"
   ]
  },
  {
   "cell_type": "markdown",
   "metadata": {},
   "source": [
    "For each prior, we'll first find the denominator, $f(x)$, or in our case, $f(\\hat{\\theta})$ (with $\\hat{\\theta}$ plugged in). Then we'll create a function that calculates the posterior for any value of $\\theta$."
   ]
  },
  {
   "cell_type": "markdown",
   "metadata": {},
   "source": [
    "#### Flat prior"
   ]
  },
  {
   "cell_type": "markdown",
   "metadata": {},
   "source": [
    "$ g(\\theta) = \\frac{1}{2}$ for $ -1 \\leq \\theta \\leq 1 $"
   ]
  },
  {
   "cell_type": "markdown",
   "metadata": {},
   "source": [
    "Denominator of the posterior"
   ]
  },
  {
   "cell_type": "markdown",
   "metadata": {},
   "source": [
    "$\n",
    "\\begin{aligned}\n",
    "f(\\hat{\\theta})\n",
    "&= \\int_{-1}^1 \\frac{10}{\\pi} (1 - \\theta^2)^{10.5}(1 - \\hat{\\theta}^2)^9 \\int_0^\\infty \\frac{dw}{(\\cosh w - \\theta \\hat{\\theta})^{21}} d\\theta \\\\\n",
    "&= \\int_{-1}^1 \\int_0^\\infty \\frac{10 (1 - \\theta^2)^{10.5}(1 - \\hat{\\theta}^2)^9}{\\pi (\\cosh w - \\theta \\hat{\\theta})^{21}} dw d\\theta \\\\\n",
    "&= \\int_0^\\infty \\int_{-1}^1 \\frac{f_\\text{numer}}{f_\\text{denom}} d\\theta dw \\\\\n",
    "\\end{aligned}\n",
    "$"
   ]
  },
  {
   "cell_type": "code",
   "execution_count": 6,
   "metadata": {},
   "outputs": [],
   "source": [
    "f_numer = lambda theta, w: 10 * (1 - theta**2)**10.5 * (1 - theta_hat**2)**9\n",
    "f_denom = lambda theta, w: np.pi * (mpmath.cosh(w) - theta * theta_hat)**21\n",
    "f = lambda theta, w: f_numer(theta, w) / f_denom(theta, w)"
   ]
  },
  {
   "cell_type": "code",
   "execution_count": 7,
   "metadata": {},
   "outputs": [],
   "source": [
    "post_denom_flat = mpmath.quad(f, [-1, 1], [0, float(\"inf\")])\n",
    "post_denom_flat = float(post_denom_flat)"
   ]
  },
  {
   "cell_type": "markdown",
   "metadata": {},
   "source": [
    "Function to calculate posterior"
   ]
  },
  {
   "cell_type": "code",
   "execution_count": 8,
   "metadata": {},
   "outputs": [],
   "source": [
    "def posterior_flat(theta):\n",
    "    global theta_hat\n",
    "    g = 0.5\n",
    "    f_coef = (20 / np.pi) * (1 - theta**2)**10.5 * (1 - theta_hat**2)**9\n",
    "    f_integrand = lambda w: 1 / mpmath.power(mpmath.cosh(w) - theta * theta_hat, 21)\n",
    "    f_integral = mpmath.quad(f_integrand, [0, float(\"inf\")])\n",
    "    return g * f_coef * f_integral / post_denom_flat"
   ]
  },
  {
   "cell_type": "markdown",
   "metadata": {},
   "source": [
    "#### Jeffrey's prior"
   ]
  },
  {
   "cell_type": "markdown",
   "metadata": {},
   "source": [
    "$ g^{\\text{Jeff}}(\\theta) = 1 / (1 - \\theta^2) $"
   ]
  },
  {
   "cell_type": "markdown",
   "metadata": {},
   "source": [
    "Denominator of the posterior"
   ]
  },
  {
   "cell_type": "markdown",
   "metadata": {},
   "source": [
    "$\n",
    "\\begin{aligned}\n",
    "f(\\hat{\\theta})\n",
    "&= \\int_{-1}^1 \\frac{20}{(1 - \\theta^2)\\pi} (1 - \\theta^2)^{10.5}(1 - \\hat{\\theta}^2)^9 \\int_0^\\infty \\frac{dw}{(\\cosh w - \\theta \\hat{\\theta})^{21}} d\\theta \\\\\n",
    "&= \\int_{-1}^1 \\int_0^\\infty \\frac{20(1 - \\theta^2)^{9.5}(1 - \\hat{\\theta}^2)^9}{\\pi(\\cosh w - \\theta \\hat{\\theta})^{21}} d\\theta \\\\\n",
    "&= \\int_0^\\infty \\int_{-1}^1 \\frac{f_\\text{numer}}{f_\\text{denom}} d\\theta dw \\\\\n",
    "\\end{aligned}\n",
    "$"
   ]
  },
  {
   "cell_type": "code",
   "execution_count": 9,
   "metadata": {},
   "outputs": [],
   "source": [
    "f_numer = lambda theta, w: 20 * (1 - theta**2)**9.5 * (1 - theta_hat**2)**9\n",
    "f_denom = lambda theta, w: np.pi * (mpmath.cosh(w) - theta * theta_hat)**21\n",
    "f = lambda theta, w: f_numer(theta, w) / f_denom(theta, w)"
   ]
  },
  {
   "cell_type": "code",
   "execution_count": 10,
   "metadata": {},
   "outputs": [],
   "source": [
    "post_denom_jeff = mpmath.quad(f, [-1, 1], [0, float(\"inf\")])\n",
    "post_denom_jeff = float(post_denom_jeff)"
   ]
  },
  {
   "cell_type": "markdown",
   "metadata": {},
   "source": [
    "Function to calculate posterior"
   ]
  },
  {
   "cell_type": "code",
   "execution_count": 11,
   "metadata": {},
   "outputs": [],
   "source": [
    "def posterior_jeff(theta):\n",
    "    global theta_hat\n",
    "    g = 1 / (1 - theta**2)\n",
    "    f_coef = (20 / np.pi) * (1 - theta**2)**10.5 * (1 - theta_hat**2)**9\n",
    "    f_integrand = lambda w: 1 / mpmath.power(mpmath.cosh(w) - theta * theta_hat, 21)\n",
    "    f_integral = mpmath.quad(f_integrand, [0, float(\"inf\")])\n",
    "    return g * f_coef * f_integral / post_denom_jeff"
   ]
  },
  {
   "cell_type": "markdown",
   "metadata": {},
   "source": [
    "#### Triangular prior"
   ]
  },
  {
   "cell_type": "markdown",
   "metadata": {},
   "source": [
    "$ g(\\theta) = 1 - |\\theta| $"
   ]
  },
  {
   "cell_type": "markdown",
   "metadata": {},
   "source": [
    "Denominator of the posterior"
   ]
  },
  {
   "cell_type": "markdown",
   "metadata": {},
   "source": [
    "$\n",
    "\\begin{aligned}\n",
    "f(\\hat{\\theta})\n",
    "& = \\int_{-1}^1 \\frac{20(1 - |\\theta|)}{\\pi} (1 - \\theta^2)^{10.5}(1 - \\hat{\\theta}^2)^9 \\int_0^\\infty \\frac{dw}{(\\cosh w - \\theta \\hat{\\theta})^{n - 1}} d\\theta \\\\\n",
    "&= \\int_{-1}^1 \\int_0^\\infty \\frac{20(1 - |\\theta|)(1 - \\theta^2)^{10.5}(1 - \\hat{\\theta}^2)^9}{\\pi(\\cosh w - \\theta \\hat{\\theta})^{21}} d\\theta \\\\\n",
    "&= \\int_0^\\infty \\int_{-1}^1 \\frac{f_\\text{numer}}{f_\\text{denom}} d\\theta dw \\\\\n",
    "\\end{aligned}\n",
    "$"
   ]
  },
  {
   "cell_type": "code",
   "execution_count": 12,
   "metadata": {},
   "outputs": [],
   "source": [
    "f_numer = lambda theta, w: 20 * (1 - np.abs(theta)) * (1 - theta**2)**10.5 * (1 - theta_hat**2)**9\n",
    "f_denom = lambda theta, w: np.pi * (mpmath.cosh(w) - theta * theta_hat)**21\n",
    "f = lambda theta, w: f_numer(theta, w) / f_denom(theta, w)"
   ]
  },
  {
   "cell_type": "code",
   "execution_count": 13,
   "metadata": {},
   "outputs": [],
   "source": [
    "post_denom_tria = mpmath.quad(f, [-1, 1], [0, float(\"inf\")])\n",
    "post_denom_tria = float(post_denom_tria)"
   ]
  },
  {
   "cell_type": "markdown",
   "metadata": {},
   "source": [
    "Function to calculate posterior"
   ]
  },
  {
   "cell_type": "code",
   "execution_count": 14,
   "metadata": {},
   "outputs": [],
   "source": [
    "def posterior_tria(theta):\n",
    "    global theta_hat\n",
    "    g = 1 - np.abs(theta)\n",
    "    f_coef = (20 / np.pi) * (1 - theta**2)**10.5 * (1 - theta_hat**2)**9\n",
    "    f_integrand = lambda w: 1 / mpmath.power(mpmath.cosh(w) - theta * theta_hat, 21)\n",
    "    f_integral = mpmath.quad(f_integrand, [0, float(\"inf\")])\n",
    "    return g * f_coef * f_integral / post_denom_tria"
   ]
  },
  {
   "cell_type": "markdown",
   "metadata": {},
   "source": [
    "### Figure 3.2"
   ]
  },
  {
   "cell_type": "markdown",
   "metadata": {},
   "source": [
    "x and y points"
   ]
  },
  {
   "cell_type": "code",
   "execution_count": 15,
   "metadata": {},
   "outputs": [],
   "source": [
    "x = np.arange(-0.2, 0.99, 0.01)\n",
    "y_flat = [posterior_flat(xval) for xval in x]\n",
    "y_jeff = [posterior_jeff(xval) for xval in x]\n",
    "y_tria = [posterior_tria(xval) for xval in x]"
   ]
  },
  {
   "cell_type": "markdown",
   "metadata": {},
   "source": [
    "Make the plot"
   ]
  },
  {
   "cell_type": "code",
   "execution_count": 16,
   "metadata": {},
   "outputs": [
    {
     "data": {
      "image/png": "[encoded data removed]",
      "text/plain": [
       "<Figure size 864x576 with 1 Axes>"
      ]
     },
     "metadata": {
      "needs_background": "light"
     },
     "output_type": "display_data"
    }
   ],
   "source": [
    "fig, ax = plt.subplots(figsize=(12, 8))\n",
    "\n",
    "ax.axhline(0, c=\"gray\", linestyle=\":\", linewidth=1)\n",
    "ax.axvline(theta_hat, c=\"gray\", linestyle=\":\", linewidth=1)\n",
    "\n",
    "ax.plot(x, y_flat, c=\"k\")\n",
    "ax.annotate(\n",
    "    \"flat prior\",\n",
    "    size=18,\n",
    "    xy=(0.62, 1.7),\n",
    "    xytext=(0.75, 1.9),\n",
    "    arrowprops=dict(arrowstyle=\"->\", linewidth=2),\n",
    "    horizontalalignment=\"center\",\n",
    ")\n",
    "\n",
    "ax.plot(x, y_jeff, c=\"r\", linestyle=\"--\")\n",
    "ax.annotate(\n",
    "    \"Jeffreys\",\n",
    "    size=18,\n",
    "    xy=(0.61, 2.1),\n",
    "    xytext=(0.76, 2.3),\n",
    "    arrowprops=dict(arrowstyle=\"->\", color=\"r\", linewidth=2),\n",
    "    horizontalalignment=\"center\",\n",
    "    color=\"r\",\n",
    ")\n",
    "\n",
    "ax.plot(x, y_tria, c=\"b\", linestyle=\":\")\n",
    "ax.annotate(\n",
    "    \"triangular\",\n",
    "    size=18,\n",
    "    xy=(0.24, 1.4),\n",
    "    xytext=(0.1, 1.6),\n",
    "    arrowprops=dict(arrowstyle=\"->\", color=\"b\", linewidth=2),\n",
    "    horizontalalignment=\"center\",\n",
    "    color=\"b\"\n",
    ")\n",
    "\n",
    "ax.scatter([theta_hat], [0], c=\"k\", s=30)\n",
    "ax.text(\n",
    "    theta_hat,\n",
    "    -0.1,\n",
    "    \"MLE {:.3f}\".format(theta_hat),\n",
    "    fontsize=12,\n",
    "    horizontalalignment=\"center\",\n",
    "    color=\"k\"\n",
    ")\n",
    "\n",
    "ax.set_xlabel(r\"$\\theta$\", size=16)\n",
    "ax.set_ylabel(r\"$g(\\theta|\\hat{\\theta})$\", size=16);"
   ]
  }
 ],
 "metadata": {
  "kernelspec": {
   "display_name": "Python 3",
   "language": "python",
   "name": "python3"
  },
  "language_info": {
   "codemirror_mode": {
    "name": "ipython",
    "version": 3
   },
   "file_extension": ".py",
   "mimetype": "text/x-python",
   "name": "python",
   "nbconvert_exporter": "python",
   "pygments_lexer": "ipython3",
   "version": "3.7.1"
  }
 },
 "nbformat": 4,
 "nbformat_minor": 2
}
