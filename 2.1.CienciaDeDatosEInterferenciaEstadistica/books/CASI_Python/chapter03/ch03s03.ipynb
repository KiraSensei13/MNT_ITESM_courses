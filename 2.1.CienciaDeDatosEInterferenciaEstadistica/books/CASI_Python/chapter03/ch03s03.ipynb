{
 "cells": [
  {
   "cell_type": "markdown",
   "metadata": {},
   "source": [
    "# 3.3 Flaws in Frequentist Inference"
   ]
  },
  {
   "cell_type": "markdown",
   "metadata": {},
   "source": [
    "### Setup"
   ]
  },
  {
   "cell_type": "code",
   "execution_count": 1,
   "metadata": {},
   "outputs": [],
   "source": [
    "%matplotlib inline"
   ]
  },
  {
   "cell_type": "code",
   "execution_count": 2,
   "metadata": {},
   "outputs": [],
   "source": [
    "import pandas as pd\n",
    "import matplotlib.pyplot as plt\n",
    "from scipy import stats"
   ]
  },
  {
   "cell_type": "markdown",
   "metadata": {},
   "source": [
    "Load data"
   ]
  },
  {
   "cell_type": "code",
   "execution_count": 3,
   "metadata": {},
   "outputs": [],
   "source": [
    "prostate = pd.read_csv(\"../data/prostmat.csv\")"
   ]
  },
  {
   "cell_type": "code",
   "execution_count": 4,
   "metadata": {},
   "outputs": [
    {
     "data": {
      "text/html": [
       "<div>\n",
       "<style scoped>\n",
       "    .dataframe tbody tr th:only-of-type {\n",
       "        vertical-align: middle;\n",
       "    }\n",
       "\n",
       "    .dataframe tbody tr th {\n",
       "        vertical-align: top;\n",
       "    }\n",
       "\n",
       "    .dataframe thead th {\n",
       "        text-align: right;\n",
       "    }\n",
       "</style>\n",
       "<table border=\"1\" class=\"dataframe\">\n",
       "  <thead>\n",
       "    <tr style=\"text-align: right;\">\n",
       "      <th></th>\n",
       "      <th>control</th>\n",
       "      <th>control.1</th>\n",
       "      <th>control.2</th>\n",
       "      <th>control.3</th>\n",
       "      <th>control.4</th>\n",
       "      <th>control.5</th>\n",
       "      <th>control.6</th>\n",
       "      <th>control.7</th>\n",
       "      <th>control.8</th>\n",
       "      <th>control.9</th>\n",
       "      <th>...</th>\n",
       "      <th>cancer.42</th>\n",
       "      <th>cancer.43</th>\n",
       "      <th>cancer.44</th>\n",
       "      <th>cancer.45</th>\n",
       "      <th>cancer.46</th>\n",
       "      <th>cancer.47</th>\n",
       "      <th>cancer.48</th>\n",
       "      <th>cancer.49</th>\n",
       "      <th>cancer.50</th>\n",
       "      <th>cancer.51</th>\n",
       "    </tr>\n",
       "  </thead>\n",
       "  <tbody>\n",
       "    <tr>\n",
       "      <th>0</th>\n",
       "      <td>-0.930895</td>\n",
       "      <td>-0.751885</td>\n",
       "      <td>-0.545781</td>\n",
       "      <td>-1.078519</td>\n",
       "      <td>-0.994677</td>\n",
       "      <td>0.015547</td>\n",
       "      <td>-0.853963</td>\n",
       "      <td>4.016860</td>\n",
       "      <td>-0.399641</td>\n",
       "      <td>-1.085050</td>\n",
       "      <td>...</td>\n",
       "      <td>-0.845358</td>\n",
       "      <td>0.936035</td>\n",
       "      <td>-0.819505</td>\n",
       "      <td>-0.849670</td>\n",
       "      <td>0.434865</td>\n",
       "      <td>2.054122</td>\n",
       "      <td>2.799498</td>\n",
       "      <td>1.294162</td>\n",
       "      <td>2.905588</td>\n",
       "      <td>3.434504</td>\n",
       "    </tr>\n",
       "    <tr>\n",
       "      <th>1</th>\n",
       "      <td>-0.839996</td>\n",
       "      <td>-0.848271</td>\n",
       "      <td>-0.851687</td>\n",
       "      <td>-0.159610</td>\n",
       "      <td>-0.751905</td>\n",
       "      <td>-0.516436</td>\n",
       "      <td>-0.826845</td>\n",
       "      <td>-0.832741</td>\n",
       "      <td>-0.840731</td>\n",
       "      <td>-0.824386</td>\n",
       "      <td>...</td>\n",
       "      <td>0.563857</td>\n",
       "      <td>-0.439367</td>\n",
       "      <td>2.052858</td>\n",
       "      <td>0.441992</td>\n",
       "      <td>0.675806</td>\n",
       "      <td>-0.450853</td>\n",
       "      <td>1.385720</td>\n",
       "      <td>-1.143997</td>\n",
       "      <td>-0.282119</td>\n",
       "      <td>-1.174233</td>\n",
       "    </tr>\n",
       "    <tr>\n",
       "      <th>2</th>\n",
       "      <td>0.062508</td>\n",
       "      <td>0.102895</td>\n",
       "      <td>-0.003043</td>\n",
       "      <td>0.215347</td>\n",
       "      <td>-1.163109</td>\n",
       "      <td>1.028130</td>\n",
       "      <td>-0.476408</td>\n",
       "      <td>-1.154759</td>\n",
       "      <td>-1.161665</td>\n",
       "      <td>-0.690671</td>\n",
       "      <td>...</td>\n",
       "      <td>-0.007371</td>\n",
       "      <td>0.629820</td>\n",
       "      <td>-1.107093</td>\n",
       "      <td>-0.968790</td>\n",
       "      <td>-0.235357</td>\n",
       "      <td>-1.049600</td>\n",
       "      <td>1.186599</td>\n",
       "      <td>0.962634</td>\n",
       "      <td>-0.026753</td>\n",
       "      <td>1.533532</td>\n",
       "    </tr>\n",
       "    <tr>\n",
       "      <th>3</th>\n",
       "      <td>-0.361594</td>\n",
       "      <td>2.421034</td>\n",
       "      <td>-0.122089</td>\n",
       "      <td>-0.096277</td>\n",
       "      <td>-1.130144</td>\n",
       "      <td>0.458272</td>\n",
       "      <td>0.633883</td>\n",
       "      <td>0.069708</td>\n",
       "      <td>-1.128592</td>\n",
       "      <td>-0.429663</td>\n",
       "      <td>...</td>\n",
       "      <td>-0.508988</td>\n",
       "      <td>-0.409035</td>\n",
       "      <td>0.557853</td>\n",
       "      <td>-0.900065</td>\n",
       "      <td>1.491239</td>\n",
       "      <td>0.553022</td>\n",
       "      <td>0.118476</td>\n",
       "      <td>1.220066</td>\n",
       "      <td>-1.138651</td>\n",
       "      <td>0.174831</td>\n",
       "    </tr>\n",
       "    <tr>\n",
       "      <th>4</th>\n",
       "      <td>-1.124427</td>\n",
       "      <td>0.182211</td>\n",
       "      <td>0.837907</td>\n",
       "      <td>1.050548</td>\n",
       "      <td>1.695673</td>\n",
       "      <td>3.463900</td>\n",
       "      <td>-1.109246</td>\n",
       "      <td>-0.310570</td>\n",
       "      <td>-0.105437</td>\n",
       "      <td>-1.072878</td>\n",
       "      <td>...</td>\n",
       "      <td>0.524438</td>\n",
       "      <td>-1.172145</td>\n",
       "      <td>0.936470</td>\n",
       "      <td>0.683947</td>\n",
       "      <td>-0.618465</td>\n",
       "      <td>3.995967</td>\n",
       "      <td>0.115477</td>\n",
       "      <td>-1.167392</td>\n",
       "      <td>-1.195660</td>\n",
       "      <td>-0.203642</td>\n",
       "    </tr>\n",
       "  </tbody>\n",
       "</table>\n",
       "<p>5 rows × 102 columns</p>\n",
       "</div>"
      ],
      "text/plain": [
       "    control  control.1  control.2  control.3  control.4  control.5  control.6  \\\n",
       "0 -0.930895  -0.751885  -0.545781  -1.078519  -0.994677   0.015547  -0.853963   \n",
       "1 -0.839996  -0.848271  -0.851687  -0.159610  -0.751905  -0.516436  -0.826845   \n",
       "2  0.062508   0.102895  -0.003043   0.215347  -1.163109   1.028130  -0.476408   \n",
       "3 -0.361594   2.421034  -0.122089  -0.096277  -1.130144   0.458272   0.633883   \n",
       "4 -1.124427   0.182211   0.837907   1.050548   1.695673   3.463900  -1.109246   \n",
       "\n",
       "   control.7  control.8  control.9    ...      cancer.42  cancer.43  \\\n",
       "0   4.016860  -0.399641  -1.085050    ...      -0.845358   0.936035   \n",
       "1  -0.832741  -0.840731  -0.824386    ...       0.563857  -0.439367   \n",
       "2  -1.154759  -1.161665  -0.690671    ...      -0.007371   0.629820   \n",
       "3   0.069708  -1.128592  -0.429663    ...      -0.508988  -0.409035   \n",
       "4  -0.310570  -0.105437  -1.072878    ...       0.524438  -1.172145   \n",
       "\n",
       "   cancer.44  cancer.45  cancer.46  cancer.47  cancer.48  cancer.49  \\\n",
       "0  -0.819505  -0.849670   0.434865   2.054122   2.799498   1.294162   \n",
       "1   2.052858   0.441992   0.675806  -0.450853   1.385720  -1.143997   \n",
       "2  -1.107093  -0.968790  -0.235357  -1.049600   1.186599   0.962634   \n",
       "3   0.557853  -0.900065   1.491239   0.553022   0.118476   1.220066   \n",
       "4   0.936470   0.683947  -0.618465   3.995967   0.115477  -1.167392   \n",
       "\n",
       "   cancer.50  cancer.51  \n",
       "0   2.905588   3.434504  \n",
       "1  -0.282119  -1.174233  \n",
       "2  -0.026753   1.533532  \n",
       "3  -1.138651   0.174831  \n",
       "4  -1.195660  -0.203642  \n",
       "\n",
       "[5 rows x 102 columns]"
      ]
     },
     "execution_count": 4,
     "metadata": {},
     "output_type": "execute_result"
    }
   ],
   "source": [
    "prostate.head()"
   ]
  },
  {
   "cell_type": "markdown",
   "metadata": {},
   "source": [
    "For comparing our z-value calculations, we'll also load the book's z-values"
   ]
  },
  {
   "cell_type": "code",
   "execution_count": 5,
   "metadata": {},
   "outputs": [],
   "source": [
    "prostz = pd.read_csv(\"../data/prostz.txt\", header=None, names=[\"z\"])"
   ]
  },
  {
   "cell_type": "code",
   "execution_count": 6,
   "metadata": {},
   "outputs": [
    {
     "data": {
      "text/html": [
       "<div>\n",
       "<style scoped>\n",
       "    .dataframe tbody tr th:only-of-type {\n",
       "        vertical-align: middle;\n",
       "    }\n",
       "\n",
       "    .dataframe tbody tr th {\n",
       "        vertical-align: top;\n",
       "    }\n",
       "\n",
       "    .dataframe thead th {\n",
       "        text-align: right;\n",
       "    }\n",
       "</style>\n",
       "<table border=\"1\" class=\"dataframe\">\n",
       "  <thead>\n",
       "    <tr style=\"text-align: right;\">\n",
       "      <th></th>\n",
       "      <th>z</th>\n",
       "    </tr>\n",
       "  </thead>\n",
       "  <tbody>\n",
       "    <tr>\n",
       "      <th>0</th>\n",
       "      <td>1.472367</td>\n",
       "    </tr>\n",
       "    <tr>\n",
       "      <th>1</th>\n",
       "      <td>3.572915</td>\n",
       "    </tr>\n",
       "    <tr>\n",
       "      <th>2</th>\n",
       "      <td>-0.027754</td>\n",
       "    </tr>\n",
       "    <tr>\n",
       "      <th>3</th>\n",
       "      <td>-1.132052</td>\n",
       "    </tr>\n",
       "    <tr>\n",
       "      <th>4</th>\n",
       "      <td>-0.140221</td>\n",
       "    </tr>\n",
       "  </tbody>\n",
       "</table>\n",
       "</div>"
      ],
      "text/plain": [
       "          z\n",
       "0  1.472367\n",
       "1  3.572915\n",
       "2 -0.027754\n",
       "3 -1.132052\n",
       "4 -0.140221"
      ]
     },
     "execution_count": 6,
     "metadata": {},
     "output_type": "execute_result"
    }
   ],
   "source": [
    "prostz.head()"
   ]
  },
  {
   "cell_type": "markdown",
   "metadata": {},
   "source": [
    "### Figure 3.3"
   ]
  },
  {
   "cell_type": "markdown",
   "metadata": {},
   "source": [
    "The graphed values and the timing of getting the value 1.645 are likely random, so we won't try to reproduce those"
   ]
  },
  {
   "cell_type": "markdown",
   "metadata": {},
   "source": [
    "### Effect estimates for Figure 3.4"
   ]
  },
  {
   "cell_type": "markdown",
   "metadata": {},
   "source": [
    "Note $\\dagger_4$ on page 37 shows how to calculate the effect estimates $x_i$: get the two-sample t statistic, then $x_i = \\Phi^{-1}(F_{100}(t_i))$, with $\\Phi$ being the cumulative normal distribution and $F_{100}$ being the cumulative t distribution with 100 degrees of freedom"
   ]
  },
  {
   "cell_type": "code",
   "execution_count": 7,
   "metadata": {},
   "outputs": [],
   "source": [
    "cols_control = [col for col in prostate.columns if col.startswith(\"control\")]\n",
    "cols_cancer = [col for col in prostate.columns if col.startswith(\"cancer\")]"
   ]
  },
  {
   "cell_type": "code",
   "execution_count": 8,
   "metadata": {},
   "outputs": [],
   "source": [
    "phi_inv = stats.norm.ppf\n",
    "f100 = stats.t(df=100).cdf"
   ]
  },
  {
   "cell_type": "code",
   "execution_count": 9,
   "metadata": {},
   "outputs": [],
   "source": [
    "z_values = []\n",
    "for _, row in prostate.iterrows():\n",
    "    values_control = row[cols_control].values\n",
    "    values_cancer = row[cols_cancer].values\n",
    "    t, _  = stats.ttest_ind(values_cancer, values_control, equal_var=False)\n",
    "    z = phi_inv(f100(t))\n",
    "    z_values.append(z)"
   ]
  },
  {
   "cell_type": "markdown",
   "metadata": {},
   "source": [
    "The book has a dataset containing the z values, which we've already read into the `prostz` DataFrame. We can compare and make sure we calculated them correctly"
   ]
  },
  {
   "cell_type": "code",
   "execution_count": 10,
   "metadata": {},
   "outputs": [
    {
     "data": {
      "text/plain": [
       "2.26867413744003e-10"
      ]
     },
     "execution_count": 10,
     "metadata": {},
     "output_type": "execute_result"
    }
   ],
   "source": [
    "(prostz.z - z_values).abs().max()"
   ]
  },
  {
   "cell_type": "markdown",
   "metadata": {},
   "source": [
    "The extreme value:"
   ]
  },
  {
   "cell_type": "code",
   "execution_count": 11,
   "metadata": {},
   "outputs": [
    {
     "name": "stdout",
     "output_type": "stream",
     "text": [
      "x_610: 5.29\n"
     ]
    }
   ],
   "source": [
    "print(\"x_610: {:>1.2f}\".format(z_values[609]))"
   ]
  },
  {
   "cell_type": "markdown",
   "metadata": {},
   "source": [
    "We could also calculate the value $\\hat{\\mu}_{610} = 4.11$ using the \"more appropriate uninformative prior\" (pg 33), but we'll skip that"
   ]
  },
  {
   "cell_type": "markdown",
   "metadata": {},
   "source": [
    "### Figure 3.4"
   ]
  },
  {
   "cell_type": "code",
   "execution_count": 12,
   "metadata": {},
   "outputs": [
    {
     "data": {
      "image/png": "[encoded data removed]",
      "text/plain": [
       "<Figure size 864x504 with 1 Axes>"
      ]
     },
     "metadata": {
      "needs_background": "light"
     },
     "output_type": "display_data"
    }
   ],
   "source": [
    "fig, ax = plt.subplots(figsize=(12, 7))\n",
    "\n",
    "ax.hist(z_values, bins=53, edgecolor=\"k\")\n",
    "ax.scatter(\n",
    "    sorted(z_values)[-10:],\n",
    "    [-7] * 10,\n",
    "    s=60,\n",
    "    marker=\"^\",\n",
    "    c=\"r\",\n",
    "    edgecolor=\"k\",\n",
    "    alpha=0.5,\n",
    ")\n",
    "ax.annotate(\n",
    "    \"gene 610\",\n",
    "    size=12,\n",
    "    xy=(z_values[609], 0),\n",
    "    xytext=(z_values[609], 40),\n",
    "    arrowprops=dict(arrowstyle=\"->\", facecolor=\"black\"),\n",
    "    horizontalalignment=\"center\",\n",
    ")\n",
    "\n",
    "ax.set_xticks([z_values[609]], minor=True)\n",
    "ax.set_xticklabels([z_values[609].round(2)], minor=True)\n",
    "ax.tick_params(axis='both', which='minor', length=4)\n",
    "\n",
    "ax.set_xlabel(\"effect-size estimates\", size=16)\n",
    "ax.set_ylabel(\"Frequency\", size=16);"
   ]
  },
  {
   "cell_type": "markdown",
   "metadata": {},
   "source": [
    "The bins aren't quite right, but this is close."
   ]
  }
 ],
 "metadata": {
  "kernelspec": {
   "display_name": "Python 3",
   "language": "python",
   "name": "python3"
  },
  "language_info": {
   "codemirror_mode": {
    "name": "ipython",
    "version": 3
   },
   "file_extension": ".py",
   "mimetype": "text/x-python",
   "name": "python",
   "nbconvert_exporter": "python",
   "pygments_lexer": "ipython3",
   "version": "3.7.1"
  }
 },
 "nbformat": 4,
 "nbformat_minor": 2
}
