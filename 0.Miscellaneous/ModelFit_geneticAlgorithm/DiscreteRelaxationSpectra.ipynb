{
 "cells": [
  {
   "cell_type": "code",
   "execution_count": 1,
   "metadata": {},
   "outputs": [
    {
     "name": "stdout",
     "output_type": "stream",
     "text": [
      "        n                       \n",
      "      =====                     \n",
      "      \\         eta  . omega    \n",
      "       \\           i            \n",
      "G'' =   \\   --------------------\n",
      "        /            2         2\n",
      "       /    1 + omega  . lambda \n",
      "      /                        i\n",
      "      =====                     \n",
      "      i = 1                     \n",
      "eta_i:                \n",
      " [ 1848.84194529   605.91027434  5572.89416215   250.29191153\n",
      " 20013.37415408]\n",
      "lambda_i:             \n",
      " [2.23556426e-02 4.52972788e-03 1.35293475e-01 7.44996975e-04\n",
      " 1.28956068e+00]\n",
      "Root Mean Squared Error: 1451.530128414901\n",
      "R-squared:               0.9993021266115717\n"
     ]
    }
   ],
   "source": [
    "#%matplotlib inline\n",
    "#import tkinter as tk\n",
    "#from tkinter import filedialog\n",
    "#from tkinter.simpledialog import askinteger\n",
    "import okt\n",
    "\n",
    "### GUI\n",
    "#root = tk.Tk()\n",
    "#myLabel = tk.Label(root, text=\"Discrete Relaxation Spectra\")\n",
    "#myLabel.grid(row=0, column=0)\n",
    "#root.title('Discrete Relaxation Spectra')\n",
    "#root.iconbitmap('./icon.ico')\n",
    "#root.mainloop()\n",
    "\n",
    "filename = \"./df_masterCurve_G2.csv\"\n",
    "numberOfMaxwellElements = 5\n",
    "\n",
    "### BACKEND\n",
    "df             = okt.readCSVfile(filename)\n",
    "x, y           = okt.getXYdata(df)\n",
    "xModel, yModel = okt.fitdata(x, y, numberOfMaxwellElements)\n",
    "#figure         = okt.initializePlotAndSetPlotSize()\n",
    "#ax0            = okt.getCurrentAxesInstance(figure)\n",
    "#okt.scatterExperimentalData(x, y)\n",
    "#okt.plotFittedCurve(xModel, yModel)\n",
    "#okt.namePlotAxes(ax0)\n",
    "#okt.formatTicksAndLabelFontSizes(ax0)\n",
    "#okt.setLogScale()\n",
    "#okt.showPlotLegend(ax0)\n",
    "#okt.saveAndShowPlot()\n",
    "#okt.recoverMatplotlibDefaults()"
   ]
  },
  {
   "cell_type": "code",
   "execution_count": 2,
   "metadata": {},
   "outputs": [],
   "source": [
    "# pyinstaller.exe --onefile --icon=\"../ison.ico\" \"../DiscreteRelaxationSpectra.py\"\n",
    "# pyinstaller.exe -F -w -i \"../icon.ico\" \"../DiscreteRelaxationSpectra.py\"\n",
    "# pyinstaller.exe -F -i \"../icon.ico\" \"../DiscreteRelaxationSpectra.py\""
   ]
  }
 ],
 "metadata": {
  "kernelspec": {
   "display_name": "Python 3",
   "language": "python",
   "name": "python3"
  },
  "language_info": {
   "codemirror_mode": {
    "name": "ipython",
    "version": 3
   },
   "file_extension": ".py",
   "mimetype": "text/x-python",
   "name": "python",
   "nbconvert_exporter": "python",
   "pygments_lexer": "ipython3",
   "version": "3.7.7"
  }
 },
 "nbformat": 4,
 "nbformat_minor": 4
}
